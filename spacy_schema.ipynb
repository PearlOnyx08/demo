{
 "cells": [
  {
   "cell_type": "code",
   "execution_count": 235,
   "id": "f5096af2-df5a-46fa-8ce0-bbd72e45dd97",
   "metadata": {},
   "outputs": [],
   "source": [
    "import prodigy\n",
    "import srsly\n",
    "import pandas as pd\n",
    "import numpy as np"
   ]
  },
  {
   "cell_type": "code",
   "execution_count": 236,
   "id": "6cf86991-5e01-4f5c-b1a1-8539e1943c13",
   "metadata": {},
   "outputs": [],
   "source": [
    "dat = srsly.read_json(\"/home/spenser/prodigy/nasa_data.json\")"
   ]
  },
  {
   "cell_type": "markdown",
   "id": "ebf29a42-6439-4291-a041-be1e59c58d95",
   "metadata": {},
   "source": [
    "!prodigy ner.manual spacy_schema en_core_web_lg ./prodigy/nasa.json --label SPACECRAFT -F ./prodigy/ner_teach.py"
   ]
  },
  {
   "cell_type": "code",
   "execution_count": 4,
   "id": "b2016b13-5510-489d-82e5-ba71881b081e",
   "metadata": {},
   "outputs": [],
   "source": [
    "dat_pd = pd.DataFrame(dat['dataset'])\n",
    "dat_pd['text'] = dat_pd['description']"
   ]
  },
  {
   "cell_type": "code",
   "execution_count": 5,
   "id": "7cd80772-8bc1-4930-89c1-ebca85b755b8",
   "metadata": {},
   "outputs": [],
   "source": [
    "dat_pd['text'] = dat_pd['text'].astype(str)"
   ]
  },
  {
   "cell_type": "code",
   "execution_count": 6,
   "id": "0675bebc-80c9-42fb-96e4-f9b598690e7f",
   "metadata": {},
   "outputs": [],
   "source": [
    "dat_pd = dat_pd.reset_index(drop=True)"
   ]
  },
  {
   "cell_type": "code",
   "execution_count": 7,
   "id": "fe2e67e4-797d-42fc-9da2-3b1e7b7ec01f",
   "metadata": {},
   "outputs": [],
   "source": [
    "text = dat_pd['text'].drop_duplicates()"
   ]
  },
  {
   "cell_type": "code",
   "execution_count": 8,
   "id": "2faa9819-b93c-469d-ab2d-a51ed3e7f67c",
   "metadata": {},
   "outputs": [],
   "source": [
    "OUTPATH = \"/home/spenser/prodigy/nasa.txt\"\n",
    "text.to_csv(OUTPATH, header=True, index=None, sep=' ', mode='a')"
   ]
  },
  {
   "cell_type": "code",
   "execution_count": 9,
   "id": "6917ce82-ac1e-44b4-bf29-0da00ef7124e",
   "metadata": {},
   "outputs": [],
   "source": [
    "dat_pd['text'].to_json(\"/home/spenser/prodigy/nasa.json\")"
   ]
  },
  {
   "cell_type": "code",
   "execution_count": 10,
   "id": "84331202-60d5-4076-ac90-ae735769240f",
   "metadata": {},
   "outputs": [],
   "source": [
    "json_dat = dat_pd['text'].to_json(orient='records', lines=True)"
   ]
  },
  {
   "cell_type": "code",
   "execution_count": 11,
   "id": "2e1f33d2-f150-43ec-b7ea-2790a05ff081",
   "metadata": {},
   "outputs": [],
   "source": [
    "from prodigy.components.db import connect\n",
    "db = connect()"
   ]
  },
  {
   "cell_type": "code",
   "execution_count": 12,
   "id": "db208edd-d3cd-451f-9dba-a7082bde820d",
   "metadata": {},
   "outputs": [
    {
     "data": {
      "text/plain": [
       "'SQLite'"
      ]
     },
     "execution_count": 12,
     "metadata": {},
     "output_type": "execute_result"
    }
   ],
   "source": [
    "db.db_name"
   ]
  },
  {
   "cell_type": "code",
   "execution_count": 13,
   "id": "e84a283f-6113-4ca4-ba25-da2ff0383a13",
   "metadata": {},
   "outputs": [
    {
     "data": {
      "text/plain": [
       "['test_out', 'spacy_schema']"
      ]
     },
     "execution_count": 13,
     "metadata": {},
     "output_type": "execute_result"
    }
   ],
   "source": [
    "db.datasets"
   ]
  },
  {
   "cell_type": "code",
   "execution_count": 29,
   "id": "8a7c0999-adb2-42dd-8bf5-088f621e685f",
   "metadata": {},
   "outputs": [],
   "source": [
    "from prodigy.components.db import connect\n",
    "db = connect()\n",
    "dataset = db.get_dataset(\"spacy_schema\")\n",
    "dataset = pd.DataFrame(dataset)\n",
    "#Search for ignored and ensure that they don't enter the spacy training data."
   ]
  },
  {
   "cell_type": "code",
   "execution_count": 30,
   "id": "07313f80-2e2e-41af-ac6e-ef1cb8e6df7b",
   "metadata": {},
   "outputs": [
    {
     "data": {
      "text/plain": [
       "'This data set is the collection of documentation for the raw and calibrated data sets from the Deep Impact and EPOXI missions.'"
      ]
     },
     "execution_count": 30,
     "metadata": {},
     "output_type": "execute_result"
    }
   ],
   "source": [
    "dataset.iloc[322]['text']"
   ]
  },
  {
   "cell_type": "code",
   "execution_count": 31,
   "id": "89c34296-b51c-4639-840a-20dc24cbf153",
   "metadata": {},
   "outputs": [
    {
     "data": {
      "text/plain": [
       "[{'start': 65,\n",
       "  'end': 80,\n",
       "  'token_start': 12,\n",
       "  'token_end': 13,\n",
       "  'label': 'SPACECRAFT'}]"
      ]
     },
     "execution_count": 31,
     "metadata": {},
     "output_type": "execute_result"
    }
   ],
   "source": [
    "dataset['spans'].iloc[322]"
   ]
  },
  {
   "cell_type": "code",
   "execution_count": 18,
   "id": "e571c7a7-a677-414b-9e74-a21be82f445e",
   "metadata": {},
   "outputs": [],
   "source": [
    "import spacy\n",
    "nlp = spacy.load(\"en_core_web_lg\")\n",
    "vectors = []\n",
    "for v in nlp.vocab.vectors:\n",
    "    vectors.append(v)"
   ]
  },
  {
   "cell_type": "code",
   "execution_count": 19,
   "id": "e478d816-4eb2-45e0-a6b9-13c2bc8f2421",
   "metadata": {},
   "outputs": [
    {
     "data": {
      "text/plain": [
       "684830"
      ]
     },
     "execution_count": 19,
     "metadata": {},
     "output_type": "execute_result"
    }
   ],
   "source": []
  },
  {
   "cell_type": "code",
   "execution_count": 20,
   "id": "c2788358-1cbe-42ff-849c-e0cd729ea02f",
   "metadata": {},
   "outputs": [
    {
     "data": {
      "text/plain": [
       "[{'text': '\"', 'start': 0, 'end': 1, 'id': 0, 'ws': False},\n",
       " {'text': 'This', 'start': 1, 'end': 5, 'id': 1, 'ws': True},\n",
       " {'text': 'dataset', 'start': 6, 'end': 13, 'id': 2, 'ws': True},\n",
       " {'text': 'contains', 'start': 14, 'end': 22, 'id': 3, 'ws': True},\n",
       " {'text': 'EDITED', 'start': 23, 'end': 29, 'id': 4, 'ws': True},\n",
       " {'text': 'RAW', 'start': 30, 'end': 33, 'id': 5, 'ws': True},\n",
       " {'text': 'DATA', 'start': 34, 'end': 38, 'id': 6, 'ws': True},\n",
       " {'text': 'of', 'start': 39, 'end': 41, 'id': 7, 'ws': True},\n",
       " {'text': 'the', 'start': 42, 'end': 45, 'id': 8, 'ws': True},\n",
       " {'text': 'second', 'start': 46, 'end': 52, 'id': 9, 'ws': True},\n",
       " {'text': 'Earth', 'start': 53, 'end': 58, 'id': 10, 'ws': True},\n",
       " {'text': 'Flyby', 'start': 59, 'end': 64, 'id': 11, 'ws': True},\n",
       " {'text': '(', 'start': 65, 'end': 66, 'id': 12, 'ws': False},\n",
       " {'text': 'EAR2', 'start': 66, 'end': 70, 'id': 13, 'ws': False},\n",
       " {'text': ')', 'start': 70, 'end': 71, 'id': 14, 'ws': False},\n",
       " {'text': '.', 'start': 71, 'end': 72, 'id': 15, 'ws': True},\n",
       " {'text': 'The', 'start': 73, 'end': 76, 'id': 16, 'ws': True},\n",
       " {'text': 'closest', 'start': 77, 'end': 84, 'id': 17, 'ws': True},\n",
       " {'text': 'approach', 'start': 85, 'end': 93, 'id': 18, 'ws': True},\n",
       " {'text': '(', 'start': 94, 'end': 95, 'id': 19, 'ws': False},\n",
       " {'text': 'CA', 'start': 95, 'end': 97, 'id': 20, 'ws': False},\n",
       " {'text': ')', 'start': 97, 'end': 98, 'id': 21, 'ws': True},\n",
       " {'text': 'took', 'start': 99, 'end': 103, 'id': 22, 'ws': True},\n",
       " {'text': 'place', 'start': 104, 'end': 109, 'id': 23, 'ws': True},\n",
       " {'text': 'on', 'start': 110, 'end': 112, 'id': 24, 'ws': True},\n",
       " {'text': 'November', 'start': 113, 'end': 121, 'id': 25, 'ws': True},\n",
       " {'text': '13', 'start': 122, 'end': 124, 'id': 26, 'ws': False},\n",
       " {'text': ',', 'start': 124, 'end': 125, 'id': 27, 'ws': True},\n",
       " {'text': '2007', 'start': 126, 'end': 130, 'id': 28, 'ws': True},\n",
       " {'text': 'at', 'start': 131, 'end': 133, 'id': 29, 'ws': True},\n",
       " {'text': '20:57', 'start': 134, 'end': 139, 'id': 30, 'ws': False},\n",
       " {'text': '\"', 'start': 139, 'end': 140, 'id': 31, 'ws': False}]"
      ]
     },
     "execution_count": 20,
     "metadata": {},
     "output_type": "execute_result"
    }
   ],
   "source": [
    "dataset['tokens'].iloc[0]"
   ]
  },
  {
   "cell_type": "code",
   "execution_count": 21,
   "id": "0d41f0b3-a6f6-446e-ace0-a5e3c50bcd47",
   "metadata": {},
   "outputs": [],
   "source": [
    "nlp = spacy.load(\"/home/spenser/prodigy/nasa_model/model-best/\")"
   ]
  },
  {
   "cell_type": "code",
   "execution_count": 11,
   "id": "72aa192f-e41a-46d0-8872-742f0ef68693",
   "metadata": {},
   "outputs": [
    {
     "name": "stdout",
     "output_type": "stream",
     "text": [
      "Requirement already satisfied: en-core-web-sm==3.1.0 from https://github.com/explosion/spacy-models/releases/download/en_core_web_sm-3.1.0/en_core_web_sm-3.1.0-py3-none-any.whl#egg=en_core_web_sm==3.1.0 in /home/spenser/anaconda3/envs/spacy_test/lib/python3.8/site-packages (3.1.0)\n",
      "Requirement already satisfied: spacy<3.2.0,>=3.1.0 in /home/spenser/anaconda3/envs/spacy_test/lib/python3.8/site-packages (from en-core-web-sm==3.1.0) (3.1.4)\n",
      "Requirement already satisfied: numpy>=1.15.0 in /home/spenser/.local/lib/python3.8/site-packages (from spacy<3.2.0,>=3.1.0->en-core-web-sm==3.1.0) (1.21.4)\n",
      "Requirement already satisfied: blis<0.8.0,>=0.4.0 in /home/spenser/.local/lib/python3.8/site-packages (from spacy<3.2.0,>=3.1.0->en-core-web-sm==3.1.0) (0.7.5)\n",
      "Requirement already satisfied: tqdm<5.0.0,>=4.38.0 in /home/spenser/.local/lib/python3.8/site-packages (from spacy<3.2.0,>=3.1.0->en-core-web-sm==3.1.0) (4.47.0)\n",
      "Requirement already satisfied: spacy-legacy<3.1.0,>=3.0.8 in /home/spenser/.local/lib/python3.8/site-packages (from spacy<3.2.0,>=3.1.0->en-core-web-sm==3.1.0) (3.0.8)\n",
      "Requirement already satisfied: catalogue<2.1.0,>=2.0.6 in /home/spenser/anaconda3/envs/spacy_test/lib/python3.8/site-packages (from spacy<3.2.0,>=3.1.0->en-core-web-sm==3.1.0) (2.0.6)\n",
      "Requirement already satisfied: pathy>=0.3.5 in /home/spenser/.local/lib/python3.8/site-packages (from spacy<3.2.0,>=3.1.0->en-core-web-sm==3.1.0) (0.6.1)\n",
      "Requirement already satisfied: pydantic!=1.8,!=1.8.1,<1.9.0,>=1.7.4 in /home/spenser/anaconda3/envs/spacy_test/lib/python3.8/site-packages (from spacy<3.2.0,>=3.1.0->en-core-web-sm==3.1.0) (1.8.2)\n",
      "Requirement already satisfied: cymem<2.1.0,>=2.0.2 in /home/spenser/.local/lib/python3.8/site-packages (from spacy<3.2.0,>=3.1.0->en-core-web-sm==3.1.0) (2.0.6)\n",
      "Requirement already satisfied: murmurhash<1.1.0,>=0.28.0 in /home/spenser/.local/lib/python3.8/site-packages (from spacy<3.2.0,>=3.1.0->en-core-web-sm==3.1.0) (1.0.6)\n",
      "Requirement already satisfied: wasabi<1.1.0,>=0.8.1 in /home/spenser/.local/lib/python3.8/site-packages (from spacy<3.2.0,>=3.1.0->en-core-web-sm==3.1.0) (0.8.2)\n",
      "Requirement already satisfied: setuptools in /home/spenser/anaconda3/envs/spacy_test/lib/python3.8/site-packages (from spacy<3.2.0,>=3.1.0->en-core-web-sm==3.1.0) (50.3.0.post20201006)\n",
      "Requirement already satisfied: jinja2 in /home/spenser/anaconda3/envs/spacy_test/lib/python3.8/site-packages (from spacy<3.2.0,>=3.1.0->en-core-web-sm==3.1.0) (3.0.2)\n",
      "Requirement already satisfied: requests<3.0.0,>=2.13.0 in /home/spenser/anaconda3/envs/spacy_test/lib/python3.8/site-packages (from spacy<3.2.0,>=3.1.0->en-core-web-sm==3.1.0) (2.26.0)\n",
      "Requirement already satisfied: typer<0.5.0,>=0.3.0 in /home/spenser/.local/lib/python3.8/site-packages (from spacy<3.2.0,>=3.1.0->en-core-web-sm==3.1.0) (0.3.0)\n",
      "Requirement already satisfied: packaging>=20.0 in /home/spenser/.local/lib/python3.8/site-packages (from spacy<3.2.0,>=3.1.0->en-core-web-sm==3.1.0) (21.2)\n",
      "Requirement already satisfied: srsly<3.0.0,>=2.4.1 in /home/spenser/anaconda3/envs/spacy_test/lib/python3.8/site-packages (from spacy<3.2.0,>=3.1.0->en-core-web-sm==3.1.0) (2.4.2)\n",
      "Requirement already satisfied: preshed<3.1.0,>=3.0.2 in /home/spenser/.local/lib/python3.8/site-packages (from spacy<3.2.0,>=3.1.0->en-core-web-sm==3.1.0) (3.0.6)\n",
      "Requirement already satisfied: thinc<8.1.0,>=8.0.12 in /home/spenser/anaconda3/envs/spacy_test/lib/python3.8/site-packages (from spacy<3.2.0,>=3.1.0->en-core-web-sm==3.1.0) (8.0.13)\n",
      "Requirement already satisfied: smart-open<6.0.0,>=5.0.0 in /home/spenser/.local/lib/python3.8/site-packages (from pathy>=0.3.5->spacy<3.2.0,>=3.1.0->en-core-web-sm==3.1.0) (5.2.1)\n",
      "Requirement already satisfied: typing-extensions>=3.7.4.3 in /home/spenser/.local/lib/python3.8/site-packages (from pydantic!=1.8,!=1.8.1,<1.9.0,>=1.7.4->spacy<3.2.0,>=3.1.0->en-core-web-sm==3.1.0) (3.10.0.2)\n",
      "Requirement already satisfied: MarkupSafe>=2.0 in /home/spenser/anaconda3/envs/spacy_test/lib/python3.8/site-packages (from jinja2->spacy<3.2.0,>=3.1.0->en-core-web-sm==3.1.0) (2.0.1)\n",
      "Requirement already satisfied: idna<4,>=2.5; python_version >= \"3\" in /home/spenser/anaconda3/envs/spacy_test/lib/python3.8/site-packages (from requests<3.0.0,>=2.13.0->spacy<3.2.0,>=3.1.0->en-core-web-sm==3.1.0) (3.3)\n",
      "Requirement already satisfied: certifi>=2017.4.17 in /home/spenser/anaconda3/envs/spacy_test/lib/python3.8/site-packages (from requests<3.0.0,>=2.13.0->spacy<3.2.0,>=3.1.0->en-core-web-sm==3.1.0) (2021.10.8)\n",
      "Requirement already satisfied: urllib3<1.27,>=1.21.1 in /home/spenser/anaconda3/envs/spacy_test/lib/python3.8/site-packages (from requests<3.0.0,>=2.13.0->spacy<3.2.0,>=3.1.0->en-core-web-sm==3.1.0) (1.26.7)\n",
      "Requirement already satisfied: charset-normalizer~=2.0.0; python_version >= \"3\" in /home/spenser/anaconda3/envs/spacy_test/lib/python3.8/site-packages (from requests<3.0.0,>=2.13.0->spacy<3.2.0,>=3.1.0->en-core-web-sm==3.1.0) (2.0.7)\n",
      "Requirement already satisfied: click<7.2.0,>=7.1.1 in /home/spenser/.local/lib/python3.8/site-packages (from typer<0.5.0,>=0.3.0->spacy<3.2.0,>=3.1.0->en-core-web-sm==3.1.0) (7.1.2)\n",
      "Requirement already satisfied: pyparsing<3,>=2.0.2 in /home/spenser/.local/lib/python3.8/site-packages (from packaging>=20.0->spacy<3.2.0,>=3.1.0->en-core-web-sm==3.1.0) (2.4.7)\n",
      "\u001b[38;5;2m✔ Download and installation successful\u001b[0m\n",
      "You can now load the package via spacy.load('en_core_web_sm')\n"
     ]
    }
   ],
   "source": [
    "!python -m spacy download en_core_web_sm"
   ]
  },
  {
   "cell_type": "code",
   "execution_count": null,
   "id": "1ecb38be-4acb-43b8-bd36-76a540ec5673",
   "metadata": {},
   "outputs": [],
   "source": []
  },
  {
   "cell_type": "code",
   "execution_count": 370,
   "id": "68bd42ae-5f35-44a6-a5c6-d84c7625f479",
   "metadata": {},
   "outputs": [],
   "source": [
    "from spacy.training import offsets_to_biluo_tags\n",
    "import spacy\n",
    "nlp = spacy.load(\"/home/spenser/prodigy/nasa_model/model-best/\")\n",
    "doc = nlp(\"sdfsdf I like London and GPS and International Space Station (ISS)\")\n",
    "entities = [(doc.ents[0].start_char, doc.ents[0].end_char, doc.ents[0].label_), (26, doc.ents[1].end_char, doc.ents[1].label_)]\n",
    "\n",
    "#tags = offsets_to_biluo_tags(doc, entities)\n",
    "#assert tags == [\"O\", \"O\", \"U-LOC\", \"O\"]"
   ]
  },
  {
   "cell_type": "code",
   "execution_count": 373,
   "id": "5a4c51ce-76a4-4157-8e60-723b49d3e935",
   "metadata": {},
   "outputs": [
    {
     "data": {
      "text/plain": [
       "(GPS,)"
      ]
     },
     "execution_count": 373,
     "metadata": {},
     "output_type": "execute_result"
    }
   ],
   "source": [
    "#nlp = spacy.load(\"en_core_web_lg\")\n",
    "doc = nlp(\"He traveled to GPS last week\")\n",
    "doc.ents"
   ]
  },
  {
   "cell_type": "code",
   "execution_count": null,
   "id": "8423778c-9572-4084-8d9b-5d812841ea81",
   "metadata": {},
   "outputs": [],
   "source": [
    "nlp = spacy.load(\"en_core_web_lg\")\n",
    "doc = nlp(\"He traveled to Lutetia last week\")\n",
    "doc.ents[0].label_"
   ]
  },
  {
   "cell_type": "markdown",
   "id": "7fece60f-36f8-4f84-a999-e80ad6fbe259",
   "metadata": {},
   "source": [
    "### Run ann_linker"
   ]
  },
  {
   "cell_type": "code",
   "execution_count": null,
   "id": "19ac1d79-b027-4b23-8d66-43ebe792f5bc",
   "metadata": {},
   "outputs": [],
   "source": [
    "ann_meta = \"/home/spenser/prodigy/ann/\""
   ]
  },
  {
   "cell_type": "code",
   "execution_count": 381,
   "id": "3e1eb1b2-2ee0-4cc2-afc1-b5c20bf84c92",
   "metadata": {},
   "outputs": [],
   "source": [
    "import srsly"
   ]
  },
  {
   "cell_type": "code",
   "execution_count": 380,
   "id": "27d7e58d-e60e-46cf-b596-380d8cee9423",
   "metadata": {},
   "outputs": [
    {
     "name": "stdout",
     "output_type": "stream",
     "text": [
      "# conda environments:\n",
      "#\n",
      "base                     /home/spenser/anaconda3\n",
      "prodigy                  /home/spenser/anaconda3/envs/prodigy\n",
      "spacy_test            *  /home/spenser/anaconda3/envs/spacy_test\n",
      "spacy_test2              /home/spenser/anaconda3/envs/spacy_test2\n",
      "\n"
     ]
    }
   ],
   "source": [
    "!conda env list"
   ]
  },
  {
   "cell_type": "code",
   "execution_count": null,
   "id": "7d59d928-1226-4d40-a46e-0c3c017ae031",
   "metadata": {},
   "outputs": [],
   "source": []
  },
  {
   "cell_type": "code",
   "execution_count": 385,
   "id": "2f833ffe-d6e0-40f9-a37e-a98bfd2bf658",
   "metadata": {},
   "outputs": [
    {
     "data": {
      "text/plain": [
       "array([-3.4650335 , -0.36991483,  1.295284  ,  1.1334809 ,  1.6012836 ,\n",
       "        3.2042887 ,  2.5987644 ,  2.696453  , -0.25889528, -2.2684214 ,\n",
       "       -3.4720747 ,  2.4165723 ,  0.17440084, -5.7070403 , -1.726759  ,\n",
       "        1.8495482 ,  4.7611947 , -0.565955  ,  1.4427705 , -2.888616  ,\n",
       "       -2.2973423 ,  0.4083502 , -1.9032581 , -2.4338307 , -2.482833  ,\n",
       "       -0.861606  ,  0.8285731 , -1.6156042 , -3.368125  , -0.76761377,\n",
       "       -1.4303465 , -1.7793962 ,  1.1503828 , -1.6323674 ,  3.0745935 ,\n",
       "        4.2325416 ,  3.4052052 ,  1.974947  , -1.8581212 , -1.3932381 ,\n",
       "       -0.72938645, -0.2996016 ,  2.561914  , -0.63901585, -1.3137054 ,\n",
       "       -1.2860423 ,  1.9561574 ,  2.9906588 , -1.301307  , -3.4648547 ,\n",
       "        3.8523781 ,  0.21857128, -2.2689762 , -1.2352831 ,  0.6236391 ,\n",
       "        0.4031111 ,  2.442337  , -2.275212  ,  1.1541013 ,  3.3348517 ,\n",
       "        1.1545768 , -0.5213747 , -0.35934663,  1.1433125 ,  1.1461532 ,\n",
       "        1.663269  , -0.61171675,  1.6013639 , -1.321483  , -0.6500225 ,\n",
       "        1.5274377 ,  2.8285422 , -0.29600585, -6.4652433 ,  3.2157443 ,\n",
       "        2.1323168 ,  4.179742  , -0.06753725,  1.0444661 , -2.6542685 ,\n",
       "        0.8333038 ,  2.5807986 ,  0.96273047,  0.76453936,  0.72005314,\n",
       "        1.3769425 , -3.2906942 , -0.64617467, -2.107552  ,  0.85238993,\n",
       "       -4.248114  , -4.279626  ,  0.35180658, -4.7755466 ,  3.8588848 ,\n",
       "       -0.46553093], dtype=float32)"
      ]
     },
     "execution_count": 385,
     "metadata": {},
     "output_type": "execute_result"
    }
   ],
   "source": [
    "tok2vec = nlp.get_pipe('tok2vec')\n",
    "np.array(tok2vec.predict([doc]))[0][0]"
   ]
  },
  {
   "cell_type": "code",
   "execution_count": 322,
   "id": "d8582fe5-4b5a-4c82-98fc-aa35db99a7f3",
   "metadata": {},
   "outputs": [],
   "source": [
    "vectors = []\n",
    "for v in nlp.vocab.vectors:\n",
    "    vectors.append(v)"
   ]
  },
  {
   "cell_type": "code",
   "execution_count": 341,
   "id": "5577fe8f-b8fc-4669-aed6-a42ee2af2275",
   "metadata": {},
   "outputs": [
    {
     "data": {
      "text/plain": [
       "12646065887601541794"
      ]
     },
     "execution_count": 341,
     "metadata": {},
     "output_type": "execute_result"
    }
   ],
   "source": [
    "vectors[0].sh"
   ]
  },
  {
   "cell_type": "code",
   "execution_count": 336,
   "id": "361dd5a2-4169-4132-99c6-966bed12b625",
   "metadata": {},
   "outputs": [
    {
     "data": {
      "text/plain": [
       "(London, GPS, International Space Station (ISS))"
      ]
     },
     "execution_count": 336,
     "metadata": {},
     "output_type": "execute_result"
    }
   ],
   "source": [
    "doc.ents"
   ]
  },
  {
   "cell_type": "markdown",
   "id": "465def44-a747-4436-a76b-e845c42e9b43",
   "metadata": {},
   "source": [
    "### EntityRuler"
   ]
  },
  {
   "cell_type": "code",
   "execution_count": 308,
   "id": "7f6bdada-a1ed-46bc-a1f9-f6adee5b7b63",
   "metadata": {},
   "outputs": [],
   "source": [
    "config = {\n",
    "   \"phrase_matcher_attr\": None,\n",
    "   \"validate\": True,\n",
    "   \"overwrite_ents\": False, #is cm ner set to this?\n",
    "   \"ent_id_sep\": \"||\",\n",
    "}\n",
    "ruler = nlp.add_pipe(\"entity_ruler\", config=config)"
   ]
  },
  {
   "cell_type": "code",
   "execution_count": 309,
   "id": "b55adbaa-cffb-4ec4-adbf-6c9f30f81a83",
   "metadata": {},
   "outputs": [
    {
     "name": "stdout",
     "output_type": "stream",
     "text": [
      "\u001b[1m\n",
      "============================= Pipeline Overview =============================\u001b[0m\n",
      "\n",
      "#   Component      Assigns          Requires   Scores          Retokenizes\n",
      "-   ------------   --------------   --------   -------------   -----------\n",
      "0   tok2vec        doc.tensor                                  False      \n",
      "                                                                          \n",
      "1   ner            doc.ents                    ents_f          False      \n",
      "                   token.ent_iob               ents_p                     \n",
      "                   token.ent_type              ents_r                     \n",
      "                                               ents_per_type              \n",
      "                                                                          \n",
      "2   entity_ruler   doc.ents                    ents_f          False      \n",
      "                   token.ent_type              ents_p                     \n",
      "                   token.ent_iob               ents_r                     \n",
      "                                               ents_per_type              \n",
      "\n",
      "\u001b[38;5;2m✔ No problems found.\u001b[0m\n"
     ]
    },
    {
     "data": {
      "text/plain": [
       "{'summary': {'tok2vec': {'assigns': ['doc.tensor'],\n",
       "   'requires': [],\n",
       "   'scores': [],\n",
       "   'retokenizes': False},\n",
       "  'ner': {'assigns': ['doc.ents', 'token.ent_iob', 'token.ent_type'],\n",
       "   'requires': [],\n",
       "   'scores': ['ents_f', 'ents_p', 'ents_r', 'ents_per_type'],\n",
       "   'retokenizes': False},\n",
       "  'entity_ruler': {'assigns': ['doc.ents', 'token.ent_type', 'token.ent_iob'],\n",
       "   'requires': [],\n",
       "   'scores': ['ents_f', 'ents_p', 'ents_r', 'ents_per_type'],\n",
       "   'retokenizes': False}},\n",
       " 'problems': {'tok2vec': [], 'ner': [], 'entity_ruler': []},\n",
       " 'attrs': {'doc.tensor': {'assigns': ['tok2vec'], 'requires': []},\n",
       "  'doc.ents': {'assigns': ['ner', 'entity_ruler'], 'requires': []},\n",
       "  'token.ent_type': {'assigns': ['ner', 'entity_ruler'], 'requires': []},\n",
       "  'token.ent_iob': {'assigns': ['ner', 'entity_ruler'], 'requires': []}}}"
      ]
     },
     "execution_count": 309,
     "metadata": {},
     "output_type": "execute_result"
    }
   ],
   "source": [
    "nlp.analyze_pipes(pretty=True)"
   ]
  },
  {
   "cell_type": "code",
   "execution_count": 310,
   "id": "c76d1e4d-0a67-4d0e-84a7-3722716e9241",
   "metadata": {},
   "outputs": [],
   "source": [
    "ruler.add_patterns([{\"label\": \"SPACESHIP\", \"pattern\": \"London\"}])\n",
    "ruler.add_patterns([{\"label\": \"SPACESHIP\", \"pattern\": \"ISS\"}])\n",
    "ruler.add_patterns([{\"label\": \"SPACESHIP\", \"pattern\": \"(ISS)\"}])\n",
    "ruler.add_patterns([{\"label\": \"SPACESHIP\", \"pattern\": \"GPS\"}])"
   ]
  },
  {
   "cell_type": "code",
   "execution_count": 311,
   "id": "bc037ed4-fbe5-43dd-ab9e-f2eb6c2be86a",
   "metadata": {},
   "outputs": [],
   "source": [
    "doc = nlp(\"I like London and GPS and International Space Station (ISS)\")\n",
    "\n",
    "ents = [(ent.text, ent.label_) for ent in doc.ents]"
   ]
  },
  {
   "cell_type": "code",
   "execution_count": 312,
   "id": "8ae153fb-e086-4274-a388-9689242782a0",
   "metadata": {},
   "outputs": [
    {
     "data": {
      "text/plain": [
       "[('London', 'SPACESHIP'),\n",
       " ('GPS', 'SPACECRAFT'),\n",
       " ('International Space Station (ISS)', 'SPACECRAFT')]"
      ]
     },
     "execution_count": 312,
     "metadata": {},
     "output_type": "execute_result"
    }
   ],
   "source": [
    "ents"
   ]
  },
  {
   "cell_type": "code",
   "execution_count": 313,
   "id": "7d52f1bb-10bf-46a5-a10c-45ca4a7087e5",
   "metadata": {},
   "outputs": [
    {
     "data": {
      "text/plain": [
       "London"
      ]
     },
     "execution_count": 313,
     "metadata": {},
     "output_type": "execute_result"
    }
   ],
   "source": [
    "doc.ents[0]"
   ]
  },
  {
   "cell_type": "code",
   "execution_count": 314,
   "id": "ca85160f-851f-47c9-b87c-14a5d64e0146",
   "metadata": {},
   "outputs": [
    {
     "name": "stdout",
     "output_type": "stream",
     "text": [
      "2\n",
      "2\n",
      "3\n",
      "2\n",
      "3\n",
      "2\n",
      "3\n",
      "1\n",
      "1\n",
      "1\n",
      "1\n",
      "1\n"
     ]
    }
   ],
   "source": [
    "for token in doc:\n",
    "    print(token.ent_iob)"
   ]
  },
  {
   "cell_type": "code",
   "execution_count": 292,
   "id": "fd38fc4e-33a0-4797-b083-3df4beeff787",
   "metadata": {},
   "outputs": [
    {
     "name": "stdout",
     "output_type": "stream",
     "text": [
      "0\n",
      "0\n",
      "0\n",
      "0\n",
      "2665572430022554824\n",
      "0\n",
      "2665572430022554824\n",
      "2665572430022554824\n",
      "2665572430022554824\n",
      "2665572430022554824\n",
      "2665572430022554824\n",
      "2665572430022554824\n"
     ]
    }
   ],
   "source": [
    "for token in doc:\n",
    "    print(token.ent_type)"
   ]
  },
  {
   "cell_type": "code",
   "execution_count": 245,
   "id": "088191fd-18b2-47ad-b4a9-a46e66e86d92",
   "metadata": {},
   "outputs": [
    {
     "name": "stdout",
     "output_type": "stream",
     "text": [
      "\u001b[1m\n",
      "============================= Pipeline Overview =============================\u001b[0m\n",
      "\n",
      "#   Component   Assigns          Requires   Scores          Retokenizes\n",
      "-   ---------   --------------   --------   -------------   -----------\n",
      "0   tok2vec     doc.tensor                                  False      \n",
      "                                                                       \n",
      "1   ner         doc.ents                    ents_f          False      \n",
      "                token.ent_iob               ents_p                     \n",
      "                token.ent_type              ents_r                     \n",
      "                                            ents_per_type              \n",
      "\n",
      "\u001b[38;5;2m✔ No problems found.\u001b[0m\n"
     ]
    },
    {
     "data": {
      "text/plain": [
       "{'summary': {'tok2vec': {'assigns': ['doc.tensor'],\n",
       "   'requires': [],\n",
       "   'scores': [],\n",
       "   'retokenizes': False},\n",
       "  'ner': {'assigns': ['doc.ents', 'token.ent_iob', 'token.ent_type'],\n",
       "   'requires': [],\n",
       "   'scores': ['ents_f', 'ents_p', 'ents_r', 'ents_per_type'],\n",
       "   'retokenizes': False}},\n",
       " 'problems': {'tok2vec': [], 'ner': []},\n",
       " 'attrs': {'doc.tensor': {'assigns': ['tok2vec'], 'requires': []},\n",
       "  'doc.ents': {'assigns': ['ner'], 'requires': []},\n",
       "  'token.ent_type': {'assigns': ['ner'], 'requires': []},\n",
       "  'token.ent_iob': {'assigns': ['ner'], 'requires': []}}}"
      ]
     },
     "execution_count": 245,
     "metadata": {},
     "output_type": "execute_result"
    }
   ],
   "source": [
    "nlp.analyze_pipes(pretty=True)"
   ]
  },
  {
   "cell_type": "code",
   "execution_count": null,
   "id": "11ebcbd0-6881-4046-a64c-2bdb25d673fc",
   "metadata": {},
   "outputs": [],
   "source": []
  },
  {
   "cell_type": "code",
   "execution_count": 244,
   "id": "41d809b7-883a-4490-96e8-dd51d4ccbd71",
   "metadata": {},
   "outputs": [
    {
     "data": {
      "text/plain": [
       "['Defaults',\n",
       " '__annotations__',\n",
       " '__call__',\n",
       " '__class__',\n",
       " '__delattr__',\n",
       " '__dict__',\n",
       " '__dir__',\n",
       " '__doc__',\n",
       " '__eq__',\n",
       " '__format__',\n",
       " '__ge__',\n",
       " '__getattribute__',\n",
       " '__gt__',\n",
       " '__hash__',\n",
       " '__init__',\n",
       " '__init_subclass__',\n",
       " '__le__',\n",
       " '__lt__',\n",
       " '__module__',\n",
       " '__ne__',\n",
       " '__new__',\n",
       " '__reduce__',\n",
       " '__reduce_ex__',\n",
       " '__repr__',\n",
       " '__setattr__',\n",
       " '__sizeof__',\n",
       " '__str__',\n",
       " '__subclasshook__',\n",
       " '__weakref__',\n",
       " '_components',\n",
       " '_config',\n",
       " '_disabled',\n",
       " '_factory_meta',\n",
       " '_get_pipe_index',\n",
       " '_has_gpu_model',\n",
       " '_link_components',\n",
       " '_meta',\n",
       " '_multiprocessing_pipe',\n",
       " '_optimizer',\n",
       " '_path',\n",
       " '_pipe_configs',\n",
       " '_pipe_meta',\n",
       " 'add_pipe',\n",
       " 'analyze_pipes',\n",
       " 'batch_size',\n",
       " 'begin_training',\n",
       " 'component',\n",
       " 'component_names',\n",
       " 'components',\n",
       " 'config',\n",
       " 'create_optimizer',\n",
       " 'create_pipe',\n",
       " 'create_pipe_from_source',\n",
       " 'default_config',\n",
       " 'default_error_handler',\n",
       " 'disable_pipe',\n",
       " 'disable_pipes',\n",
       " 'disabled',\n",
       " 'enable_pipe',\n",
       " 'evaluate',\n",
       " 'factories',\n",
       " 'factory',\n",
       " 'factory_names',\n",
       " 'from_bytes',\n",
       " 'from_config',\n",
       " 'from_disk',\n",
       " 'get_factory_meta',\n",
       " 'get_factory_name',\n",
       " 'get_pipe',\n",
       " 'get_pipe_config',\n",
       " 'get_pipe_meta',\n",
       " 'has_factory',\n",
       " 'has_pipe',\n",
       " 'initialize',\n",
       " 'lang',\n",
       " 'make_doc',\n",
       " 'max_length',\n",
       " 'meta',\n",
       " 'path',\n",
       " 'pipe',\n",
       " 'pipe_factories',\n",
       " 'pipe_labels',\n",
       " 'pipe_names',\n",
       " 'pipeline',\n",
       " 'rehearse',\n",
       " 'remove_pipe',\n",
       " 'rename_pipe',\n",
       " 'replace_listeners',\n",
       " 'replace_pipe',\n",
       " 'resume_training',\n",
       " 'select_pipes',\n",
       " 'set_error_handler',\n",
       " 'set_factory_meta',\n",
       " 'to_bytes',\n",
       " 'to_disk',\n",
       " 'tokenizer',\n",
       " 'update',\n",
       " 'use_params',\n",
       " 'vocab']"
      ]
     },
     "execution_count": 244,
     "metadata": {},
     "output_type": "execute_result"
    }
   ],
   "source": [
    "dir(nlp)"
   ]
  },
  {
   "cell_type": "code",
   "execution_count": 25,
   "id": "04f88671-24e5-4fcc-ac1f-a9a108c9bf51",
   "metadata": {},
   "outputs": [],
   "source": [
    "from spacy.training.gold_io import json_to_annotations"
   ]
  },
  {
   "cell_type": "code",
   "execution_count": 69,
   "id": "d2206e3a-08c7-42b8-80a1-2e9a58a1a298",
   "metadata": {},
   "outputs": [
    {
     "data": {
      "text/plain": [
       "['O',\n",
       " 'O',\n",
       " 'O',\n",
       " 'O',\n",
       " 'U-SPACECRAFT',\n",
       " 'O',\n",
       " 'B-SPACECRAFT',\n",
       " 'I-SPACECRAFT',\n",
       " 'I-SPACECRAFT',\n",
       " 'I-SPACECRAFT',\n",
       " 'I-SPACECRAFT',\n",
       " 'L-SPACECRAFT']"
      ]
     },
     "execution_count": 69,
     "metadata": {},
     "output_type": "execute_result"
    }
   ],
   "source": [
    "json_to_annotations()"
   ]
  },
  {
   "cell_type": "code",
   "execution_count": 55,
   "id": "960505dd-99f9-411f-b177-17b40361a086",
   "metadata": {},
   "outputs": [
    {
     "data": {
      "text/plain": [
       "[(18, 21, 'SPACECRAFT'), (26, 59, 'SPACECRAFT')]"
      ]
     },
     "execution_count": 55,
     "metadata": {},
     "output_type": "execute_result"
    }
   ],
   "source": [
    "entities"
   ]
  },
  {
   "cell_type": "code",
   "execution_count": 56,
   "id": "ad80d153-e63b-41c0-9187-ddb665299154",
   "metadata": {},
   "outputs": [
    {
     "data": {
      "text/plain": [
       "(GPS, International Space Station (ISS))"
      ]
     },
     "execution_count": 56,
     "metadata": {},
     "output_type": "execute_result"
    }
   ],
   "source": [
    "doc.ents"
   ]
  },
  {
   "cell_type": "code",
   "execution_count": 33,
   "id": "32a44861-a1b8-44f1-8134-cc580eab201f",
   "metadata": {},
   "outputs": [
    {
     "data": {
      "text/plain": [
       "I like London and GPS and International Space Station (ISS)"
      ]
     },
     "execution_count": 33,
     "metadata": {},
     "output_type": "execute_result"
    }
   ],
   "source": [
    "doc"
   ]
  },
  {
   "cell_type": "code",
   "execution_count": 228,
   "id": "a255ca52-7d09-4c4b-b1df-b24685ba9759",
   "metadata": {},
   "outputs": [
    {
     "data": {
      "text/plain": [
       "['O',\n",
       " 'O',\n",
       " 'O',\n",
       " 'O',\n",
       " 'U-SPACECRAFT',\n",
       " 'O',\n",
       " 'B-SPACECRAFT',\n",
       " 'I-SPACECRAFT',\n",
       " 'I-SPACECRAFT',\n",
       " 'I-SPACECRAFT',\n",
       " 'I-SPACECRAFT',\n",
       " 'L-SPACECRAFT']"
      ]
     },
     "execution_count": 228,
     "metadata": {},
     "output_type": "execute_result"
    }
   ],
   "source": [
    "tags"
   ]
  },
  {
   "cell_type": "code",
   "execution_count": 117,
   "id": "c2c0623e-ff2d-4f8d-b4af-7a0ae18f83a0",
   "metadata": {},
   "outputs": [
    {
     "data": {
      "text/plain": [
       "()"
      ]
     },
     "execution_count": 117,
     "metadata": {},
     "output_type": "execute_result"
    }
   ],
   "source": [
    "doc.ents"
   ]
  },
  {
   "cell_type": "code",
   "execution_count": 41,
   "id": "f48c8d68-322b-49c8-a79d-f6a33f4eb634",
   "metadata": {},
   "outputs": [
    {
     "data": {
      "text/plain": [
       "<function spacy.training.gold_io.docs_to_json>"
      ]
     },
     "execution_count": 41,
     "metadata": {},
     "output_type": "execute_result"
    }
   ],
   "source": [
    "docs_to_json"
   ]
  },
  {
   "cell_type": "code",
   "execution_count": 73,
   "id": "1bf82636-6784-4014-a6d7-16e8d0516da1",
   "metadata": {},
   "outputs": [
    {
     "data": {
      "text/plain": [
       "['O',\n",
       " 'O',\n",
       " 'O',\n",
       " 'O',\n",
       " 'U-SPACECRAFT',\n",
       " 'O',\n",
       " 'B-SPACECRAFT',\n",
       " 'I-SPACECRAFT',\n",
       " 'I-SPACECRAFT',\n",
       " 'I-SPACECRAFT',\n",
       " 'I-SPACECRAFT',\n",
       " 'L-SPACECRAFT']"
      ]
     },
     "execution_count": 140,
     "metadata": {},
     "output_type": "execute_result"
    }
   ],
   "source": [
    "gold_dict"
   ]
  },
  {
   "cell_type": "code",
   "execution_count": 137,
   "id": "da749413-033c-4979-9a23-92bdb26163e8",
   "metadata": {},
   "outputs": [],
   "source": [
    "from spacy.training.gold_io import docs_to_json\n",
    "nlp = spacy.blank('en')\n",
    "nlp.add_pipe('sentencizer')\n",
    "doc = nlp(\"I like London and GPS and International Space Station (ISS)\")"
   ]
  },
  {
   "cell_type": "code",
   "execution_count": 229,
   "id": "53941f46-b0ba-477d-873b-49661657a611",
   "metadata": {},
   "outputs": [],
   "source": [
    "from spacy.training import Example\n",
    "gold_dict = {\"entities\": tags}\n",
    "example = Example.from_dict(doc, gold_dict)"
   ]
  },
  {
   "cell_type": "code",
   "execution_count": 230,
   "id": "f5494255-b9fd-455a-aa50-967b5b2faf55",
   "metadata": {},
   "outputs": [
    {
     "data": {
      "text/plain": [
       "'I like London and GPS and International Space Station (ISS)'"
      ]
     },
     "execution_count": 230,
     "metadata": {},
     "output_type": "execute_result"
    }
   ],
   "source": [
    "doc.text"
   ]
  },
  {
   "cell_type": "code",
   "execution_count": 386,
   "id": "2fd71b6b-bd63-4ec7-8a8b-f2c21f705483",
   "metadata": {},
   "outputs": [
    {
     "data": {
      "text/plain": [
       "(GPS,)"
      ]
     },
     "execution_count": 386,
     "metadata": {},
     "output_type": "execute_result"
    }
   ],
   "source": [
    "doc.ents"
   ]
  },
  {
   "cell_type": "code",
   "execution_count": 388,
   "id": "68a7631c-541a-463f-b949-f8e30d76851c",
   "metadata": {},
   "outputs": [
    {
     "data": {
      "text/plain": [
       "['_',\n",
       " '__class__',\n",
       " '__delattr__',\n",
       " '__dir__',\n",
       " '__doc__',\n",
       " '__eq__',\n",
       " '__format__',\n",
       " '__ge__',\n",
       " '__getattribute__',\n",
       " '__getitem__',\n",
       " '__gt__',\n",
       " '__hash__',\n",
       " '__init__',\n",
       " '__init_subclass__',\n",
       " '__iter__',\n",
       " '__le__',\n",
       " '__len__',\n",
       " '__lt__',\n",
       " '__ne__',\n",
       " '__new__',\n",
       " '__pyx_vtable__',\n",
       " '__reduce__',\n",
       " '__reduce_ex__',\n",
       " '__repr__',\n",
       " '__setattr__',\n",
       " '__sizeof__',\n",
       " '__str__',\n",
       " '__subclasshook__',\n",
       " '_fix_dep_copy',\n",
       " '_vector',\n",
       " '_vector_norm',\n",
       " 'as_doc',\n",
       " 'char_span',\n",
       " 'conjuncts',\n",
       " 'doc',\n",
       " 'end',\n",
       " 'end_char',\n",
       " 'ent_id',\n",
       " 'ent_id_',\n",
       " 'ents',\n",
       " 'get_extension',\n",
       " 'get_lca_matrix',\n",
       " 'has_extension',\n",
       " 'has_vector',\n",
       " 'kb_id',\n",
       " 'kb_id_',\n",
       " 'label',\n",
       " 'label_',\n",
       " 'lefts',\n",
       " 'lemma_',\n",
       " 'n_lefts',\n",
       " 'n_rights',\n",
       " 'noun_chunks',\n",
       " 'orth_',\n",
       " 'remove_extension',\n",
       " 'rights',\n",
       " 'root',\n",
       " 'sent',\n",
       " 'sentiment',\n",
       " 'set_extension',\n",
       " 'similarity',\n",
       " 'start',\n",
       " 'start_char',\n",
       " 'subtree',\n",
       " 'tensor',\n",
       " 'text',\n",
       " 'text_with_ws',\n",
       " 'to_array',\n",
       " 'vector',\n",
       " 'vector_norm',\n",
       " 'vocab']"
      ]
     },
     "execution_count": 388,
     "metadata": {},
     "output_type": "execute_result"
    }
   ],
   "source": [
    "dir(doc.ents[0])"
   ]
  },
  {
   "cell_type": "code",
   "execution_count": 232,
   "id": "634a9e63-0011-4b25-ae90-58e2d88f5ab7",
   "metadata": {},
   "outputs": [
    {
     "data": {
      "text/plain": [
       "{'doc_annotation': {'cats': {}, 'entities': ['O', 'O', 'O', 'O', 'U-SPACECRAFT', 'O', 'B-SPACECRAFT', 'I-SPACECRAFT', 'I-SPACECRAFT', 'I-SPACECRAFT', 'I-SPACECRAFT', 'L-SPACECRAFT'], 'links': {}}, 'token_annotation': {'ORTH': ['I', 'like', 'London', 'and', 'GPS', 'and', 'International', 'Space', 'Station', '(', 'ISS', ')'], 'SPACY': [True, True, True, True, True, True, True, True, True, False, False, False], 'TAG': ['', '', '', '', '', '', '', '', '', '', '', ''], 'LEMMA': ['', '', '', '', '', '', '', '', '', '', '', ''], 'POS': ['', '', '', '', '', '', '', '', '', '', '', ''], 'MORPH': ['', '', '', '', '', '', '', '', '', '', '', ''], 'HEAD': [0, 1, 2, 3, 4, 5, 6, 7, 8, 9, 10, 11], 'DEP': ['', '', '', '', '', '', '', '', '', '', '', ''], 'SENT_START': [1, 0, 0, 0, 0, 0, 0, 0, 0, 0, 0, 0]}}"
      ]
     },
     "execution_count": 232,
     "metadata": {},
     "output_type": "execute_result"
    }
   ],
   "source": [
    "example"
   ]
  },
  {
   "cell_type": "code",
   "execution_count": 234,
   "id": "d551cba9-706c-45f5-a67e-fd304d411973",
   "metadata": {},
   "outputs": [
    {
     "data": {
      "text/plain": [
       "([GPS, International Space Station (ISS)],\n",
       " ['O',\n",
       "  'O',\n",
       "  'O',\n",
       "  'O',\n",
       "  'U-SPACECRAFT',\n",
       "  'O',\n",
       "  'B-SPACECRAFT',\n",
       "  'I-SPACECRAFT',\n",
       "  'I-SPACECRAFT',\n",
       "  'I-SPACECRAFT',\n",
       "  'I-SPACECRAFT',\n",
       "  'L-SPACECRAFT'])"
      ]
     },
     "execution_count": 234,
     "metadata": {},
     "output_type": "execute_result"
    }
   ],
   "source": [
    "example.get_aligned_ents_and_ner()"
   ]
  },
  {
   "cell_type": "code",
   "execution_count": null,
   "id": "f3611565-7480-47ee-910a-9fc833c82f91",
   "metadata": {},
   "outputs": [],
   "source": [
    "from typing import Optional, Callable, Iterable, Union, List\n",
    "\n",
    "def iob_to_biluo(tags: Iterable[str]) -> List[str]:\n",
    "    out: List[str] = []\n",
    "    tags = list(tags)\n",
    "    while tags:\n",
    "        out.extend(_consume_os(tags))\n",
    "        out.extend(_consume_ent(tags))\n",
    "    return out"
   ]
  },
  {
   "cell_type": "code",
   "execution_count": 225,
   "id": "83b0605f-0d59-4d31-b905-7fd26559c35b",
   "metadata": {},
   "outputs": [
    {
     "data": {
      "text/plain": [
       "['__class__',\n",
       " '__delattr__',\n",
       " '__dir__',\n",
       " '__doc__',\n",
       " '__eq__',\n",
       " '__format__',\n",
       " '__ge__',\n",
       " '__getattribute__',\n",
       " '__gt__',\n",
       " '__hash__',\n",
       " '__init__',\n",
       " '__init_subclass__',\n",
       " '__le__',\n",
       " '__len__',\n",
       " '__lt__',\n",
       " '__ne__',\n",
       " '__new__',\n",
       " '__reduce__',\n",
       " '__reduce_ex__',\n",
       " '__repr__',\n",
       " '__setattr__',\n",
       " '__setstate__',\n",
       " '__sizeof__',\n",
       " '__str__',\n",
       " '__subclasshook__',\n",
       " '_cached_alignment',\n",
       " '_cached_words_x',\n",
       " '_cached_words_y',\n",
       " '_get_aligned_spans',\n",
       " '_links_to_dict',\n",
       " '_x_sig',\n",
       " '_y_sig',\n",
       " 'alignment',\n",
       " 'copy',\n",
       " 'from_dict',\n",
       " 'get_aligned',\n",
       " 'get_aligned_ents_and_ner',\n",
       " 'get_aligned_ner',\n",
       " 'get_aligned_parse',\n",
       " 'get_aligned_sent_starts',\n",
       " 'get_aligned_spans_x2y',\n",
       " 'get_aligned_spans_y2x',\n",
       " 'predicted',\n",
       " 'reference',\n",
       " 'split_sents',\n",
       " 'text',\n",
       " 'to_dict',\n",
       " 'x',\n",
       " 'y']"
      ]
     },
     "execution_count": 225,
     "metadata": {},
     "output_type": "execute_result"
    }
   ],
   "source": [
    "dir(example)"
   ]
  },
  {
   "cell_type": "code",
   "execution_count": null,
   "id": "989a725d-205d-4503-8d97-bf412373f615",
   "metadata": {},
   "outputs": [],
   "source": [
    "### Can use token idx for mapping. "
   ]
  },
  {
   "cell_type": "code",
   "execution_count": 204,
   "id": "d593c7c4-f66f-452e-a4d4-8a2054df251f",
   "metadata": {},
   "outputs": [
    {
     "name": "stdout",
     "output_type": "stream",
     "text": [
      "0\tI\n",
      "2\t            \n",
      "14\tlike\n",
      "19\tLondon\n",
      "26\tand\n",
      "30\tGPS\n",
      "34\tand\n",
      "38\tInternational\n",
      "52\tSpace\n",
      "58\tStation\n",
      "66\t(\n",
      "67\tISS\n",
      "70\t)\n"
     ]
    }
   ],
   "source": [
    "import spacy\n",
    "\n",
    "nlp = spacy.blank(\"en\")\n",
    "original_text = \"I             like London and GPS and International Space Station (ISS)\"\n",
    "nlp.add_pipe('sentencizer')\n",
    "# Process data\n",
    "doc = nlp(original_text)\n",
    "\n",
    "for token in doc:\n",
    "    print(token.idx, token, sep=\"\\t\")\n"
   ]
  },
  {
   "cell_type": "code",
   "execution_count": 215,
   "id": "6cc8d938-ea8b-4409-b223-bc698e06467d",
   "metadata": {},
   "outputs": [
    {
     "data": {
      "text/plain": [
       "{'doc_annotation': {'cats': {}, 'entities': ['O', 'O', 'O', 'O', 'O', 'B-SPACECRAFT', 'I-SPACECRAFT', 'L-SPACECRAFT', 'O', 'O', 'O', 'O'], 'links': {}}, 'token_annotation': {'ORTH': ['I', 'like', 'London', 'and', 'GPS', 'and', 'International', 'Space', 'Station', '(', 'ISS', ')'], 'SPACY': [True, True, True, True, True, True, True, True, True, False, False, False], 'TAG': ['', '', '', '', '', '', '', '', '', '', '', ''], 'LEMMA': ['', '', '', '', '', '', '', '', '', '', '', ''], 'POS': ['', '', '', '', '', '', '', '', '', '', '', ''], 'MORPH': ['', '', '', '', '', '', '', '', '', '', '', ''], 'HEAD': [0, 1, 2, 3, 4, 5, 6, 7, 8, 9, 10, 11], 'DEP': ['', '', '', '', '', '', '', '', '', '', '', ''], 'SENT_START': [1, 0, 0, 0, 0, 0, 0, 0, 0, 0, 0, 0]}}"
      ]
     },
     "execution_count": 215,
     "metadata": {},
     "output_type": "execute_result"
    }
   ],
   "source": [
    "example"
   ]
  },
  {
   "cell_type": "code",
   "execution_count": null,
   "id": "180b1b5d-2269-4de4-9b90-d323220e930e",
   "metadata": {},
   "outputs": [],
   "source": [
    "import spacy\n",
    "\n",
    "nlp = spacy.blank(\"en\")\n",
    "original_text = \"I             like London and GPS and International Space Station (ISS)\"\n",
    "nlp.add_pipe('sentencizer')\n",
    "# Process data\n",
    "doc = nlp(original_text)\n",
    "\n",
    "for token in doc:\n",
    "    print(token.idx, token, sep=\"\\t\")\n"
   ]
  },
  {
   "cell_type": "code",
   "execution_count": 216,
   "id": "ad72915e-6112-430e-be74-5a0ff45314c1",
   "metadata": {},
   "outputs": [],
   "source": [
    "\n",
    "json_format = docs_to_json([doc])"
   ]
  },
  {
   "cell_type": "code",
   "execution_count": 217,
   "id": "ff946076-7fde-4770-8fc1-c3eae7f082c6",
   "metadata": {},
   "outputs": [],
   "source": [
    "annotations = json_to_annotations(json_format)"
   ]
  },
  {
   "cell_type": "code",
   "execution_count": 218,
   "id": "f94fedcb-305e-465c-8b6c-828fc25f14fc",
   "metadata": {},
   "outputs": [
    {
     "data": {
      "text/plain": [
       "<generator at 0x7f15772922c0>"
      ]
     },
     "execution_count": 218,
     "metadata": {},
     "output_type": "execute_result"
    }
   ],
   "source": [
    "json_formatted"
   ]
  },
  {
   "cell_type": "code",
   "execution_count": 219,
   "id": "4de6bd1f-17ec-40ba-a8aa-6b69a6bba0d9",
   "metadata": {},
   "outputs": [],
   "source": [
    "for item in json_formatted:\n",
    "    print(item)"
   ]
  },
  {
   "cell_type": "code",
   "execution_count": 221,
   "id": "12bef697-b943-4911-86ab-8af09cc8bb70",
   "metadata": {},
   "outputs": [
    {
     "data": {
      "text/plain": [
       "{'text': 'I             like London and GPS and International Space Station (ISS)',\n",
       " 'token_annotation': {'ids': [0, 1, 2, 3, 4, 5, 6, 7, 8, 9, 10, 11, 12],\n",
       "  'words': ['I',\n",
       "   '            ',\n",
       "   'like',\n",
       "   'London',\n",
       "   'and',\n",
       "   'GPS',\n",
       "   'and',\n",
       "   'International',\n",
       "   'Space',\n",
       "   'Station',\n",
       "   '(',\n",
       "   'ISS',\n",
       "   ')'],\n",
       "  'spaces': [' ', '', ' ', ' ', ' ', ' ', ' ', ' ', ' ', ' ', '', '', ''],\n",
       "  'sent_starts': [1, -1, -1, -1, -1, -1, -1, -1, -1, -1, -1, -1, -1],\n",
       "  'brackets': []},\n",
       " 'doc_annotation': {'cats': {},\n",
       "  'entities': [None,\n",
       "   None,\n",
       "   None,\n",
       "   None,\n",
       "   None,\n",
       "   None,\n",
       "   None,\n",
       "   None,\n",
       "   None,\n",
       "   None,\n",
       "   None,\n",
       "   None,\n",
       "   None],\n",
       "  'links': []}}"
      ]
     },
     "execution_count": 221,
     "metadata": {},
     "output_type": "execute_result"
    }
   ],
   "source": [
    "item['doc_annotation'] = "
   ]
  },
  {
   "cell_type": "code",
   "execution_count": 83,
   "id": "10dbc48c-b73a-4861-a52f-265b216b0e17",
   "metadata": {},
   "outputs": [],
   "source": [
    "from typing import List, Dict, Tuple, Iterable, Union, Iterator\n",
    "\n",
    "def iob_to_biluo(tags: Iterable[str]) -> List[str]:\n",
    "    out: List[str] = []\n",
    "    tags = list(tags)\n",
    "    while tags:\n",
    "        out.extend(_consume_os(tags))\n",
    "        out.extend(_consume_ent(tags))\n",
    "    return out\n",
    "\n",
    "iob_to_biluo()"
   ]
  },
  {
   "cell_type": "code",
   "execution_count": null,
   "id": "5e2999c8-f5aa-4368-a31b-5a5b33c1a50d",
   "metadata": {},
   "outputs": [],
   "source": []
  },
  {
   "cell_type": "code",
   "execution_count": 444,
   "id": "46f07e6a-f484-415f-b02b-d9a83208d54f",
   "metadata": {},
   "outputs": [],
   "source": [
    "from prodigy.components.db import connect\n",
    "import srsly\n",
    "\n",
    "srsly.write_jsonl(\"spacy_schema.jsonl\", dataset)"
   ]
  },
  {
   "cell_type": "code",
   "execution_count": 445,
   "id": "dcf9dd85-96fc-493f-b64c-387067d79f39",
   "metadata": {},
   "outputs": [
    {
     "data": {
      "text/plain": [
       "323"
      ]
     },
     "execution_count": 445,
     "metadata": {},
     "output_type": "execute_result"
    }
   ],
   "source": [
    "len(dataset)"
   ]
  },
  {
   "cell_type": "code",
   "execution_count": 432,
   "id": "1e693e47-12bb-47e3-b2ee-3f17f81912b2",
   "metadata": {},
   "outputs": [
    {
     "name": "stdout",
     "output_type": "stream",
     "text": [
      "\u001b[38;5;4mℹ Using language 'en'\u001b[0m\n",
      "Your CPU supports instructions that this binary was not compiled to use: SSE3 SSE4.1 SSE4.2 AVX AVX2\n",
      "For maximum performance, you can install NMSLIB from sources \n",
      "pip install --no-binary :all: nmslib\n",
      "\u001b[1m\n",
      "============================== Generating data ==============================\u001b[0m\n",
      "Components: ner\n",
      "Merging training and evaluation data for 1 components\n",
      "  - [ner] Training: 288 | Evaluation: 0 (0% split)\n",
      "Training: 285 | Evaluation: 0\n",
      "Labels: ner (1)\n",
      "\u001b[38;5;2m✔ Saved 285 training examples\u001b[0m\n",
      "nasa_data/new_out/train.spacy\n",
      "\u001b[38;5;3m⚠ No evaluation data. You can provide dedicated evaluation sets for the\n",
      "different components using the eval: prefix, or set an --eval-split to hold back\n",
      "a percentage for evaluation. If you already have a dev set available, you can\n",
      "specify its correct path as the '--paths.dev' argument to 'spacy train'.\u001b[0m\n",
      "\u001b[1m\n",
      "============================= Generating config =============================\u001b[0m\n",
      "\u001b[38;5;4mℹ Auto-generating config with spaCy\u001b[0m\n",
      "\u001b[38;5;2m✔ Generated training config\u001b[0m\n",
      "\u001b[1m\n",
      "======================== Generating cached label data ========================\u001b[0m\n",
      "\u001b[38;5;2m✔ Saving label data for component 'ner'\u001b[0m\n",
      "nasa_data/new_out/labels/ner.json\n",
      "\u001b[1m\n",
      "============================= Finalizing export =============================\u001b[0m\n",
      "\u001b[38;5;2m✔ Saved training config\u001b[0m\n",
      "nasa_data/new_out/config.cfg\n",
      "\n",
      "To use this data for training with spaCy, you can run:\n",
      "python -m spacy train nasa_data/new_out/config.cfg --paths.train nasa_data/new_out/train.spacy --paths.dev nasa_data/new_out/dev.spacy\n"
     ]
    }
   ],
   "source": [
    "!prodigy data-to-spacy ./nasa_data/new_out --ner spacy_schema --eval-split 0"
   ]
  },
  {
   "cell_type": "code",
   "execution_count": 891,
   "id": "31ec5449-f64e-4f26-b727-ea0384df3d8d",
   "metadata": {},
   "outputs": [],
   "source": [
    "dataset = pd.DataFrame(dataset)\n",
    "#Search for ignored and ensure that they don't enter the spacy training data."
   ]
  },
  {
   "cell_type": "code",
   "execution_count": 404,
   "id": "ba76b8c7-115d-422f-939a-8405e53860c2",
   "metadata": {},
   "outputs": [
    {
     "data": {
      "text/plain": [
       "[{'start': 15,\n",
       "  'end': 25,\n",
       "  'token_start': 2,\n",
       "  'token_end': 2,\n",
       "  'label': 'SPACECRAFT'},\n",
       " {'start': 37,\n",
       "  'end': 48,\n",
       "  'token_start': 5,\n",
       "  'token_end': 5,\n",
       "  'label': 'SPACECRAFT'},\n",
       " {'start': 52,\n",
       "  'end': 55,\n",
       "  'token_start': 7,\n",
       "  'token_end': 7,\n",
       "  'label': 'SPACECRAFT'},\n",
       " {'start': 57,\n",
       "  'end': 66,\n",
       "  'token_start': 9,\n",
       "  'token_end': 9,\n",
       "  'label': 'SPACECRAFT'},\n",
       " {'start': 140,\n",
       "  'end': 149,\n",
       "  'token_start': 26,\n",
       "  'token_end': 26,\n",
       "  'label': 'SPACECRAFT'},\n",
       " {'start': 252,\n",
       "  'end': 263,\n",
       "  'text': 'Sentinel-5P',\n",
       "  'source': '/home/spenser/prodigy/nasa_model/update_01/',\n",
       "  'input_hash': 757196465,\n",
       "  'token_start': 48,\n",
       "  'token_end': 48,\n",
       "  'label': 'SPACECRAFT'},\n",
       " {'start': 570,\n",
       "  'end': 581,\n",
       "  'text': 'Sentinel-5P',\n",
       "  'source': '/home/spenser/prodigy/nasa_model/update_01/',\n",
       "  'input_hash': 757196465,\n",
       "  'token_start': 119,\n",
       "  'token_end': 119,\n",
       "  'label': 'SPACECRAFT'},\n",
       " {'start': 626,\n",
       "  'end': 635,\n",
       "  'text': 'Sentinels',\n",
       "  'source': '/home/spenser/prodigy/nasa_model/update_01/',\n",
       "  'input_hash': 757196465,\n",
       "  'token_start': 127,\n",
       "  'token_end': 127,\n",
       "  'label': 'SPACECRAFT'}]"
      ]
     },
     "execution_count": 404,
     "metadata": {},
     "output_type": "execute_result"
    }
   ],
   "source": [
    "dataset[dataset['text'].str.contains('Copernicus Sentinel-5')].iloc[0]['spans']"
   ]
  },
  {
   "cell_type": "code",
   "execution_count": 406,
   "id": "eb938265-3f19-4fdb-8efd-c73009f6f611",
   "metadata": {},
   "outputs": [],
   "source": [
    "dataset.to_csv(\"/home/spenser/prodigy/prodigy_dataset.csv\", index=False)"
   ]
  },
  {
   "cell_type": "code",
   "execution_count": 405,
   "id": "8001d39f-cc5c-41c2-b745-3c48ada05a2e",
   "metadata": {},
   "outputs": [
    {
     "data": {
      "text/plain": [
       "[{'start': 7,\n",
       "  'end': 22,\n",
       "  'token_start': 2,\n",
       "  'token_end': 3,\n",
       "  'label': 'SPACECRAFT'}]"
      ]
     },
     "execution_count": 405,
     "metadata": {},
     "output_type": "execute_result"
    }
   ],
   "source": [
    "dataset[dataset['text'].str.contains('ROSETTA orbiter')].iloc[0]['spans']"
   ]
  },
  {
   "cell_type": "code",
   "execution_count": 19,
   "id": "fa58f7db-ae8f-4339-8949-adb92d307517",
   "metadata": {},
   "outputs": [],
   "source": [
    "dataset = pd.DataFrame(dataset)\n",
    "dataset.to_csv(\"/home/spenser/prodigy/spacy_schema_updated.csv\")"
   ]
  },
  {
   "cell_type": "code",
   "execution_count": 390,
   "id": "584bc03d-1431-464f-8061-e16a5a93d73c",
   "metadata": {},
   "outputs": [
    {
     "data": {
      "text/plain": [
       "<spacy.lang.en.English at 0x7f12d8d81190>"
      ]
     },
     "execution_count": 390,
     "metadata": {},
     "output_type": "execute_result"
    }
   ],
   "source": [
    "import spacy\n",
    "spacy.blank('en')"
   ]
  },
  {
   "cell_type": "code",
   "execution_count": 448,
   "id": "0a044bcd-ed5d-41d4-9f2e-650e182cb294",
   "metadata": {},
   "outputs": [
    {
     "data": {
      "text/plain": [
       "accept    283\n",
       "reject      2\n",
       "Name: answer, dtype: int64"
      ]
     },
     "execution_count": 448,
     "metadata": {},
     "output_type": "execute_result"
    }
   ],
   "source": [
    "merged['answer'].value_counts()"
   ]
  },
  {
   "cell_type": "code",
   "execution_count": null,
   "id": "ac6a3081-1980-42b7-a4f6-19b3728fdb9e",
   "metadata": {},
   "outputs": [],
   "source": [
    "merged['answer'].value_counts()"
   ]
  },
  {
   "cell_type": "code",
   "execution_count": 450,
   "id": "9da1912f-6e52-498b-b324-282ae0029a55",
   "metadata": {},
   "outputs": [
    {
     "data": {
      "text/html": [
       "<div>\n",
       "<style scoped>\n",
       "    .dataframe tbody tr th:only-of-type {\n",
       "        vertical-align: middle;\n",
       "    }\n",
       "\n",
       "    .dataframe tbody tr th {\n",
       "        vertical-align: top;\n",
       "    }\n",
       "\n",
       "    .dataframe thead th {\n",
       "        text-align: right;\n",
       "    }\n",
       "</style>\n",
       "<table border=\"1\" class=\"dataframe\">\n",
       "  <thead>\n",
       "    <tr style=\"text-align: right;\">\n",
       "      <th></th>\n",
       "      <th>text</th>\n",
       "      <th>char_spans</th>\n",
       "      <th>token_spans</th>\n",
       "      <th>_input_hash</th>\n",
       "      <th>_task_hash</th>\n",
       "      <th>_is_binary</th>\n",
       "      <th>tokens</th>\n",
       "      <th>_view_id</th>\n",
       "      <th>answer</th>\n",
       "      <th>_timestamp</th>\n",
       "      <th>spans</th>\n",
       "    </tr>\n",
       "  </thead>\n",
       "  <tbody>\n",
       "    <tr>\n",
       "      <th>100</th>\n",
       "      <td>\"Measurements taken off the New England Coast ...</td>\n",
       "      <td>[]</td>\n",
       "      <td>[]</td>\n",
       "      <td>-1295442137</td>\n",
       "      <td>1430045685</td>\n",
       "      <td>False</td>\n",
       "      <td>[{'text': '\"', 'start': 0, 'end': 1, 'id': 0, ...</td>\n",
       "      <td>ner_manual</td>\n",
       "      <td>reject</td>\n",
       "      <td>1636854032</td>\n",
       "      <td>[{'token_start': 5, 'token_end': 6, 'start': 2...</td>\n",
       "    </tr>\n",
       "    <tr>\n",
       "      <th>104</th>\n",
       "      <td>\"This data set contains the infrared images co...</td>\n",
       "      <td>[]</td>\n",
       "      <td>[]</td>\n",
       "      <td>-656384808</td>\n",
       "      <td>-1483478043</td>\n",
       "      <td>False</td>\n",
       "      <td>[{'text': '\"', 'start': 0, 'end': 1, 'id': 0, ...</td>\n",
       "      <td>ner_manual</td>\n",
       "      <td>reject</td>\n",
       "      <td>1636854157</td>\n",
       "      <td>[{'token_start': 13, 'token_end': 18, 'start':...</td>\n",
       "    </tr>\n",
       "  </tbody>\n",
       "</table>\n",
       "</div>"
      ],
      "text/plain": [
       "                                                  text char_spans token_spans  \\\n",
       "100  \"Measurements taken off the New England Coast ...         []          []   \n",
       "104  \"This data set contains the infrared images co...         []          []   \n",
       "\n",
       "     _input_hash  _task_hash  _is_binary  \\\n",
       "100  -1295442137  1430045685       False   \n",
       "104   -656384808 -1483478043       False   \n",
       "\n",
       "                                                tokens    _view_id  answer  \\\n",
       "100  [{'text': '\"', 'start': 0, 'end': 1, 'id': 0, ...  ner_manual  reject   \n",
       "104  [{'text': '\"', 'start': 0, 'end': 1, 'id': 0, ...  ner_manual  reject   \n",
       "\n",
       "     _timestamp                                              spans  \n",
       "100  1636854032  [{'token_start': 5, 'token_end': 6, 'start': 2...  \n",
       "104  1636854157  [{'token_start': 13, 'token_end': 18, 'start':...  "
      ]
     },
     "execution_count": 450,
     "metadata": {},
     "output_type": "execute_result"
    }
   ],
   "source": [
    "merged[merged['answer'] == 'reject']"
   ]
  },
  {
   "cell_type": "code",
   "execution_count": 433,
   "id": "de1d8c5d-9991-485c-addd-bcb247c00402",
   "metadata": {},
   "outputs": [],
   "source": [
    "\n",
    "import spacy\n",
    "from spacy.tokens import DocBin\n",
    "from spacy.training import Example\n",
    "\n",
    "file_path = \"/home/spenser/prodigy/nasa_data/new_out/train.spacy\"\n",
    "doc_bin = DocBin().from_disk(file_path)"
   ]
  },
  {
   "cell_type": "code",
   "execution_count": 434,
   "id": "a30deb39-f155-4697-bf09-ca30982949b1",
   "metadata": {},
   "outputs": [],
   "source": [
    "def parse_docbin(doc_bin):\n",
    "    nlp = spacy.blank(\"en\")\n",
    "    annotations = []\n",
    "    for doc in doc_bin.get_docs(nlp.vocab):\n",
    "        spans = []\n",
    "        for ent in doc.ents:\n",
    "            end_adjustment = ent.end - 1\n",
    "            spans.append({\"start\": ent.start, \"end\": ent.end, \"label\": ent.label_})\n",
    "        annotations.append({\"text\": doc.text, \"spans\": spans})\n",
    "    return annotations"
   ]
  },
  {
   "cell_type": "code",
   "execution_count": 435,
   "id": "b2e8fbca-4cf3-4d55-8a52-6e48d093daef",
   "metadata": {},
   "outputs": [],
   "source": [
    "parsed_doc_bin = parse_docbin(doc_bin)"
   ]
  },
  {
   "cell_type": "code",
   "execution_count": 436,
   "id": "fd41a86c-2e54-40c9-a906-df4e783034d1",
   "metadata": {},
   "outputs": [],
   "source": [
    "\n",
    "\n",
    "from copy import deepcopy\n",
    "def character_spans(json_data):\n",
    "    \n",
    "\n",
    "    nlp = spacy.blank(\"en\")\n",
    "    character_annotations = []\n",
    "    for row in deepcopy(json_data):\n",
    "        doc = nlp(row[\"text\"])\n",
    "        spans = []\n",
    "        for span in row[\"spans\"]:\n",
    "            entity_span = doc[span[\"start\"] : span[\"end\"]]\n",
    "            start = entity_span.start_char\n",
    "            end = entity_span.end_char\n",
    "            spans.append({\"start\": start, \"end\": end, \"label\": span['label']})\n",
    "        row['char_spans'] = spans\n",
    "        row['token_spans'] = row.pop('spans')\n",
    "        character_annotations.append(row)\n",
    "    return character_annotations\n"
   ]
  },
  {
   "cell_type": "code",
   "execution_count": 437,
   "id": "3946e131-e807-4628-9af3-2fae46b7443f",
   "metadata": {},
   "outputs": [],
   "source": [
    "char = character_spans(parsed_doc_bin)"
   ]
  },
  {
   "cell_type": "code",
   "execution_count": 454,
   "id": "69428810-7fd4-468d-bcc3-44c3a7757767",
   "metadata": {},
   "outputs": [],
   "source": [
    "char = pd.DataFrame(char)\n",
    "char = pd.DataFrame(char)\n",
    "merged = char.merge(dataset, on =['text'])\n",
    "\n",
    "has_span = merged[~merged['spans'].isnull()]"
   ]
  },
  {
   "cell_type": "code",
   "execution_count": 456,
   "id": "564570bd-b7eb-480c-bd1b-3c48c6e62e7b",
   "metadata": {},
   "outputs": [
    {
     "name": "stderr",
     "output_type": "stream",
     "text": [
      "<ipython-input-456-7c6afd8caf93>:7: SettingWithCopyWarning: \n",
      "A value is trying to be set on a copy of a slice from a DataFrame.\n",
      "Try using .loc[row_indexer,col_indexer] = value instead\n",
      "\n",
      "See the caveats in the documentation: https://pandas.pydata.org/pandas-docs/stable/user_guide/indexing.html#returning-a-view-versus-a-copy\n",
      "  has_span['starts_parse'] = span_starts_list\n"
     ]
    }
   ],
   "source": [
    "span_starts_list = []\n",
    "for char_span in has_span['char_spans']:\n",
    "    span_starts = []\n",
    "    for span in char_span:\n",
    "        span_starts.append(span['end'])\n",
    "    span_starts_list.append(span_starts)\n",
    "has_span['starts_parse'] = span_starts_list    "
   ]
  },
  {
   "cell_type": "code",
   "execution_count": 457,
   "id": "28ffa3aa-4984-45e9-863d-90aded529fe6",
   "metadata": {},
   "outputs": [
    {
     "name": "stderr",
     "output_type": "stream",
     "text": [
      "<ipython-input-457-1f30c90efceb>:7: SettingWithCopyWarning: \n",
      "A value is trying to be set on a copy of a slice from a DataFrame.\n",
      "Try using .loc[row_indexer,col_indexer] = value instead\n",
      "\n",
      "See the caveats in the documentation: https://pandas.pydata.org/pandas-docs/stable/user_guide/indexing.html#returning-a-view-versus-a-copy\n",
      "  has_span['starts_db'] = span_starts_list\n"
     ]
    }
   ],
   "source": [
    "span_starts_list = []\n",
    "for char_span in has_span['spans']:\n",
    "    span_starts = []\n",
    "    for span in char_span:\n",
    "        span_starts.append(span['end'])\n",
    "    span_starts_list.append(span_starts)\n",
    "has_span['starts_db'] = span_starts_list    "
   ]
  },
  {
   "cell_type": "code",
   "execution_count": 459,
   "id": "2fd57f8c-3cdf-4220-b2dc-d272ec9345fd",
   "metadata": {},
   "outputs": [
    {
     "data": {
      "text/html": [
       "<div>\n",
       "<style scoped>\n",
       "    .dataframe tbody tr th:only-of-type {\n",
       "        vertical-align: middle;\n",
       "    }\n",
       "\n",
       "    .dataframe tbody tr th {\n",
       "        vertical-align: top;\n",
       "    }\n",
       "\n",
       "    .dataframe thead th {\n",
       "        text-align: right;\n",
       "    }\n",
       "</style>\n",
       "<table border=\"1\" class=\"dataframe\">\n",
       "  <thead>\n",
       "    <tr style=\"text-align: right;\">\n",
       "      <th></th>\n",
       "      <th>text</th>\n",
       "      <th>char_spans</th>\n",
       "      <th>token_spans</th>\n",
       "      <th>_input_hash</th>\n",
       "      <th>_task_hash</th>\n",
       "      <th>_is_binary</th>\n",
       "      <th>tokens</th>\n",
       "      <th>_view_id</th>\n",
       "      <th>answer</th>\n",
       "      <th>_timestamp</th>\n",
       "      <th>spans</th>\n",
       "      <th>starts_parse</th>\n",
       "      <th>starts_db</th>\n",
       "    </tr>\n",
       "  </thead>\n",
       "  <tbody>\n",
       "    <tr>\n",
       "      <th>100</th>\n",
       "      <td>\"Measurements taken off the New England Coast ...</td>\n",
       "      <td>[]</td>\n",
       "      <td>[]</td>\n",
       "      <td>-1295442137</td>\n",
       "      <td>1430045685</td>\n",
       "      <td>False</td>\n",
       "      <td>[{'text': '\"', 'start': 0, 'end': 1, 'id': 0, ...</td>\n",
       "      <td>ner_manual</td>\n",
       "      <td>reject</td>\n",
       "      <td>1636854032</td>\n",
       "      <td>[{'token_start': 5, 'token_end': 6, 'start': 2...</td>\n",
       "      <td>[]</td>\n",
       "      <td>[39]</td>\n",
       "    </tr>\n",
       "    <tr>\n",
       "      <th>104</th>\n",
       "      <td>\"This data set contains the infrared images co...</td>\n",
       "      <td>[]</td>\n",
       "      <td>[]</td>\n",
       "      <td>-656384808</td>\n",
       "      <td>-1483478043</td>\n",
       "      <td>False</td>\n",
       "      <td>[{'text': '\"', 'start': 0, 'end': 1, 'id': 0, ...</td>\n",
       "      <td>ner_manual</td>\n",
       "      <td>reject</td>\n",
       "      <td>1636854157</td>\n",
       "      <td>[{'token_start': 13, 'token_end': 18, 'start':...</td>\n",
       "      <td>[]</td>\n",
       "      <td>[106]</td>\n",
       "    </tr>\n",
       "  </tbody>\n",
       "</table>\n",
       "</div>"
      ],
      "text/plain": [
       "                                                  text char_spans token_spans  \\\n",
       "100  \"Measurements taken off the New England Coast ...         []          []   \n",
       "104  \"This data set contains the infrared images co...         []          []   \n",
       "\n",
       "     _input_hash  _task_hash  _is_binary  \\\n",
       "100  -1295442137  1430045685       False   \n",
       "104   -656384808 -1483478043       False   \n",
       "\n",
       "                                                tokens    _view_id  answer  \\\n",
       "100  [{'text': '\"', 'start': 0, 'end': 1, 'id': 0, ...  ner_manual  reject   \n",
       "104  [{'text': '\"', 'start': 0, 'end': 1, 'id': 0, ...  ner_manual  reject   \n",
       "\n",
       "     _timestamp                                              spans  \\\n",
       "100  1636854032  [{'token_start': 5, 'token_end': 6, 'start': 2...   \n",
       "104  1636854157  [{'token_start': 13, 'token_end': 18, 'start':...   \n",
       "\n",
       "    starts_parse starts_db  \n",
       "100           []      [39]  \n",
       "104           []     [106]  "
      ]
     },
     "execution_count": 459,
     "metadata": {},
     "output_type": "execute_result"
    }
   ],
   "source": [
    "has_span[has_span['starts_db'].astype(str) != has_span['starts_parse'].astype(str)]"
   ]
  },
  {
   "cell_type": "code",
   "execution_count": 431,
   "id": "08e4f522-e5e6-4b16-bc61-9441339b532d",
   "metadata": {},
   "outputs": [
    {
     "data": {
      "text/html": [
       "<div>\n",
       "<style scoped>\n",
       "    .dataframe tbody tr th:only-of-type {\n",
       "        vertical-align: middle;\n",
       "    }\n",
       "\n",
       "    .dataframe tbody tr th {\n",
       "        vertical-align: top;\n",
       "    }\n",
       "\n",
       "    .dataframe thead th {\n",
       "        text-align: right;\n",
       "    }\n",
       "</style>\n",
       "<table border=\"1\" class=\"dataframe\">\n",
       "  <thead>\n",
       "    <tr style=\"text-align: right;\">\n",
       "      <th></th>\n",
       "      <th>text</th>\n",
       "      <th>char_spans</th>\n",
       "      <th>token_spans</th>\n",
       "      <th>_input_hash</th>\n",
       "      <th>_task_hash</th>\n",
       "      <th>_is_binary</th>\n",
       "      <th>tokens</th>\n",
       "      <th>_view_id</th>\n",
       "      <th>answer</th>\n",
       "      <th>_timestamp</th>\n",
       "      <th>spans</th>\n",
       "      <th>starts_db</th>\n",
       "      <th>starts_parse</th>\n",
       "    </tr>\n",
       "  </thead>\n",
       "  <tbody>\n",
       "    <tr>\n",
       "      <th>2</th>\n",
       "      <td>The Copernicus Sentinel-5 Precursor (Sentinel-...</td>\n",
       "      <td>[{'start': 15, 'end': 25, 'label': 'SPACECRAFT...</td>\n",
       "      <td>[{'start': 2, 'end': 3, 'label': 'SPACECRAFT'}...</td>\n",
       "      <td>757196465</td>\n",
       "      <td>140271334</td>\n",
       "      <td>False</td>\n",
       "      <td>[{'text': 'The', 'start': 0, 'end': 3, 'id': 0...</td>\n",
       "      <td>ner_manual</td>\n",
       "      <td>accept</td>\n",
       "      <td>1636926175</td>\n",
       "      <td>[{'start': 15, 'end': 25, 'token_start': 2, 't...</td>\n",
       "      <td>[25, 48, 55, 66, 149, 263, 581, 635]</td>\n",
       "      <td>[25, 48, 55, 66, 149, 263, 581, 635]</td>\n",
       "    </tr>\n",
       "    <tr>\n",
       "      <th>4</th>\n",
       "      <td>Copernicus Sentinel-5P TROPOMI aerosol layer h...</td>\n",
       "      <td>[{'start': 11, 'end': 22, 'label': 'SPACECRAFT'}]</td>\n",
       "      <td>[{'start': 1, 'end': 2, 'label': 'SPACECRAFT'}]</td>\n",
       "      <td>-1920969230</td>\n",
       "      <td>-1078113421</td>\n",
       "      <td>False</td>\n",
       "      <td>[{'text': 'Copernicus', 'start': 0, 'end': 10,...</td>\n",
       "      <td>ner_manual</td>\n",
       "      <td>accept</td>\n",
       "      <td>1636926187</td>\n",
       "      <td>[{'token_start': 1, 'token_end': 1, 'start': 1...</td>\n",
       "      <td>[22]</td>\n",
       "      <td>[22]</td>\n",
       "    </tr>\n",
       "    <tr>\n",
       "      <th>5</th>\n",
       "      <td>\"The shape model of Tethys derived by Robert G...</td>\n",
       "      <td>[{'start': 58, 'end': 65, 'label': 'SPACECRAFT'}]</td>\n",
       "      <td>[{'start': 11, 'end': 12, 'label': 'SPACECRAFT'}]</td>\n",
       "      <td>1936737749</td>\n",
       "      <td>-701495495</td>\n",
       "      <td>False</td>\n",
       "      <td>[{'text': '\"', 'start': 0, 'end': 1, 'id': 0, ...</td>\n",
       "      <td>ner_manual</td>\n",
       "      <td>accept</td>\n",
       "      <td>1636928463</td>\n",
       "      <td>[{'start': 58, 'end': 65, 'token_start': 11, '...</td>\n",
       "      <td>[65]</td>\n",
       "      <td>[65]</td>\n",
       "    </tr>\n",
       "    <tr>\n",
       "      <th>9</th>\n",
       "      <td>\"This data set contains field observations, co...</td>\n",
       "      <td>[{'start': 58, 'end': 61, 'label': 'SPACECRAFT'}]</td>\n",
       "      <td>[{'start': 9, 'end': 10, 'label': 'SPACECRAFT'}]</td>\n",
       "      <td>1329019212</td>\n",
       "      <td>-98505499</td>\n",
       "      <td>False</td>\n",
       "      <td>[{'text': '\"', 'start': 0, 'end': 1, 'id': 0, ...</td>\n",
       "      <td>ner_manual</td>\n",
       "      <td>accept</td>\n",
       "      <td>1636854408</td>\n",
       "      <td>[{'token_start': 9, 'token_end': 9, 'start': 5...</td>\n",
       "      <td>[61]</td>\n",
       "      <td>[61]</td>\n",
       "    </tr>\n",
       "    <tr>\n",
       "      <th>13</th>\n",
       "      <td>\"This dataset is derived under the Cross-Calib...</td>\n",
       "      <td>[{'start': 656, 'end': 665, 'label': 'SPACECRA...</td>\n",
       "      <td>[{'start': 120, 'end': 121, 'label': 'SPACECRA...</td>\n",
       "      <td>-521444822</td>\n",
       "      <td>1637307788</td>\n",
       "      <td>False</td>\n",
       "      <td>[{'text': '\"', 'start': 0, 'end': 1, 'id': 0, ...</td>\n",
       "      <td>ner_manual</td>\n",
       "      <td>accept</td>\n",
       "      <td>1636924712</td>\n",
       "      <td>[{'start': 656, 'end': 665, 'token_start': 120...</td>\n",
       "      <td>[665, 711, 725, 764, 1060, 2400, 2604]</td>\n",
       "      <td>[665, 711, 725, 764, 1060, 2400, 2604]</td>\n",
       "    </tr>\n",
       "    <tr>\n",
       "      <th>17</th>\n",
       "      <td>south to north over the equator in the afterno...</td>\n",
       "      <td>[{'start': 50, 'end': 55, 'label': 'SPACECRAFT...</td>\n",
       "      <td>[{'start': 10, 'end': 11, 'label': 'SPACECRAFT...</td>\n",
       "      <td>295050579</td>\n",
       "      <td>467489419</td>\n",
       "      <td>False</td>\n",
       "      <td>[{'text': 'south', 'start': 0, 'end': 5, 'id':...</td>\n",
       "      <td>ner_manual</td>\n",
       "      <td>accept</td>\n",
       "      <td>1636926779</td>\n",
       "      <td>[{'start': 50, 'end': 55, 'token_start': 10, '...</td>\n",
       "      <td>[55, 70]</td>\n",
       "      <td>[55, 70]</td>\n",
       "    </tr>\n",
       "    <tr>\n",
       "      <th>19</th>\n",
       "      <td>\"Next generation Earth Science Satellites ORCA...</td>\n",
       "      <td>[{'start': 1, 'end': 46, 'label': 'SPACECRAFT'...</td>\n",
       "      <td>[{'start': 1, 'end': 7, 'label': 'SPACECRAFT'}...</td>\n",
       "      <td>-1181214027</td>\n",
       "      <td>-489433392</td>\n",
       "      <td>False</td>\n",
       "      <td>[{'text': '\"', 'start': 0, 'end': 1, 'id': 0, ...</td>\n",
       "      <td>ner_manual</td>\n",
       "      <td>accept</td>\n",
       "      <td>1636845215</td>\n",
       "      <td>[{'start': 1, 'end': 46, 'token_start': 1, 'to...</td>\n",
       "      <td>[46, 1691]</td>\n",
       "      <td>[46, 1691]</td>\n",
       "    </tr>\n",
       "    <tr>\n",
       "      <th>22</th>\n",
       "      <td>of the ROSETTA orbiter magnetometer RPCMAG. Da...</td>\n",
       "      <td>[{'start': 7, 'end': 22, 'label': 'SPACECRAFT'}]</td>\n",
       "      <td>[{'start': 2, 'end': 4, 'label': 'SPACECRAFT'}]</td>\n",
       "      <td>1312952876</td>\n",
       "      <td>1715646069</td>\n",
       "      <td>False</td>\n",
       "      <td>[{'text': 'of', 'start': 0, 'end': 2, 'id': 0,...</td>\n",
       "      <td>ner_manual</td>\n",
       "      <td>accept</td>\n",
       "      <td>1636854619</td>\n",
       "      <td>[{'start': 7, 'end': 22, 'token_start': 2, 'to...</td>\n",
       "      <td>[22]</td>\n",
       "      <td>[22]</td>\n",
       "    </tr>\n",
       "    <tr>\n",
       "      <th>24</th>\n",
       "      <td>\"The objective of this limited edition data co...</td>\n",
       "      <td>[{'start': 398, 'end': 446, 'label': 'SPACECRA...</td>\n",
       "      <td>[{'start': 73, 'end': 82, 'label': 'SPACECRAFT'}]</td>\n",
       "      <td>-987838306</td>\n",
       "      <td>445270506</td>\n",
       "      <td>False</td>\n",
       "      <td>[{'text': '\"', 'start': 0, 'end': 1, 'id': 0, ...</td>\n",
       "      <td>ner_manual</td>\n",
       "      <td>accept</td>\n",
       "      <td>1636845828</td>\n",
       "      <td>[{'start': 398, 'end': 446, 'token_start': 73,...</td>\n",
       "      <td>[446]</td>\n",
       "      <td>[446]</td>\n",
       "    </tr>\n",
       "    <tr>\n",
       "      <th>35</th>\n",
       "      <td>\"Starting from August 6th in 2019, Sentinel-5P...</td>\n",
       "      <td>[{'start': 35, 'end': 46, 'label': 'SPACECRAFT'}]</td>\n",
       "      <td>[{'start': 8, 'end': 9, 'label': 'SPACECRAFT'}]</td>\n",
       "      <td>-65900392</td>\n",
       "      <td>-1051102256</td>\n",
       "      <td>False</td>\n",
       "      <td>[{'text': '\"', 'start': 0, 'end': 1, 'id': 0, ...</td>\n",
       "      <td>ner_manual</td>\n",
       "      <td>accept</td>\n",
       "      <td>1636926031</td>\n",
       "      <td>[{'token_start': 8, 'token_end': 8, 'start': 3...</td>\n",
       "      <td>[46]</td>\n",
       "      <td>[46]</td>\n",
       "    </tr>\n",
       "    <tr>\n",
       "      <th>42</th>\n",
       "      <td>\"The SPURS (Salinity Processes in the Upper Oc...</td>\n",
       "      <td>[{'start': 1723, 'end': 1726, 'label': 'SPACEC...</td>\n",
       "      <td>[{'start': 307, 'end': 308, 'label': 'SPACECRA...</td>\n",
       "      <td>-93082071</td>\n",
       "      <td>131256601</td>\n",
       "      <td>False</td>\n",
       "      <td>[{'text': '\"', 'start': 0, 'end': 1, 'id': 0, ...</td>\n",
       "      <td>ner_manual</td>\n",
       "      <td>accept</td>\n",
       "      <td>1636855522</td>\n",
       "      <td>[{'token_start': 307, 'token_end': 307, 'start...</td>\n",
       "      <td>[1726]</td>\n",
       "      <td>[1726]</td>\n",
       "    </tr>\n",
       "    <tr>\n",
       "      <th>44</th>\n",
       "      <td>\"This data set includes Voyager 1 Jupiter enco...</td>\n",
       "      <td>[{'start': 24, 'end': 33, 'label': 'SPACECRAFT...</td>\n",
       "      <td>[{'start': 5, 'end': 7, 'label': 'SPACECRAFT'}...</td>\n",
       "      <td>-278746687</td>\n",
       "      <td>-1686900237</td>\n",
       "      <td>False</td>\n",
       "      <td>[{'text': '\"', 'start': 0, 'end': 1, 'id': 0, ...</td>\n",
       "      <td>ner_manual</td>\n",
       "      <td>accept</td>\n",
       "      <td>1636926938</td>\n",
       "      <td>[{'start': 24, 'end': 33, 'text': 'Voyager 1',...</td>\n",
       "      <td>[33, 278]</td>\n",
       "      <td>[33, 278]</td>\n",
       "    </tr>\n",
       "    <tr>\n",
       "      <th>48</th>\n",
       "      <td>\"These data were obtained from the LANL plasma...</td>\n",
       "      <td>[{'start': 61, 'end': 64, 'label': 'SPACECRAFT...</td>\n",
       "      <td>[{'start': 11, 'end': 12, 'label': 'SPACECRAFT...</td>\n",
       "      <td>1534033733</td>\n",
       "      <td>884485382</td>\n",
       "      <td>False</td>\n",
       "      <td>[{'text': '\"', 'start': 0, 'end': 1, 'id': 0, ...</td>\n",
       "      <td>ner_manual</td>\n",
       "      <td>accept</td>\n",
       "      <td>1636924453</td>\n",
       "      <td>[{'start': 61, 'end': 64, 'token_start': 11, '...</td>\n",
       "      <td>[64, 221]</td>\n",
       "      <td>[64, 221]</td>\n",
       "    </tr>\n",
       "    <tr>\n",
       "      <th>55</th>\n",
       "      <td>\"The GRACE Atmosphere and Ocean De-aliasing da...</td>\n",
       "      <td>[{'start': 5, 'end': 10, 'label': 'SPACECRAFT'...</td>\n",
       "      <td>[{'start': 2, 'end': 3, 'label': 'SPACECRAFT'}...</td>\n",
       "      <td>-1530569443</td>\n",
       "      <td>-712261300</td>\n",
       "      <td>False</td>\n",
       "      <td>[{'text': '\"', 'start': 0, 'end': 1, 'id': 0, ...</td>\n",
       "      <td>ner_manual</td>\n",
       "      <td>accept</td>\n",
       "      <td>1636926275</td>\n",
       "      <td>[{'start': 5, 'end': 10, 'token_start': 2, 'to...</td>\n",
       "      <td>[10, 264]</td>\n",
       "      <td>[10, 264]</td>\n",
       "    </tr>\n",
       "    <tr>\n",
       "      <th>56</th>\n",
       "      <td>* IceBridge GPS L1B Time-Tagged Real-Time Posi...</td>\n",
       "      <td>[{'start': 12, 'end': 15, 'label': 'SPACECRAFT'}]</td>\n",
       "      <td>[{'start': 2, 'end': 3, 'label': 'SPACECRAFT'}]</td>\n",
       "      <td>-353669737</td>\n",
       "      <td>909666453</td>\n",
       "      <td>False</td>\n",
       "      <td>[{'text': '*', 'start': 0, 'end': 1, 'id': 0, ...</td>\n",
       "      <td>ner_manual</td>\n",
       "      <td>accept</td>\n",
       "      <td>1636927402</td>\n",
       "      <td>[{'start': 12, 'end': 15, 'token_start': 2, 't...</td>\n",
       "      <td>[15]</td>\n",
       "      <td>[15]</td>\n",
       "    </tr>\n",
       "    <tr>\n",
       "      <th>61</th>\n",
       "      <td>\"Aquarius Level 3 ancillary sea surface temper...</td>\n",
       "      <td>[{'start': 731, 'end': 736, 'label': 'SPACECRA...</td>\n",
       "      <td>[{'start': 133, 'end': 136, 'label': 'SPACECRA...</td>\n",
       "      <td>-375189582</td>\n",
       "      <td>-200053164</td>\n",
       "      <td>False</td>\n",
       "      <td>[{'text': '\"', 'start': 0, 'end': 1, 'id': 0, ...</td>\n",
       "      <td>ner_manual</td>\n",
       "      <td>accept</td>\n",
       "      <td>1636855022</td>\n",
       "      <td>[{'start': 731, 'end': 736, 'token_start': 133...</td>\n",
       "      <td>[736]</td>\n",
       "      <td>[736]</td>\n",
       "    </tr>\n",
       "    <tr>\n",
       "      <th>69</th>\n",
       "      <td>This data set is the collection of documentati...</td>\n",
       "      <td>[{'start': 65, 'end': 80, 'label': 'SPACECRAFT'}]</td>\n",
       "      <td>[{'start': 12, 'end': 14, 'label': 'SPACECRAFT'}]</td>\n",
       "      <td>-1019373111</td>\n",
       "      <td>-405477090</td>\n",
       "      <td>False</td>\n",
       "      <td>[{'text': 'This', 'start': 0, 'end': 4, 'id': ...</td>\n",
       "      <td>ner_manual</td>\n",
       "      <td>accept</td>\n",
       "      <td>1636951428</td>\n",
       "      <td>[{'start': 65, 'end': 80, 'token_start': 12, '...</td>\n",
       "      <td>[80]</td>\n",
       "      <td>[80]</td>\n",
       "    </tr>\n",
       "    <tr>\n",
       "      <th>70</th>\n",
       "      <td>* IceBridge UAF GPS/IMU L1B Corrected Position...</td>\n",
       "      <td>[{'start': 16, 'end': 19, 'label': 'SPACECRAFT'}]</td>\n",
       "      <td>[{'start': 3, 'end': 4, 'label': 'SPACECRAFT'}]</td>\n",
       "      <td>688823458</td>\n",
       "      <td>1028674050</td>\n",
       "      <td>False</td>\n",
       "      <td>[{'text': '*', 'start': 0, 'end': 1, 'id': 0, ...</td>\n",
       "      <td>ner_manual</td>\n",
       "      <td>accept</td>\n",
       "      <td>1636927398</td>\n",
       "      <td>[{'token_start': 3, 'token_end': 3, 'start': 1...</td>\n",
       "      <td>[19]</td>\n",
       "      <td>[19]</td>\n",
       "    </tr>\n",
       "    <tr>\n",
       "      <th>71</th>\n",
       "      <td>\"Near real-time (NRT) Suomi National Polar-orb...</td>\n",
       "      <td>[{'start': 22, 'end': 75, 'label': 'SPACECRAFT...</td>\n",
       "      <td>[{'start': 8, 'end': 18, 'label': 'SPACECRAFT'...</td>\n",
       "      <td>-643831212</td>\n",
       "      <td>283641897</td>\n",
       "      <td>False</td>\n",
       "      <td>[{'text': '\"', 'start': 0, 'end': 1, 'id': 0, ...</td>\n",
       "      <td>ner_manual</td>\n",
       "      <td>accept</td>\n",
       "      <td>1636926355</td>\n",
       "      <td>[{'start': 22, 'end': 75, 'text': 'Suomi Natio...</td>\n",
       "      <td>[75, 684]</td>\n",
       "      <td>[75, 684]</td>\n",
       "    </tr>\n",
       "    <tr>\n",
       "      <th>74</th>\n",
       "      <td>\"This dataset contains the RapidScat Level 2B ...</td>\n",
       "      <td>[{'start': 655, 'end': 663, 'label': 'SPACECRA...</td>\n",
       "      <td>[{'start': 122, 'end': 123, 'label': 'SPACECRA...</td>\n",
       "      <td>-604156020</td>\n",
       "      <td>1126502223</td>\n",
       "      <td>False</td>\n",
       "      <td>[{'text': '\"', 'start': 0, 'end': 1, 'id': 0, ...</td>\n",
       "      <td>ner_manual</td>\n",
       "      <td>accept</td>\n",
       "      <td>1636924851</td>\n",
       "      <td>[{'start': 655, 'end': 663, 'token_start': 122...</td>\n",
       "      <td>[663, 768, 784, 899, 1762]</td>\n",
       "      <td>[663, 768, 784, 899, 1762]</td>\n",
       "    </tr>\n",
       "    <tr>\n",
       "      <th>75</th>\n",
       "      <td>\"A Group for High Resolution Sea Surface Tempe...</td>\n",
       "      <td>[{'start': 526, 'end': 543, 'label': 'SPACECRA...</td>\n",
       "      <td>[{'start': 98, 'end': 102, 'label': 'SPACECRAF...</td>\n",
       "      <td>866939167</td>\n",
       "      <td>-485805339</td>\n",
       "      <td>False</td>\n",
       "      <td>[{'text': '\"', 'start': 0, 'end': 1, 'id': 0, ...</td>\n",
       "      <td>ner_manual</td>\n",
       "      <td>accept</td>\n",
       "      <td>1636926692</td>\n",
       "      <td>[{'start': 526, 'end': 543, 'text': 'GCOM-W1 s...</td>\n",
       "      <td>[543, 701, 711, 811]</td>\n",
       "      <td>[543, 701, 711, 811]</td>\n",
       "    </tr>\n",
       "    <tr>\n",
       "      <th>78</th>\n",
       "      <td>\"Measurements made by the NOAA research vessel...</td>\n",
       "      <td>[{'start': 26, 'end': 30, 'label': 'SPACECRAFT'}]</td>\n",
       "      <td>[{'start': 5, 'end': 6, 'label': 'SPACECRAFT'}]</td>\n",
       "      <td>951852120</td>\n",
       "      <td>-1925380803</td>\n",
       "      <td>False</td>\n",
       "      <td>[{'text': '\"', 'start': 0, 'end': 1, 'id': 0, ...</td>\n",
       "      <td>ner_manual</td>\n",
       "      <td>accept</td>\n",
       "      <td>1636924471</td>\n",
       "      <td>[{'start': 26, 'end': 30, 'token_start': 5, 't...</td>\n",
       "      <td>[30]</td>\n",
       "      <td>[30]</td>\n",
       "    </tr>\n",
       "    <tr>\n",
       "      <th>79</th>\n",
       "      <td>\"The Sentinel-5 Precursor (Sentinel-5P or S5P)...</td>\n",
       "      <td>[{'start': 5, 'end': 46, 'label': 'SPACECRAFT'...</td>\n",
       "      <td>[{'start': 2, 'end': 9, 'label': 'SPACECRAFT'}...</td>\n",
       "      <td>1932170561</td>\n",
       "      <td>-1214979488</td>\n",
       "      <td>False</td>\n",
       "      <td>[{'text': '\"', 'start': 0, 'end': 1, 'id': 0, ...</td>\n",
       "      <td>ner_manual</td>\n",
       "      <td>accept</td>\n",
       "      <td>1636845760</td>\n",
       "      <td>[{'start': 5, 'end': 46, 'token_start': 2, 'to...</td>\n",
       "      <td>[46, 253, 572, 626]</td>\n",
       "      <td>[46, 253, 572, 626]</td>\n",
       "    </tr>\n",
       "    <tr>\n",
       "      <th>91</th>\n",
       "      <td>\"CATS-ISS_L2O_N-M7.1-V2-01_05kmLay is the Clou...</td>\n",
       "      <td>[{'start': 1, 'end': 34, 'label': 'SPACECRAFT'...</td>\n",
       "      <td>[{'start': 1, 'end': 10, 'label': 'SPACECRAFT'...</td>\n",
       "      <td>-956163871</td>\n",
       "      <td>2101483151</td>\n",
       "      <td>False</td>\n",
       "      <td>[{'text': '\"', 'start': 0, 'end': 1, 'id': 0, ...</td>\n",
       "      <td>ner_manual</td>\n",
       "      <td>accept</td>\n",
       "      <td>1636846075</td>\n",
       "      <td>[{'start': 1, 'end': 34, 'token_start': 1, 'to...</td>\n",
       "      <td>[34, 79, 113, 255, 432, 438, 499, 867]</td>\n",
       "      <td>[34, 79, 113, 255, 432, 438, 499, 867]</td>\n",
       "    </tr>\n",
       "    <tr>\n",
       "      <th>93</th>\n",
       "      <td>\"The Orbiting Carbon Observatory -3 (OCO-3) wa...</td>\n",
       "      <td>[{'start': 64, 'end': 91, 'label': 'SPACECRAFT'}]</td>\n",
       "      <td>[{'start': 13, 'end': 16, 'label': 'SPACECRAFT'}]</td>\n",
       "      <td>1528853616</td>\n",
       "      <td>-362193015</td>\n",
       "      <td>False</td>\n",
       "      <td>[{'text': '\"', 'start': 0, 'end': 1, 'id': 0, ...</td>\n",
       "      <td>ner_manual</td>\n",
       "      <td>accept</td>\n",
       "      <td>1636927162</td>\n",
       "      <td>[{'start': 64, 'end': 91, 'token_start': 13, '...</td>\n",
       "      <td>[91]</td>\n",
       "      <td>[91]</td>\n",
       "    </tr>\n",
       "    <tr>\n",
       "      <th>102</th>\n",
       "      <td>All original parameters are preserved in the s...</td>\n",
       "      <td>[{'start': 78, 'end': 86, 'label': 'SPACECRAFT...</td>\n",
       "      <td>[{'start': 14, 'end': 15, 'label': 'SPACECRAFT...</td>\n",
       "      <td>1776199824</td>\n",
       "      <td>-1241544142</td>\n",
       "      <td>False</td>\n",
       "      <td>[{'text': 'All', 'start': 0, 'end': 3, 'id': 0...</td>\n",
       "      <td>ner_manual</td>\n",
       "      <td>accept</td>\n",
       "      <td>1636845677</td>\n",
       "      <td>[{'start': 78, 'end': 86, 'token_start': 14, '...</td>\n",
       "      <td>[86, 139]</td>\n",
       "      <td>[86, 139]</td>\n",
       "    </tr>\n",
       "    <tr>\n",
       "      <th>114</th>\n",
       "      <td>\"Mariner 10 Magnetometer (MAG) averaged M1 SUM...</td>\n",
       "      <td>[{'start': 1, 'end': 11, 'label': 'SPACECRAFT'}]</td>\n",
       "      <td>[{'start': 1, 'end': 3, 'label': 'SPACECRAFT'}]</td>\n",
       "      <td>1537611539</td>\n",
       "      <td>-1828319193</td>\n",
       "      <td>False</td>\n",
       "      <td>[{'text': '\"', 'start': 0, 'end': 1, 'id': 0, ...</td>\n",
       "      <td>ner_manual</td>\n",
       "      <td>accept</td>\n",
       "      <td>1636846398</td>\n",
       "      <td>[{'start': 1, 'end': 11, 'token_start': 1, 'to...</td>\n",
       "      <td>[11]</td>\n",
       "      <td>[11]</td>\n",
       "    </tr>\n",
       "    <tr>\n",
       "      <th>119</th>\n",
       "      <td>\"This data set is the collection of documentat...</td>\n",
       "      <td>[{'start': 96, 'end': 107, 'label': 'SPACECRAF...</td>\n",
       "      <td>[{'start': 18, 'end': 20, 'label': 'SPACECRAFT...</td>\n",
       "      <td>888901598</td>\n",
       "      <td>2036512782</td>\n",
       "      <td>False</td>\n",
       "      <td>[{'text': '\"', 'start': 0, 'end': 1, 'id': 0, ...</td>\n",
       "      <td>ner_manual</td>\n",
       "      <td>accept</td>\n",
       "      <td>1636854025</td>\n",
       "      <td>[{'start': 96, 'end': 107, 'token_start': 18, ...</td>\n",
       "      <td>[107, 117]</td>\n",
       "      <td>[107, 117]</td>\n",
       "    </tr>\n",
       "    <tr>\n",
       "      <th>122</th>\n",
       "      <td>\"&amp;lt;p&amp;gt;Precisely identifying the species of...</td>\n",
       "      <td>[{'start': 79, 'end': 88, 'label': 'SPACECRAFT'}]</td>\n",
       "      <td>[{'start': 14, 'end': 15, 'label': 'SPACECRAFT'}]</td>\n",
       "      <td>-1432001480</td>\n",
       "      <td>-1586683741</td>\n",
       "      <td>False</td>\n",
       "      <td>[{'text': '\"', 'start': 0, 'end': 1, 'id': 0, ...</td>\n",
       "      <td>ner_manual</td>\n",
       "      <td>accept</td>\n",
       "      <td>1636924723</td>\n",
       "      <td>[{'start': 79, 'end': 88, 'token_start': 14, '...</td>\n",
       "      <td>[88]</td>\n",
       "      <td>[88]</td>\n",
       "    </tr>\n",
       "    <tr>\n",
       "      <th>128</th>\n",
       "      <td>\"In this STTR effort, Los Gatos Research (LGR)...</td>\n",
       "      <td>[{'start': 518, 'end': 551, 'label': 'SPACECRA...</td>\n",
       "      <td>[{'start': 110, 'end': 116, 'label': 'SPACECRA...</td>\n",
       "      <td>903512837</td>\n",
       "      <td>719991137</td>\n",
       "      <td>False</td>\n",
       "      <td>[{'text': '\"', 'start': 0, 'end': 1, 'id': 0, ...</td>\n",
       "      <td>ner_manual</td>\n",
       "      <td>accept</td>\n",
       "      <td>1636845556</td>\n",
       "      <td>[{'start': 518, 'end': 551, 'token_start': 110...</td>\n",
       "      <td>[551]</td>\n",
       "      <td>[551]</td>\n",
       "    </tr>\n",
       "    <tr>\n",
       "      <th>132</th>\n",
       "      <td>\"The daily Suomi National Polar-Orbiting Partn...</td>\n",
       "      <td>[{'start': 11, 'end': 60, 'label': 'SPACECRAFT...</td>\n",
       "      <td>[{'start': 3, 'end': 14, 'label': 'SPACECRAFT'...</td>\n",
       "      <td>-93944860</td>\n",
       "      <td>-1160959067</td>\n",
       "      <td>False</td>\n",
       "      <td>[{'text': '\"', 'start': 0, 'end': 1, 'id': 0, ...</td>\n",
       "      <td>ner_manual</td>\n",
       "      <td>accept</td>\n",
       "      <td>1636855662</td>\n",
       "      <td>[{'start': 11, 'end': 60, 'text': 'Suomi Natio...</td>\n",
       "      <td>[60, 1296, 1305, 1398]</td>\n",
       "      <td>[60, 1296, 1305, 1398]</td>\n",
       "    </tr>\n",
       "    <tr>\n",
       "      <th>133</th>\n",
       "      <td>\"The AIRMISR_LUNAR_LAKE_2001 data were acquire...</td>\n",
       "      <td>[{'start': 329, 'end': 338, 'label': 'SPACECRA...</td>\n",
       "      <td>[{'start': 60, 'end': 61, 'label': 'SPACECRAFT...</td>\n",
       "      <td>-1018450673</td>\n",
       "      <td>-405350268</td>\n",
       "      <td>False</td>\n",
       "      <td>[{'text': '\"', 'start': 0, 'end': 1, 'id': 0, ...</td>\n",
       "      <td>ner_manual</td>\n",
       "      <td>accept</td>\n",
       "      <td>1636927471</td>\n",
       "      <td>[{'start': 329, 'end': 338, 'token_start': 60,...</td>\n",
       "      <td>[338, 627]</td>\n",
       "      <td>[338, 627]</td>\n",
       "    </tr>\n",
       "    <tr>\n",
       "      <th>146</th>\n",
       "      <td>\"This data set includes the complete set of SP...</td>\n",
       "      <td>[{'start': 63, 'end': 67, 'label': 'SPACECRAFT'}]</td>\n",
       "      <td>[{'start': 13, 'end': 14, 'label': 'SPACECRAFT'}]</td>\n",
       "      <td>-1776689942</td>\n",
       "      <td>2079656149</td>\n",
       "      <td>False</td>\n",
       "      <td>[{'text': '\"', 'start': 0, 'end': 1, 'id': 0, ...</td>\n",
       "      <td>ner_manual</td>\n",
       "      <td>accept</td>\n",
       "      <td>1636854952</td>\n",
       "      <td>[{'start': 63, 'end': 67, 'token_start': 13, '...</td>\n",
       "      <td>[67]</td>\n",
       "      <td>[67]</td>\n",
       "    </tr>\n",
       "    <tr>\n",
       "      <th>152</th>\n",
       "      <td>that it passes from north to south across the ...</td>\n",
       "      <td>[{'start': 76, 'end': 80, 'label': 'SPACECRAFT'}]</td>\n",
       "      <td>[{'start': 15, 'end': 16, 'label': 'SPACECRAFT'}]</td>\n",
       "      <td>1616909537</td>\n",
       "      <td>585980515</td>\n",
       "      <td>False</td>\n",
       "      <td>[{'text': 'that', 'start': 0, 'end': 4, 'id': ...</td>\n",
       "      <td>ner_manual</td>\n",
       "      <td>accept</td>\n",
       "      <td>1636926771</td>\n",
       "      <td>[{'start': 76, 'end': 80, 'token_start': 15, '...</td>\n",
       "      <td>[80]</td>\n",
       "      <td>[80]</td>\n",
       "    </tr>\n",
       "    <tr>\n",
       "      <th>157</th>\n",
       "      <td>\"This data represents the best estimated real-...</td>\n",
       "      <td>[{'start': 104, 'end': 136, 'label': 'SPACECRA...</td>\n",
       "      <td>[{'start': 17, 'end': 22, 'label': 'SPACECRAFT'}]</td>\n",
       "      <td>1041690325</td>\n",
       "      <td>-1494776844</td>\n",
       "      <td>False</td>\n",
       "      <td>[{'text': '\"', 'start': 0, 'end': 1, 'id': 0, ...</td>\n",
       "      <td>ner_manual</td>\n",
       "      <td>accept</td>\n",
       "      <td>1636846538</td>\n",
       "      <td>[{'start': 104, 'end': 136, 'token_start': 17,...</td>\n",
       "      <td>[136]</td>\n",
       "      <td>[136]</td>\n",
       "    </tr>\n",
       "    <tr>\n",
       "      <th>158</th>\n",
       "      <td>\"The TROPESS CrIS-SNPP L2 Ammonia for West Coa...</td>\n",
       "      <td>[{'start': 249, 'end': 268, 'label': 'SPACECRA...</td>\n",
       "      <td>[{'start': 43, 'end': 47, 'label': 'SPACECRAFT'}]</td>\n",
       "      <td>-939815973</td>\n",
       "      <td>1603264039</td>\n",
       "      <td>False</td>\n",
       "      <td>[{'text': '\"', 'start': 0, 'end': 1, 'id': 0, ...</td>\n",
       "      <td>ner_manual</td>\n",
       "      <td>accept</td>\n",
       "      <td>1636854833</td>\n",
       "      <td>[{'start': 249, 'end': 268, 'token_start': 43,...</td>\n",
       "      <td>[268]</td>\n",
       "      <td>[268]</td>\n",
       "    </tr>\n",
       "    <tr>\n",
       "      <th>160</th>\n",
       "      <td>\"This data set includes Voyager 2 Jupiter enco...</td>\n",
       "      <td>[{'start': 24, 'end': 33, 'label': 'SPACECRAFT'}]</td>\n",
       "      <td>[{'start': 5, 'end': 7, 'label': 'SPACECRAFT'}]</td>\n",
       "      <td>2123987910</td>\n",
       "      <td>-408849405</td>\n",
       "      <td>False</td>\n",
       "      <td>[{'text': '\"', 'start': 0, 'end': 1, 'id': 0, ...</td>\n",
       "      <td>ner_manual</td>\n",
       "      <td>accept</td>\n",
       "      <td>1636845629</td>\n",
       "      <td>[{'start': 24, 'end': 33, 'token_start': 5, 't...</td>\n",
       "      <td>[33]</td>\n",
       "      <td>[33]</td>\n",
       "    </tr>\n",
       "    <tr>\n",
       "      <th>163</th>\n",
       "      <td>MISR itself is an instrument designed to view ...</td>\n",
       "      <td>[{'start': 0, 'end': 4, 'label': 'SPACECRAFT'}...</td>\n",
       "      <td>[{'start': 0, 'end': 1, 'label': 'SPACECRAFT'}...</td>\n",
       "      <td>-757829424</td>\n",
       "      <td>-475589423</td>\n",
       "      <td>False</td>\n",
       "      <td>[{'text': 'MISR', 'start': 0, 'end': 4, 'id': ...</td>\n",
       "      <td>ner_manual</td>\n",
       "      <td>accept</td>\n",
       "      <td>1636846598</td>\n",
       "      <td>[{'start': 0, 'end': 4, 'token_start': 0, 'tok...</td>\n",
       "      <td>[4, 291, 453]</td>\n",
       "      <td>[4, 291, 453]</td>\n",
       "    </tr>\n",
       "    <tr>\n",
       "      <th>167</th>\n",
       "      <td>\"The OMPS-NPP L1B NM Radiance EV Calibrated Ge...</td>\n",
       "      <td>[{'start': 192, 'end': 212, 'label': 'SPACECRA...</td>\n",
       "      <td>[{'start': 34, 'end': 39, 'label': 'SPACECRAFT'}]</td>\n",
       "      <td>1910433122</td>\n",
       "      <td>989224504</td>\n",
       "      <td>False</td>\n",
       "      <td>[{'text': '\"', 'start': 0, 'end': 1, 'id': 0, ...</td>\n",
       "      <td>ner_manual</td>\n",
       "      <td>accept</td>\n",
       "      <td>1636854698</td>\n",
       "      <td>[{'start': 192, 'end': 212, 'text': 'Suomi-NPP...</td>\n",
       "      <td>[212]</td>\n",
       "      <td>[212]</td>\n",
       "    </tr>\n",
       "    <tr>\n",
       "      <th>169</th>\n",
       "      <td>\"CATS-ISS_L2O_N-M7.1-V2-01_05kmPro is the Clou...</td>\n",
       "      <td>[{'start': 1, 'end': 34, 'label': 'SPACECRAFT'...</td>\n",
       "      <td>[{'start': 1, 'end': 10, 'label': 'SPACECRAFT'...</td>\n",
       "      <td>-1664606033</td>\n",
       "      <td>-940975700</td>\n",
       "      <td>False</td>\n",
       "      <td>[{'text': '\"', 'start': 0, 'end': 1, 'id': 0, ...</td>\n",
       "      <td>ner_manual</td>\n",
       "      <td>accept</td>\n",
       "      <td>1636845956</td>\n",
       "      <td>[{'start': 1, 'end': 34, 'token_start': 1, 'to...</td>\n",
       "      <td>[34, 79, 113, 256, 433, 439, 500, 868]</td>\n",
       "      <td>[34, 79, 113, 256, 433, 439, 500, 868]</td>\n",
       "    </tr>\n",
       "    <tr>\n",
       "      <th>174</th>\n",
       "      <td>\"The Cross-track Infrared Sounder (CrIS) Level...</td>\n",
       "      <td>[{'start': 145, 'end': 155, 'label': 'SPACECRA...</td>\n",
       "      <td>[{'start': 26, 'end': 27, 'label': 'SPACECRAFT...</td>\n",
       "      <td>1935708702</td>\n",
       "      <td>1394525042</td>\n",
       "      <td>False</td>\n",
       "      <td>[{'text': '\"', 'start': 0, 'end': 1, 'id': 0, ...</td>\n",
       "      <td>ner_manual</td>\n",
       "      <td>accept</td>\n",
       "      <td>1636928518</td>\n",
       "      <td>[{'start': 145, 'end': 155, 'token_start': 26,...</td>\n",
       "      <td>[155, 337]</td>\n",
       "      <td>[155, 337]</td>\n",
       "    </tr>\n",
       "    <tr>\n",
       "      <th>178</th>\n",
       "      <td>\"These data are near-real-time (NRT) (within 7...</td>\n",
       "      <td>[{'start': 558, 'end': 584, 'label': 'SPACECRA...</td>\n",
       "      <td>[{'start': 107, 'end': 115, 'label': 'SPACECRA...</td>\n",
       "      <td>261879464</td>\n",
       "      <td>654268352</td>\n",
       "      <td>False</td>\n",
       "      <td>[{'text': '\"', 'start': 0, 'end': 1, 'id': 0, ...</td>\n",
       "      <td>ner_manual</td>\n",
       "      <td>accept</td>\n",
       "      <td>1636846685</td>\n",
       "      <td>[{'start': 558, 'end': 584, 'token_start': 107...</td>\n",
       "      <td>[584, 611, 691, 784, 836, 1010]</td>\n",
       "      <td>[584, 611, 691, 784, 836, 1010]</td>\n",
       "    </tr>\n",
       "    <tr>\n",
       "      <th>182</th>\n",
       "      <td>\"The environmental samples were collected with...</td>\n",
       "      <td>[{'start': 105, 'end': 137, 'label': 'SPACECRA...</td>\n",
       "      <td>[{'start': 16, 'end': 21, 'label': 'SPACECRAFT...</td>\n",
       "      <td>-312594579</td>\n",
       "      <td>1123390135</td>\n",
       "      <td>False</td>\n",
       "      <td>[{'text': '\"', 'start': 0, 'end': 1, 'id': 0, ...</td>\n",
       "      <td>ner_manual</td>\n",
       "      <td>accept</td>\n",
       "      <td>1636927572</td>\n",
       "      <td>[{'start': 105, 'end': 137, 'text': 'Internati...</td>\n",
       "      <td>[137, 215, 516, 554, 736, 899, 1026, 1044, 208...</td>\n",
       "      <td>[137, 215, 516, 554, 736, 899, 1026, 1044, 208...</td>\n",
       "    </tr>\n",
       "    <tr>\n",
       "      <th>186</th>\n",
       "      <td>\"Sample return missions have primary importanc...</td>\n",
       "      <td>[{'start': 328, 'end': 367, 'label': 'SPACECRA...</td>\n",
       "      <td>[{'start': 49, 'end': 56, 'label': 'SPACECRAFT...</td>\n",
       "      <td>-1857021475</td>\n",
       "      <td>2059497973</td>\n",
       "      <td>False</td>\n",
       "      <td>[{'text': '\"', 'start': 0, 'end': 1, 'id': 0, ...</td>\n",
       "      <td>ner_manual</td>\n",
       "      <td>accept</td>\n",
       "      <td>1636845150</td>\n",
       "      <td>[{'start': 328, 'end': 367, 'token_start': 49,...</td>\n",
       "      <td>[367, 470, 610, 795, 882]</td>\n",
       "      <td>[367, 470, 610, 795, 882]</td>\n",
       "    </tr>\n",
       "    <tr>\n",
       "      <th>187</th>\n",
       "      <td>\"MIL3YCOD_1 is the Multi-angle Imaging Spectro...</td>\n",
       "      <td>[{'start': 19, 'end': 63, 'label': 'SPACECRAFT...</td>\n",
       "      <td>[{'start': 4, 'end': 12, 'label': 'SPACECRAFT'...</td>\n",
       "      <td>-468569217</td>\n",
       "      <td>2058940721</td>\n",
       "      <td>False</td>\n",
       "      <td>[{'text': '\"', 'start': 0, 'end': 1, 'id': 0, ...</td>\n",
       "      <td>ner_manual</td>\n",
       "      <td>accept</td>\n",
       "      <td>1636855218</td>\n",
       "      <td>[{'start': 19, 'end': 63, 'token_start': 4, 't...</td>\n",
       "      <td>[63, 142, 429, 600]</td>\n",
       "      <td>[63, 142, 429, 600]</td>\n",
       "    </tr>\n",
       "    <tr>\n",
       "      <th>191</th>\n",
       "      <td>\"This data set contains archival raw, partiall...</td>\n",
       "      <td>[{'start': 171, 'end': 197, 'label': 'SPACECRA...</td>\n",
       "      <td>[{'start': 31, 'end': 37, 'label': 'SPACECRAFT...</td>\n",
       "      <td>-1692582421</td>\n",
       "      <td>-2009420427</td>\n",
       "      <td>False</td>\n",
       "      <td>[{'text': '\"', 'start': 0, 'end': 1, 'id': 0, ...</td>\n",
       "      <td>ner_manual</td>\n",
       "      <td>accept</td>\n",
       "      <td>1636927652</td>\n",
       "      <td>[{'start': 171, 'end': 197, 'token_start': 31,...</td>\n",
       "      <td>[197, 279, 417, 462]</td>\n",
       "      <td>[197, 279, 417, 462]</td>\n",
       "    </tr>\n",
       "    <tr>\n",
       "      <th>193</th>\n",
       "      <td>\"This dataset is comprised of cloud micro-phys...</td>\n",
       "      <td>[{'start': 96, 'end': 127, 'label': 'SPACECRAF...</td>\n",
       "      <td>[{'start': 16, 'end': 19, 'label': 'SPACECRAFT...</td>\n",
       "      <td>-977563807</td>\n",
       "      <td>-2078410012</td>\n",
       "      <td>False</td>\n",
       "      <td>[{'text': '\"', 'start': 0, 'end': 1, 'id': 0, ...</td>\n",
       "      <td>ner_manual</td>\n",
       "      <td>accept</td>\n",
       "      <td>1636928642</td>\n",
       "      <td>[{'start': 96, 'end': 127, 'token_start': 16, ...</td>\n",
       "      <td>[127, 354]</td>\n",
       "      <td>[127, 354]</td>\n",
       "    </tr>\n",
       "    <tr>\n",
       "      <th>199</th>\n",
       "      <td>\"&lt;p&gt;The Deep Space Habitat was closed out at t...</td>\n",
       "      <td>[{'start': 8, 'end': 26, 'label': 'SPACECRAFT'...</td>\n",
       "      <td>[{'start': 5, 'end': 8, 'label': 'SPACECRAFT'}...</td>\n",
       "      <td>879727108</td>\n",
       "      <td>900414501</td>\n",
       "      <td>False</td>\n",
       "      <td>[{'text': '\"', 'start': 0, 'end': 1, 'id': 0, ...</td>\n",
       "      <td>ner_manual</td>\n",
       "      <td>accept</td>\n",
       "      <td>1636927103</td>\n",
       "      <td>[{'start': 8, 'end': 26, 'token_start': 5, 'to...</td>\n",
       "      <td>[26, 195, 227, 284, 334, 400, 476, 527, 810, 1...</td>\n",
       "      <td>[26, 195, 227, 284, 334, 400, 476, 527, 810, 1...</td>\n",
       "    </tr>\n",
       "    <tr>\n",
       "      <th>202</th>\n",
       "      <td>\"NASA will fly x-ray microcalorimeters on seve...</td>\n",
       "      <td>[{'start': 1237, 'end': 1253, 'label': 'SPACEC...</td>\n",
       "      <td>[{'start': 208, 'end': 213, 'label': 'SPACECRA...</td>\n",
       "      <td>1553040416</td>\n",
       "      <td>-1706929582</td>\n",
       "      <td>False</td>\n",
       "      <td>[{'text': '\"', 'start': 0, 'end': 1, 'id': 0, ...</td>\n",
       "      <td>ner_manual</td>\n",
       "      <td>accept</td>\n",
       "      <td>1636855345</td>\n",
       "      <td>[{'start': 1237, 'end': 1253, 'token_start': 2...</td>\n",
       "      <td>[1253, 1262, 1307]</td>\n",
       "      <td>[1253, 1262, 1307]</td>\n",
       "    </tr>\n",
       "    <tr>\n",
       "      <th>205</th>\n",
       "      <td>\"An extensive validation experiment was conduc...</td>\n",
       "      <td>[{'start': 134, 'end': 184, 'label': 'SPACECRA...</td>\n",
       "      <td>[{'start': 22, 'end': 30, 'label': 'SPACECRAFT...</td>\n",
       "      <td>1781172671</td>\n",
       "      <td>-87017723</td>\n",
       "      <td>False</td>\n",
       "      <td>[{'text': '\"', 'start': 0, 'end': 1, 'id': 0, ...</td>\n",
       "      <td>ner_manual</td>\n",
       "      <td>accept</td>\n",
       "      <td>1636846395</td>\n",
       "      <td>[{'start': 134, 'end': 184, 'token_start': 22,...</td>\n",
       "      <td>[184, 328, 426, 664, 896, 1204]</td>\n",
       "      <td>[184, 328, 426, 664, 896, 1204]</td>\n",
       "    </tr>\n",
       "    <tr>\n",
       "      <th>206</th>\n",
       "      <td>\"The recent Ice Giants Pre-Decadal Survey Miss...</td>\n",
       "      <td>[{'start': 156, 'end': 163, 'label': 'SPACECRA...</td>\n",
       "      <td>[{'start': 29, 'end': 30, 'label': 'SPACECRAFT...</td>\n",
       "      <td>-1441791514</td>\n",
       "      <td>-538966303</td>\n",
       "      <td>False</td>\n",
       "      <td>[{'text': '\"', 'start': 0, 'end': 1, 'id': 0, ...</td>\n",
       "      <td>ner_manual</td>\n",
       "      <td>accept</td>\n",
       "      <td>1636927266</td>\n",
       "      <td>[{'start': 156, 'end': 163, 'token_start': 29,...</td>\n",
       "      <td>[163, 175]</td>\n",
       "      <td>[163, 175]</td>\n",
       "    </tr>\n",
       "    <tr>\n",
       "      <th>212</th>\n",
       "      <td>\"Star formation is governed by gravity and hea...</td>\n",
       "      <td>[{'start': 1266, 'end': 1293, 'label': 'SPACEC...</td>\n",
       "      <td>[{'start': 229, 'end': 233, 'label': 'SPACECRA...</td>\n",
       "      <td>1902349356</td>\n",
       "      <td>185535965</td>\n",
       "      <td>False</td>\n",
       "      <td>[{'text': '\"', 'start': 0, 'end': 1, 'id': 0, ...</td>\n",
       "      <td>ner_manual</td>\n",
       "      <td>accept</td>\n",
       "      <td>1636854538</td>\n",
       "      <td>[{'token_start': 229, 'token_end': 232, 'start...</td>\n",
       "      <td>[1293]</td>\n",
       "      <td>[1293]</td>\n",
       "    </tr>\n",
       "    <tr>\n",
       "      <th>218</th>\n",
       "      <td>ROSETTA Orbiter that will provide 3D images an...</td>\n",
       "      <td>[{'start': 0, 'end': 15, 'label': 'SPACECRAFT'}]</td>\n",
       "      <td>[{'start': 0, 'end': 2, 'label': 'SPACECRAFT'}]</td>\n",
       "      <td>1858198020</td>\n",
       "      <td>19715391</td>\n",
       "      <td>False</td>\n",
       "      <td>[{'text': 'ROSETTA', 'start': 0, 'end': 7, 'id...</td>\n",
       "      <td>ner_manual</td>\n",
       "      <td>accept</td>\n",
       "      <td>1636854323</td>\n",
       "      <td>[{'start': 0, 'end': 15, 'token_start': 0, 'to...</td>\n",
       "      <td>[15]</td>\n",
       "      <td>[15]</td>\n",
       "    </tr>\n",
       "    <tr>\n",
       "      <th>221</th>\n",
       "      <td>\"NASA's International Halley Watch (IHW) has c...</td>\n",
       "      <td>[{'start': 478, 'end': 488, 'label': 'SPACECRA...</td>\n",
       "      <td>[{'start': 85, 'end': 86, 'label': 'SPACECRAFT'}]</td>\n",
       "      <td>-1430357985</td>\n",
       "      <td>1903105233</td>\n",
       "      <td>False</td>\n",
       "      <td>[{'text': '\"', 'start': 0, 'end': 1, 'id': 0, ...</td>\n",
       "      <td>ner_manual</td>\n",
       "      <td>accept</td>\n",
       "      <td>1636855051</td>\n",
       "      <td>[{'start': 478, 'end': 488, 'token_start': 85,...</td>\n",
       "      <td>[488]</td>\n",
       "      <td>[488]</td>\n",
       "    </tr>\n",
       "    <tr>\n",
       "      <th>222</th>\n",
       "      <td>Terra (EOS AM) and Aqua (EOS PM) satellites. T...</td>\n",
       "      <td>[{'start': 0, 'end': 14, 'label': 'SPACECRAFT'...</td>\n",
       "      <td>[{'start': 0, 'end': 5, 'label': 'SPACECRAFT'}...</td>\n",
       "      <td>-1851551092</td>\n",
       "      <td>159530356</td>\n",
       "      <td>False</td>\n",
       "      <td>[{'text': 'Terra', 'start': 0, 'end': 5, 'id':...</td>\n",
       "      <td>ner_manual</td>\n",
       "      <td>accept</td>\n",
       "      <td>1636926765</td>\n",
       "      <td>[{'start': 0, 'end': 14, 'token_start': 0, 'to...</td>\n",
       "      <td>[14, 32, 43, 52]</td>\n",
       "      <td>[14, 32, 43, 52]</td>\n",
       "    </tr>\n",
       "    <tr>\n",
       "      <th>226</th>\n",
       "      <td>\"This data set contains Calibrated data taken ...</td>\n",
       "      <td>[{'start': 53, 'end': 65, 'label': 'SPACECRAFT'}]</td>\n",
       "      <td>[{'start': 10, 'end': 12, 'label': 'SPACECRAFT'}]</td>\n",
       "      <td>1483747953</td>\n",
       "      <td>2061377916</td>\n",
       "      <td>False</td>\n",
       "      <td>[{'text': '\"', 'start': 0, 'end': 1, 'id': 0, ...</td>\n",
       "      <td>ner_manual</td>\n",
       "      <td>accept</td>\n",
       "      <td>1636845523</td>\n",
       "      <td>[{'start': 53, 'end': 65, 'token_start': 10, '...</td>\n",
       "      <td>[65]</td>\n",
       "      <td>[65]</td>\n",
       "    </tr>\n",
       "    <tr>\n",
       "      <th>228</th>\n",
       "      <td>\"TMI/TRMM surface soil moisture (LPRM) L3 1 da...</td>\n",
       "      <td>[{'start': 636, 'end': 650, 'label': 'SPACECRA...</td>\n",
       "      <td>[{'start': 128, 'end': 130, 'label': 'SPACECRA...</td>\n",
       "      <td>-555808992</td>\n",
       "      <td>-1458948929</td>\n",
       "      <td>False</td>\n",
       "      <td>[{'text': '\"', 'start': 0, 'end': 1, 'id': 0, ...</td>\n",
       "      <td>ner_manual</td>\n",
       "      <td>accept</td>\n",
       "      <td>1636926522</td>\n",
       "      <td>[{'start': 636, 'end': 650, 'token_start': 128...</td>\n",
       "      <td>[650]</td>\n",
       "      <td>[650]</td>\n",
       "    </tr>\n",
       "  </tbody>\n",
       "</table>\n",
       "</div>"
      ],
      "text/plain": [
       "                                                  text  \\\n",
       "2    The Copernicus Sentinel-5 Precursor (Sentinel-...   \n",
       "4    Copernicus Sentinel-5P TROPOMI aerosol layer h...   \n",
       "5    \"The shape model of Tethys derived by Robert G...   \n",
       "9    \"This data set contains field observations, co...   \n",
       "13   \"This dataset is derived under the Cross-Calib...   \n",
       "17   south to north over the equator in the afterno...   \n",
       "19   \"Next generation Earth Science Satellites ORCA...   \n",
       "22   of the ROSETTA orbiter magnetometer RPCMAG. Da...   \n",
       "24   \"The objective of this limited edition data co...   \n",
       "35   \"Starting from August 6th in 2019, Sentinel-5P...   \n",
       "42   \"The SPURS (Salinity Processes in the Upper Oc...   \n",
       "44   \"This data set includes Voyager 1 Jupiter enco...   \n",
       "48   \"These data were obtained from the LANL plasma...   \n",
       "55   \"The GRACE Atmosphere and Ocean De-aliasing da...   \n",
       "56   * IceBridge GPS L1B Time-Tagged Real-Time Posi...   \n",
       "61   \"Aquarius Level 3 ancillary sea surface temper...   \n",
       "69   This data set is the collection of documentati...   \n",
       "70   * IceBridge UAF GPS/IMU L1B Corrected Position...   \n",
       "71   \"Near real-time (NRT) Suomi National Polar-orb...   \n",
       "74   \"This dataset contains the RapidScat Level 2B ...   \n",
       "75   \"A Group for High Resolution Sea Surface Tempe...   \n",
       "78   \"Measurements made by the NOAA research vessel...   \n",
       "79   \"The Sentinel-5 Precursor (Sentinel-5P or S5P)...   \n",
       "91   \"CATS-ISS_L2O_N-M7.1-V2-01_05kmLay is the Clou...   \n",
       "93   \"The Orbiting Carbon Observatory -3 (OCO-3) wa...   \n",
       "102  All original parameters are preserved in the s...   \n",
       "114  \"Mariner 10 Magnetometer (MAG) averaged M1 SUM...   \n",
       "119  \"This data set is the collection of documentat...   \n",
       "122  \"&lt;p&gt;Precisely identifying the species of...   \n",
       "128  \"In this STTR effort, Los Gatos Research (LGR)...   \n",
       "132  \"The daily Suomi National Polar-Orbiting Partn...   \n",
       "133  \"The AIRMISR_LUNAR_LAKE_2001 data were acquire...   \n",
       "146  \"This data set includes the complete set of SP...   \n",
       "152  that it passes from north to south across the ...   \n",
       "157  \"This data represents the best estimated real-...   \n",
       "158  \"The TROPESS CrIS-SNPP L2 Ammonia for West Coa...   \n",
       "160  \"This data set includes Voyager 2 Jupiter enco...   \n",
       "163  MISR itself is an instrument designed to view ...   \n",
       "167  \"The OMPS-NPP L1B NM Radiance EV Calibrated Ge...   \n",
       "169  \"CATS-ISS_L2O_N-M7.1-V2-01_05kmPro is the Clou...   \n",
       "174  \"The Cross-track Infrared Sounder (CrIS) Level...   \n",
       "178  \"These data are near-real-time (NRT) (within 7...   \n",
       "182  \"The environmental samples were collected with...   \n",
       "186  \"Sample return missions have primary importanc...   \n",
       "187  \"MIL3YCOD_1 is the Multi-angle Imaging Spectro...   \n",
       "191  \"This data set contains archival raw, partiall...   \n",
       "193  \"This dataset is comprised of cloud micro-phys...   \n",
       "199  \"<p>The Deep Space Habitat was closed out at t...   \n",
       "202  \"NASA will fly x-ray microcalorimeters on seve...   \n",
       "205  \"An extensive validation experiment was conduc...   \n",
       "206  \"The recent Ice Giants Pre-Decadal Survey Miss...   \n",
       "212  \"Star formation is governed by gravity and hea...   \n",
       "218  ROSETTA Orbiter that will provide 3D images an...   \n",
       "221  \"NASA's International Halley Watch (IHW) has c...   \n",
       "222  Terra (EOS AM) and Aqua (EOS PM) satellites. T...   \n",
       "226  \"This data set contains Calibrated data taken ...   \n",
       "228  \"TMI/TRMM surface soil moisture (LPRM) L3 1 da...   \n",
       "\n",
       "                                            char_spans  \\\n",
       "2    [{'start': 15, 'end': 25, 'label': 'SPACECRAFT...   \n",
       "4    [{'start': 11, 'end': 22, 'label': 'SPACECRAFT'}]   \n",
       "5    [{'start': 58, 'end': 65, 'label': 'SPACECRAFT'}]   \n",
       "9    [{'start': 58, 'end': 61, 'label': 'SPACECRAFT'}]   \n",
       "13   [{'start': 656, 'end': 665, 'label': 'SPACECRA...   \n",
       "17   [{'start': 50, 'end': 55, 'label': 'SPACECRAFT...   \n",
       "19   [{'start': 1, 'end': 46, 'label': 'SPACECRAFT'...   \n",
       "22    [{'start': 7, 'end': 22, 'label': 'SPACECRAFT'}]   \n",
       "24   [{'start': 398, 'end': 446, 'label': 'SPACECRA...   \n",
       "35   [{'start': 35, 'end': 46, 'label': 'SPACECRAFT'}]   \n",
       "42   [{'start': 1723, 'end': 1726, 'label': 'SPACEC...   \n",
       "44   [{'start': 24, 'end': 33, 'label': 'SPACECRAFT...   \n",
       "48   [{'start': 61, 'end': 64, 'label': 'SPACECRAFT...   \n",
       "55   [{'start': 5, 'end': 10, 'label': 'SPACECRAFT'...   \n",
       "56   [{'start': 12, 'end': 15, 'label': 'SPACECRAFT'}]   \n",
       "61   [{'start': 731, 'end': 736, 'label': 'SPACECRA...   \n",
       "69   [{'start': 65, 'end': 80, 'label': 'SPACECRAFT'}]   \n",
       "70   [{'start': 16, 'end': 19, 'label': 'SPACECRAFT'}]   \n",
       "71   [{'start': 22, 'end': 75, 'label': 'SPACECRAFT...   \n",
       "74   [{'start': 655, 'end': 663, 'label': 'SPACECRA...   \n",
       "75   [{'start': 526, 'end': 543, 'label': 'SPACECRA...   \n",
       "78   [{'start': 26, 'end': 30, 'label': 'SPACECRAFT'}]   \n",
       "79   [{'start': 5, 'end': 46, 'label': 'SPACECRAFT'...   \n",
       "91   [{'start': 1, 'end': 34, 'label': 'SPACECRAFT'...   \n",
       "93   [{'start': 64, 'end': 91, 'label': 'SPACECRAFT'}]   \n",
       "102  [{'start': 78, 'end': 86, 'label': 'SPACECRAFT...   \n",
       "114   [{'start': 1, 'end': 11, 'label': 'SPACECRAFT'}]   \n",
       "119  [{'start': 96, 'end': 107, 'label': 'SPACECRAF...   \n",
       "122  [{'start': 79, 'end': 88, 'label': 'SPACECRAFT'}]   \n",
       "128  [{'start': 518, 'end': 551, 'label': 'SPACECRA...   \n",
       "132  [{'start': 11, 'end': 60, 'label': 'SPACECRAFT...   \n",
       "133  [{'start': 329, 'end': 338, 'label': 'SPACECRA...   \n",
       "146  [{'start': 63, 'end': 67, 'label': 'SPACECRAFT'}]   \n",
       "152  [{'start': 76, 'end': 80, 'label': 'SPACECRAFT'}]   \n",
       "157  [{'start': 104, 'end': 136, 'label': 'SPACECRA...   \n",
       "158  [{'start': 249, 'end': 268, 'label': 'SPACECRA...   \n",
       "160  [{'start': 24, 'end': 33, 'label': 'SPACECRAFT'}]   \n",
       "163  [{'start': 0, 'end': 4, 'label': 'SPACECRAFT'}...   \n",
       "167  [{'start': 192, 'end': 212, 'label': 'SPACECRA...   \n",
       "169  [{'start': 1, 'end': 34, 'label': 'SPACECRAFT'...   \n",
       "174  [{'start': 145, 'end': 155, 'label': 'SPACECRA...   \n",
       "178  [{'start': 558, 'end': 584, 'label': 'SPACECRA...   \n",
       "182  [{'start': 105, 'end': 137, 'label': 'SPACECRA...   \n",
       "186  [{'start': 328, 'end': 367, 'label': 'SPACECRA...   \n",
       "187  [{'start': 19, 'end': 63, 'label': 'SPACECRAFT...   \n",
       "191  [{'start': 171, 'end': 197, 'label': 'SPACECRA...   \n",
       "193  [{'start': 96, 'end': 127, 'label': 'SPACECRAF...   \n",
       "199  [{'start': 8, 'end': 26, 'label': 'SPACECRAFT'...   \n",
       "202  [{'start': 1237, 'end': 1253, 'label': 'SPACEC...   \n",
       "205  [{'start': 134, 'end': 184, 'label': 'SPACECRA...   \n",
       "206  [{'start': 156, 'end': 163, 'label': 'SPACECRA...   \n",
       "212  [{'start': 1266, 'end': 1293, 'label': 'SPACEC...   \n",
       "218   [{'start': 0, 'end': 15, 'label': 'SPACECRAFT'}]   \n",
       "221  [{'start': 478, 'end': 488, 'label': 'SPACECRA...   \n",
       "222  [{'start': 0, 'end': 14, 'label': 'SPACECRAFT'...   \n",
       "226  [{'start': 53, 'end': 65, 'label': 'SPACECRAFT'}]   \n",
       "228  [{'start': 636, 'end': 650, 'label': 'SPACECRA...   \n",
       "\n",
       "                                           token_spans  _input_hash  \\\n",
       "2    [{'start': 2, 'end': 3, 'label': 'SPACECRAFT'}...    757196465   \n",
       "4      [{'start': 1, 'end': 2, 'label': 'SPACECRAFT'}]  -1920969230   \n",
       "5    [{'start': 11, 'end': 12, 'label': 'SPACECRAFT'}]   1936737749   \n",
       "9     [{'start': 9, 'end': 10, 'label': 'SPACECRAFT'}]   1329019212   \n",
       "13   [{'start': 120, 'end': 121, 'label': 'SPACECRA...   -521444822   \n",
       "17   [{'start': 10, 'end': 11, 'label': 'SPACECRAFT...    295050579   \n",
       "19   [{'start': 1, 'end': 7, 'label': 'SPACECRAFT'}...  -1181214027   \n",
       "22     [{'start': 2, 'end': 4, 'label': 'SPACECRAFT'}]   1312952876   \n",
       "24   [{'start': 73, 'end': 82, 'label': 'SPACECRAFT'}]   -987838306   \n",
       "35     [{'start': 8, 'end': 9, 'label': 'SPACECRAFT'}]    -65900392   \n",
       "42   [{'start': 307, 'end': 308, 'label': 'SPACECRA...    -93082071   \n",
       "44   [{'start': 5, 'end': 7, 'label': 'SPACECRAFT'}...   -278746687   \n",
       "48   [{'start': 11, 'end': 12, 'label': 'SPACECRAFT...   1534033733   \n",
       "55   [{'start': 2, 'end': 3, 'label': 'SPACECRAFT'}...  -1530569443   \n",
       "56     [{'start': 2, 'end': 3, 'label': 'SPACECRAFT'}]   -353669737   \n",
       "61   [{'start': 133, 'end': 136, 'label': 'SPACECRA...   -375189582   \n",
       "69   [{'start': 12, 'end': 14, 'label': 'SPACECRAFT'}]  -1019373111   \n",
       "70     [{'start': 3, 'end': 4, 'label': 'SPACECRAFT'}]    688823458   \n",
       "71   [{'start': 8, 'end': 18, 'label': 'SPACECRAFT'...   -643831212   \n",
       "74   [{'start': 122, 'end': 123, 'label': 'SPACECRA...   -604156020   \n",
       "75   [{'start': 98, 'end': 102, 'label': 'SPACECRAF...    866939167   \n",
       "78     [{'start': 5, 'end': 6, 'label': 'SPACECRAFT'}]    951852120   \n",
       "79   [{'start': 2, 'end': 9, 'label': 'SPACECRAFT'}...   1932170561   \n",
       "91   [{'start': 1, 'end': 10, 'label': 'SPACECRAFT'...   -956163871   \n",
       "93   [{'start': 13, 'end': 16, 'label': 'SPACECRAFT'}]   1528853616   \n",
       "102  [{'start': 14, 'end': 15, 'label': 'SPACECRAFT...   1776199824   \n",
       "114    [{'start': 1, 'end': 3, 'label': 'SPACECRAFT'}]   1537611539   \n",
       "119  [{'start': 18, 'end': 20, 'label': 'SPACECRAFT...    888901598   \n",
       "122  [{'start': 14, 'end': 15, 'label': 'SPACECRAFT'}]  -1432001480   \n",
       "128  [{'start': 110, 'end': 116, 'label': 'SPACECRA...    903512837   \n",
       "132  [{'start': 3, 'end': 14, 'label': 'SPACECRAFT'...    -93944860   \n",
       "133  [{'start': 60, 'end': 61, 'label': 'SPACECRAFT...  -1018450673   \n",
       "146  [{'start': 13, 'end': 14, 'label': 'SPACECRAFT'}]  -1776689942   \n",
       "152  [{'start': 15, 'end': 16, 'label': 'SPACECRAFT'}]   1616909537   \n",
       "157  [{'start': 17, 'end': 22, 'label': 'SPACECRAFT'}]   1041690325   \n",
       "158  [{'start': 43, 'end': 47, 'label': 'SPACECRAFT'}]   -939815973   \n",
       "160    [{'start': 5, 'end': 7, 'label': 'SPACECRAFT'}]   2123987910   \n",
       "163  [{'start': 0, 'end': 1, 'label': 'SPACECRAFT'}...   -757829424   \n",
       "167  [{'start': 34, 'end': 39, 'label': 'SPACECRAFT'}]   1910433122   \n",
       "169  [{'start': 1, 'end': 10, 'label': 'SPACECRAFT'...  -1664606033   \n",
       "174  [{'start': 26, 'end': 27, 'label': 'SPACECRAFT...   1935708702   \n",
       "178  [{'start': 107, 'end': 115, 'label': 'SPACECRA...    261879464   \n",
       "182  [{'start': 16, 'end': 21, 'label': 'SPACECRAFT...   -312594579   \n",
       "186  [{'start': 49, 'end': 56, 'label': 'SPACECRAFT...  -1857021475   \n",
       "187  [{'start': 4, 'end': 12, 'label': 'SPACECRAFT'...   -468569217   \n",
       "191  [{'start': 31, 'end': 37, 'label': 'SPACECRAFT...  -1692582421   \n",
       "193  [{'start': 16, 'end': 19, 'label': 'SPACECRAFT...   -977563807   \n",
       "199  [{'start': 5, 'end': 8, 'label': 'SPACECRAFT'}...    879727108   \n",
       "202  [{'start': 208, 'end': 213, 'label': 'SPACECRA...   1553040416   \n",
       "205  [{'start': 22, 'end': 30, 'label': 'SPACECRAFT...   1781172671   \n",
       "206  [{'start': 29, 'end': 30, 'label': 'SPACECRAFT...  -1441791514   \n",
       "212  [{'start': 229, 'end': 233, 'label': 'SPACECRA...   1902349356   \n",
       "218    [{'start': 0, 'end': 2, 'label': 'SPACECRAFT'}]   1858198020   \n",
       "221  [{'start': 85, 'end': 86, 'label': 'SPACECRAFT'}]  -1430357985   \n",
       "222  [{'start': 0, 'end': 5, 'label': 'SPACECRAFT'}...  -1851551092   \n",
       "226  [{'start': 10, 'end': 12, 'label': 'SPACECRAFT'}]   1483747953   \n",
       "228  [{'start': 128, 'end': 130, 'label': 'SPACECRA...   -555808992   \n",
       "\n",
       "     _task_hash  _is_binary  \\\n",
       "2     140271334       False   \n",
       "4   -1078113421       False   \n",
       "5    -701495495       False   \n",
       "9     -98505499       False   \n",
       "13   1637307788       False   \n",
       "17    467489419       False   \n",
       "19   -489433392       False   \n",
       "22   1715646069       False   \n",
       "24    445270506       False   \n",
       "35  -1051102256       False   \n",
       "42    131256601       False   \n",
       "44  -1686900237       False   \n",
       "48    884485382       False   \n",
       "55   -712261300       False   \n",
       "56    909666453       False   \n",
       "61   -200053164       False   \n",
       "69   -405477090       False   \n",
       "70   1028674050       False   \n",
       "71    283641897       False   \n",
       "74   1126502223       False   \n",
       "75   -485805339       False   \n",
       "78  -1925380803       False   \n",
       "79  -1214979488       False   \n",
       "91   2101483151       False   \n",
       "93   -362193015       False   \n",
       "102 -1241544142       False   \n",
       "114 -1828319193       False   \n",
       "119  2036512782       False   \n",
       "122 -1586683741       False   \n",
       "128   719991137       False   \n",
       "132 -1160959067       False   \n",
       "133  -405350268       False   \n",
       "146  2079656149       False   \n",
       "152   585980515       False   \n",
       "157 -1494776844       False   \n",
       "158  1603264039       False   \n",
       "160  -408849405       False   \n",
       "163  -475589423       False   \n",
       "167   989224504       False   \n",
       "169  -940975700       False   \n",
       "174  1394525042       False   \n",
       "178   654268352       False   \n",
       "182  1123390135       False   \n",
       "186  2059497973       False   \n",
       "187  2058940721       False   \n",
       "191 -2009420427       False   \n",
       "193 -2078410012       False   \n",
       "199   900414501       False   \n",
       "202 -1706929582       False   \n",
       "205   -87017723       False   \n",
       "206  -538966303       False   \n",
       "212   185535965       False   \n",
       "218    19715391       False   \n",
       "221  1903105233       False   \n",
       "222   159530356       False   \n",
       "226  2061377916       False   \n",
       "228 -1458948929       False   \n",
       "\n",
       "                                                tokens    _view_id  answer  \\\n",
       "2    [{'text': 'The', 'start': 0, 'end': 3, 'id': 0...  ner_manual  accept   \n",
       "4    [{'text': 'Copernicus', 'start': 0, 'end': 10,...  ner_manual  accept   \n",
       "5    [{'text': '\"', 'start': 0, 'end': 1, 'id': 0, ...  ner_manual  accept   \n",
       "9    [{'text': '\"', 'start': 0, 'end': 1, 'id': 0, ...  ner_manual  accept   \n",
       "13   [{'text': '\"', 'start': 0, 'end': 1, 'id': 0, ...  ner_manual  accept   \n",
       "17   [{'text': 'south', 'start': 0, 'end': 5, 'id':...  ner_manual  accept   \n",
       "19   [{'text': '\"', 'start': 0, 'end': 1, 'id': 0, ...  ner_manual  accept   \n",
       "22   [{'text': 'of', 'start': 0, 'end': 2, 'id': 0,...  ner_manual  accept   \n",
       "24   [{'text': '\"', 'start': 0, 'end': 1, 'id': 0, ...  ner_manual  accept   \n",
       "35   [{'text': '\"', 'start': 0, 'end': 1, 'id': 0, ...  ner_manual  accept   \n",
       "42   [{'text': '\"', 'start': 0, 'end': 1, 'id': 0, ...  ner_manual  accept   \n",
       "44   [{'text': '\"', 'start': 0, 'end': 1, 'id': 0, ...  ner_manual  accept   \n",
       "48   [{'text': '\"', 'start': 0, 'end': 1, 'id': 0, ...  ner_manual  accept   \n",
       "55   [{'text': '\"', 'start': 0, 'end': 1, 'id': 0, ...  ner_manual  accept   \n",
       "56   [{'text': '*', 'start': 0, 'end': 1, 'id': 0, ...  ner_manual  accept   \n",
       "61   [{'text': '\"', 'start': 0, 'end': 1, 'id': 0, ...  ner_manual  accept   \n",
       "69   [{'text': 'This', 'start': 0, 'end': 4, 'id': ...  ner_manual  accept   \n",
       "70   [{'text': '*', 'start': 0, 'end': 1, 'id': 0, ...  ner_manual  accept   \n",
       "71   [{'text': '\"', 'start': 0, 'end': 1, 'id': 0, ...  ner_manual  accept   \n",
       "74   [{'text': '\"', 'start': 0, 'end': 1, 'id': 0, ...  ner_manual  accept   \n",
       "75   [{'text': '\"', 'start': 0, 'end': 1, 'id': 0, ...  ner_manual  accept   \n",
       "78   [{'text': '\"', 'start': 0, 'end': 1, 'id': 0, ...  ner_manual  accept   \n",
       "79   [{'text': '\"', 'start': 0, 'end': 1, 'id': 0, ...  ner_manual  accept   \n",
       "91   [{'text': '\"', 'start': 0, 'end': 1, 'id': 0, ...  ner_manual  accept   \n",
       "93   [{'text': '\"', 'start': 0, 'end': 1, 'id': 0, ...  ner_manual  accept   \n",
       "102  [{'text': 'All', 'start': 0, 'end': 3, 'id': 0...  ner_manual  accept   \n",
       "114  [{'text': '\"', 'start': 0, 'end': 1, 'id': 0, ...  ner_manual  accept   \n",
       "119  [{'text': '\"', 'start': 0, 'end': 1, 'id': 0, ...  ner_manual  accept   \n",
       "122  [{'text': '\"', 'start': 0, 'end': 1, 'id': 0, ...  ner_manual  accept   \n",
       "128  [{'text': '\"', 'start': 0, 'end': 1, 'id': 0, ...  ner_manual  accept   \n",
       "132  [{'text': '\"', 'start': 0, 'end': 1, 'id': 0, ...  ner_manual  accept   \n",
       "133  [{'text': '\"', 'start': 0, 'end': 1, 'id': 0, ...  ner_manual  accept   \n",
       "146  [{'text': '\"', 'start': 0, 'end': 1, 'id': 0, ...  ner_manual  accept   \n",
       "152  [{'text': 'that', 'start': 0, 'end': 4, 'id': ...  ner_manual  accept   \n",
       "157  [{'text': '\"', 'start': 0, 'end': 1, 'id': 0, ...  ner_manual  accept   \n",
       "158  [{'text': '\"', 'start': 0, 'end': 1, 'id': 0, ...  ner_manual  accept   \n",
       "160  [{'text': '\"', 'start': 0, 'end': 1, 'id': 0, ...  ner_manual  accept   \n",
       "163  [{'text': 'MISR', 'start': 0, 'end': 4, 'id': ...  ner_manual  accept   \n",
       "167  [{'text': '\"', 'start': 0, 'end': 1, 'id': 0, ...  ner_manual  accept   \n",
       "169  [{'text': '\"', 'start': 0, 'end': 1, 'id': 0, ...  ner_manual  accept   \n",
       "174  [{'text': '\"', 'start': 0, 'end': 1, 'id': 0, ...  ner_manual  accept   \n",
       "178  [{'text': '\"', 'start': 0, 'end': 1, 'id': 0, ...  ner_manual  accept   \n",
       "182  [{'text': '\"', 'start': 0, 'end': 1, 'id': 0, ...  ner_manual  accept   \n",
       "186  [{'text': '\"', 'start': 0, 'end': 1, 'id': 0, ...  ner_manual  accept   \n",
       "187  [{'text': '\"', 'start': 0, 'end': 1, 'id': 0, ...  ner_manual  accept   \n",
       "191  [{'text': '\"', 'start': 0, 'end': 1, 'id': 0, ...  ner_manual  accept   \n",
       "193  [{'text': '\"', 'start': 0, 'end': 1, 'id': 0, ...  ner_manual  accept   \n",
       "199  [{'text': '\"', 'start': 0, 'end': 1, 'id': 0, ...  ner_manual  accept   \n",
       "202  [{'text': '\"', 'start': 0, 'end': 1, 'id': 0, ...  ner_manual  accept   \n",
       "205  [{'text': '\"', 'start': 0, 'end': 1, 'id': 0, ...  ner_manual  accept   \n",
       "206  [{'text': '\"', 'start': 0, 'end': 1, 'id': 0, ...  ner_manual  accept   \n",
       "212  [{'text': '\"', 'start': 0, 'end': 1, 'id': 0, ...  ner_manual  accept   \n",
       "218  [{'text': 'ROSETTA', 'start': 0, 'end': 7, 'id...  ner_manual  accept   \n",
       "221  [{'text': '\"', 'start': 0, 'end': 1, 'id': 0, ...  ner_manual  accept   \n",
       "222  [{'text': 'Terra', 'start': 0, 'end': 5, 'id':...  ner_manual  accept   \n",
       "226  [{'text': '\"', 'start': 0, 'end': 1, 'id': 0, ...  ner_manual  accept   \n",
       "228  [{'text': '\"', 'start': 0, 'end': 1, 'id': 0, ...  ner_manual  accept   \n",
       "\n",
       "     _timestamp                                              spans  \\\n",
       "2    1636926175  [{'start': 15, 'end': 25, 'token_start': 2, 't...   \n",
       "4    1636926187  [{'token_start': 1, 'token_end': 1, 'start': 1...   \n",
       "5    1636928463  [{'start': 58, 'end': 65, 'token_start': 11, '...   \n",
       "9    1636854408  [{'token_start': 9, 'token_end': 9, 'start': 5...   \n",
       "13   1636924712  [{'start': 656, 'end': 665, 'token_start': 120...   \n",
       "17   1636926779  [{'start': 50, 'end': 55, 'token_start': 10, '...   \n",
       "19   1636845215  [{'start': 1, 'end': 46, 'token_start': 1, 'to...   \n",
       "22   1636854619  [{'start': 7, 'end': 22, 'token_start': 2, 'to...   \n",
       "24   1636845828  [{'start': 398, 'end': 446, 'token_start': 73,...   \n",
       "35   1636926031  [{'token_start': 8, 'token_end': 8, 'start': 3...   \n",
       "42   1636855522  [{'token_start': 307, 'token_end': 307, 'start...   \n",
       "44   1636926938  [{'start': 24, 'end': 33, 'text': 'Voyager 1',...   \n",
       "48   1636924453  [{'start': 61, 'end': 64, 'token_start': 11, '...   \n",
       "55   1636926275  [{'start': 5, 'end': 10, 'token_start': 2, 'to...   \n",
       "56   1636927402  [{'start': 12, 'end': 15, 'token_start': 2, 't...   \n",
       "61   1636855022  [{'start': 731, 'end': 736, 'token_start': 133...   \n",
       "69   1636951428  [{'start': 65, 'end': 80, 'token_start': 12, '...   \n",
       "70   1636927398  [{'token_start': 3, 'token_end': 3, 'start': 1...   \n",
       "71   1636926355  [{'start': 22, 'end': 75, 'text': 'Suomi Natio...   \n",
       "74   1636924851  [{'start': 655, 'end': 663, 'token_start': 122...   \n",
       "75   1636926692  [{'start': 526, 'end': 543, 'text': 'GCOM-W1 s...   \n",
       "78   1636924471  [{'start': 26, 'end': 30, 'token_start': 5, 't...   \n",
       "79   1636845760  [{'start': 5, 'end': 46, 'token_start': 2, 'to...   \n",
       "91   1636846075  [{'start': 1, 'end': 34, 'token_start': 1, 'to...   \n",
       "93   1636927162  [{'start': 64, 'end': 91, 'token_start': 13, '...   \n",
       "102  1636845677  [{'start': 78, 'end': 86, 'token_start': 14, '...   \n",
       "114  1636846398  [{'start': 1, 'end': 11, 'token_start': 1, 'to...   \n",
       "119  1636854025  [{'start': 96, 'end': 107, 'token_start': 18, ...   \n",
       "122  1636924723  [{'start': 79, 'end': 88, 'token_start': 14, '...   \n",
       "128  1636845556  [{'start': 518, 'end': 551, 'token_start': 110...   \n",
       "132  1636855662  [{'start': 11, 'end': 60, 'text': 'Suomi Natio...   \n",
       "133  1636927471  [{'start': 329, 'end': 338, 'token_start': 60,...   \n",
       "146  1636854952  [{'start': 63, 'end': 67, 'token_start': 13, '...   \n",
       "152  1636926771  [{'start': 76, 'end': 80, 'token_start': 15, '...   \n",
       "157  1636846538  [{'start': 104, 'end': 136, 'token_start': 17,...   \n",
       "158  1636854833  [{'start': 249, 'end': 268, 'token_start': 43,...   \n",
       "160  1636845629  [{'start': 24, 'end': 33, 'token_start': 5, 't...   \n",
       "163  1636846598  [{'start': 0, 'end': 4, 'token_start': 0, 'tok...   \n",
       "167  1636854698  [{'start': 192, 'end': 212, 'text': 'Suomi-NPP...   \n",
       "169  1636845956  [{'start': 1, 'end': 34, 'token_start': 1, 'to...   \n",
       "174  1636928518  [{'start': 145, 'end': 155, 'token_start': 26,...   \n",
       "178  1636846685  [{'start': 558, 'end': 584, 'token_start': 107...   \n",
       "182  1636927572  [{'start': 105, 'end': 137, 'text': 'Internati...   \n",
       "186  1636845150  [{'start': 328, 'end': 367, 'token_start': 49,...   \n",
       "187  1636855218  [{'start': 19, 'end': 63, 'token_start': 4, 't...   \n",
       "191  1636927652  [{'start': 171, 'end': 197, 'token_start': 31,...   \n",
       "193  1636928642  [{'start': 96, 'end': 127, 'token_start': 16, ...   \n",
       "199  1636927103  [{'start': 8, 'end': 26, 'token_start': 5, 'to...   \n",
       "202  1636855345  [{'start': 1237, 'end': 1253, 'token_start': 2...   \n",
       "205  1636846395  [{'start': 134, 'end': 184, 'token_start': 22,...   \n",
       "206  1636927266  [{'start': 156, 'end': 163, 'token_start': 29,...   \n",
       "212  1636854538  [{'token_start': 229, 'token_end': 232, 'start...   \n",
       "218  1636854323  [{'start': 0, 'end': 15, 'token_start': 0, 'to...   \n",
       "221  1636855051  [{'start': 478, 'end': 488, 'token_start': 85,...   \n",
       "222  1636926765  [{'start': 0, 'end': 14, 'token_start': 0, 'to...   \n",
       "226  1636845523  [{'start': 53, 'end': 65, 'token_start': 10, '...   \n",
       "228  1636926522  [{'start': 636, 'end': 650, 'token_start': 128...   \n",
       "\n",
       "                                             starts_db  \\\n",
       "2                 [25, 48, 55, 66, 149, 263, 581, 635]   \n",
       "4                                                 [22]   \n",
       "5                                                 [65]   \n",
       "9                                                 [61]   \n",
       "13              [665, 711, 725, 764, 1060, 2400, 2604]   \n",
       "17                                            [55, 70]   \n",
       "19                                          [46, 1691]   \n",
       "22                                                [22]   \n",
       "24                                               [446]   \n",
       "35                                                [46]   \n",
       "42                                              [1726]   \n",
       "44                                           [33, 278]   \n",
       "48                                           [64, 221]   \n",
       "55                                           [10, 264]   \n",
       "56                                                [15]   \n",
       "61                                               [736]   \n",
       "69                                                [80]   \n",
       "70                                                [19]   \n",
       "71                                           [75, 684]   \n",
       "74                          [663, 768, 784, 899, 1762]   \n",
       "75                                [543, 701, 711, 811]   \n",
       "78                                                [30]   \n",
       "79                                 [46, 253, 572, 626]   \n",
       "91              [34, 79, 113, 255, 432, 438, 499, 867]   \n",
       "93                                                [91]   \n",
       "102                                          [86, 139]   \n",
       "114                                               [11]   \n",
       "119                                         [107, 117]   \n",
       "122                                               [88]   \n",
       "128                                              [551]   \n",
       "132                             [60, 1296, 1305, 1398]   \n",
       "133                                         [338, 627]   \n",
       "146                                               [67]   \n",
       "152                                               [80]   \n",
       "157                                              [136]   \n",
       "158                                              [268]   \n",
       "160                                               [33]   \n",
       "163                                      [4, 291, 453]   \n",
       "167                                              [212]   \n",
       "169             [34, 79, 113, 256, 433, 439, 500, 868]   \n",
       "174                                         [155, 337]   \n",
       "178                    [584, 611, 691, 784, 836, 1010]   \n",
       "182  [137, 215, 516, 554, 736, 899, 1026, 1044, 208...   \n",
       "186                          [367, 470, 610, 795, 882]   \n",
       "187                                [63, 142, 429, 600]   \n",
       "191                               [197, 279, 417, 462]   \n",
       "193                                         [127, 354]   \n",
       "199  [26, 195, 227, 284, 334, 400, 476, 527, 810, 1...   \n",
       "202                                 [1253, 1262, 1307]   \n",
       "205                    [184, 328, 426, 664, 896, 1204]   \n",
       "206                                         [163, 175]   \n",
       "212                                             [1293]   \n",
       "218                                               [15]   \n",
       "221                                              [488]   \n",
       "222                                   [14, 32, 43, 52]   \n",
       "226                                               [65]   \n",
       "228                                              [650]   \n",
       "\n",
       "                                          starts_parse  \n",
       "2                 [25, 48, 55, 66, 149, 263, 581, 635]  \n",
       "4                                                 [22]  \n",
       "5                                                 [65]  \n",
       "9                                                 [61]  \n",
       "13              [665, 711, 725, 764, 1060, 2400, 2604]  \n",
       "17                                            [55, 70]  \n",
       "19                                          [46, 1691]  \n",
       "22                                                [22]  \n",
       "24                                               [446]  \n",
       "35                                                [46]  \n",
       "42                                              [1726]  \n",
       "44                                           [33, 278]  \n",
       "48                                           [64, 221]  \n",
       "55                                           [10, 264]  \n",
       "56                                                [15]  \n",
       "61                                               [736]  \n",
       "69                                                [80]  \n",
       "70                                                [19]  \n",
       "71                                           [75, 684]  \n",
       "74                          [663, 768, 784, 899, 1762]  \n",
       "75                                [543, 701, 711, 811]  \n",
       "78                                                [30]  \n",
       "79                                 [46, 253, 572, 626]  \n",
       "91              [34, 79, 113, 255, 432, 438, 499, 867]  \n",
       "93                                                [91]  \n",
       "102                                          [86, 139]  \n",
       "114                                               [11]  \n",
       "119                                         [107, 117]  \n",
       "122                                               [88]  \n",
       "128                                              [551]  \n",
       "132                             [60, 1296, 1305, 1398]  \n",
       "133                                         [338, 627]  \n",
       "146                                               [67]  \n",
       "152                                               [80]  \n",
       "157                                              [136]  \n",
       "158                                              [268]  \n",
       "160                                               [33]  \n",
       "163                                      [4, 291, 453]  \n",
       "167                                              [212]  \n",
       "169             [34, 79, 113, 256, 433, 439, 500, 868]  \n",
       "174                                         [155, 337]  \n",
       "178                    [584, 611, 691, 784, 836, 1010]  \n",
       "182  [137, 215, 516, 554, 736, 899, 1026, 1044, 208...  \n",
       "186                          [367, 470, 610, 795, 882]  \n",
       "187                                [63, 142, 429, 600]  \n",
       "191                               [197, 279, 417, 462]  \n",
       "193                                         [127, 354]  \n",
       "199  [26, 195, 227, 284, 334, 400, 476, 527, 810, 1...  \n",
       "202                                 [1253, 1262, 1307]  \n",
       "205                    [184, 328, 426, 664, 896, 1204]  \n",
       "206                                         [163, 175]  \n",
       "212                                             [1293]  \n",
       "218                                               [15]  \n",
       "221                                              [488]  \n",
       "222                                   [14, 32, 43, 52]  \n",
       "226                                               [65]  \n",
       "228                                              [650]  "
      ]
     },
     "execution_count": 431,
     "metadata": {},
     "output_type": "execute_result"
    }
   ],
   "source": [
    "has_span"
   ]
  },
  {
   "cell_type": "code",
   "execution_count": null,
   "id": "242f9e10-a9d2-4252-adbd-662e95469510",
   "metadata": {},
   "outputs": [],
   "source": [
    "import typer\n",
    "import srsly\n",
    "from pathlib import Path\n",
    "from spacy.util import get_words_and_spaces\n",
    "from spacy.tokens import Doc, DocBin\n",
    "import spacy\n",
    "\n",
    "\n",
    "def main(\n",
    "    input_path: Path = typer.Argument(..., exists=True, dir_okay=False),\n",
    "    output_path: Path = typer.Argument(..., dir_okay=False),\n",
    "):\n",
    "    nlp = spacy.blank(\"en\")\n",
    "    doc_bin = DocBin(attrs=[\"ENT_IOB\", \"ENT_TYPE\"])\n",
    "    for eg in srsly.read_jsonl(input_path):\n",
    "        if eg[\"answer\"] != \"accept\":\n",
    "            continue\n",
    "        tokens = [token[\"text\"] for token in eg[\"tokens\"]]\n",
    "        words, spaces = get_words_and_spaces(tokens, eg[\"text\"])\n",
    "        doc = Doc(nlp.vocab, words=words, spaces=spaces)"
   ]
  },
  {
   "cell_type": "code",
   "execution_count": 318,
   "id": "fbb0cdc8-29c0-40c3-bd81-35c4f2d91afc",
   "metadata": {},
   "outputs": [],
   "source": [
    "\n",
    "start = dataset['spans'][1][0]['start']\n",
    "end = dataset['spans'][1][0]['end']\n",
    "span = dataset['text'].iloc[0][start:end]"
   ]
  },
  {
   "cell_type": "markdown",
   "id": "e30dfffd-bf95-4182-b91f-0057a9a6cb04",
   "metadata": {},
   "source": [
    "#Convert to .spacy format:\n",
    "!prodigy data-to-spacy ./nasa_data --ner spacy_schema"
   ]
  },
  {
   "cell_type": "code",
   "execution_count": 319,
   "id": "18c6e216-d935-4fcd-89c8-eea3ee76867a",
   "metadata": {},
   "outputs": [
    {
     "name": "stdout",
     "output_type": "stream",
     "text": [
      "\u001b[38;5;4mℹ Using language 'en'\u001b[0m\n",
      "Your CPU supports instructions that this binary was not compiled to use: SSE3 SSE4.1 SSE4.2 AVX AVX2\n",
      "For maximum performance, you can install NMSLIB from sources \n",
      "pip install --no-binary :all: nmslib\n",
      "\u001b[1m\n",
      "============================== Generating data ==============================\u001b[0m\n",
      "Components: ner\n",
      "Merging training and evaluation data for 1 components\n",
      "  - [ner] Training: 136 | Evaluation: 33 (20% split)\n",
      "Training: 134 | Evaluation: 33\n",
      "Labels: ner (1)\n",
      "\u001b[38;5;2m✔ Saved 134 training examples\u001b[0m\n",
      "nasa_data/train.spacy\n",
      "\u001b[38;5;2m✔ Saved 33 evaluation examples\u001b[0m\n",
      "nasa_data/dev.spacy\n",
      "\u001b[1m\n",
      "============================= Generating config =============================\u001b[0m\n",
      "\u001b[38;5;4mℹ Auto-generating config with spaCy\u001b[0m\n",
      "\u001b[38;5;2m✔ Generated training config\u001b[0m\n",
      "\u001b[1m\n",
      "======================== Generating cached label data ========================\u001b[0m\n",
      "\u001b[38;5;2m✔ Saving label data for component 'ner'\u001b[0m\n",
      "nasa_data/labels/ner.json\n",
      "\u001b[1m\n",
      "============================= Finalizing export =============================\u001b[0m\n",
      "\u001b[38;5;2m✔ Saved training config\u001b[0m\n",
      "nasa_data/config.cfg\n",
      "\n",
      "To use this data for training with spaCy, you can run:\n",
      "python -m spacy train nasa_data/config.cfg --paths.train nasa_data/train.spacy --paths.dev nasa_data/dev.spacy\n"
     ]
    }
   ],
   "source": [
    "!prodigy data-to-spacy ./nasa_data --ner spacy_schema"
   ]
  },
  {
   "cell_type": "code",
   "execution_count": 48,
   "id": "d19aa21e-f368-4289-b2a0-d3fd18b3ef65",
   "metadata": {},
   "outputs": [],
   "source": [
    "import spacy\n",
    "from spacy.tokens import DocBin\n",
    "\n",
    "INPUT_PATH_TRAIN = \"/home/spenser/prodigy/nasa_data/train.spacy\"\n",
    "doc_bin = DocBin().from_disk(INPUT_PATH_TRAIN)  # your file here\n"
   ]
  },
  {
   "cell_type": "code",
   "execution_count": 49,
   "id": "95bf3860-0f5c-4cf4-9997-7679ff7ee08b",
   "metadata": {},
   "outputs": [],
   "source": [
    "def format_annotations(doc_bin):\n",
    "    \"\"\"Loads and formats .spacy DocBin formatted annotations.\n",
    "\n",
    "    Args:\n",
    "    doc_bin -- .spacy data imported using spacy.tokens.DocBin\n",
    "\n",
    "    Returns:\n",
    "        A dict mapping keys to the corresponding text and span row data.\n",
    "        Each row is represented as a tuple of strings. For example:\n",
    "\n",
    "        {'text': 'Entity freeform annotation text',\n",
    "         'spans': [{\"start\": 0, \"end\": 6, \"label\": label}]}\n",
    "    \"\"\"\n",
    "\n",
    "    # Instantiate blank nlp english model for text parsing.\n",
    "    nlp = spacy.blank(\"en\")\n",
    "    # examples in Prodigy's format\n",
    "    annotations = []\n",
    "    for doc in doc_bin.get_docs(nlp.vocab):\n",
    "        spans = []\n",
    "        for ent in doc.ents:\n",
    "            span = [\n",
    "                {\"start\": ent.start_char, \"end\": ent.end_char, \"label\": ent.label_}\n",
    "            ]\n",
    "            spans.append(span)\n",
    "        annotations.append({\"text\": doc.text, \"spans\": spans})\n",
    "    return annotations"
   ]
  },
  {
   "cell_type": "code",
   "execution_count": 50,
   "id": "9f67857b-cd30-4608-9aee-6b2e36ceaca7",
   "metadata": {},
   "outputs": [],
   "source": [
    "initial_train_data =  format_annotations(doc_bin)\n",
    "initial_train_data = pd.DataFrame(initial_train_data)"
   ]
  },
  {
   "cell_type": "code",
   "execution_count": 52,
   "id": "640abe39-958c-44bc-a11b-b9602b93c446",
   "metadata": {},
   "outputs": [],
   "source": [
    "train_history = initial_train_data"
   ]
  },
  {
   "cell_type": "markdown",
   "id": "40c4e32c-5aef-4373-8b9f-8b3680d6c07b",
   "metadata": {},
   "source": [
    "<hr>"
   ]
  },
  {
   "cell_type": "markdown",
   "id": "1d34d2ee-7754-4904-b450-f1d6857be9a7",
   "metadata": {},
   "source": [
    "#### Train the model with initial training data"
   ]
  },
  {
   "cell_type": "code",
   "execution_count": 321,
   "id": "cd1beaad-881c-4f12-8dfc-38ba7eb2cb17",
   "metadata": {},
   "outputs": [
    {
     "name": "stdout",
     "output_type": "stream",
     "text": [
      "\u001b[38;5;4mℹ Saving to output directory: /home/spenser/prodigy/nasa_model\u001b[0m\n",
      "\u001b[38;5;4mℹ Using CPU\u001b[0m\n",
      "\u001b[1m\n",
      "=========================== Initializing pipeline ===========================\u001b[0m\n",
      "Your CPU supports instructions that this binary was not compiled to use: SSE3 SSE4.1 SSE4.2 AVX AVX2\n",
      "For maximum performance, you can install NMSLIB from sources \n",
      "pip install --no-binary :all: nmslib\n",
      "[2021-11-13 20:57:39,663] [INFO] Set up nlp object from config\n",
      "[2021-11-13 20:57:39,672] [INFO] Pipeline: ['tok2vec', 'ner']\n",
      "[2021-11-13 20:57:39,676] [INFO] Created vocabulary\n",
      "[2021-11-13 20:57:39,676] [INFO] Finished initializing nlp object\n",
      "^C\n",
      "\n",
      "Aborted!\n"
     ]
    }
   ],
   "source": [
    "!python -m spacy train /home/spenser/prodigy/nasa_data/config.cfg --output /home/spenser/prodigy/nasa_model/ --paths.train /home/spenser/prodigy/nasa_data/train.spacy --paths.dev /home/spenser/prodigy/nasa_data/dev.spacy"
   ]
  },
  {
   "cell_type": "code",
   "execution_count": 284,
   "id": "b7fd595f-4ce1-434a-bd24-99d0a5b71767",
   "metadata": {},
   "outputs": [],
   "source": [
    "#### Import fit model\n",
    "import spacy\n",
    "import pandas as pd\n",
    "MODEL_PATH = \"/home/spenser/prodigy/nasa_model/model-best/\"\n",
    "nlp = spacy.load(MODEL_PATH)"
   ]
  },
  {
   "cell_type": "code",
   "execution_count": 22,
   "id": "3aefb1f2-7d8d-4165-b6a5-d0ce01d60156",
   "metadata": {},
   "outputs": [],
   "source": [
    "initial_train_data = examples"
   ]
  },
  {
   "cell_type": "code",
   "execution_count": 285,
   "id": "f9cb6433-d30b-4ffb-a16e-eccdfd63d02e",
   "metadata": {},
   "outputs": [
    {
     "data": {
      "text/html": [
       "<div>\n",
       "<style scoped>\n",
       "    .dataframe tbody tr th:only-of-type {\n",
       "        vertical-align: middle;\n",
       "    }\n",
       "\n",
       "    .dataframe tbody tr th {\n",
       "        vertical-align: top;\n",
       "    }\n",
       "\n",
       "    .dataframe thead th {\n",
       "        text-align: right;\n",
       "    }\n",
       "</style>\n",
       "<table border=\"1\" class=\"dataframe\">\n",
       "  <thead>\n",
       "    <tr style=\"text-align: right;\">\n",
       "      <th></th>\n",
       "      <th>text</th>\n",
       "      <th>spans</th>\n",
       "    </tr>\n",
       "  </thead>\n",
       "  <tbody>\n",
       "    <tr>\n",
       "      <th>147</th>\n",
       "      <td>* IceBridge UAF GPS/IMU L1B Corrected Position...</td>\n",
       "      <td>[{'start': 16, 'end': 19, 'label': 'SPACECRAFT'}]</td>\n",
       "    </tr>\n",
       "    <tr>\n",
       "      <th>148</th>\n",
       "      <td>* IceBridge GPS L1B Time-Tagged Real-Time Posi...</td>\n",
       "      <td>[{'start': 12, 'end': 15, 'label': 'SPACECRAFT'}]</td>\n",
       "    </tr>\n",
       "  </tbody>\n",
       "</table>\n",
       "</div>"
      ],
      "text/plain": [
       "                                                  text  \\\n",
       "147  * IceBridge UAF GPS/IMU L1B Corrected Position...   \n",
       "148  * IceBridge GPS L1B Time-Tagged Real-Time Posi...   \n",
       "\n",
       "                                                 spans  \n",
       "147  [{'start': 16, 'end': 19, 'label': 'SPACECRAFT'}]  \n",
       "148  [{'start': 12, 'end': 15, 'label': 'SPACECRAFT'}]  "
      ]
     },
     "execution_count": 285,
     "metadata": {},
     "output_type": "execute_result"
    }
   ],
   "source": [
    "\n",
    "initial_train_data[initial_train_data['text'].str.contains('IceBridge')]"
   ]
  },
  {
   "cell_type": "code",
   "execution_count": null,
   "id": "1dea862d-f1b8-4bb0-995d-a8a6c022cf2f",
   "metadata": {},
   "outputs": [],
   "source": [
    "nlp.to_disk(\"/home/spenser/prodigy/nasa_model/duplicate_train/\")"
   ]
  },
  {
   "cell_type": "code",
   "execution_count": null,
   "id": "65685ab5-3f3a-4879-bdb4-3701c15b2d44",
   "metadata": {},
   "outputs": [],
   "source": [
    "nlp2 = spacy.load(\"/home/spenser/prodigy/nasa_model/duplicate_train/\")"
   ]
  },
  {
   "cell_type": "code",
   "execution_count": 22,
   "id": "815a3a3f-b568-4e2b-bb94-f5335aee1152",
   "metadata": {},
   "outputs": [
    {
     "data": {
      "text/plain": [
       "(the International Space Station, ISS, NASA)"
      ]
     },
     "execution_count": 22,
     "metadata": {},
     "output_type": "execute_result"
    }
   ],
   "source": [
    "from spacy.tokens import Doc\n",
    "\n",
    "doc = 'This is the International Space Station (ISS) administered by NASA.'\n",
    "\n",
    "nlp(doc).ents"
   ]
  },
  {
   "cell_type": "code",
   "execution_count": 27,
   "id": "4e5f6ebe-0267-475e-ab25-5039bc5a40e9",
   "metadata": {},
   "outputs": [
    {
     "data": {
      "text/plain": [
       "684830"
      ]
     },
     "execution_count": 27,
     "metadata": {},
     "output_type": "execute_result"
    }
   ],
   "source": [
    "import spacy\n",
    "nlp = spacy.load(\"en_core_web_lg\")\n",
    "vectors = []\n",
    "for v in nlp.vocab.vectors:\n",
    "    vectors.append(v)\n",
    "    \n",
    "len(vectors)"
   ]
  },
  {
   "cell_type": "code",
   "execution_count": 29,
   "id": "cf77e8ed-3721-4a34-85c7-347d859ae175",
   "metadata": {},
   "outputs": [
    {
     "data": {
      "text/plain": [
       "376889284048056844"
      ]
     },
     "execution_count": 29,
     "metadata": {},
     "output_type": "execute_result"
    }
   ],
   "source": [
    "nlp.vocab.strings['crx-00dsfsdfsdfsfd1']"
   ]
  },
  {
   "cell_type": "markdown",
   "id": "93336a96-ac9a-4904-b7cb-1b3f999e7340",
   "metadata": {},
   "source": [
    "<hr>"
   ]
  },
  {
   "cell_type": "markdown",
   "id": "276434ab-e818-4b46-beea-cb91b6b0ac2f",
   "metadata": {},
   "source": [
    "#### NER-Correct"
   ]
  },
  {
   "cell_type": "code",
   "execution_count": 23,
   "id": "835ce2cd-932f-4fbf-ad22-d07a4ed320b1",
   "metadata": {},
   "outputs": [
    {
     "name": "stdout",
     "output_type": "stream",
     "text": [
      "Using 1 label(s): SPACECRAFT\n",
      "Your CPU supports instructions that this binary was not compiled to use: SSE3 SSE4.1 SSE4.2 AVX AVX2\n",
      "For maximum performance, you can install NMSLIB from sources \n",
      "pip install --no-binary :all: nmslib\n",
      "\n",
      "\u001b[38;5;1m✘ Can't find file ./prodigy/nasa.txt\u001b[0m\n",
      "/home/spenser/prodigy/prodigy/nasa.txt\n",
      "\n"
     ]
    }
   ],
   "source": [
    "!prodigy ner.correct spacy_schema /home/spenser/prodigy/nasa_model/model-best/ ./prodigy/nasa.txt --label SPACECRAFT"
   ]
  },
  {
   "cell_type": "code",
   "execution_count": 8,
   "id": "eb8b9b24-0753-4376-90bd-bfd2c3a4e6f7",
   "metadata": {},
   "outputs": [],
   "source": [
    "from prodigy.components.db import connect\n",
    "import pandas as pd \n",
    "db = connect()\n",
    "dataset = db.get_dataset(\"spacy_schema\")\n",
    "dataset = pd.DataFrame(dataset)\n",
    "#Search for ignored and ensure that they don't enter the spacy training data.\n",
    "dataset.to_csv(\"/home/spenser/prodigy/spacy_schema_updated.csv\")"
   ]
  },
  {
   "cell_type": "code",
   "execution_count": 10,
   "id": "3986508b-e024-43a5-8a6a-f59f0bad0f0d",
   "metadata": {},
   "outputs": [
    {
     "name": "stdout",
     "output_type": "stream",
     "text": [
      "\u001b[38;5;4mℹ Using language 'en'\u001b[0m\n",
      "Your CPU supports instructions that this binary was not compiled to use: SSE3 SSE4.1 SSE4.2 AVX AVX2\n",
      "For maximum performance, you can install NMSLIB from sources \n",
      "pip install --no-binary :all: nmslib\n",
      "\u001b[1m\n",
      "============================== Generating data ==============================\u001b[0m\n",
      "Components: ner\n",
      "Merging training and evaluation data for 1 components\n",
      "  - [ner] Training: 183 | Evaluation: 0 (0% split)\n",
      "Training: 181 | Evaluation: 0\n",
      "Labels: ner (1)\n",
      "\u001b[38;5;2m✔ Saved 181 training examples\u001b[0m\n",
      "nasa_data_updated/train.spacy\n",
      "\u001b[38;5;3m⚠ No evaluation data. You can provide dedicated evaluation sets for the\n",
      "different components using the eval: prefix, or set an --eval-split to hold back\n",
      "a percentage for evaluation. If you already have a dev set available, you can\n",
      "specify its correct path as the '--paths.dev' argument to 'spacy train'.\u001b[0m\n",
      "\u001b[1m\n",
      "============================= Generating config =============================\u001b[0m\n",
      "\u001b[38;5;4mℹ Auto-generating config with spaCy\u001b[0m\n",
      "\u001b[38;5;2m✔ Generated training config\u001b[0m\n",
      "\u001b[1m\n",
      "======================== Generating cached label data ========================\u001b[0m\n",
      "\u001b[38;5;2m✔ Saving label data for component 'ner'\u001b[0m\n",
      "nasa_data_updated/labels/ner.json\n",
      "\u001b[1m\n",
      "============================= Finalizing export =============================\u001b[0m\n",
      "\u001b[38;5;2m✔ Saved training config\u001b[0m\n",
      "nasa_data_updated/config.cfg\n",
      "\n",
      "To use this data for training with spaCy, you can run:\n",
      "python -m spacy train nasa_data_updated/config.cfg --paths.train nasa_data_updated/train.spacy --paths.dev nasa_data_updated/dev.spacy\n"
     ]
    }
   ],
   "source": [
    "!prodigy data-to-spacy ./nasa_data_updated --ner spacy_schema --eval-split 0"
   ]
  },
  {
   "cell_type": "code",
   "execution_count": 11,
   "id": "f863e733-2368-4de7-9684-856e48ab47b1",
   "metadata": {},
   "outputs": [],
   "source": [
    "#Check Suomi-NPP. This NER correction"
   ]
  },
  {
   "cell_type": "code",
   "execution_count": 160,
   "id": "fc3704ce-5cf6-4119-922c-13b9b9c28565",
   "metadata": {},
   "outputs": [],
   "source": [
    "import spacy\n",
    "from spacy.tokens import DocBin\n",
    "\n",
    "INPUT_PATH_TRAIN = \"/home/spenser/prodigy/nasa_data_updated/train.spacy\"\n",
    "\n",
    "doc_bin = DocBin().from_disk(INPUT_PATH_TRAIN)  # your file here"
   ]
  },
  {
   "cell_type": "code",
   "execution_count": 161,
   "id": "f74a2504-6921-4b14-8680-17258e7c57e4",
   "metadata": {},
   "outputs": [
    {
     "ename": "ValueError",
     "evalue": "DataFrame constructor not properly called!",
     "output_type": "error",
     "traceback": [
      "\u001b[0;31m---------------------------------------------------------------------------\u001b[0m",
      "\u001b[0;31mValueError\u001b[0m                                Traceback (most recent call last)",
      "\u001b[0;32m<ipython-input-161-422ac30895eb>\u001b[0m in \u001b[0;36m<module>\u001b[0;34m\u001b[0m\n\u001b[0;32m----> 1\u001b[0;31m \u001b[0mdoc_bin\u001b[0m \u001b[0;34m=\u001b[0m \u001b[0mpd\u001b[0m\u001b[0;34m.\u001b[0m\u001b[0mDataFrame\u001b[0m\u001b[0;34m(\u001b[0m\u001b[0mdoc_bin\u001b[0m\u001b[0;34m)\u001b[0m\u001b[0;34m\u001b[0m\u001b[0;34m\u001b[0m\u001b[0m\n\u001b[0m\u001b[1;32m      2\u001b[0m \u001b[0mdoc_bin\u001b[0m\u001b[0;34m\u001b[0m\u001b[0;34m\u001b[0m\u001b[0m\n",
      "\u001b[0;32m~/anaconda3/envs/spacy_test/lib/python3.8/site-packages/pandas/core/frame.py\u001b[0m in \u001b[0;36m__init__\u001b[0;34m(self, data, index, columns, dtype, copy)\u001b[0m\n\u001b[1;32m    728\u001b[0m         \u001b[0;32melse\u001b[0m\u001b[0;34m:\u001b[0m\u001b[0;34m\u001b[0m\u001b[0;34m\u001b[0m\u001b[0m\n\u001b[1;32m    729\u001b[0m             \u001b[0;32mif\u001b[0m \u001b[0mindex\u001b[0m \u001b[0;32mis\u001b[0m \u001b[0;32mNone\u001b[0m \u001b[0;32mor\u001b[0m \u001b[0mcolumns\u001b[0m \u001b[0;32mis\u001b[0m \u001b[0;32mNone\u001b[0m\u001b[0;34m:\u001b[0m\u001b[0;34m\u001b[0m\u001b[0;34m\u001b[0m\u001b[0m\n\u001b[0;32m--> 730\u001b[0;31m                 \u001b[0;32mraise\u001b[0m \u001b[0mValueError\u001b[0m\u001b[0;34m(\u001b[0m\u001b[0;34m\"DataFrame constructor not properly called!\"\u001b[0m\u001b[0;34m)\u001b[0m\u001b[0;34m\u001b[0m\u001b[0;34m\u001b[0m\u001b[0m\n\u001b[0m\u001b[1;32m    731\u001b[0m \u001b[0;34m\u001b[0m\u001b[0m\n\u001b[1;32m    732\u001b[0m             \u001b[0;31m# Argument 1 to \"ensure_index\" has incompatible type \"Collection[Any]\";\u001b[0m\u001b[0;34m\u001b[0m\u001b[0;34m\u001b[0m\u001b[0;34m\u001b[0m\u001b[0m\n",
      "\u001b[0;31mValueError\u001b[0m: DataFrame constructor not properly called!"
     ]
    }
   ],
   "source": [
    "doc_bin = pd.DataFrame(doc_bin)\n",
    "doc_bin"
   ]
  },
  {
   "cell_type": "code",
   "execution_count": 287,
   "id": "8ba59698-df98-436d-a58a-7caf520d1007",
   "metadata": {},
   "outputs": [],
   "source": [
    "update = pd.DataFrame(examples)\n",
    "initial_train_data['index'] = initial_train_data.index\n",
    "update['index'] = update.index"
   ]
  },
  {
   "cell_type": "code",
   "execution_count": 288,
   "id": "f669e86f-cef6-4c1d-aa78-e3617e47b999",
   "metadata": {},
   "outputs": [],
   "source": [
    "\n",
    "in_train = initial_train_data.merge(update, on=['text'], how='left', suffixes=('_initial', '_updated'))"
   ]
  },
  {
   "cell_type": "code",
   "execution_count": 289,
   "id": "f39f729c-0a3b-45bd-bd1b-4a10b49d495f",
   "metadata": {},
   "outputs": [],
   "source": [
    "in_train = in_train[in_train['index_updated'].isnull()==False]"
   ]
  },
  {
   "cell_type": "code",
   "execution_count": 290,
   "id": "c36eee15-8260-4b5b-ac1b-8756e024f780",
   "metadata": {},
   "outputs": [],
   "source": [
    "#Check if there is a change in the span... given the model is already trained, do we start from scratch?\n",
    "in_train['spans_initial'] = in_train['spans_initial'].astype(str)\n",
    "in_train['spans_updated'] = in_train['spans_updated'].astype(str)"
   ]
  },
  {
   "cell_type": "code",
   "execution_count": 291,
   "id": "e7213d69-8ff2-46b3-bf83-0cf68e5f1b40",
   "metadata": {},
   "outputs": [],
   "source": [
    "different_spans = in_train[in_train['spans_initial'] != in_train['spans_updated']]"
   ]
  },
  {
   "cell_type": "code",
   "execution_count": 292,
   "id": "8f876dee-d733-413e-ade8-8a110f47827b",
   "metadata": {},
   "outputs": [],
   "source": [
    "#new_examples = new_examples[new_examples['spans'].astype(str) != '[]']\n",
    "\n",
    "new_examples = initial_train_data.merge(update, on=['text'], how='right', suffixes=('_initial', '_updated'))\n",
    "new_examples = new_examples[new_examples['index_initial'].isnull()==False]\n",
    "new_examples = new_examples[['text', 'spans_initial']]\n",
    "new_examples.columns  = ['text', 'spans']\n",
    "\n",
    "new_examples = new_examples.reset_index(drop=True)"
   ]
  },
  {
   "cell_type": "code",
   "execution_count": 293,
   "id": "083b7d78-7a5f-4ad0-8eba-a531835209e0",
   "metadata": {},
   "outputs": [
    {
     "data": {
      "text/plain": [
       "(GPS,)"
      ]
     },
     "execution_count": 293,
     "metadata": {},
     "output_type": "execute_result"
    }
   ],
   "source": [
    "from spacy.tokens import Doc\n",
    "doc = nlp('GPS')\n",
    "doc.ents"
   ]
  },
  {
   "cell_type": "code",
   "execution_count": 158,
   "id": "db1877d9-a7ab-4626-bf3b-a22feb505063",
   "metadata": {},
   "outputs": [],
   "source": [
    "def iterate_minibatches(inputs, targets, batchsize, shuffle=False):\n",
    "    assert inputs.shape[0] == targets.shape[0]\n",
    "    if shuffle:\n",
    "        indices = np.arange(inputs.shape[0])\n",
    "        np.random.shuffle(indices)\n",
    "    for start_idx in range(0, inputs.shape[0] - batchsize + 1, batchsize):\n",
    "        if shuffle:\n",
    "            excerpt = indices[start_idx:start_idx + batchsize]\n",
    "        else:\n",
    "            excerpt = slice(start_idx, start_idx + batchsize)\n",
    "        yield inputs[excerpt], targets[excerpt]"
   ]
  },
  {
   "cell_type": "code",
   "execution_count": 159,
   "id": "99511c3f-f759-48e7-a905-ed9d4d03a179",
   "metadata": {},
   "outputs": [
    {
     "ename": "NameError",
     "evalue": "name 'new_examples' is not defined",
     "output_type": "error",
     "traceback": [
      "\u001b[0;31m---------------------------------------------------------------------------\u001b[0m",
      "\u001b[0;31mNameError\u001b[0m                                 Traceback (most recent call last)",
      "\u001b[0;32m<ipython-input-159-337bf5fec05e>\u001b[0m in \u001b[0;36m<module>\u001b[0;34m\u001b[0m\n\u001b[0;32m----> 1\u001b[0;31m \u001b[0mlen\u001b[0m\u001b[0;34m(\u001b[0m\u001b[0mnew_examples\u001b[0m\u001b[0;34m)\u001b[0m\u001b[0;34m\u001b[0m\u001b[0;34m\u001b[0m\u001b[0m\n\u001b[0m",
      "\u001b[0;31mNameError\u001b[0m: name 'new_examples' is not defined"
     ]
    }
   ],
   "source": [
    "len(new_examples)"
   ]
  },
  {
   "cell_type": "markdown",
   "id": "5922f384-9dd8-425e-961b-abdaf9290425",
   "metadata": {},
   "source": [
    "#### Catastrophic forgetting test"
   ]
  },
  {
   "cell_type": "code",
   "execution_count": 157,
   "id": "8cc02e9e-9531-4d74-87c2-75010dd1d516",
   "metadata": {},
   "outputs": [
    {
     "name": "stdout",
     "output_type": "stream",
     "text": [
      "0\n"
     ]
    },
    {
     "ename": "NameError",
     "evalue": "name 'iterate_minibatches' is not defined",
     "output_type": "error",
     "traceback": [
      "\u001b[0;31m---------------------------------------------------------------------------\u001b[0m",
      "\u001b[0;31mNameError\u001b[0m                                 Traceback (most recent call last)",
      "\u001b[0;32m<ipython-input-157-6c3a0c361eeb>\u001b[0m in \u001b[0;36m<module>\u001b[0;34m\u001b[0m\n\u001b[1;32m     25\u001b[0m \u001b[0;34m\u001b[0m\u001b[0m\n\u001b[1;32m     26\u001b[0m \u001b[0;34m\u001b[0m\u001b[0m\n\u001b[0;32m---> 27\u001b[0;31m         for batch in iterate_minibatches(new_examples['text'] ,\n\u001b[0m\u001b[1;32m     28\u001b[0m                                          \u001b[0mnew_examples\u001b[0m\u001b[0;34m[\u001b[0m\u001b[0;34m'spans'\u001b[0m\u001b[0;34m]\u001b[0m\u001b[0;34m,\u001b[0m\u001b[0;34m\u001b[0m\u001b[0;34m\u001b[0m\u001b[0m\n\u001b[1;32m     29\u001b[0m                                          \u001b[0mbatchsize\u001b[0m\u001b[0;34m=\u001b[0m\u001b[0;36m67\u001b[0m\u001b[0;34m,\u001b[0m\u001b[0;34m\u001b[0m\u001b[0;34m\u001b[0m\u001b[0m\n",
      "\u001b[0;31mNameError\u001b[0m: name 'iterate_minibatches' is not defined"
     ]
    }
   ],
   "source": [
    "\n",
    "import numpy as np\n",
    "from spacy.training import Example\n",
    "batch_size = 2\n",
    "import random\n",
    "\n",
    "\n",
    "other_pipes = [pipe for pipe in nlp.pipe_names if pipe != 'ner']\n",
    "\n",
    "\n",
    "n_iter = 20\n",
    "\n",
    "forget_test = []\n",
    "for repeat in range(0, 3):\n",
    "    \n",
    "    print(repeat)\n",
    "    \n",
    "    #reload the model\n",
    "    nlp = spacy.load(\"/home/spenser/prodigy/nasa_model/model-best/\")\n",
    "    optimizer = nlp.create_optimizer()\n",
    "    \n",
    "    for itn in range(n_iter):\n",
    "        losses = {}\n",
    "        \n",
    "        #shuffled = new_examples.sample(len(new_examples)) #check process for reproducibility\n",
    "        \n",
    "        \n",
    "        for batch in iterate_minibatches(new_examples['text'] ,\n",
    "                                         new_examples['spans'], \n",
    "                                         batchsize=67, \n",
    "                                         shuffle=True):\n",
    "\n",
    "            batch_texts = batch[0].reset_index(drop=True)\n",
    "            batch_annotations = batch[1].reset_index(drop=True)\n",
    "            example_batch_list = []\n",
    "            for i in range(0, len(batch)):\n",
    "\n",
    "\n",
    "                doc = nlp.make_doc(batch_texts.iloc[i])\n",
    "                annotations = batch_annotations.iloc[i]\n",
    "\n",
    "                entity_list = []\n",
    "                for i in range(0, len(annotations)):\n",
    "                    \n",
    "                    start = annotations[i]['start']\n",
    "                    end = annotations[i]['end']\n",
    "                    label = annotations[i]['label']\n",
    "\n",
    "                    entity_list.append((start, end, label))\n",
    "\n",
    "                annotations_dict = {'entities': entity_list}\n",
    "                example = Example.from_dict(doc, annotations_dict)\n",
    "                example_batch_list.append(example)\n",
    "\n",
    "            nlp.update(example_batch_list, drop=0.35, sgd=optimizer, losses=losses)\n",
    "            #print(losses)\n",
    "\n",
    "\n",
    "    doc = nlp('GPS')    \n",
    "    print(doc.ents)\n",
    "    forget_test.append(doc.ents)\n",
    "\n"
   ]
  },
  {
   "cell_type": "code",
   "execution_count": 80,
   "id": "d740e714-a01e-4d12-afda-ef9f68771907",
   "metadata": {},
   "outputs": [
    {
     "data": {
      "text/plain": [
       "(GPS,)"
      ]
     },
     "execution_count": 80,
     "metadata": {},
     "output_type": "execute_result"
    }
   ],
   "source": [
    "doc.ents"
   ]
  },
  {
   "cell_type": "code",
   "execution_count": 91,
   "id": "1b2e19bb-230f-47de-8069-71a4e1633f88",
   "metadata": {},
   "outputs": [],
   "source": [
    "doc = nlp('GPS')   "
   ]
  },
  {
   "cell_type": "code",
   "execution_count": 92,
   "id": "4d28778b-831a-4f02-9041-bbad67a5d1b2",
   "metadata": {},
   "outputs": [
    {
     "data": {
      "text/plain": [
       "(GPS,)"
      ]
     },
     "execution_count": 92,
     "metadata": {},
     "output_type": "execute_result"
    }
   ],
   "source": [
    "doc.ents"
   ]
  },
  {
   "cell_type": "code",
   "execution_count": 78,
   "id": "344b9ae4-4818-463d-b550-50a59e8a8845",
   "metadata": {},
   "outputs": [],
   "source": [
    "doc = nlp('GPS')\n",
    "gps = doc.ents"
   ]
  },
  {
   "cell_type": "code",
   "execution_count": 85,
   "id": "18468963-b0c9-458e-bc2c-754d854c808c",
   "metadata": {},
   "outputs": [],
   "source": [
    "nlp = spacy.load(\"/home/spenser/prodigy/nasa_model/model-best/\")"
   ]
  },
  {
   "cell_type": "code",
   "execution_count": 93,
   "id": "b5d2fa85-9d60-4c80-b7d1-9003fa059726",
   "metadata": {},
   "outputs": [
    {
     "data": {
      "text/plain": [
       "(GPS,)"
      ]
     },
     "execution_count": 93,
     "metadata": {},
     "output_type": "execute_result"
    }
   ],
   "source": [
    "doc = nlp('GPS')\n",
    "doc.ents"
   ]
  },
  {
   "cell_type": "code",
   "execution_count": 82,
   "id": "dffc8eed-81e5-4a29-ad50-7e9666fa24f1",
   "metadata": {},
   "outputs": [
    {
     "data": {
      "text/plain": [
       "<spacy.lang.en.English at 0x7f68edb48c10>"
      ]
     },
     "execution_count": 82,
     "metadata": {},
     "output_type": "execute_result"
    }
   ],
   "source": [
    "nlp"
   ]
  },
  {
   "cell_type": "code",
   "execution_count": 146,
   "id": "e8f4cf0b-d5a6-4715-8384-a65fc3d2d0de",
   "metadata": {},
   "outputs": [
    {
     "name": "stdout",
     "output_type": "stream",
     "text": [
      "0\n"
     ]
    },
    {
     "ename": "NameError",
     "evalue": "name 'iterate_minibatches' is not defined",
     "output_type": "error",
     "traceback": [
      "\u001b[0;31m---------------------------------------------------------------------------\u001b[0m",
      "\u001b[0;31mNameError\u001b[0m                                 Traceback (most recent call last)",
      "\u001b[0;32m<ipython-input-146-b61bd0b8e4a2>\u001b[0m in \u001b[0;36m<module>\u001b[0;34m\u001b[0m\n\u001b[1;32m     22\u001b[0m \u001b[0;34m\u001b[0m\u001b[0m\n\u001b[1;32m     23\u001b[0m \u001b[0;34m\u001b[0m\u001b[0m\n\u001b[0;32m---> 24\u001b[0;31m     for batch in iterate_minibatches(new_examples['text'] ,\n\u001b[0m\u001b[1;32m     25\u001b[0m                                      \u001b[0mnew_examples\u001b[0m\u001b[0;34m[\u001b[0m\u001b[0;34m'spans'\u001b[0m\u001b[0;34m]\u001b[0m\u001b[0;34m,\u001b[0m\u001b[0;34m\u001b[0m\u001b[0;34m\u001b[0m\u001b[0m\n\u001b[1;32m     26\u001b[0m                                      \u001b[0mbatchsize\u001b[0m\u001b[0;34m=\u001b[0m\u001b[0;36m67\u001b[0m\u001b[0;34m,\u001b[0m\u001b[0;34m\u001b[0m\u001b[0;34m\u001b[0m\u001b[0m\n",
      "\u001b[0;31mNameError\u001b[0m: name 'iterate_minibatches' is not defined"
     ]
    }
   ],
   "source": [
    "\n",
    "import numpy as np\n",
    "from spacy.training import Example\n",
    "batch_size = 2\n",
    "import random\n",
    "\n",
    "\n",
    "other_pipes = [pipe for pipe in nlp.pipe_names if pipe != 'ner']\n",
    "\n",
    "\n",
    "\n",
    "from spacy.training import Example\n",
    "import random\n",
    "import spacy\n",
    "nlp = spacy.load(\"/home/spenser/prodigy/nasa_model/model-best/\")\n",
    "\n",
    "optimizer = nlp.create_optimizer()\n",
    "for itn in range(20):\n",
    "    print(itn)\n",
    "    losses = {}\n",
    "\n",
    "    #shuffled = new_examples.sample(len(new_examples)) #check process for reproducibility\n",
    "\n",
    "\n",
    "    for batch in iterate_minibatches(new_examples['text'] ,\n",
    "                                     new_examples['spans'], \n",
    "                                     batchsize=67, \n",
    "                                     shuffle=True):\n",
    "\n",
    "        batch_texts = batch[0].reset_index(drop=True)\n",
    "        batch_annotations = batch[1].reset_index(drop=True)\n",
    "        example_batch_list = []\n",
    "        for i in range(0, len(batch)):\n",
    "\n",
    "\n",
    "            doc = nlp.make_doc(batch_texts.iloc[i])\n",
    "            annotations = batch_annotations.iloc[i]\n",
    "\n",
    "            entity_list = []\n",
    "            for i in range(0, len(annotations)):\n",
    "\n",
    "                start = annotations[i]['start']\n",
    "                end = annotations[i]['end']\n",
    "                label = annotations[i]['label']\n",
    "\n",
    "                entity_list.append((start, end, label))\n",
    "\n",
    "            annotations_dict = {'entities': entity_list}\n",
    "            example = Example.from_dict(doc, annotations_dict)\n",
    "            example_batch_list.append(example)\n",
    "\n",
    "        nlp.update(example_batch_list, drop=0.35, sgd=optimizer, losses=losses)\n",
    "        print(losses)\n",
    "\n",
    "\n"
   ]
  },
  {
   "cell_type": "code",
   "execution_count": 148,
   "id": "ea242321-27ee-4766-a9b7-9abecb3e35a9",
   "metadata": {},
   "outputs": [
    {
     "data": {
      "text/plain": [
       "[{'text': 'this is a test', 'entities': (0, 4, 'ENTITY')}]"
      ]
     },
     "execution_count": 148,
     "metadata": {},
     "output_type": "execute_result"
    }
   ],
   "source": [
    "[{'text': 'this is a test', 'entities': (0, 4, \"ENTITY\")}]"
   ]
  },
  {
   "cell_type": "code",
   "execution_count": 151,
   "id": "c761f77d-f47f-4434-85a1-77d3824499ed",
   "metadata": {},
   "outputs": [],
   "source": [
    "doc = nlp('this is a text')\n",
    "annotations_dict = {'entities': [(0, 4, \"ENTITY\")]}\n",
    "\n",
    "example = Example.from_dict(doc, annotations_dict)"
   ]
  },
  {
   "cell_type": "code",
   "execution_count": 154,
   "id": "821a48e9-3b07-4eac-aab1-ae72778af808",
   "metadata": {},
   "outputs": [
    {
     "data": {
      "text/plain": [
       "{'doc_annotation': {'cats': {},\n",
       "  'entities': ['U-ENTITY', 'O', 'O', 'O'],\n",
       "  'links': {}},\n",
       " 'token_annotation': {'ORTH': ['this', 'is', 'a', 'text'],\n",
       "  'SPACY': [True, True, True, False],\n",
       "  'TAG': ['', '', '', ''],\n",
       "  'LEMMA': ['', '', '', ''],\n",
       "  'POS': ['', '', '', ''],\n",
       "  'MORPH': ['', '', '', ''],\n",
       "  'HEAD': [0, 1, 2, 3],\n",
       "  'DEP': ['', '', '', ''],\n",
       "  'SENT_START': [1, 0, 0, 0]}}"
      ]
     },
     "execution_count": 154,
     "metadata": {},
     "output_type": "execute_result"
    }
   ],
   "source": [
    "example.to_dict()"
   ]
  },
  {
   "cell_type": "code",
   "execution_count": 156,
   "id": "e957f6e7-bb7b-40de-9273-6103d0b3c46b",
   "metadata": {},
   "outputs": [
    {
     "data": {
      "text/plain": [
       "{'doc_annotation': {'cats': {}, 'entities': ['U-ENTITY', 'O', 'O', 'O'], 'links': {}}, 'token_annotation': {'ORTH': ['this', 'is', 'a', 'text'], 'SPACY': [True, True, True, False], 'TAG': ['', '', '', ''], 'LEMMA': ['', '', '', ''], 'POS': ['', '', '', ''], 'MORPH': ['', '', '', ''], 'HEAD': [0, 1, 2, 3], 'DEP': ['', '', '', ''], 'SENT_START': [1, 0, 0, 0]}}"
      ]
     },
     "execution_count": 156,
     "metadata": {},
     "output_type": "execute_result"
    }
   ],
   "source": [
    "example"
   ]
  },
  {
   "cell_type": "code",
   "execution_count": null,
   "id": "399c3d07-2a9a-4d3e-b4c9-1014b4941333",
   "metadata": {},
   "outputs": [],
   "source": [
    "example = Example.from_dict(doc, annotations_dict)"
   ]
  },
  {
   "cell_type": "code",
   "execution_count": null,
   "id": "600300f5-3264-4f70-afa8-00fe6a684fe2",
   "metadata": {},
   "outputs": [],
   "source": [
    "example = Example.from_dict(doc, annotations_dict)"
   ]
  },
  {
   "cell_type": "code",
   "execution_count": 83,
   "id": "6bd6eedf-0526-436f-84d3-e7a0034a939f",
   "metadata": {},
   "outputs": [
    {
     "data": {
      "text/plain": [
       "(GPS,)"
      ]
     },
     "execution_count": 83,
     "metadata": {},
     "output_type": "execute_result"
    }
   ],
   "source": [
    "from spacy.tokens import Doc\n",
    "doc = nlp('GPS satellite imagery')\n",
    "doc.ents"
   ]
  },
  {
   "cell_type": "code",
   "execution_count": 87,
   "id": "2be24c95-0995-486d-89cf-33409d4dced9",
   "metadata": {},
   "outputs": [],
   "source": [
    "from spacy.tokens import Doc\n",
    "doc = nlp('This is a GPS Satellite.')\n",
    "gps = doc.ents"
   ]
  },
  {
   "cell_type": "code",
   "execution_count": 88,
   "id": "ba7930f3-2f2c-4a3d-8bab-83b957909961",
   "metadata": {},
   "outputs": [],
   "source": [
    "from spacy.tokens import Doc\n",
    "doc = nlp('GPS')\n",
    "gps = doc.ents"
   ]
  },
  {
   "cell_type": "code",
   "execution_count": 89,
   "id": "10615736-7af7-4a4d-95cc-d08bd3908025",
   "metadata": {},
   "outputs": [
    {
     "data": {
      "text/plain": [
       "(GPS,)"
      ]
     },
     "execution_count": 89,
     "metadata": {},
     "output_type": "execute_result"
    }
   ],
   "source": [
    "gps"
   ]
  },
  {
   "cell_type": "code",
   "execution_count": 108,
   "id": "b5d96478-3905-4a63-be59-53a9ea0fd082",
   "metadata": {},
   "outputs": [],
   "source": [
    "nlp.to_disk(\"/home/spenser/prodigy/nasa_model/update_01\")"
   ]
  },
  {
   "cell_type": "code",
   "execution_count": 116,
   "id": "163efdad-68f3-433d-8c74-a7cfc652b45a",
   "metadata": {},
   "outputs": [],
   "source": [
    "nlp.to_disk(\"/home/spenser/prodigy/nasa_model/update_01\")\n",
    "update.to_csv(\"update_01.csv\", index=False)"
   ]
  },
  {
   "cell_type": "markdown",
   "id": "8dc82d70-7942-4a73-85d0-c21dbd37b403",
   "metadata": {},
   "source": [
    "<hr>"
   ]
  },
  {
   "cell_type": "markdown",
   "id": "e57eae43-f9a1-4758-b0f1-de19f6fd4d1f",
   "metadata": {},
   "source": [
    "### Retrain 2"
   ]
  },
  {
   "cell_type": "code",
   "execution_count": null,
   "id": "322b48f3-b5c5-4a87-83cf-6f22d9f58f7b",
   "metadata": {},
   "outputs": [],
   "source": [
    "prodigy ner.correct spacy_schema /home/spenser/prodigy/nasa_model/update_01/ ./prodigy/nasa.txt --label SPACECRAFT"
   ]
  },
  {
   "cell_type": "code",
   "execution_count": 296,
   "id": "3f4e19dc-f097-4a19-9d4c-f130324e44d6",
   "metadata": {},
   "outputs": [],
   "source": [
    "MODEL_PATH = \"/home/spenser/prodigy/nasa_model/update_01/\"\n",
    "updated_nlp = spacy.load(MODEL_PATH)"
   ]
  },
  {
   "cell_type": "code",
   "execution_count": 297,
   "id": "b2fbd8cf-6c69-442a-8a66-b1d3e3790d85",
   "metadata": {},
   "outputs": [],
   "source": [
    "from prodigy.components.db import connect\n",
    "import pandas as pd \n",
    "db = connect()\n",
    "dataset = db.get_dataset(\"spacy_schema\")\n",
    "dataset = pd.DataFrame(dataset)\n",
    "#Search for ignored and ensure that they don't enter the spacy training data.\n",
    "dataset.to_csv(\"/home/spenser/prodigy/spacy_schema_updated.csv\")"
   ]
  },
  {
   "cell_type": "code",
   "execution_count": 144,
   "id": "ba21045e-bcdd-4186-9128-eda60da91f8c",
   "metadata": {},
   "outputs": [],
   "source": [
    "### Always takes from spacy database... Overwrite dev and train in ./nasa_data_updated"
   ]
  },
  {
   "cell_type": "code",
   "execution_count": 360,
   "id": "1df369f1-91da-4ac7-9486-c3e02a0edad8",
   "metadata": {},
   "outputs": [
    {
     "name": "stdout",
     "output_type": "stream",
     "text": [
      "\u001b[38;5;4mℹ Using language 'en'\u001b[0m\n",
      "Your CPU supports instructions that this binary was not compiled to use: SSE3 SSE4.1 SSE4.2 AVX AVX2\n",
      "For maximum performance, you can install NMSLIB from sources \n",
      "pip install --no-binary :all: nmslib\n",
      "\u001b[1m\n",
      "============================== Generating data ==============================\u001b[0m\n",
      "Components: ner\n",
      "Merging training and evaluation data for 1 components\n",
      "  - [ner] Training: 287 | Evaluation: 0 (0% split)\n",
      "Training: 284 | Evaluation: 0\n",
      "Labels: ner (1)\n",
      "\u001b[38;5;2m✔ Saved 284 training examples\u001b[0m\n",
      "nasa_data_updated/train.spacy\n",
      "\u001b[38;5;3m⚠ No evaluation data. You can provide dedicated evaluation sets for the\n",
      "different components using the eval: prefix, or set an --eval-split to hold back\n",
      "a percentage for evaluation. If you already have a dev set available, you can\n",
      "specify its correct path as the '--paths.dev' argument to 'spacy train'.\u001b[0m\n",
      "\u001b[1m\n",
      "============================= Generating config =============================\u001b[0m\n",
      "\u001b[38;5;4mℹ Auto-generating config with spaCy\u001b[0m\n",
      "\u001b[38;5;2m✔ Generated training config\u001b[0m\n",
      "\u001b[1m\n",
      "======================== Generating cached label data ========================\u001b[0m\n",
      "\u001b[38;5;2m✔ Saving label data for component 'ner'\u001b[0m\n",
      "nasa_data_updated/labels/ner.json\n",
      "\u001b[1m\n",
      "============================= Finalizing export =============================\u001b[0m\n",
      "\u001b[38;5;2m✔ Saved training config\u001b[0m\n",
      "nasa_data_updated/config.cfg\n",
      "\n",
      "To use this data for training with spaCy, you can run:\n",
      "python -m spacy train nasa_data_updated/config.cfg --paths.train nasa_data_updated/train.spacy --paths.dev nasa_data_updated/dev.spacy\n"
     ]
    }
   ],
   "source": [
    "!prodigy data-to-spacy ./nasa_data_updated --ner spacy_schema --eval-split 0"
   ]
  },
  {
   "cell_type": "code",
   "execution_count": 90,
   "id": "38758125-57c1-48f2-8b31-f0d8ba6dbe5b",
   "metadata": {},
   "outputs": [
    {
     "ename": "ImportError",
     "evalue": "[E048] Can't import language en_core_web_sm from spacy.lang: No module named 'spacy.lang.en_core_web_sm'",
     "output_type": "error",
     "traceback": [
      "\u001b[0;31m---------------------------------------------------------------------------\u001b[0m",
      "\u001b[0;31mModuleNotFoundError\u001b[0m                       Traceback (most recent call last)",
      "\u001b[0;32m~/anaconda3/envs/spacy_test/lib/python3.8/site-packages/spacy/util.py\u001b[0m in \u001b[0;36mget_lang_class\u001b[0;34m(lang)\u001b[0m\n\u001b[1;32m    270\u001b[0m         \u001b[0;32mtry\u001b[0m\u001b[0;34m:\u001b[0m\u001b[0;34m\u001b[0m\u001b[0;34m\u001b[0m\u001b[0m\n\u001b[0;32m--> 271\u001b[0;31m             \u001b[0mmodule\u001b[0m \u001b[0;34m=\u001b[0m \u001b[0mimportlib\u001b[0m\u001b[0;34m.\u001b[0m\u001b[0mimport_module\u001b[0m\u001b[0;34m(\u001b[0m\u001b[0;34mf\".lang.{lang}\"\u001b[0m\u001b[0;34m,\u001b[0m \u001b[0;34m\"spacy\"\u001b[0m\u001b[0;34m)\u001b[0m\u001b[0;34m\u001b[0m\u001b[0;34m\u001b[0m\u001b[0m\n\u001b[0m\u001b[1;32m    272\u001b[0m         \u001b[0;32mexcept\u001b[0m \u001b[0mImportError\u001b[0m \u001b[0;32mas\u001b[0m \u001b[0merr\u001b[0m\u001b[0;34m:\u001b[0m\u001b[0;34m\u001b[0m\u001b[0;34m\u001b[0m\u001b[0m\n",
      "\u001b[0;32m~/anaconda3/envs/spacy_test/lib/python3.8/importlib/__init__.py\u001b[0m in \u001b[0;36mimport_module\u001b[0;34m(name, package)\u001b[0m\n\u001b[1;32m    126\u001b[0m             \u001b[0mlevel\u001b[0m \u001b[0;34m+=\u001b[0m \u001b[0;36m1\u001b[0m\u001b[0;34m\u001b[0m\u001b[0;34m\u001b[0m\u001b[0m\n\u001b[0;32m--> 127\u001b[0;31m     \u001b[0;32mreturn\u001b[0m \u001b[0m_bootstrap\u001b[0m\u001b[0;34m.\u001b[0m\u001b[0m_gcd_import\u001b[0m\u001b[0;34m(\u001b[0m\u001b[0mname\u001b[0m\u001b[0;34m[\u001b[0m\u001b[0mlevel\u001b[0m\u001b[0;34m:\u001b[0m\u001b[0;34m]\u001b[0m\u001b[0;34m,\u001b[0m \u001b[0mpackage\u001b[0m\u001b[0;34m,\u001b[0m \u001b[0mlevel\u001b[0m\u001b[0;34m)\u001b[0m\u001b[0;34m\u001b[0m\u001b[0;34m\u001b[0m\u001b[0m\n\u001b[0m\u001b[1;32m    128\u001b[0m \u001b[0;34m\u001b[0m\u001b[0m\n",
      "\u001b[0;32m~/anaconda3/envs/spacy_test/lib/python3.8/importlib/_bootstrap.py\u001b[0m in \u001b[0;36m_gcd_import\u001b[0;34m(name, package, level)\u001b[0m\n",
      "\u001b[0;32m~/anaconda3/envs/spacy_test/lib/python3.8/importlib/_bootstrap.py\u001b[0m in \u001b[0;36m_find_and_load\u001b[0;34m(name, import_)\u001b[0m\n",
      "\u001b[0;32m~/anaconda3/envs/spacy_test/lib/python3.8/importlib/_bootstrap.py\u001b[0m in \u001b[0;36m_find_and_load_unlocked\u001b[0;34m(name, import_)\u001b[0m\n",
      "\u001b[0;31mModuleNotFoundError\u001b[0m: No module named 'spacy.lang.en_core_web_sm'",
      "\nThe above exception was the direct cause of the following exception:\n",
      "\u001b[0;31mImportError\u001b[0m                               Traceback (most recent call last)",
      "\u001b[0;32m<ipython-input-90-0e9facee25e3>\u001b[0m in \u001b[0;36m<module>\u001b[0;34m\u001b[0m\n\u001b[1;32m      4\u001b[0m \u001b[0mdoc_bin\u001b[0m \u001b[0;34m=\u001b[0m \u001b[0mDocBin\u001b[0m\u001b[0;34m(\u001b[0m\u001b[0;34m)\u001b[0m\u001b[0;34m.\u001b[0m\u001b[0mfrom_disk\u001b[0m\u001b[0;34m(\u001b[0m\u001b[0minput_path\u001b[0m\u001b[0;34m)\u001b[0m\u001b[0;34m\u001b[0m\u001b[0;34m\u001b[0m\u001b[0m\n\u001b[1;32m      5\u001b[0m \u001b[0;31m#examples = pd.DataFrame(examples)\u001b[0m\u001b[0;34m\u001b[0m\u001b[0;34m\u001b[0m\u001b[0;34m\u001b[0m\u001b[0m\n\u001b[0;32m----> 6\u001b[0;31m \u001b[0mannotations\u001b[0m \u001b[0;34m=\u001b[0m \u001b[0mformat_annotations\u001b[0m\u001b[0;34m(\u001b[0m\u001b[0mdoc_bin\u001b[0m\u001b[0;34m)\u001b[0m\u001b[0;34m\u001b[0m\u001b[0;34m\u001b[0m\u001b[0m\n\u001b[0m\u001b[1;32m      7\u001b[0m \u001b[0mannotations\u001b[0m \u001b[0;34m=\u001b[0m \u001b[0mpd\u001b[0m\u001b[0;34m.\u001b[0m\u001b[0mDataFrame\u001b[0m\u001b[0;34m(\u001b[0m\u001b[0mannotations\u001b[0m\u001b[0;34m)\u001b[0m\u001b[0;34m\u001b[0m\u001b[0;34m\u001b[0m\u001b[0m\n\u001b[1;32m      8\u001b[0m \u001b[0mlen\u001b[0m\u001b[0;34m(\u001b[0m\u001b[0mannotations\u001b[0m\u001b[0;34m)\u001b[0m\u001b[0;34m\u001b[0m\u001b[0;34m\u001b[0m\u001b[0m\n",
      "\u001b[0;32m<ipython-input-80-d7386c57e05f>\u001b[0m in \u001b[0;36mformat_annotations\u001b[0;34m(doc_bin)\u001b[0m\n\u001b[1;32m     12\u001b[0m          'spans': [{\"start\": 0, \"end\": 6, \"label\": label}]}\n\u001b[1;32m     13\u001b[0m     \"\"\"\n\u001b[0;32m---> 14\u001b[0;31m     \u001b[0mnlp\u001b[0m \u001b[0;34m=\u001b[0m \u001b[0mspacy\u001b[0m\u001b[0;34m.\u001b[0m\u001b[0mblank\u001b[0m\u001b[0;34m(\u001b[0m\u001b[0;34m\"en_core_web_sm\"\u001b[0m\u001b[0;34m)\u001b[0m \u001b[0;31m# use blank nlp model for text parsing.\u001b[0m\u001b[0;34m\u001b[0m\u001b[0;34m\u001b[0m\u001b[0m\n\u001b[0m\u001b[1;32m     15\u001b[0m     \u001b[0mannotations\u001b[0m \u001b[0;34m=\u001b[0m \u001b[0;34m[\u001b[0m\u001b[0;34m]\u001b[0m\u001b[0;34m\u001b[0m\u001b[0;34m\u001b[0m\u001b[0m\n\u001b[1;32m     16\u001b[0m     \u001b[0;32mfor\u001b[0m \u001b[0mdoc\u001b[0m \u001b[0;32min\u001b[0m \u001b[0mdoc_bin\u001b[0m\u001b[0;34m.\u001b[0m\u001b[0mget_docs\u001b[0m\u001b[0;34m(\u001b[0m\u001b[0mnlp\u001b[0m\u001b[0;34m.\u001b[0m\u001b[0mvocab\u001b[0m\u001b[0;34m)\u001b[0m\u001b[0;34m:\u001b[0m\u001b[0;34m\u001b[0m\u001b[0;34m\u001b[0m\u001b[0m\n",
      "\u001b[0;32m~/anaconda3/envs/spacy_test/lib/python3.8/site-packages/spacy/__init__.py\u001b[0m in \u001b[0;36mblank\u001b[0;34m(name, vocab, config, meta)\u001b[0m\n\u001b[1;32m     69\u001b[0m     \u001b[0mRETURNS\u001b[0m \u001b[0;34m(\u001b[0m\u001b[0mLanguage\u001b[0m\u001b[0;34m)\u001b[0m\u001b[0;34m:\u001b[0m \u001b[0mThe\u001b[0m \u001b[0mnlp\u001b[0m \u001b[0mobject\u001b[0m\u001b[0;34m.\u001b[0m\u001b[0;34m\u001b[0m\u001b[0;34m\u001b[0m\u001b[0m\n\u001b[1;32m     70\u001b[0m     \"\"\"\n\u001b[0;32m---> 71\u001b[0;31m     \u001b[0mLangClass\u001b[0m \u001b[0;34m=\u001b[0m \u001b[0mutil\u001b[0m\u001b[0;34m.\u001b[0m\u001b[0mget_lang_class\u001b[0m\u001b[0;34m(\u001b[0m\u001b[0mname\u001b[0m\u001b[0;34m)\u001b[0m\u001b[0;34m\u001b[0m\u001b[0;34m\u001b[0m\u001b[0m\n\u001b[0m\u001b[1;32m     72\u001b[0m     \u001b[0;31m# We should accept both dot notation and nested dict here for consistency\u001b[0m\u001b[0;34m\u001b[0m\u001b[0;34m\u001b[0m\u001b[0;34m\u001b[0m\u001b[0m\n\u001b[1;32m     73\u001b[0m     \u001b[0mconfig\u001b[0m \u001b[0;34m=\u001b[0m \u001b[0mutil\u001b[0m\u001b[0;34m.\u001b[0m\u001b[0mdot_to_dict\u001b[0m\u001b[0;34m(\u001b[0m\u001b[0mconfig\u001b[0m\u001b[0;34m)\u001b[0m\u001b[0;34m\u001b[0m\u001b[0;34m\u001b[0m\u001b[0m\n",
      "\u001b[0;32m~/anaconda3/envs/spacy_test/lib/python3.8/site-packages/spacy/util.py\u001b[0m in \u001b[0;36mget_lang_class\u001b[0;34m(lang)\u001b[0m\n\u001b[1;32m    271\u001b[0m             \u001b[0mmodule\u001b[0m \u001b[0;34m=\u001b[0m \u001b[0mimportlib\u001b[0m\u001b[0;34m.\u001b[0m\u001b[0mimport_module\u001b[0m\u001b[0;34m(\u001b[0m\u001b[0;34mf\".lang.{lang}\"\u001b[0m\u001b[0;34m,\u001b[0m \u001b[0;34m\"spacy\"\u001b[0m\u001b[0;34m)\u001b[0m\u001b[0;34m\u001b[0m\u001b[0;34m\u001b[0m\u001b[0m\n\u001b[1;32m    272\u001b[0m         \u001b[0;32mexcept\u001b[0m \u001b[0mImportError\u001b[0m \u001b[0;32mas\u001b[0m \u001b[0merr\u001b[0m\u001b[0;34m:\u001b[0m\u001b[0;34m\u001b[0m\u001b[0;34m\u001b[0m\u001b[0m\n\u001b[0;32m--> 273\u001b[0;31m             \u001b[0;32mraise\u001b[0m \u001b[0mImportError\u001b[0m\u001b[0;34m(\u001b[0m\u001b[0mErrors\u001b[0m\u001b[0;34m.\u001b[0m\u001b[0mE048\u001b[0m\u001b[0;34m.\u001b[0m\u001b[0mformat\u001b[0m\u001b[0;34m(\u001b[0m\u001b[0mlang\u001b[0m\u001b[0;34m=\u001b[0m\u001b[0mlang\u001b[0m\u001b[0;34m,\u001b[0m \u001b[0merr\u001b[0m\u001b[0;34m=\u001b[0m\u001b[0merr\u001b[0m\u001b[0;34m)\u001b[0m\u001b[0;34m)\u001b[0m \u001b[0;32mfrom\u001b[0m \u001b[0merr\u001b[0m\u001b[0;34m\u001b[0m\u001b[0;34m\u001b[0m\u001b[0m\n\u001b[0m\u001b[1;32m    274\u001b[0m         \u001b[0mset_lang_class\u001b[0m\u001b[0;34m(\u001b[0m\u001b[0mlang\u001b[0m\u001b[0;34m,\u001b[0m \u001b[0mgetattr\u001b[0m\u001b[0;34m(\u001b[0m\u001b[0mmodule\u001b[0m\u001b[0;34m,\u001b[0m \u001b[0mmodule\u001b[0m\u001b[0;34m.\u001b[0m\u001b[0m__all__\u001b[0m\u001b[0;34m[\u001b[0m\u001b[0;36m0\u001b[0m\u001b[0;34m]\u001b[0m\u001b[0;34m)\u001b[0m\u001b[0;34m)\u001b[0m  \u001b[0;31m# type: ignore[attr-defined]\u001b[0m\u001b[0;34m\u001b[0m\u001b[0;34m\u001b[0m\u001b[0m\n\u001b[1;32m    275\u001b[0m     \u001b[0;32mreturn\u001b[0m \u001b[0mregistry\u001b[0m\u001b[0;34m.\u001b[0m\u001b[0mlanguages\u001b[0m\u001b[0;34m.\u001b[0m\u001b[0mget\u001b[0m\u001b[0;34m(\u001b[0m\u001b[0mlang\u001b[0m\u001b[0;34m)\u001b[0m\u001b[0;34m\u001b[0m\u001b[0;34m\u001b[0m\u001b[0m\n",
      "\u001b[0;31mImportError\u001b[0m: [E048] Can't import language en_core_web_sm from spacy.lang: No module named 'spacy.lang.en_core_web_sm'"
     ]
    }
   ],
   "source": [
    "import spacy\n",
    "from spacy.tokens import DocBin\n",
    "input_path = \"/home/spenser/prodigy/nasa_data_updated/train.spacy\"\n",
    "doc_bin = DocBin().from_disk(input_path)\n",
    "#examples = pd.DataFrame(examples)\n",
    "annotations = format_annotations(doc_bin)\n",
    "annotations = pd.DataFrame(annotations)\n",
    "len(annotations)"
   ]
  },
  {
   "cell_type": "code",
   "execution_count": 572,
   "id": "d14810f3-3781-4cae-ba70-5b3f8bd74d2d",
   "metadata": {},
   "outputs": [
    {
     "data": {
      "text/plain": [
       "(284, 2)"
      ]
     },
     "execution_count": 572,
     "metadata": {},
     "output_type": "execute_result"
    }
   ],
   "source": [
    "initial_train_data.shape"
   ]
  },
  {
   "cell_type": "code",
   "execution_count": 573,
   "id": "860e6c9b-2be1-417f-96cb-36f60deb0d69",
   "metadata": {},
   "outputs": [
    {
     "data": {
      "text/plain": [
       "418"
      ]
     },
     "execution_count": 573,
     "metadata": {},
     "output_type": "execute_result"
    }
   ],
   "source": [
    "284+134"
   ]
  },
  {
   "cell_type": "code",
   "execution_count": 574,
   "id": "8bde39d0-52c0-4a44-8a94-29b6c161683d",
   "metadata": {},
   "outputs": [],
   "source": [
    "#284"
   ]
  },
  {
   "cell_type": "code",
   "execution_count": 628,
   "id": "419add86-0374-41b9-9b1b-2b1b82e7f1bd",
   "metadata": {},
   "outputs": [],
   "source": [
    "last_update = pd.read_csv(\"update_01.csv\")"
   ]
  },
  {
   "cell_type": "code",
   "execution_count": 629,
   "id": "c9d916d2-c932-40bb-ae23-eb8719232da5",
   "metadata": {},
   "outputs": [],
   "source": [
    "last_update = last_update[['text', 'spans']]"
   ]
  },
  {
   "cell_type": "code",
   "execution_count": 630,
   "id": "31f0d35c-ff90-4476-b9d9-cff93b4c42ab",
   "metadata": {},
   "outputs": [
    {
     "data": {
      "text/plain": [
       "134"
      ]
     },
     "execution_count": 630,
     "metadata": {},
     "output_type": "execute_result"
    }
   ],
   "source": [
    "len(last_update)"
   ]
  },
  {
   "cell_type": "code",
   "execution_count": 631,
   "id": "50793f32-8b8b-47e6-a871-3ed702487c7d",
   "metadata": {},
   "outputs": [
    {
     "data": {
      "text/plain": [
       "134"
      ]
     },
     "execution_count": 631,
     "metadata": {},
     "output_type": "execute_result"
    }
   ],
   "source": [
    "len(initial_train_data)"
   ]
  },
  {
   "cell_type": "code",
   "execution_count": 59,
   "id": "1155ffd5-c638-4c77-abf0-2c42c7a5acf2",
   "metadata": {},
   "outputs": [],
   "source": [
    "train_history = initial_train_data"
   ]
  },
  {
   "cell_type": "code",
   "execution_count": 60,
   "id": "5aafac8a-d027-4dde-9cb2-c1529ea79702",
   "metadata": {},
   "outputs": [],
   "source": [
    "train_history['train_index'] = train_history.index"
   ]
  },
  {
   "cell_type": "code",
   "execution_count": 61,
   "id": "a42c2adb-f28c-4d49-ab4c-89acca376a80",
   "metadata": {},
   "outputs": [
    {
     "data": {
      "text/plain": [
       "(134, 3)"
      ]
     },
     "execution_count": 61,
     "metadata": {},
     "output_type": "execute_result"
    }
   ],
   "source": [
    "train_history.shape"
   ]
  },
  {
   "cell_type": "code",
   "execution_count": 580,
   "id": "b5db67ad-c274-44d8-8b78-6727bcecfa1e",
   "metadata": {},
   "outputs": [
    {
     "data": {
      "text/plain": [
       "306"
      ]
     },
     "execution_count": 580,
     "metadata": {},
     "output_type": "execute_result"
    }
   ],
   "source": [
    "#Do we need this?\n",
    "in_train = train.merge(update, on=['text'], how='left', suffixes=('_initial', '_updated'))\n",
    "len(in_train)"
   ]
  },
  {
   "cell_type": "code",
   "execution_count": 91,
   "id": "2b197b1e-7d25-40ae-8509-4d403c787a7c",
   "metadata": {},
   "outputs": [],
   "source": [
    "def filter_new_annotations(train_history, annotations):\n",
    "    \"\"\"Removes texts used in previous training iterations\n",
    "       from the annotations data. \n",
    "\n",
    "    Args:\n",
    "    train_history -- Dataframe of texts and spans previously used in training.\n",
    "    annotations -- Dataframe of all texts and spans from updated train.spacy\n",
    "\n",
    "    Returns:\n",
    "        A pandas dataframe containing rows of new training texts and entity\n",
    "        spans that can be used to update the NER model.\n",
    "    \"\"\"\n",
    "    merged = train_history.merge(\n",
    "        annotations, on=[\"text\"], how=\"right\", suffixes=(\"_in_train\", \"_new\")\n",
    "    )\n",
    "    new_texts = merged[merged[\"train_index\"].isnull()] # filter to new texts with no train \n",
    "    new_texts = new_texts[[\"text\", \"spans_new\"]]\n",
    "    new_texts.columns = [\"text\", \"spans\"]\n",
    "    new_texts = new_texts.reset_index(drop=True) #reset indexes for batch processing\n",
    "    return new_texts"
   ]
  },
  {
   "cell_type": "code",
   "execution_count": 92,
   "id": "faffe956-f264-434f-bdf3-2bfe94c57e9f",
   "metadata": {},
   "outputs": [
    {
     "ename": "NameError",
     "evalue": "name 'train_history' is not defined",
     "output_type": "error",
     "traceback": [
      "\u001b[0;31m---------------------------------------------------------------------------\u001b[0m",
      "\u001b[0;31mNameError\u001b[0m                                 Traceback (most recent call last)",
      "\u001b[0;32m<ipython-input-92-be008aba81cb>\u001b[0m in \u001b[0;36m<module>\u001b[0;34m\u001b[0m\n\u001b[0;32m----> 1\u001b[0;31m \u001b[0mduplicate\u001b[0m \u001b[0;34m=\u001b[0m \u001b[0mtrain_history\u001b[0m\u001b[0;34m.\u001b[0m\u001b[0miloc\u001b[0m\u001b[0;34m[\u001b[0m\u001b[0;36m6\u001b[0m\u001b[0;34m]\u001b[0m\u001b[0;34m\u001b[0m\u001b[0;34m\u001b[0m\u001b[0m\n\u001b[0m",
      "\u001b[0;31mNameError\u001b[0m: name 'train_history' is not defined"
     ]
    }
   ],
   "source": [
    "duplicate = train_history.iloc[6]"
   ]
  },
  {
   "cell_type": "code",
   "execution_count": 93,
   "id": "b824625d-e421-4c44-9521-dcc5e7360cdb",
   "metadata": {},
   "outputs": [
    {
     "ename": "NameError",
     "evalue": "name 'duplicate' is not defined",
     "output_type": "error",
     "traceback": [
      "\u001b[0;31m---------------------------------------------------------------------------\u001b[0m",
      "\u001b[0;31mNameError\u001b[0m                                 Traceback (most recent call last)",
      "\u001b[0;32m<ipython-input-93-c038a307a42e>\u001b[0m in \u001b[0;36m<module>\u001b[0;34m\u001b[0m\n\u001b[0;32m----> 1\u001b[0;31m duplicate['spans'] = [[{'start': 0, 'end': 5, 'label': 'SPACECRAFT'}],\n\u001b[0m\u001b[1;32m      2\u001b[0m  \u001b[0;34m[\u001b[0m\u001b[0;34m{\u001b[0m\u001b[0;34m'start'\u001b[0m\u001b[0;34m:\u001b[0m \u001b[0;36m287\u001b[0m\u001b[0;34m,\u001b[0m \u001b[0;34m'end'\u001b[0m\u001b[0;34m:\u001b[0m \u001b[0;36m291\u001b[0m\u001b[0;34m,\u001b[0m \u001b[0;34m'label'\u001b[0m\u001b[0;34m:\u001b[0m \u001b[0;34m'SPACECRAFT'\u001b[0m\u001b[0;34m}\u001b[0m\u001b[0;34m]\u001b[0m\u001b[0;34m,\u001b[0m\u001b[0;34m\u001b[0m\u001b[0;34m\u001b[0m\u001b[0m\n\u001b[1;32m      3\u001b[0m  [{'start': 449, 'end': 453, 'label': 'SPACECRAFT'}]]\n",
      "\u001b[0;31mNameError\u001b[0m: name 'duplicate' is not defined"
     ]
    }
   ],
   "source": [
    "duplicate['spans'] = [[{'start': 0, 'end': 5, 'label': 'SPACECRAFT'}],\n",
    " [{'start': 287, 'end': 291, 'label': 'SPACECRAFT'}],\n",
    " [{'start': 449, 'end': 453, 'label': 'SPACECRAFT'}]]"
   ]
  },
  {
   "cell_type": "code",
   "execution_count": 94,
   "id": "acfb63e3-3387-4fbf-a5c1-39ff4e381406",
   "metadata": {},
   "outputs": [],
   "source": [
    "# Note - gets texts in train\n",
    "def compare_train_spans(train_history, annotations):\n",
    "    \"\"\"Outputs a dataframe of duplicate texts with different spans \n",
    "       from the annotations data.\n",
    "\n",
    "    Args:\n",
    "    train_history -- Dataframe of texts and spans previously used in training.\n",
    "    annotations -- Dataframe of all texts and spans from updated train.spacy\n",
    "\n",
    "    Returns:\n",
    "        A dataframe containing annotation examples with different span\n",
    "        start and end points. \n",
    "    \"\"\"\n",
    "    merged = train_history.merge(\n",
    "        annotations, on=[\"text\"], how=\"inner\", suffixes=(\"_in_train\", \"_new\")\n",
    "    )\n",
    "    train_texts = merged[merged[\"train_index\"].isnull() == False]\n",
    "    new_spans = train_texts[train_texts[\"spans_in_train\"] != train_texts[\"spans_new\"]]\n",
    "    # Format dataframe to contain a column for the new texts and span information.\n",
    "    new_spans = new_spans[[\"text\", \"spans_in_train\", \"spans_new\"]]\n",
    "    # Reset indexes so that Spacy's batch iteration functions process the data.\n",
    "    new_spans = new_spans.reset_index(drop=True)\n",
    "    return new_spans"
   ]
  },
  {
   "cell_type": "code",
   "execution_count": 95,
   "id": "2d879723-c77b-4659-9894-ef5406641bc4",
   "metadata": {},
   "outputs": [],
   "source": [
    "#filter_new_train_spans(train_history, test)"
   ]
  },
  {
   "cell_type": "code",
   "execution_count": 96,
   "id": "46e10012-a164-46a3-be2d-48cbfea6a3b3",
   "metadata": {},
   "outputs": [
    {
     "ename": "NameError",
     "evalue": "name 'train_history' is not defined",
     "output_type": "error",
     "traceback": [
      "\u001b[0;31m---------------------------------------------------------------------------\u001b[0m",
      "\u001b[0;31mNameError\u001b[0m                                 Traceback (most recent call last)",
      "\u001b[0;32m<ipython-input-96-8aee1548ed1e>\u001b[0m in \u001b[0;36m<module>\u001b[0;34m\u001b[0m\n\u001b[0;32m----> 1\u001b[0;31m \u001b[0mnew_annotations\u001b[0m \u001b[0;34m=\u001b[0m \u001b[0mfilter_new_annotations\u001b[0m\u001b[0;34m(\u001b[0m\u001b[0mtrain_history\u001b[0m\u001b[0;34m,\u001b[0m \u001b[0mannotations\u001b[0m\u001b[0;34m)\u001b[0m\u001b[0;34m\u001b[0m\u001b[0;34m\u001b[0m\u001b[0m\n\u001b[0m",
      "\u001b[0;31mNameError\u001b[0m: name 'train_history' is not defined"
     ]
    }
   ],
   "source": [
    "new_annotations = filter_new_annotations(train_history, annotations)"
   ]
  },
  {
   "cell_type": "code",
   "execution_count": null,
   "id": "203d7539-9a44-4707-89bd-fbd4077d77cd",
   "metadata": {},
   "outputs": [],
   "source": []
  },
  {
   "cell_type": "code",
   "execution_count": 869,
   "id": "93b6055c-f5fe-41c7-8af2-f45bee3274ee",
   "metadata": {},
   "outputs": [],
   "source": [
    "### If initial model was already trained on this, what should happen?"
   ]
  },
  {
   "cell_type": "code",
   "execution_count": 870,
   "id": "5bc3a48c-a5a2-4375-b82e-ef110750178e",
   "metadata": {},
   "outputs": [
    {
     "data": {
      "text/html": [
       "<div>\n",
       "<style scoped>\n",
       "    .dataframe tbody tr th:only-of-type {\n",
       "        vertical-align: middle;\n",
       "    }\n",
       "\n",
       "    .dataframe tbody tr th {\n",
       "        vertical-align: top;\n",
       "    }\n",
       "\n",
       "    .dataframe thead th {\n",
       "        text-align: right;\n",
       "    }\n",
       "</style>\n",
       "<table border=\"1\" class=\"dataframe\">\n",
       "  <thead>\n",
       "    <tr style=\"text-align: right;\">\n",
       "      <th></th>\n",
       "      <th>text</th>\n",
       "      <th>spans_in_train</th>\n",
       "      <th>spans_new</th>\n",
       "    </tr>\n",
       "  </thead>\n",
       "  <tbody>\n",
       "  </tbody>\n",
       "</table>\n",
       "</div>"
      ],
      "text/plain": [
       "Empty DataFrame\n",
       "Columns: [text, spans_in_train, spans_new]\n",
       "Index: []"
      ]
     },
     "execution_count": 870,
     "metadata": {},
     "output_type": "execute_result"
    }
   ],
   "source": [
    "compare_train_spans(train_history, updated)"
   ]
  },
  {
   "cell_type": "code",
   "execution_count": 871,
   "id": "04999bf8-42ed-4dba-a740-b3d8042dbe92",
   "metadata": {},
   "outputs": [
    {
     "data": {
      "text/html": [
       "<div>\n",
       "<style scoped>\n",
       "    .dataframe tbody tr th:only-of-type {\n",
       "        vertical-align: middle;\n",
       "    }\n",
       "\n",
       "    .dataframe tbody tr th {\n",
       "        vertical-align: top;\n",
       "    }\n",
       "\n",
       "    .dataframe thead th {\n",
       "        text-align: right;\n",
       "    }\n",
       "</style>\n",
       "<table border=\"1\" class=\"dataframe\">\n",
       "  <thead>\n",
       "    <tr style=\"text-align: right;\">\n",
       "      <th></th>\n",
       "      <th>text</th>\n",
       "      <th>spans_in_train</th>\n",
       "      <th>spans_new</th>\n",
       "    </tr>\n",
       "  </thead>\n",
       "  <tbody>\n",
       "  </tbody>\n",
       "</table>\n",
       "</div>"
      ],
      "text/plain": [
       "Empty DataFrame\n",
       "Columns: [text, spans_in_train, spans_new]\n",
       "Index: []"
      ]
     },
     "execution_count": 871,
     "metadata": {},
     "output_type": "execute_result"
    }
   ],
   "source": [
    "#test = test.drop('train_index', axis=1)\n",
    "compare_train_spans(train_history, test)"
   ]
  },
  {
   "cell_type": "code",
   "execution_count": 872,
   "id": "5b132cc5-57f6-4619-a044-f562d343a04f",
   "metadata": {},
   "outputs": [
    {
     "data": {
      "text/plain": [
       "0"
      ]
     },
     "execution_count": 872,
     "metadata": {},
     "output_type": "execute_result"
    }
   ],
   "source": [
    "test = compare_train_spans(train_history, updated)\n",
    "len(test)"
   ]
  },
  {
   "cell_type": "code",
   "execution_count": 873,
   "id": "ec048732-b0b5-4d61-98a4-bf5dea2110ed",
   "metadata": {},
   "outputs": [
    {
     "data": {
      "text/plain": [
       "(150, 2)"
      ]
     },
     "execution_count": 873,
     "metadata": {},
     "output_type": "execute_result"
    }
   ],
   "source": [
    "new_texts = filter_new_annotations(train_history,updated)\n",
    "new_texts.shape"
   ]
  },
  {
   "cell_type": "code",
   "execution_count": 874,
   "id": "7bf3b993-f204-4fe2-916b-c6d4553c552e",
   "metadata": {},
   "outputs": [
    {
     "data": {
      "text/plain": [
       "284"
      ]
     },
     "execution_count": 874,
     "metadata": {},
     "output_type": "execute_result"
    }
   ],
   "source": [
    "150 + 134"
   ]
  },
  {
   "cell_type": "code",
   "execution_count": 865,
   "id": "b180bc80-f6af-4731-8e49-9c47ee4c18c7",
   "metadata": {},
   "outputs": [],
   "source": [
    "in_train = in_train[in_train['index_updated'].isnull()==False]\n",
    "#Check if there is a change in the span... given the model is already trained, do we start from scratch?\n",
    "in_train['spans_initial'] = in_train['spans_initial'].astype(str)\n",
    "in_train['spans_updated'] = in_train['spans_updated'].astype(str)\n",
    "\n",
    "different_spans = in_train[in_train['spans_initial'] != in_train['spans_updated']]"
   ]
  },
  {
   "cell_type": "code",
   "execution_count": 866,
   "id": "754d628a-16c8-449a-88b0-d1df987bcee4",
   "metadata": {},
   "outputs": [],
   "source": [
    "#new_examples = new_examples[new_examples['spans'].astype(str) != '[]']\n",
    "\n",
    "new_examples = train.merge(update, on=['text'], how='right', suffixes=('_initial', '_updated'))\n",
    "new_examples = new_examples[new_examples['index_initial'].isnull()==True]\n",
    "new_examples = new_examples[['text', 'spans_updated']]\n",
    "new_examples.columns  = ['text', 'spans']\n",
    "\n",
    "new_examples = new_examples.reset_index(drop=True)"
   ]
  },
  {
   "cell_type": "code",
   "execution_count": 505,
   "id": "e569298d-e327-4832-8a99-e21292440913",
   "metadata": {},
   "outputs": [
    {
     "data": {
      "text/html": [
       "<div>\n",
       "<style scoped>\n",
       "    .dataframe tbody tr th:only-of-type {\n",
       "        vertical-align: middle;\n",
       "    }\n",
       "\n",
       "    .dataframe tbody tr th {\n",
       "        vertical-align: top;\n",
       "    }\n",
       "\n",
       "    .dataframe thead th {\n",
       "        text-align: right;\n",
       "    }\n",
       "</style>\n",
       "<table border=\"1\" class=\"dataframe\">\n",
       "  <thead>\n",
       "    <tr style=\"text-align: right;\">\n",
       "      <th></th>\n",
       "      <th>text</th>\n",
       "      <th>spans</th>\n",
       "    </tr>\n",
       "  </thead>\n",
       "  <tbody>\n",
       "    <tr>\n",
       "      <th>0</th>\n",
       "      <td>\"Version 5 is the current version of the data ...</td>\n",
       "      <td>[]</td>\n",
       "    </tr>\n",
       "    <tr>\n",
       "      <th>1</th>\n",
       "      <td>The monthly one degree latitude by one degree ...</td>\n",
       "      <td>[]</td>\n",
       "    </tr>\n",
       "    <tr>\n",
       "      <th>2</th>\n",
       "      <td>\"First ISCCP Regional Experiment (FIRE) Atlant...</td>\n",
       "      <td>[]</td>\n",
       "    </tr>\n",
       "    <tr>\n",
       "      <th>3</th>\n",
       "      <td>The System takes inputs of Pt, Ps, and Alt, an...</td>\n",
       "      <td>[]</td>\n",
       "    </tr>\n",
       "    <tr>\n",
       "      <th>4</th>\n",
       "      <td>For more details, see the NASA TM, also on thi...</td>\n",
       "      <td>[]</td>\n",
       "    </tr>\n",
       "    <tr>\n",
       "      <th>...</th>\n",
       "      <td>...</td>\n",
       "      <td>...</td>\n",
       "    </tr>\n",
       "    <tr>\n",
       "      <th>106</th>\n",
       "      <td>data collections.\"</td>\n",
       "      <td>[]</td>\n",
       "    </tr>\n",
       "    <tr>\n",
       "      <th>107</th>\n",
       "      <td>\"This data set is most accurately described in...</td>\n",
       "      <td>[]</td>\n",
       "    </tr>\n",
       "    <tr>\n",
       "      <th>108</th>\n",
       "      <td>\"This data set includes data collected over th...</td>\n",
       "      <td>[]</td>\n",
       "    </tr>\n",
       "    <tr>\n",
       "      <th>109</th>\n",
       "      <td>\"This is a Rosetta Radio Science data set, col...</td>\n",
       "      <td>[]</td>\n",
       "    </tr>\n",
       "    <tr>\n",
       "      <th>110</th>\n",
       "      <td>\"This data set contains terrestrial laser scan...</td>\n",
       "      <td>[]</td>\n",
       "    </tr>\n",
       "  </tbody>\n",
       "</table>\n",
       "<p>111 rows × 2 columns</p>\n",
       "</div>"
      ],
      "text/plain": [
       "                                                  text spans\n",
       "0    \"Version 5 is the current version of the data ...    []\n",
       "1    The monthly one degree latitude by one degree ...    []\n",
       "2    \"First ISCCP Regional Experiment (FIRE) Atlant...    []\n",
       "3    The System takes inputs of Pt, Ps, and Alt, an...    []\n",
       "4    For more details, see the NASA TM, also on thi...    []\n",
       "..                                                 ...   ...\n",
       "106                                 data collections.\"    []\n",
       "107  \"This data set is most accurately described in...    []\n",
       "108  \"This data set includes data collected over th...    []\n",
       "109  \"This is a Rosetta Radio Science data set, col...    []\n",
       "110  \"This data set contains terrestrial laser scan...    []\n",
       "\n",
       "[111 rows x 2 columns]"
      ]
     },
     "execution_count": 505,
     "metadata": {},
     "output_type": "execute_result"
    }
   ],
   "source": [
    "new_examples"
   ]
  },
  {
   "cell_type": "code",
   "execution_count": 403,
   "id": "b973a673-d2bb-4177-8043-ac0ac8733e9c",
   "metadata": {},
   "outputs": [
    {
     "data": {
      "text/html": [
       "<div>\n",
       "<style scoped>\n",
       "    .dataframe tbody tr th:only-of-type {\n",
       "        vertical-align: middle;\n",
       "    }\n",
       "\n",
       "    .dataframe tbody tr th {\n",
       "        vertical-align: top;\n",
       "    }\n",
       "\n",
       "    .dataframe thead th {\n",
       "        text-align: right;\n",
       "    }\n",
       "</style>\n",
       "<table border=\"1\" class=\"dataframe\">\n",
       "  <thead>\n",
       "    <tr style=\"text-align: right;\">\n",
       "      <th></th>\n",
       "      <th>text</th>\n",
       "      <th>spans</th>\n",
       "      <th>index_x</th>\n",
       "      <th>spans_initial</th>\n",
       "      <th>index_y</th>\n",
       "      <th>spans_updated</th>\n",
       "    </tr>\n",
       "  </thead>\n",
       "  <tbody>\n",
       "  </tbody>\n",
       "</table>\n",
       "</div>"
      ],
      "text/plain": [
       "Empty DataFrame\n",
       "Columns: [text, spans, index_x, spans_initial, index_y, spans_updated]\n",
       "Index: []"
      ]
     },
     "execution_count": 403,
     "metadata": {},
     "output_type": "execute_result"
    }
   ],
   "source": [
    "#Are any of the new examples in the previous update?\n",
    "#NONE OF THE NEW EXAMPLES ARE IN THE TRAINING DATA!\n",
    "train_history.merge(new_records, on='text', how='inner')"
   ]
  },
  {
   "cell_type": "code",
   "execution_count": 402,
   "id": "bb16eb7e-60bc-4dc3-980a-a55f219083f6",
   "metadata": {},
   "outputs": [
    {
     "data": {
      "text/html": [
       "<div>\n",
       "<style scoped>\n",
       "    .dataframe tbody tr th:only-of-type {\n",
       "        vertical-align: middle;\n",
       "    }\n",
       "\n",
       "    .dataframe tbody tr th {\n",
       "        vertical-align: top;\n",
       "    }\n",
       "\n",
       "    .dataframe thead th {\n",
       "        text-align: right;\n",
       "    }\n",
       "</style>\n",
       "<table border=\"1\" class=\"dataframe\">\n",
       "  <thead>\n",
       "    <tr style=\"text-align: right;\">\n",
       "      <th></th>\n",
       "      <th>text</th>\n",
       "      <th>spans_initial</th>\n",
       "      <th>index_x</th>\n",
       "      <th>spans_updated</th>\n",
       "      <th>spans</th>\n",
       "      <th>index_y</th>\n",
       "    </tr>\n",
       "  </thead>\n",
       "  <tbody>\n",
       "  </tbody>\n",
       "</table>\n",
       "</div>"
      ],
      "text/plain": [
       "Empty DataFrame\n",
       "Columns: [text, spans_initial, index_x, spans_updated, spans, index_y]\n",
       "Index: []"
      ]
     },
     "execution_count": 402,
     "metadata": {},
     "output_type": "execute_result"
    }
   ],
   "source": [
    "#Are any of the new examples in the previous update?\n",
    "#NONE OF THE NEW EXAMPLES ARE IN THE TRAINING DATA!\n",
    "new_records.merge(train_history, on='text')"
   ]
  },
  {
   "cell_type": "code",
   "execution_count": null,
   "id": "acca5ffc-e3f8-4c91-8177-7f77fb3f438c",
   "metadata": {},
   "outputs": [],
   "source": [
    "#Are any of the new examples in the previous update?\n",
    "#NONE OF THE NEW EXAMPLES ARE IN THE TRAINING DATA!\n",
    "initial_train_data.merge(new_records, on='text')"
   ]
  },
  {
   "cell_type": "code",
   "execution_count": 227,
   "id": "32e7b6d8-27dd-42cf-8de8-99f301212caf",
   "metadata": {
    "collapsed": true,
    "jupyter": {
     "outputs_hidden": true
    },
    "tags": []
   },
   "outputs": [
    {
     "name": "stdout",
     "output_type": "stream",
     "text": [
      "0\n",
      "{'tok2vec': 5.2358551272391196e-08, 'ner': 7.137071592904975e-08}\n",
      "{'tok2vec': 7.642365833454129, 'ner': 8.42500853028057}\n",
      "{'tok2vec': 7.642365833603752, 'ner': 8.42500853050014}\n",
      "{'tok2vec': 8.86725590573528, 'ner': 10.434556728734586}\n",
      "{'tok2vec': 8.86725613615033, 'ner': 10.434556962009722}\n",
      "{'tok2vec': 11.44180506853631, 'ner': 14.43455644153819}\n",
      "{'tok2vec': 11.441805069026811, 'ner': 14.43455644221849}\n",
      "{'tok2vec': 12.9005331687798, 'ner': 16.431144261408598}\n",
      "{'tok2vec': 14.5212140971706, 'ner': 18.405876829659288}\n",
      "{'tok2vec': 16.96886128130413, 'ner': 22.56469792818312}\n",
      "{'tok2vec': 18.256210134088036, 'ner': 23.741750407798218}\n",
      "{'tok2vec': 18.256211247599737, 'ner': 23.741752771470782}\n",
      "{'tok2vec': 19.42037729285849, 'ner': 25.621455661309803}\n",
      "{'tok2vec': 25.857213297115692, 'ner': 35.46065319641698}\n",
      "{'tok2vec': 26.557214444032894, 'ner': 36.41824795056958}\n",
      "{'tok2vec': 28.417451234322385, 'ner': 39.373463807910404}\n",
      "{'tok2vec': 33.03507083379273, 'ner': 47.4139950063383}\n",
      "{'tok2vec': 36.13005365156178, 'ner': 52.39671981150337}\n",
      "{'tok2vec': 36.13016973717359, 'ner': 52.39696679348016}\n",
      "{'tok2vec': 37.17898243947175, 'ner': 54.69974133735077}\n",
      "{'tok2vec': 37.19656060172875, 'ner': 54.73124230895142}\n",
      "{'tok2vec': 37.19791045122511, 'ner': 54.73466040370324}\n",
      "{'tok2vec': 37.904372638684805, 'ner': 56.73690031140908}\n",
      "{'tok2vec': 37.91689298315725, 'ner': 56.753492744913125}\n",
      "{'tok2vec': 38.54202616185376, 'ner': 58.75040487161105}\n",
      "{'tok2vec': 39.16616005930428, 'ner': 60.747379457800974}\n",
      "{'tok2vec': 39.16618224727652, 'ner': 60.74743542438334}\n",
      "{'tok2vec': 39.17287108892558, 'ner': 60.767906838297854}\n",
      "{'tok2vec': 41.1126377570236, 'ner': 64.76818861773775}\n",
      "{'tok2vec': 41.11328659258111, 'ner': 64.77051729710443}\n",
      "{'tok2vec': 41.11336838980065, 'ner': 64.77067774965249}\n",
      "{'tok2vec': 42.27408359372921, 'ner': 68.77041235857715}\n",
      "{'tok2vec': 42.747640398221755, 'ner': 70.77044665064699}\n",
      "{'tok2vec': 43.92446392788397, 'ner': 73.28945074335628}\n",
      "{'tok2vec': 43.92448948953201, 'ner': 73.28950551887817}\n",
      "{'tok2vec': 44.441990592810626, 'ner': 75.28950810848923}\n",
      "{'tok2vec': 46.43049886042617, 'ner': 77.1878245667548}\n",
      "{'tok2vec': 46.43050522164039, 'ner': 77.18784468904673}\n",
      "{'tok2vec': 46.4305182490897, 'ner': 77.18788961050913}\n",
      "{'tok2vec': 46.43065785698845, 'ner': 77.18844132981788}\n",
      "{'tok2vec': 46.43081609455102, 'ner': 77.18891180184019}\n",
      "{'tok2vec': 48.39828165374628, 'ner': 81.16088157048021}\n",
      "{'tok2vec': 48.398289616830496, 'ner': 81.16091565449501}\n",
      "{'tok2vec': 48.39832053980179, 'ner': 81.16098166042339}\n",
      "{'tok2vec': 49.2397360454316, 'ner': 85.16006099775814}\n",
      "{'tok2vec': 49.2397854658644, 'ner': 85.16024611214205}\n",
      "{'tok2vec': 49.239797382143024, 'ner': 85.16027894333902}\n",
      "{'tok2vec': 54.03789247444047, 'ner': 96.5901609655584}\n",
      "{'tok2vec': 54.03789266151796, 'ner': 96.59016157871011}\n",
      "{'tok2vec': 54.03789298666649, 'ner': 96.59016220729475}\n",
      "{'tok2vec': 54.037898802264834, 'ner': 96.59017914088781}\n",
      "{'tok2vec': 54.038024455541546, 'ner': 96.59055080959958}\n",
      "{'tok2vec': 57.91231422562831, 'ner': 106.1409621445329}\n",
      "{'tok2vec': 57.91237888406616, 'ner': 106.14117957917983}\n",
      "{'tok2vec': 65.81485708538096, 'ner': 126.03879165482547}\n",
      "{'tok2vec': 65.82357388411768, 'ner': 126.0509141984484}\n",
      "{'tok2vec': 65.82372868965983, 'ner': 126.05137328346542}\n",
      "{'tok2vec': 65.82373127116607, 'ner': 126.05138022730074}\n",
      "{'tok2vec': 66.39346883775742, 'ner': 128.04990022921024}\n",
      "{'tok2vec': 68.19180206539185, 'ner': 132.0434082592045}\n",
      "{'tok2vec': 68.32355652436085, 'ner': 132.35685882593717}\n",
      "{'tok2vec': 68.32355709782225, 'ner': 132.35686027880325}\n",
      "{'tok2vec': 68.32355766113854, 'ner': 132.35686184735897}\n",
      "{'tok2vec': 69.75338077560673, 'ner': 137.9645836401056}\n",
      "{'tok2vec': 69.75339280762975, 'ner': 137.96461987784767}\n",
      "{'tok2vec': 69.75340966923439, 'ner': 137.96467020850037}\n",
      "{'tok2vec': 73.59071396189945, 'ner': 150.4064716681801}\n",
      "{'tok2vec': 74.75645602516131, 'ner': 154.40277207581713}\n",
      "{'tok2vec': 74.75648253868856, 'ner': 154.40281575957337}\n",
      "{'tok2vec': 75.91673143721125, 'ner': 156.40274538582844}\n",
      "{'tok2vec': 75.9181231148046, 'ner': 156.4059650929369}\n",
      "{'tok2vec': 78.86916637327666, 'ner': 164.40100588083777}\n",
      "{'tok2vec': 79.58362180212914, 'ner': 166.0454079932527}\n",
      "{'tok2vec': 79.67694926573365, 'ner': 166.20445011984452}\n",
      "{'tok2vec': 80.17266622664881, 'ner': 168.20287273682794}\n",
      "1\n",
      "{'tok2vec': 2.0060364477103576e-05, 'ner': 5.332244835676292e-05}\n",
      "{'tok2vec': 0.42136339731223416, 'ner': 1.9984100448519797}\n",
      "{'tok2vec': 1.3327691338145087, 'ner': 5.89516956399559}\n",
      "{'tok2vec': 1.8353039788664773, 'ner': 7.499323178930421}\n",
      "{'tok2vec': 3.200205461925407, 'ner': 10.506995100914049}\n",
      "{'tok2vec': 3.608212995913391, 'ner': 11.237508271796404}\n",
      "{'tok2vec': 3.6367612759161148, 'ner': 11.325119619756885}\n",
      "{'tok2vec': 6.801520613818184, 'ner': 20.990707206908247}\n",
      "{'tok2vec': 6.806724040691961, 'ner': 21.009614050873004}\n",
      "{'tok2vec': 6.810887996554129, 'ner': 21.02419855946829}\n",
      "{'tok2vec': 6.818149941139609, 'ner': 21.043601475002333}\n",
      "{'tok2vec': 7.737649134872527, 'ner': 23.030198605612505}\n",
      "{'tok2vec': 7.745775493467818, 'ner': 23.048573442960524}\n",
      "{'tok2vec': 7.747444010478148, 'ner': 23.05213220566204}\n",
      "{'tok2vec': 7.7589492264107776, 'ner': 23.07086959367855}\n",
      "{'tok2vec': 8.403232226790578, 'ner': 25.086234671214}\n",
      "{'tok2vec': 11.506781950878803, 'ner': 30.866629717025667}\n",
      "{'tok2vec': 11.506904085816359, 'ner': 30.86695579459539}\n",
      "{'tok2vec': 11.506907705258271, 'ner': 30.86696801703681}\n",
      "{'tok2vec': 11.506976181975574, 'ner': 30.867147021465637}\n",
      "{'tok2vec': 11.510075891187892, 'ner': 30.873752026215065}\n",
      "{'tok2vec': 11.510163332262461, 'ner': 30.87390287120355}\n",
      "{'tok2vec': 11.510163629036061, 'ner': 30.8739039289144}\n",
      "{'tok2vec': 11.510163649114464, 'ner': 30.873903994776658}\n",
      "{'tok2vec': 11.510270471776689, 'ner': 30.874180480968302}\n",
      "{'tok2vec': 16.006581977261614, 'ner': 43.66704757041461}\n",
      "{'tok2vec': 16.006582145400404, 'ner': 43.66704806310384}\n",
      "{'tok2vec': 16.006582158588188, 'ner': 43.66704810606848}\n",
      "{'tok2vec': 18.335198062999083, 'ner': 45.777947943704916}\n",
      "{'tok2vec': 18.335198086189735, 'ner': 45.77794800886324}\n",
      "{'tok2vec': 19.506073874230857, 'ner': 49.777934865188065}\n",
      "{'tok2vec': 23.121739857625535, 'ner': 57.76849049926895}\n",
      "{'tok2vec': 25.78044795504716, 'ner': 63.53909132327926}\n",
      "{'tok2vec': 25.780449514402214, 'ner': 63.53909559947023}\n",
      "{'tok2vec': 25.78045075761974, 'ner': 63.53909830282459}\n",
      "{'tok2vec': 25.780461241016337, 'ner': 63.53911967312313}\n",
      "{'tok2vec': 25.780461640872197, 'ner': 63.53912130521984}\n",
      "{'tok2vec': 26.96143307959712, 'ner': 66.23441779270932}\n",
      "{'tok2vec': 27.73914833602546, 'ner': 68.13976735566185}\n",
      "{'tok2vec': 27.739165149409267, 'ner': 68.13981048549043}\n",
      "{'tok2vec': 29.230040562759505, 'ner': 72.14024346435646}\n",
      "{'tok2vec': 30.97734447715704, 'ner': 76.0564609558338}\n",
      "{'tok2vec': 33.618216925839825, 'ner': 81.39995227939004}\n",
      "{'tok2vec': 34.36755498394252, 'ner': 83.39992283531859}\n",
      "{'tok2vec': 36.573718330709944, 'ner': 89.12493155653554}\n",
      "{'tok2vec': 44.17180294363511, 'ner': 108.94587583447267}\n",
      "{'tok2vec': 44.180266501361245, 'ner': 108.96871813773402}\n",
      "{'tok2vec': 44.18032732594908, 'ner': 108.96880168396955}\n",
      "{'tok2vec': 44.18407832668778, 'ner': 108.97894406834834}\n",
      "{'tok2vec': 44.191506827852905, 'ner': 108.99884373459298}\n",
      "{'tok2vec': 44.22065412779081, 'ner': 109.05367619977628}\n",
      "{'tok2vec': 51.186116335585, 'ner': 125.51798454351683}\n",
      "{'tok2vec': 53.03018521891569, 'ner': 128.59533985214293}\n",
      "{'tok2vec': 53.0304163501212, 'ner': 128.5960285391836}\n",
      "{'tok2vec': 53.03261600997388, 'ner': 128.6008403595514}\n",
      "{'tok2vec': 53.03293948222739, 'ner': 128.60169510956828}\n",
      "{'tok2vec': 53.87970152844531, 'ner': 130.646202606366}\n",
      "{'tok2vec': 53.87972756990388, 'ner': 130.64626836578236}\n",
      "{'tok2vec': 53.879728801158095, 'ner': 130.646272218439}\n",
      "{'tok2vec': 58.69745339972975, 'ner': 139.96295239634986}\n",
      "{'tok2vec': 59.12763515839721, 'ner': 141.9584346767114}\n",
      "{'tok2vec': 59.127779198326095, 'ner': 141.95887798901842}\n",
      "{'tok2vec': 59.1280512227994, 'ner': 141.95952446934376}\n",
      "{'tok2vec': 59.53841359961632, 'ner': 142.83040693836116}\n",
      "{'tok2vec': 59.53841781493576, 'ner': 142.83041588798736}\n",
      "{'tok2vec': 59.5384232545349, 'ner': 142.83042844300678}\n",
      "{'tok2vec': 62.5272082922803, 'ner': 150.14936121699483}\n",
      "{'tok2vec': 62.527980729267135, 'ner': 150.15212029742258}\n",
      "{'tok2vec': 62.52976823633925, 'ner': 150.15546151981184}\n",
      "{'tok2vec': 62.53014754438608, 'ner': 150.15608738627543}\n",
      "{'tok2vec': 62.53016405395864, 'ner': 150.1561166581314}\n",
      "{'tok2vec': 62.53022598867368, 'ner': 150.15621728137245}\n",
      "{'tok2vec': 63.6388875857085, 'ner': 152.87837893134164}\n",
      "{'tok2vec': 63.63890975137336, 'ner': 152.87843013595335}\n",
      "{'tok2vec': 65.10296628047807, 'ner': 157.01991268345725}\n",
      "2\n",
      "{'tok2vec': 2.0257176243758295, 'ner': 4.205882783315873}\n",
      "{'tok2vec': 4.013090208140056, 'ner': 8.955925390260768}\n",
      "{'tok2vec': 8.144664838877361, 'ner': 18.962973012928288}\n",
      "{'tok2vec': 8.144735128274078, 'ner': 18.96312685679234}\n",
      "{'tok2vec': 9.075946146780552, 'ner': 21.14487919410659}\n",
      "{'tok2vec': 9.080164408576653, 'ner': 21.150826475413144}\n",
      "{'tok2vec': 9.811360246796372, 'ner': 22.92210887390534}\n",
      "{'tok2vec': 9.811370811063401, 'ner': 22.92213220432742}\n",
      "{'tok2vec': 9.813073902611226, 'ner': 22.925199194574695}\n",
      "{'tok2vec': 10.174940437298805, 'ner': 23.502275697902675}\n",
      "{'tok2vec': 10.174946871597061, 'ner': 23.502294074424896}\n",
      "{'tok2vec': 10.185721678280974, 'ner': 23.523711774533183}\n",
      "{'tok2vec': 11.316169929239553, 'ner': 26.94611633557451}\n",
      "{'tok2vec': 11.31673615845889, 'ner': 26.94724774029694}\n",
      "{'tok2vec': 11.317659163380677, 'ner': 26.949036411653196}\n",
      "{'tok2vec': 11.501453620442726, 'ner': 27.443888732777914}\n",
      "{'tok2vec': 11.501767472152006, 'ner': 27.44437064862173}\n",
      "{'tok2vec': 11.502626796948507, 'ner': 27.446857413529923}\n",
      "{'tok2vec': 11.50262730213244, 'ner': 27.446858823818904}\n",
      "{'tok2vec': 11.50263250321483, 'ner': 27.446868817767026}\n",
      "{'tok2vec': 15.009334891794754, 'ner': 34.90881340548147}\n",
      "{'tok2vec': 15.009401336711012, 'ner': 34.90891804412315}\n",
      "{'tok2vec': 15.852039770738333, 'ner': 36.46798103747452}\n",
      "{'tok2vec': 16.014294940070354, 'ner': 36.72078562890536}\n",
      "{'tok2vec': 16.016618815363213, 'ner': 36.72471820348843}\n",
      "{'tok2vec': 16.016728532159885, 'ner': 36.724855390655385}\n",
      "{'tok2vec': 18.823027352684836, 'ner': 38.24155581494481}\n",
      "{'tok2vec': 23.59816048564635, 'ner': 48.7348310918046}\n",
      "{'tok2vec': 27.952221493146045, 'ner': 55.669650542492235}\n",
      "{'tok2vec': 27.952333547304352, 'ner': 55.66978175949022}\n",
      "{'tok2vec': 27.95233883607141, 'ner': 55.66979118443616}\n",
      "{'tok2vec': 27.952338840066133, 'ner': 55.66979119109097}\n",
      "{'tok2vec': 27.95234454224895, 'ner': 55.6697987160374}\n",
      "{'tok2vec': 27.952372108085896, 'ner': 55.6698429605813}\n",
      "{'tok2vec': 27.952374803742927, 'ner': 55.66984769707586}\n",
      "{'tok2vec': 31.336851607218918, 'ner': 61.52987946128397}\n",
      "{'tok2vec': 31.336852664935922, 'ner': 61.52988223552409}\n",
      "{'tok2vec': 38.61046948275032, 'ner': 77.05408714637858}\n",
      "{'tok2vec': 38.61046969797651, 'ner': 77.05408749349424}\n",
      "{'tok2vec': 40.621542572045726, 'ner': 80.99004119960438}\n",
      "{'tok2vec': 42.265822510971745, 'ner': 83.25823995297496}\n",
      "{'tok2vec': 42.265823407124316, 'ner': 83.25824145540274}\n",
      "{'tok2vec': 42.335552644004956, 'ner': 83.43111445977468}\n",
      "{'tok2vec': 42.335818015751265, 'ner': 83.43210363877509}\n",
      "{'tok2vec': 43.23954873836117, 'ner': 86.2044793737164}\n",
      "{'tok2vec': 43.23955283470568, 'ner': 86.20448698603512}\n",
      "{'tok2vec': 46.05722025938448, 'ner': 91.32515880535425}\n",
      "{'tok2vec': 46.05785534650255, 'ner': 91.32627901256619}\n",
      "{'tok2vec': 46.05811052842961, 'ner': 91.32685542332003}\n",
      "{'tok2vec': 46.058152247669625, 'ner': 91.32692867017379}\n",
      "{'tok2vec': 46.344129597839185, 'ner': 91.94097685997114}\n",
      "{'tok2vec': 46.67206231325514, 'ner': 92.55702093045527}\n",
      "{'tok2vec': 46.67206402723111, 'ner': 92.55702344965447}\n",
      "{'tok2vec': 46.672244506995376, 'ner': 92.55749305587862}\n",
      "{'tok2vec': 47.0727910039304, 'ner': 93.35222373564977}\n",
      "{'tok2vec': 47.0729725378031, 'ner': 93.35244770544136}\n",
      "{'tok2vec': 47.0733530189226, 'ner': 93.3528266963896}\n",
      "{'tok2vec': 48.36439215795497, 'ner': 96.32671357880106}\n",
      "{'tok2vec': 49.887748364525976, 'ner': 99.80703778218829}\n",
      "{'tok2vec': 49.88775468102213, 'ner': 99.80704620947202}\n",
      "{'tok2vec': 49.887754893806346, 'ner': 99.80704646144922}\n",
      "{'tok2vec': 49.88775520429145, 'ner': 99.80704715658986}\n",
      "{'tok2vec': 50.926662394506295, 'ner': 101.73485854017058}\n",
      "{'tok2vec': 50.92767344948872, 'ner': 101.73619778395752}\n",
      "{'tok2vec': 50.927705029118826, 'ner': 101.7362569930968}\n",
      "{'tok2vec': 50.92773621077838, 'ner': 101.7363067969769}\n",
      "{'tok2vec': 50.92773665294928, 'ner': 101.73630761548674}\n",
      "{'tok2vec': 51.44373267870807, 'ner': 102.51284074350991}\n",
      "{'tok2vec': 51.8065245956052, 'ner': 103.16580350433217}\n",
      "{'tok2vec': 51.8065258379101, 'ner': 103.16580503771033}\n",
      "{'tok2vec': 51.806667227547166, 'ner': 103.1659788881367}\n",
      "{'tok2vec': 53.272748161356446, 'ner': 105.215414208718}\n",
      "{'tok2vec': 53.272752609133875, 'ner': 105.215419315809}\n",
      "{'tok2vec': 54.862332201659505, 'ner': 106.95917126013892}\n",
      "{'tok2vec': 54.8623352326586, 'ner': 106.95917522153789}\n",
      "3\n",
      "{'tok2vec': 1.2576918535246477, 'ner': 1.9955125511820537}\n",
      "{'tok2vec': 1.2588388434728586, 'ner': 1.996958470659243}\n",
      "{'tok2vec': 2.125487076878045, 'ner': 3.34779739569011}\n",
      "{'tok2vec': 2.1254873234541165, 'ner': 3.3477977071915315}\n",
      "{'tok2vec': 2.125487588928195, 'ner': 3.3477980760544757}\n",
      "{'tok2vec': 2.133085400132687, 'ner': 3.3568754481662055}\n",
      "{'tok2vec': 2.1331596050314245, 'ner': 3.3569397383060857}\n",
      "{'tok2vec': 2.3235908422523015, 'ner': 3.534605985797953}\n",
      "{'tok2vec': 2.323590970749418, 'ner': 3.534606122404327}\n",
      "{'tok2vec': 2.7316211826749246, 'ner': 4.034928244163902}\n",
      "{'tok2vec': 4.3191004329607345, 'ner': 6.923272850870264}\n",
      "{'tok2vec': 4.319235831552017, 'ner': 6.923420383818431}\n",
      "{'tok2vec': 4.579522839380214, 'ner': 7.348424821611187}\n",
      "{'tok2vec': 4.579523463545511, 'ner': 7.348425306256954}\n",
      "{'tok2vec': 4.579869716933727, 'ner': 7.349000387766591}\n",
      "{'tok2vec': 37.14636377458576, 'ner': 13.06563226118219}\n",
      "{'tok2vec': 37.14636387473753, 'ner': 13.065632378369028}\n",
      "{'tok2vec': 37.14636389412348, 'ner': 13.06563239850657}\n",
      "{'tok2vec': 38.33324806310347, 'ner': 15.676461777150795}\n",
      "{'tok2vec': 38.33335362696934, 'ner': 15.676604897675706}\n",
      "{'tok2vec': 38.333547704932386, 'ner': 15.676974913785712}\n",
      "{'tok2vec': 41.809960271127636, 'ner': 21.47312207968855}\n",
      "{'tok2vec': 41.80996027122104, 'ner': 21.47312207980117}\n",
      "{'tok2vec': 41.809961074295245, 'ner': 21.47312302018532}\n",
      "{'tok2vec': 42.048197918849134, 'ner': 21.92884924766034}\n",
      "{'tok2vec': 42.048670205299636, 'ner': 21.929492156207704}\n",
      "{'tok2vec': 42.04867205313315, 'ner': 21.929494481236333}\n",
      "{'tok2vec': 42.04867295838532, 'ner': 21.929495625310036}\n",
      "{'tok2vec': 42.05007624470901, 'ner': 21.931978902280708}\n",
      "{'tok2vec': 42.47513329215045, 'ner': 22.82158650723232}\n",
      "{'tok2vec': 42.4751346421372, 'ner': 22.821587929542222}\n",
      "{'tok2vec': 42.485621178728515, 'ner': 22.837369324406815}\n",
      "{'tok2vec': 42.485621205658006, 'ner': 22.837369355480167}\n",
      "{'tok2vec': 43.47674750464792, 'ner': 23.455899511194964}\n",
      "{'tok2vec': 43.60396852280204, 'ner': 23.79846328367491}\n",
      "{'tok2vec': 43.60410891216228, 'ner': 23.79862105305829}\n",
      "{'tok2vec': 43.604109766262475, 'ner': 23.798621974179795}\n",
      "{'tok2vec': 43.606720998770136, 'ner': 23.80172574725382}\n",
      "{'tok2vec': 43.60682736058229, 'ner': 23.801854442353083}\n",
      "{'tok2vec': 43.60698717097739, 'ner': 23.802018593749946}\n",
      "{'tok2vec': 45.029210977358616, 'ner': 25.88805741397132}\n",
      "{'tok2vec': 45.02921110438878, 'ner': 25.888057560459096}\n",
      "{'tok2vec': 45.02921112475883, 'ner': 25.888057586513895}\n",
      "{'tok2vec': 54.02161225359182, 'ner': 39.92870173628331}\n",
      "{'tok2vec': 54.02217796512118, 'ner': 39.92933287826999}\n",
      "{'tok2vec': 54.02218095642112, 'ner': 39.92933646854591}\n",
      "{'tok2vec': 58.57156110029265, 'ner': 47.60549368676622}\n",
      "{'tok2vec': 60.096263279394826, 'ner': 50.021390543951135}\n",
      "{'tok2vec': 62.79001503177138, 'ner': 55.5032316546438}\n",
      "{'tok2vec': 62.790015294770484, 'ner': 55.50323199529717}\n",
      "{'tok2vec': 62.790022474467065, 'ner': 55.50324367381795}\n",
      "{'tok2vec': 64.5663990531838, 'ner': 58.19659513934367}\n",
      "{'tok2vec': 65.70315877097428, 'ner': 60.06144155387178}\n",
      "{'tok2vec': 75.2806724688352, 'ner': 64.48128210105186}\n",
      "{'tok2vec': 75.28119427888456, 'ner': 64.48199879103588}\n",
      "{'tok2vec': 75.41183121090594, 'ner': 64.81844468067425}\n",
      "{'tok2vec': 75.4133980788612, 'ner': 64.82055720390508}\n",
      "{'tok2vec': 75.41655902330163, 'ner': 64.82474717062902}\n",
      "{'tok2vec': 76.85226671163323, 'ner': 67.49862180084261}\n",
      "{'tok2vec': 76.85227230518618, 'ner': 67.49862849519911}\n",
      "{'tok2vec': 76.97438692205438, 'ner': 67.62998205242928}\n",
      "{'tok2vec': 77.37528241981605, 'ner': 68.13158630090805}\n",
      "{'tok2vec': 80.01609534301647, 'ner': 71.54951499359808}\n",
      "{'tok2vec': 81.32049103303112, 'ner': 74.22784750683789}\n",
      "{'tok2vec': 81.3204910334859, 'ner': 74.22784750735391}\n",
      "{'tok2vec': 81.5914293490502, 'ner': 74.98369020787834}\n",
      "{'tok2vec': 81.59176732504352, 'ner': 74.98412403682774}\n",
      "{'tok2vec': 81.59177251594076, 'ner': 74.98412881171662}\n",
      "{'tok2vec': 81.59177923482595, 'ner': 74.98413549146944}\n",
      "{'tok2vec': 88.1150498716229, 'ner': 85.96784398623964}\n",
      "{'tok2vec': 88.11505292739731, 'ner': 85.96784729924886}\n",
      "{'tok2vec': 88.11634283650709, 'ner': 85.97153237212991}\n",
      "{'tok2vec': 89.55919941002026, 'ner': 89.80714482530287}\n",
      "{'tok2vec': 89.55919941674992, 'ner': 89.80714483419362}\n",
      "{'tok2vec': 91.13918649261709, 'ner': 91.90582309146835}\n",
      "4\n",
      "{'tok2vec': 0.0002671021576077237, 'ner': 0.0003431212543310867}\n",
      "{'tok2vec': 0.032479008619702654, 'ner': 0.11294546082879121}\n",
      "{'tok2vec': 0.03255750679920766, 'ner': 0.1130109991552889}\n",
      "{'tok2vec': 0.03262636168176414, 'ner': 0.11307053381545938}\n",
      "{'tok2vec': 0.03263423021202527, 'ner': 0.11307913122399503}\n",
      "{'tok2vec': 0.03263532804030689, 'ner': 0.1130801682974066}\n",
      "{'tok2vec': 0.035524054021472296, 'ner': 0.11596276039030337}\n",
      "{'tok2vec': 0.03813692315522488, 'ner': 0.11874555587059515}\n",
      "{'tok2vec': 1.6120890031592752, 'ner': 2.2928629798137763}\n",
      "{'tok2vec': 1.612096359504543, 'ner': 2.292870131208041}\n",
      "{'tok2vec': 2.784617839638125, 'ner': 4.388690437100175}\n",
      "{'tok2vec': 2.7846182550427674, 'ner': 4.388690851129049}\n",
      "{'tok2vec': 2.7846183458562446, 'ner': 4.388690935615146}\n",
      "{'tok2vec': 2.784618346500098, 'ner': 4.388690936567322}\n",
      "{'tok2vec': 3.7344280467104696, 'ner': 6.448898129183972}\n",
      "{'tok2vec': 5.674286613506394, 'ner': 9.70403542367271}\n",
      "{'tok2vec': 5.674287195325492, 'ner': 9.704035990725835}\n",
      "{'tok2vec': 5.6742872040188574, 'ner': 9.704035998698734}\n",
      "{'tok2vec': 7.270504085317772, 'ner': 11.69286305095076}\n",
      "{'tok2vec': 15.668755630628745, 'ner': 21.422001758828127}\n",
      "{'tok2vec': 15.668755636961905, 'ner': 21.422001763948185}\n",
      "{'tok2vec': 15.66875563724937, 'ner': 21.422001764294787}\n",
      "{'tok2vec': 16.307521622089943, 'ner': 22.531443948677705}\n",
      "{'tok2vec': 18.37039595001278, 'ner': 24.39013863483409}\n",
      "{'tok2vec': 18.370398938043124, 'ner': 24.390141597187412}\n",
      "{'tok2vec': 18.385438131262436, 'ner': 24.411234671352986}\n",
      "{'tok2vec': 18.385443277244395, 'ner': 24.411239541732808}\n",
      "{'tok2vec': 18.385444738114415, 'ner': 24.411246385021222}\n",
      "{'tok2vec': 18.484797650185687, 'ner': 24.559341103104284}\n",
      "{'tok2vec': 18.484797815710497, 'ner': 24.559341216317698}\n",
      "{'tok2vec': 18.484899275918973, 'ner': 24.55947671836019}\n",
      "{'tok2vec': 18.49055701825257, 'ner': 24.563769142688585}\n",
      "{'tok2vec': 18.490859164559197, 'ner': 24.56406996338688}\n",
      "{'tok2vec': 18.490859165432916, 'ner': 24.56406996409882}\n",
      "{'tok2vec': 20.195916500209854, 'ner': 26.400765632458608}\n",
      "{'tok2vec': 25.2686187203932, 'ner': 34.43820726127759}\n",
      "{'tok2vec': 25.26863933168515, 'ner': 34.438230574632094}\n",
      "{'tok2vec': 25.507460261202777, 'ner': 34.64635331422202}\n",
      "{'tok2vec': 25.508215913237937, 'ner': 34.64710958849558}\n",
      "{'tok2vec': 25.508216384548145, 'ner': 34.64711012458633}\n",
      "{'tok2vec': 29.74143600811382, 'ner': 40.73740212388288}\n",
      "{'tok2vec': 29.945101875737432, 'ner': 40.92093687895256}\n",
      "{'tok2vec': 29.94517794178346, 'ner': 40.920999771395415}\n",
      "{'tok2vec': 31.10860399456242, 'ner': 42.23927786694876}\n",
      "{'tok2vec': 31.108627572898516, 'ner': 42.239299228805905}\n",
      "{'tok2vec': 31.10862788560928, 'ner': 42.23929954572988}\n",
      "{'tok2vec': 31.10863716957931, 'ner': 42.23931264381436}\n",
      "{'tok2vec': 35.81375153420659, 'ner': 46.74599069886401}\n",
      "{'tok2vec': 38.59357656822819, 'ner': 50.710151313924776}\n",
      "{'tok2vec': 42.64513244557914, 'ner': 54.577668396277595}\n",
      "{'tok2vec': 42.64513262432247, 'ner': 54.577668568322764}\n",
      "{'tok2vec': 45.27727671783596, 'ner': 57.36821886594908}\n",
      "{'tok2vec': 47.26509209858661, 'ner': 59.36757872010549}\n",
      "{'tok2vec': 47.26577500726925, 'ner': 59.36820910666003}\n",
      "{'tok2vec': 49.80252341654052, 'ner': 62.72957470263759}\n",
      "{'tok2vec': 49.80252468404462, 'ner': 62.729575755034205}\n",
      "{'tok2vec': 57.28253400994101, 'ner': 71.93812066487496}\n",
      "{'tok2vec': 57.2892212080663, 'ner': 71.94481369878308}\n",
      "{'tok2vec': 57.28923291688324, 'ner': 71.94483362347106}\n",
      "{'tok2vec': 57.299361004541545, 'ner': 71.95350686253806}\n",
      "{'tok2vec': 59.41099165299796, 'ner': 73.92335206432998}\n",
      "{'tok2vec': 59.411155998489114, 'ner': 73.92351078775032}\n",
      "{'tok2vec': 59.82120812398207, 'ner': 74.32512333848166}\n",
      "{'tok2vec': 59.821235266218444, 'ner': 74.32514452272329}\n",
      "{'tok2vec': 60.294885810634604, 'ner': 75.13042234459566}\n",
      "{'tok2vec': 60.29592698395836, 'ner': 75.13166681933969}\n",
      "{'tok2vec': 60.2960052564828, 'ner': 75.13173422117526}\n",
      "{'tok2vec': 66.3221919977747, 'ner': 82.33205642002743}\n",
      "{'tok2vec': 68.95260680228539, 'ner': 85.66987329993906}\n",
      "{'tok2vec': 68.95260681303212, 'ner': 85.66987330931205}\n",
      "{'tok2vec': 69.09081669479424, 'ner': 85.80936305261187}\n",
      "{'tok2vec': 69.09082083590235, 'ner': 85.80936701539738}\n",
      "{'tok2vec': 69.09144856544205, 'ner': 85.80989564762373}\n",
      "{'tok2vec': 69.09146580414571, 'ner': 85.80991315479349}\n",
      "{'tok2vec': 69.09146909170445, 'ner': 85.80991647339458}\n",
      "5\n",
      "{'tok2vec': 3.0791880789138304e-05, 'ner': 3.0026568276315816e-05}\n",
      "{'tok2vec': 1.9001695782812646, 'ner': 3.4086492148708434}\n",
      "{'tok2vec': 3.3038746526783314, 'ner': 6.524775170160309}\n",
      "{'tok2vec': 3.303874737914098, 'ner': 6.524775247727573}\n",
      "{'tok2vec': 3.3038761598899957, 'ner': 6.524776981544257}\n",
      "{'tok2vec': 3.303876188420581, 'ner': 6.52477700927749}\n",
      "{'tok2vec': 3.303876192715738, 'ner': 6.524777012924195}\n",
      "{'tok2vec': 3.3041097365160152, 'ner': 6.525049394226961}\n",
      "{'tok2vec': 3.304110224080834, 'ner': 6.525049912895462}\n",
      "{'tok2vec': 3.3041102266657276, 'ner': 6.525049915377137}\n",
      "{'tok2vec': 3.3041118523901174, 'ner': 6.52505152682011}\n",
      "{'tok2vec': 3.30411242729293, 'ner': 6.525052022256237}\n",
      "{'tok2vec': 3.3041181119259613, 'ner': 6.525058724129478}\n",
      "{'tok2vec': 3.3041235667846487, 'ner': 6.525066005004715}\n",
      "{'tok2vec': 5.6282274077665235, 'ner': 8.515961419824409}\n",
      "{'tok2vec': 5.628227407775588, 'ner': 8.51596141983334}\n",
      "{'tok2vec': 5.62822742002146, 'ner': 8.515961443942333}\n",
      "{'tok2vec': 6.707528779029468, 'ner': 10.38774260072185}\n",
      "{'tok2vec': 6.707528779077172, 'ner': 10.3877426007638}\n",
      "{'tok2vec': 6.7075287825629335, 'ner': 10.387742603946762}\n",
      "{'tok2vec': 6.7075402228669905, 'ner': 10.38775280601465}\n",
      "{'tok2vec': 6.7075402234185715, 'ner': 10.38775280657019}\n",
      "{'tok2vec': 6.707540361787048, 'ner': 10.387752957772209}\n",
      "{'tok2vec': 8.764698603851743, 'ner': 12.991500735589655}\n",
      "{'tok2vec': 8.76469866587448, 'ner': 12.991500798463575}\n",
      "{'tok2vec': 8.764716189876795, 'ner': 12.991517849094112}\n",
      "{'tok2vec': 10.542553704757747, 'ner': 14.991440295457183}\n",
      "{'tok2vec': 10.542553857914697, 'ner': 14.991440436107041}\n",
      "{'tok2vec': 12.807710329411691, 'ner': 19.75118425816622}\n",
      "{'tok2vec': 13.313083095113676, 'ner': 21.01787356081615}\n",
      "{'tok2vec': 22.913095879500748, 'ner': 34.608745530978894}\n",
      "{'tok2vec': 24.46125208419092, 'ner': 36.476354084089174}\n",
      "{'tok2vec': 24.46126784354129, 'ner': 36.47637350523708}\n",
      "{'tok2vec': 24.461269228587526, 'ner': 36.47637481140827}\n",
      "{'tok2vec': 24.4613299858281, 'ner': 36.47642716886821}\n",
      "{'tok2vec': 24.4613299942259, 'ner': 36.47642718004728}\n",
      "{'tok2vec': 24.46133007219275, 'ner': 36.47642725190857}\n",
      "{'tok2vec': 24.46133341838923, 'ner': 36.47643129852602}\n",
      "{'tok2vec': 26.74217858177927, 'ner': 39.131116416386604}\n",
      "{'tok2vec': 26.7425200281171, 'ner': 39.13140445638025}\n",
      "{'tok2vec': 26.74252396364853, 'ner': 39.13140855588363}\n",
      "{'tok2vec': 26.742524708914857, 'ner': 39.1314093090276}\n",
      "{'tok2vec': 26.742564421687298, 'ner': 39.131459508403914}\n",
      "{'tok2vec': 26.753770445640335, 'ner': 39.145094312616656}\n",
      "{'tok2vec': 26.75385818435047, 'ner': 39.145175971708646}\n",
      "{'tok2vec': 26.753910709182897, 'ner': 39.14523644737719}\n",
      "{'tok2vec': 67.56671975926605, 'ner': 44.436864891674745}\n",
      "{'tok2vec': 68.51366986513807, 'ner': 45.63243578007656}\n",
      "{'tok2vec': 68.51416978230276, 'ner': 45.632863073153835}\n",
      "{'tok2vec': 68.51419687257159, 'ner': 45.63289757227755}\n",
      "{'tok2vec': 73.45699022109558, 'ner': 50.528509210534985}\n",
      "{'tok2vec': 74.91612030710031, 'ner': 52.56639258247527}\n",
      "{'tok2vec': 78.46611763681223, 'ner': 57.07957158988985}\n",
      "{'tok2vec': 78.46625671037364, 'ner': 57.07977960384368}\n",
      "{'tok2vec': 78.46628161683444, 'ner': 57.0798032459878}\n",
      "{'tok2vec': 79.5864166192554, 'ner': 58.91877424207536}\n",
      "{'tok2vec': 79.58641846297385, 'ner': 58.918776181682404}\n",
      "{'tok2vec': 83.30997850373595, 'ner': 60.985328348081396}\n",
      "{'tok2vec': 195.68749621586812, 'ner': 69.93968718234356}\n",
      "{'tok2vec': 196.79732594107645, 'ner': 70.91269185942906}\n",
      "{'tok2vec': 196.79758954762656, 'ner': 70.91298957662423}\n",
      "{'tok2vec': 199.07236791506136, 'ner': 73.89873316905526}\n",
      "{'tok2vec': 199.08251140286927, 'ner': 73.90789984365246}\n",
      "{'tok2vec': 199.08390619223326, 'ner': 73.90954507307575}\n",
      "{'tok2vec': 200.6521045159742, 'ner': 75.90855416221156}\n",
      "{'tok2vec': 200.6521045506861, 'ner': 75.9085542002503}\n",
      "{'tok2vec': 200.65210493523495, 'ner': 75.90855466859047}\n",
      "{'tok2vec': 200.6521154678734, 'ner': 75.90856360572879}\n",
      "{'tok2vec': 200.65211641145774, 'ner': 75.90856459482542}\n",
      "{'tok2vec': 200.65215124232267, 'ner': 75.908599752335}\n",
      "{'tok2vec': 210.51925230894471, 'ner': 88.53760989721293}\n",
      "{'tok2vec': 211.78000198164875, 'ner': 90.22486830136938}\n",
      "{'tok2vec': 211.7800044052834, 'ner': 90.22487085286744}\n",
      "{'tok2vec': 216.3643998127387, 'ner': 96.6053330255673}\n",
      "{'tok2vec': 217.00273194901513, 'ner': 97.95733929288652}\n",
      "6\n",
      "{'tok2vec': 1.022712510234669e-06, 'ner': 1.1129609490147535e-06}\n",
      "{'tok2vec': 2.347691477666558e-06, 'ner': 2.9399168110019474e-06}\n",
      "{'tok2vec': 2.761081958624345e-06, 'ner': 3.3052755843096412e-06}\n",
      "{'tok2vec': 6.0256382710122125e-06, 'ner': 7.551583825561721e-06}\n",
      "{'tok2vec': 2.1088117717615873e-05, 'ner': 2.358526836727559e-05}\n",
      "{'tok2vec': 5.369450611936166e-05, 'ner': 6.900886313148904e-05}\n",
      "{'tok2vec': 5.451445711615252e-05, 'ner': 7.018497521707011e-05}\n",
      "{'tok2vec': 9.345680309693835e-05, 'ner': 0.00011292776246032963}\n",
      "{'tok2vec': 0.00010109851014008728, 'ner': 0.0001209142794507754}\n",
      "{'tok2vec': 1.5219581244057638, 'ner': 3.986115971469281}\n",
      "{'tok2vec': 1.5366933425145703, 'ner': 3.998369922691965}\n",
      "{'tok2vec': 1.7086823311483272, 'ner': 4.228881239589574}\n",
      "{'tok2vec': 3.461306129060386, 'ner': 7.659746011677641}\n",
      "{'tok2vec': 3.4613797838137366, 'ner': 7.659857052681363}\n",
      "{'tok2vec': 3.4613827202750507, 'ner': 7.659860189029865}\n",
      "{'tok2vec': 4.229408107353574, 'ner': 9.506544769894456}\n",
      "{'tok2vec': 4.229933232027128, 'ner': 9.507257226773712}\n",
      "{'tok2vec': 4.229933304439508, 'ner': 9.507257312731577}\n",
      "{'tok2vec': 4.2339105263000105, 'ner': 9.513165445117812}\n",
      "{'tok2vec': 4.23391108578993, 'ner': 9.513166072294675}\n",
      "{'tok2vec': 13.176946211522353, 'ner': 20.80891987363655}\n",
      "{'tok2vec': 13.176947525222115, 'ner': 20.80892130837211}\n",
      "{'tok2vec': 13.176947956429307, 'ner': 20.80892187229326}\n",
      "{'tok2vec': 13.223293592842573, 'ner': 20.878981963204648}\n",
      "{'tok2vec': 13.48350126474751, 'ner': 21.416452999609966}\n",
      "{'tok2vec': 13.484682991341941, 'ner': 21.417597346396015}\n",
      "{'tok2vec': 13.593803783127186, 'ner': 21.635472964002666}\n",
      "{'tok2vec': 13.59459292179018, 'ner': 21.637046560558943}\n",
      "{'tok2vec': 13.594627256922749, 'ner': 21.637084102754862}\n",
      "{'tok2vec': 15.123540814452198, 'ner': 24.385436059658115}\n",
      "{'tok2vec': 15.123545990670031, 'ner': 24.38544015261442}\n",
      "{'tok2vec': 15.39483774869418, 'ner': 24.709257285449965}\n",
      "{'tok2vec': 15.399045802090221, 'ner': 24.713053783356113}\n",
      "{'tok2vec': 15.39904581495151, 'ner': 24.713053798126914}\n",
      "{'tok2vec': 15.484389846605684, 'ner': 24.871484431449506}\n",
      "{'tok2vec': 15.838125058533159, 'ner': 25.448765830589156}\n",
      "{'tok2vec': 15.838126621299772, 'ner': 25.44876764041818}\n",
      "{'tok2vec': 16.36051426238369, 'ner': 26.416570798645584}\n",
      "{'tok2vec': 16.365630739083368, 'ner': 26.421798086071338}\n",
      "{'tok2vec': 16.36563640398135, 'ner': 26.42180216722598}\n",
      "{'tok2vec': 16.373892601290283, 'ner': 26.43281093649942}\n",
      "{'tok2vec': 16.373906211663982, 'ner': 26.43282582262666}\n",
      "{'tok2vec': 16.373910867497028, 'ner': 26.43283031267757}\n",
      "{'tok2vec': 16.373911151813534, 'ner': 26.432830612277737}\n",
      "{'tok2vec': 16.37391133018145, 'ner': 26.43283077079972}\n",
      "{'tok2vec': 16.37396464015472, 'ner': 26.4329086358773}\n",
      "{'tok2vec': 16.373964669471075, 'ner': 26.4329086927851}\n",
      "{'tok2vec': 16.37522946978867, 'ner': 26.43433669694645}\n",
      "{'tok2vec': 16.461993463341276, 'ner': 26.58390928591814}\n",
      "{'tok2vec': 26.4832277372518, 'ner': 38.27139682545176}\n",
      "{'tok2vec': 26.483588061710396, 'ner': 38.271736063260704}\n",
      "{'tok2vec': 26.483682513024792, 'ner': 38.27184815883262}\n",
      "{'tok2vec': 28.296702152169996, 'ner': 40.65969589126268}\n",
      "{'tok2vec': 28.548386639036163, 'ner': 40.94212427884761}\n",
      "{'tok2vec': 28.554121479499656, 'ner': 40.94658482392927}\n",
      "{'tok2vec': 28.55412149001195, 'ner': 40.946584832272556}\n",
      "{'tok2vec': 28.554141231399527, 'ner': 40.94660814117218}\n",
      "{'tok2vec': 31.326791894209137, 'ner': 43.02038862113505}\n",
      "{'tok2vec': 33.71292222729299, 'ner': 45.02038135829954}\n",
      "{'tok2vec': 33.71292222771317, 'ner': 45.02038135870424}\n",
      "{'tok2vec': 37.76083482537008, 'ner': 49.755359305756556}\n",
      "{'tok2vec': 37.760834934734376, 'ner': 49.75535945292389}\n",
      "{'tok2vec': 37.76083497945567, 'ner': 49.755359485505046}\n",
      "{'tok2vec': 40.3841622348116, 'ner': 52.993930585588245}\n",
      "{'tok2vec': 41.03053498957139, 'ner': 53.66122031775987}\n",
      "{'tok2vec': 43.09634486529809, 'ner': 57.179383169613956}\n",
      "{'tok2vec': 43.09758958781246, 'ner': 57.18055043790099}\n",
      "{'tok2vec': 43.541912710318655, 'ner': 57.67542390203065}\n",
      "{'tok2vec': 45.27297500337164, 'ner': 60.729048735270815}\n",
      "{'tok2vec': 45.273065826537085, 'ner': 60.729183960576975}\n",
      "{'tok2vec': 46.41027047361801, 'ner': 62.416800607868545}\n",
      "{'tok2vec': 46.41158470449202, 'ner': 62.418061874666606}\n",
      "{'tok2vec': 46.41158470451264, 'ner': 62.418061874682444}\n",
      "{'tok2vec': 46.411754766230295, 'ner': 62.4182471636498}\n",
      "{'tok2vec': 46.411754766269745, 'ner': 62.418247163692754}\n",
      "7\n",
      "{'tok2vec': 1.1578681754706444e-09, 'ner': 1.0682496116186496e-09}\n",
      "{'tok2vec': 1.0145148025726691e-05, 'ner': 8.009626668507824e-06}\n",
      "{'tok2vec': 1.0147516163828973e-05, 'ner': 8.01164300028793e-06}\n",
      "{'tok2vec': 0.0626807509166243, 'ner': 0.06671741193941956}\n",
      "{'tok2vec': 0.06268078077049301, 'ner': 0.06671743289864251}\n",
      "{'tok2vec': 0.0626834634608986, 'ner': 0.06672266244346048}\n",
      "{'tok2vec': 0.06268358252603325, 'ner': 0.06672276898990169}\n",
      "{'tok2vec': 1.0472964059552425, 'ner': 1.1862706569510357}\n",
      "{'tok2vec': 5.815348507091339, 'ner': 7.5715977512127}\n",
      "{'tok2vec': 8.17849021589883, 'ner': 9.497852951552474}\n",
      "{'tok2vec': 9.003745311930249, 'ner': 10.552226785671996}\n",
      "{'tok2vec': 9.00916031305954, 'ner': 10.557348300424941}\n",
      "{'tok2vec': 14.03451742462042, 'ner': 16.103181019561745}\n",
      "{'tok2vec': 14.034527526562018, 'ner': 16.103189444664558}\n",
      "{'tok2vec': 14.034527551750694, 'ner': 16.103189469506418}\n",
      "{'tok2vec': 14.034527632747006, 'ner': 16.10318953393412}\n",
      "{'tok2vec': 14.034527642621905, 'ner': 16.103189541920226}\n",
      "{'tok2vec': 14.034528385312054, 'ner': 16.10318997726502}\n",
      "{'tok2vec': 44.16144913550301, 'ner': 19.459955129264998}\n",
      "{'tok2vec': 44.16145674815784, 'ner': 19.459967022429073}\n",
      "{'tok2vec': 44.16157777821949, 'ner': 19.460130124547547}\n",
      "{'tok2vec': 45.311054336422366, 'ner': 21.447364365286308}\n",
      "{'tok2vec': 45.31109841376474, 'ner': 21.4473896240039}\n",
      "{'tok2vec': 47.61487695503911, 'ner': 24.453976081687458}\n",
      "{'tok2vec': 48.274823916284475, 'ner': 25.57113771184455}\n",
      "{'tok2vec': 50.19546987774149, 'ner': 29.69415088292144}\n",
      "{'tok2vec': 50.89753633287363, 'ner': 31.690925581410394}\n",
      "{'tok2vec': 50.897540556350855, 'ner': 31.690928523563873}\n",
      "{'tok2vec': 50.89754952225651, 'ner': 31.69093572183783}\n",
      "{'tok2vec': 51.00506940259911, 'ner': 31.80627648974076}\n",
      "{'tok2vec': 51.005069427164926, 'ner': 31.806276512712834}\n",
      "{'tok2vec': 51.00506968591633, 'ner': 31.80627672674853}\n",
      "{'tok2vec': 57.73904756719606, 'ner': 39.0377118638139}\n",
      "{'tok2vec': 57.73904756932204, 'ner': 39.037711866260004}\n",
      "{'tok2vec': 57.739047569341714, 'ner': 39.03771186628383}\n",
      "{'tok2vec': 57.73905112761016, 'ner': 39.03771582027856}\n",
      "{'tok2vec': 57.73905112761874, 'ner': 39.03771582028608}\n",
      "{'tok2vec': 57.73905188648913, 'ner': 39.03771759895872}\n",
      "{'tok2vec': 57.832367668733305, 'ner': 39.594244531066835}\n",
      "{'tok2vec': 57.83237679019302, 'ner': 39.594251032132966}\n",
      "{'tok2vec': 57.832382473267984, 'ner': 39.594261249254984}\n",
      "{'tok2vec': 57.83238252748385, 'ner': 39.594261302092185}\n",
      "{'tok2vec': 57.83238271257129, 'ner': 39.59426143887465}\n",
      "{'tok2vec': 57.832585917648615, 'ner': 39.59469972759286}\n",
      "{'tok2vec': 57.832593949636276, 'ner': 39.59470800390168}\n",
      "{'tok2vec': 57.8325939518786, 'ner': 39.5947080064358}\n",
      "{'tok2vec': 57.83262918730526, 'ner': 39.594745351078565}\n",
      "{'tok2vec': 57.832629545602664, 'ner': 39.59474555229413}\n",
      "{'tok2vec': 57.83263377798621, 'ner': 39.59475296252865}\n",
      "{'tok2vec': 57.832633809423186, 'ner': 39.594752985858825}\n",
      "{'tok2vec': 57.832671132973005, 'ner': 39.59478862303166}\n",
      "{'tok2vec': 57.832673650226596, 'ner': 39.59479279060921}\n",
      "{'tok2vec': 57.8326736511072, 'ner': 39.59479279144256}\n",
      "{'tok2vec': 57.83267365113021, 'ner': 39.59479279146253}\n",
      "{'tok2vec': 58.44990156381539, 'ner': 40.29164685926033}\n",
      "{'tok2vec': 58.449905852201866, 'ner': 40.291650177292645}\n",
      "{'tok2vec': 58.449906781326504, 'ner': 40.291651077449075}\n",
      "{'tok2vec': 58.44999112335088, 'ner': 40.29171419674228}\n",
      "{'tok2vec': 58.44999112914306, 'ner': 40.291714202693576}\n",
      "{'tok2vec': 58.48676153252912, 'ner': 40.36965518334889}\n",
      "{'tok2vec': 61.19710441827019, 'ner': 43.26372257707441}\n",
      "{'tok2vec': 61.197104418585226, 'ner': 43.26372257732545}\n",
      "{'tok2vec': 61.19733651591591, 'ner': 43.26408168957511}\n",
      "{'tok2vec': 61.20315498309853, 'ner': 43.27625790463525}\n",
      "{'tok2vec': 61.20315498666565, 'ner': 43.27625790721457}\n",
      "{'tok2vec': 61.20315498668772, 'ner': 43.276257907233216}\n",
      "{'tok2vec': 64.60240354552714, 'ner': 47.54862962784948}\n",
      "{'tok2vec': 64.60244148428536, 'ner': 47.548674855141634}\n",
      "{'tok2vec': 67.33548732991713, 'ner': 51.22813939022481}\n",
      "{'tok2vec': 67.33549086264193, 'ner': 51.22814289752039}\n",
      "{'tok2vec': 67.33549086940634, 'ner': 51.22814290442829}\n",
      "{'tok2vec': 69.35566656570514, 'ner': 53.21573103742783}\n",
      "{'tok2vec': 79.92034070472796, 'ner': 65.17732899434392}\n",
      "{'tok2vec': 81.09505050163348, 'ner': 66.26530685526393}\n",
      "{'tok2vec': 82.61889647226413, 'ner': 67.70842224117877}\n",
      "8\n",
      "{'tok2vec': 1.9606033563614895, 'ner': 1.998813300808948}\n",
      "{'tok2vec': 1.9606139063804315, 'ner': 1.9988210496217051}\n",
      "{'tok2vec': 1.9606186964147923, 'ner': 1.9988280823475353}\n",
      "{'tok2vec': 4.93641260440844, 'ner': 5.499445651055775}\n",
      "{'tok2vec': 4.9364128398270655, 'ner': 5.499445852218894}\n",
      "{'tok2vec': 4.939002198728876, 'ner': 5.501765593416032}\n",
      "{'tok2vec': 5.986947221473799, 'ner': 6.497679282302669}\n",
      "{'tok2vec': 5.987235562423764, 'ner': 6.4979075837735065}\n",
      "{'tok2vec': 6.69383668230816, 'ner': 7.628454303847723}\n",
      "{'tok2vec': 8.193941716908126, 'ner': 9.614241232241476}\n",
      "{'tok2vec': 8.193944646032921, 'ner': 9.614243150327647}\n",
      "{'tok2vec': 8.193958295182256, 'ner': 9.614254521580873}\n",
      "{'tok2vec': 8.193958297187722, 'ner': 9.61425452351621}\n",
      "{'tok2vec': 8.19395836388056, 'ner': 9.614254596754956}\n",
      "{'tok2vec': 8.376516938985302, 'ner': 9.798295993939874}\n",
      "{'tok2vec': 9.695798312593352, 'ner': 11.254356486445701}\n",
      "{'tok2vec': 9.695798312712144, 'ner': 11.254356486544598}\n",
      "{'tok2vec': 9.695798312939086, 'ner': 11.254356486750424}\n",
      "{'tok2vec': 104.1008352392195, 'ner': 15.125635821319552}\n",
      "{'tok2vec': 104.10083523966145, 'ner': 15.125635821636816}\n",
      "{'tok2vec': 104.10411576433157, 'ner': 15.132313727109299}\n",
      "{'tok2vec': 105.85346535851455, 'ner': 17.209460679523964}\n",
      "{'tok2vec': 108.62528207411266, 'ner': 20.563418880510632}\n",
      "{'tok2vec': 108.62528211638195, 'ner': 20.563418910021547}\n",
      "{'tok2vec': 108.76299493790033, 'ner': 20.75288623150055}\n",
      "{'tok2vec': 108.76299494391822, 'ner': 20.752886237228722}\n",
      "{'tok2vec': 108.76299557017316, 'ner': 20.752887150648288}\n",
      "{'tok2vec': 108.76299596677777, 'ner': 20.75288750125314}\n",
      "{'tok2vec': 110.00882278703861, 'ner': 22.054608510388555}\n",
      "{'tok2vec': 110.0139438458988, 'ner': 22.058096245590107}\n",
      "{'tok2vec': 122.86302369323461, 'ner': 35.04238144942498}\n",
      "{'tok2vec': 122.86314517000723, 'ner': 35.04245292282105}\n",
      "{'tok2vec': 122.86324446484707, 'ner': 35.042513136179025}\n",
      "{'tok2vec': 122.86324536166038, 'ner': 35.042513749459346}\n",
      "{'tok2vec': 123.4730370073038, 'ner': 35.690846244753864}\n",
      "{'tok2vec': 123.47316143646721, 'ner': 35.69096079088771}\n",
      "{'tok2vec': 123.47316163128579, 'ner': 35.69096094435194}\n",
      "{'tok2vec': 123.47316166848975, 'ner': 35.69096097607095}\n",
      "{'tok2vec': 123.52171357670579, 'ner': 35.732340094058905}\n",
      "{'tok2vec': 123.52171357798947, 'ner': 35.73234009492456}\n",
      "{'tok2vec': 123.53041579442588, 'ner': 35.74088083048047}\n",
      "{'tok2vec': 124.6417429664202, 'ner': 37.740158387485295}\n",
      "{'tok2vec': 124.64175315963064, 'ner': 37.74016661475593}\n",
      "{'tok2vec': 124.64178345393655, 'ner': 37.740204068403806}\n",
      "{'tok2vec': 124.64463471028692, 'ner': 37.74221724269414}\n",
      "{'tok2vec': 124.64463474107575, 'ner': 37.74221726564218}\n",
      "{'tok2vec': 124.64492341546864, 'ner': 37.74238431064982}\n",
      "{'tok2vec': 124.64492866399613, 'ner': 37.7423878929848}\n",
      "{'tok2vec': 128.5041179360867, 'ner': 42.045212150265975}\n",
      "{'tok2vec': 128.50411797455104, 'ner': 42.045212179973745}\n",
      "{'tok2vec': 128.50855370797743, 'ner': 42.04994654666006}\n",
      "{'tok2vec': 129.30467947911126, 'ner': 43.1903036787567}\n",
      "{'tok2vec': 129.3046794831869, 'ner': 43.19030368143576}\n",
      "{'tok2vec': 129.30477315329833, 'ner': 43.190376728942354}\n",
      "{'tok2vec': 129.3047731632457, 'ner': 43.19037673678472}\n",
      "{'tok2vec': 129.30479189706585, 'ner': 43.190390053141705}\n",
      "{'tok2vec': 129.3158413495987, 'ner': 43.20149492615611}\n",
      "{'tok2vec': 129.31584406446527, 'ner': 43.20149700478884}\n",
      "{'tok2vec': 129.31585337611443, 'ner': 43.20150528469707}\n",
      "{'tok2vec': 129.55905977326537, 'ner': 43.4566312155055}\n",
      "{'tok2vec': 129.55906210109487, 'ner': 43.456633025976764}\n",
      "{'tok2vec': 129.55906210109512, 'ner': 43.45663302597697}\n",
      "{'tok2vec': 129.55906212125868, 'ner': 43.45663304186963}\n",
      "{'tok2vec': 129.55906212129025, 'ner': 43.45663304189332}\n",
      "{'tok2vec': 129.55906943753618, 'ner': 43.45666061983445}\n",
      "{'tok2vec': 129.55906948686763, 'ner': 43.45666087037783}\n",
      "{'tok2vec': 132.1515095992597, 'ner': 45.45557933418287}\n",
      "{'tok2vec': 133.73667825329878, 'ner': 46.75403875845565}\n",
      "{'tok2vec': 133.73700246938924, 'ner': 46.75426250838913}\n",
      "{'tok2vec': 133.73700253278983, 'ner': 46.75426254884155}\n",
      "{'tok2vec': 133.73700257243758, 'ner': 46.75426257725569}\n",
      "{'tok2vec': 133.73700587827355, 'ner': 46.754265052792306}\n",
      "{'tok2vec': 133.73700587848097, 'ner': 46.75426505294136}\n",
      "{'tok2vec': 133.73701531440074, 'ner': 46.75428212995777}\n",
      "{'tok2vec': 135.36975821441206, 'ner': 48.59350416935342}\n",
      "9\n",
      "{'tok2vec': 1.3408809458326232e-06, 'ner': 9.321892256734216e-07}\n",
      "{'tok2vec': 1.3463057425477584e-06, 'ner': 9.41690809772708e-07}\n",
      "{'tok2vec': 1.7993639810911718e-06, 'ner': 1.3035018094057468e-06}\n",
      "{'tok2vec': 1.8031910608137455e-06, 'ner': 1.305796189391556e-06}\n",
      "{'tok2vec': 3.055282250197557, 'ner': 2.6306930109880673}\n",
      "{'tok2vec': 3.055282250253956, 'ner': 2.6306930110357443}\n",
      "{'tok2vec': 3.0552922272003644, 'ner': 2.63069962277109}\n",
      "{'tok2vec': 3.0552991468811643, 'ner': 2.630708523654879}\n",
      "{'tok2vec': 5.888662203124699, 'ner': 6.156785609897774}\n",
      "{'tok2vec': 5.957064167020225, 'ner': 6.210556324431903}\n",
      "{'tok2vec': 5.957064167026549, 'ner': 6.21055632443818}\n",
      "{'tok2vec': 5.957064167425753, 'ner': 6.210556324766453}\n",
      "{'tok2vec': 5.95706418789204, 'ner': 6.210556339014924}\n",
      "{'tok2vec': 5.957131094705839, 'ner': 6.210601473399952}\n",
      "{'tok2vec': 6.587287790552123, 'ner': 6.895619717358329}\n",
      "{'tok2vec': 6.587289373137859, 'ner': 6.895620739881876}\n",
      "{'tok2vec': 6.5872893731469695, 'ner': 6.895620739888831}\n",
      "{'tok2vec': 6.587289373148042, 'ner': 6.895620739889545}\n",
      "{'tok2vec': 6.58729042876356, 'ner': 6.895621707087304}\n",
      "{'tok2vec': 8.506854564273986, 'ner': 8.444209517710732}\n",
      "{'tok2vec': 8.50685738638009, 'ner': 8.444211056930207}\n",
      "{'tok2vec': 49.44702481344308, 'ner': 13.681793389748984}\n",
      "{'tok2vec': 49.44702481355995, 'ner': 13.681793389825263}\n",
      "{'tok2vec': 49.44702481430016, 'ner': 13.68179339051177}\n",
      "{'tok2vec': 49.44702481551615, 'ner': 13.681793391465165}\n",
      "{'tok2vec': 49.44711664455633, 'ner': 13.68195097780103}\n",
      "{'tok2vec': 49.44711717875353, 'ner': 13.681951380907034}\n",
      "{'tok2vec': 49.447117243962545, 'ner': 13.68195142765243}\n",
      "{'tok2vec': 50.12974623343523, 'ner': 14.309011621052575}\n",
      "{'tok2vec': 56.65671911965039, 'ner': 18.28836821875793}\n",
      "{'tok2vec': 56.6567191207497, 'ner': 18.28836821958882}\n",
      "{'tok2vec': 56.66062092578626, 'ner': 18.290856462551655}\n",
      "{'tok2vec': 56.66062097159586, 'ner': 18.2908564854278}\n",
      "{'tok2vec': 56.66145866904846, 'ner': 18.291380731267463}\n",
      "{'tok2vec': 56.72107837889828, 'ner': 18.340128437140386}\n",
      "{'tok2vec': 56.721078378931175, 'ner': 18.34012843716365}\n",
      "{'tok2vec': 56.727452718779105, 'ner': 18.345715896856596}\n",
      "{'tok2vec': 57.59679719883234, 'ner': 19.47510219589688}\n",
      "{'tok2vec': 57.59765917354189, 'ner': 19.475574389303443}\n",
      "{'tok2vec': 57.5976591737402, 'ner': 19.47557438945835}\n",
      "{'tok2vec': 59.80183665090461, 'ner': 21.230335539299247}\n",
      "{'tok2vec': 61.23191205898152, 'ner': 22.53650461921048}\n",
      "{'tok2vec': 65.27807764247399, 'ner': 28.23741324464516}\n",
      "{'tok2vec': 136.8121099872921, 'ner': 34.98698585110725}\n",
      "{'tok2vec': 137.65143078267175, 'ner': 35.55742600005556}\n",
      "{'tok2vec': 137.65143116509714, 'ner': 35.5574262925756}\n",
      "{'tok2vec': 137.70614430254497, 'ner': 35.6030185818607}\n",
      "{'tok2vec': 137.70628594473243, 'ner': 35.603097708546045}\n",
      "{'tok2vec': 142.22132189249402, 'ner': 41.28303023822344}\n",
      "{'tok2vec': 142.56404315187126, 'ner': 41.85665354611894}\n",
      "{'tok2vec': 142.5640551585904, 'ner': 41.856660531277704}\n",
      "{'tok2vec': 142.56405515979495, 'ner': 41.8566605322893}\n",
      "{'tok2vec': 147.3685528786087, 'ner': 45.83040177609558}\n",
      "{'tok2vec': 148.58642132591433, 'ner': 47.18218024912197}\n",
      "{'tok2vec': 148.5864213340869, 'ner': 47.18218025469499}\n",
      "{'tok2vec': 148.58642133488405, 'ner': 47.182180255584875}\n",
      "{'tok2vec': 148.5864214166898, 'ner': 47.18218031943213}\n",
      "{'tok2vec': 148.58656165256554, 'ner': 47.18238021142672}\n",
      "{'tok2vec': 148.5865719398842, 'ner': 47.182391032412845}\n",
      "{'tok2vec': 149.8199472578279, 'ner': 48.39924351354034}\n",
      "{'tok2vec': 152.25993524382358, 'ner': 50.39920384732418}\n",
      "{'tok2vec': 152.34422119935044, 'ner': 50.48872518026717}\n",
      "{'tok2vec': 152.34422119954758, 'ner': 50.488725180443836}\n",
      "{'tok2vec': 152.40487249830466, 'ner': 50.53860190170605}\n",
      "{'tok2vec': 152.41614466888612, 'ner': 50.55792294084327}\n",
      "{'tok2vec': 152.41614468458326, 'ner': 50.55792295193133}\n",
      "{'tok2vec': 152.41614474134252, 'ner': 50.55792300029729}\n",
      "{'tok2vec': 152.41616460839867, 'ner': 50.5579407079745}\n",
      "{'tok2vec': 152.41616460845788, 'ner': 50.557940708019345}\n",
      "{'tok2vec': 152.41616461096038, 'ner': 50.5579407095669}\n",
      "{'tok2vec': 152.41616461096723, 'ner': 50.557940709572335}\n",
      "{'tok2vec': 152.41616461119173, 'ner': 50.55794070974782}\n",
      "{'tok2vec': 161.52827665648087, 'ner': 57.21085753752205}\n",
      "{'tok2vec': 161.52827665789204, 'ner': 57.210857538638756}\n",
      "{'tok2vec': 161.52827665790574, 'ner': 57.21085753864891}\n",
      "10\n",
      "{'tok2vec': 3.128002059988818e-08, 'ner': 2.0315751831275062e-08}\n",
      "{'tok2vec': 3.003070753288323e-05, 'ner': 1.8701672164951356e-05}\n",
      "{'tok2vec': 3.0032358401503855e-05, 'ner': 1.870274829175882e-05}\n",
      "{'tok2vec': 3.0034573670481125e-05, 'ner': 1.8704594096054093e-05}\n",
      "{'tok2vec': 3.0086120203245526e-05, 'ner': 1.87356394947213e-05}\n",
      "{'tok2vec': 3.0086128068592084e-05, 'ner': 1.8735645818457586e-05}\n",
      "{'tok2vec': 0.9302313159225101, 'ner': 1.3846700892917527}\n",
      "{'tok2vec': 0.9302313208505186, 'ner': 1.3846700923610373}\n",
      "{'tok2vec': 0.9302313572208598, 'ner': 1.384670118224886}\n",
      "{'tok2vec': 0.9302313581062824, 'ner': 1.384670118902666}\n",
      "{'tok2vec': 61.89225996669351, 'ner': 6.90896019049443}\n",
      "{'tok2vec': 61.91416922459656, 'ner': 6.933689874883673}\n",
      "{'tok2vec': 61.914169226035895, 'ner': 6.933689875864598}\n",
      "{'tok2vec': 61.91416922675281, 'ner': 6.933689876431338}\n",
      "{'tok2vec': 61.914169228831945, 'ner': 6.933689878589476}\n",
      "{'tok2vec': 61.91416923172333, 'ner': 6.933689880699893}\n",
      "{'tok2vec': 61.91416923317014, 'ner': 6.933689881632626}\n",
      "{'tok2vec': 62.26136873612417, 'ner': 7.164658536666422}\n",
      "{'tok2vec': 62.461528424051394, 'ner': 7.32166865589174}\n",
      "{'tok2vec': 63.731371049665114, 'ner': 8.713781664465598}\n",
      "{'tok2vec': 63.73137142774228, 'ner': 8.713781889219478}\n",
      "{'tok2vec': 66.14040997144902, 'ner': 10.46054075072541}\n",
      "{'tok2vec': 68.42785122523097, 'ner': 12.46873831613696}\n",
      "{'tok2vec': 68.4278513583123, 'ner': 12.468738445530148}\n",
      "{'tok2vec': 68.42785265173261, 'ner': 12.468739812557821}\n",
      "{'tok2vec': 68.42785624771192, 'ner': 12.468742233040812}\n",
      "{'tok2vec': 68.4278564542892, 'ner': 12.468742396028876}\n",
      "{'tok2vec': 68.42785652998018, 'ner': 12.468742482855752}\n",
      "{'tok2vec': 68.4279088854938, 'ner': 12.46877069053759}\n",
      "{'tok2vec': 68.4279088857392, 'ner': 12.468770690743618}\n",
      "{'tok2vec': 68.42790892831466, 'ner': 12.468770719371612}\n",
      "{'tok2vec': 68.42815270097721, 'ner': 12.468925484156129}\n",
      "{'tok2vec': 69.00404631553751, 'ner': 13.168231983405876}\n",
      "{'tok2vec': 69.0041566862656, 'ner': 13.168324646926363}\n",
      "{'tok2vec': 69.23837341159032, 'ner': 13.332679953974553}\n",
      "{'tok2vec': 69.23838813015554, 'ner': 13.332690002740309}\n",
      "{'tok2vec': 69.23838817142203, 'ner': 13.332690024771388}\n",
      "{'tok2vec': 69.23838819408982, 'ner': 13.332690038826456}\n",
      "{'tok2vec': 69.23838946493814, 'ner': 13.332691351605972}\n",
      "{'tok2vec': 69.5476432747256, 'ner': 13.530718622350475}\n",
      "{'tok2vec': 69.5658619077168, 'ner': 13.539324489800531}\n",
      "{'tok2vec': 74.812929359228, 'ner': 18.654054794900862}\n",
      "{'tok2vec': 74.81292967721095, 'ner': 18.65405498217705}\n",
      "{'tok2vec': 74.81292971242816, 'ner': 18.654055023347297}\n",
      "{'tok2vec': 77.65359076188328, 'ner': 21.03823253520551}\n",
      "{'tok2vec': 78.039978041748, 'ner': 21.39468043847145}\n",
      "{'tok2vec': 78.03997804176515, 'ner': 21.394680438483658}\n",
      "{'tok2vec': 78.03997804271867, 'ner': 21.39468043941418}\n",
      "{'tok2vec': 81.93941356378251, 'ner': 25.312425899759145}\n",
      "{'tok2vec': 81.94084449868149, 'ner': 25.31355260880357}\n",
      "{'tok2vec': 81.95312021311423, 'ner': 25.32365479941751}\n",
      "{'tok2vec': 81.9531202133506, 'ner': 25.323654799587523}\n",
      "{'tok2vec': 81.953120213629, 'ner': 25.3236547999001}\n",
      "{'tok2vec': 81.95312021362929, 'ner': 25.32365479990027}\n",
      "{'tok2vec': 81.95312021364062, 'ner': 25.32365479991139}\n",
      "{'tok2vec': 93.22827122796862, 'ner': 34.55804674471981}\n",
      "{'tok2vec': 100.03718016733022, 'ner': 38.81417799482852}\n",
      "{'tok2vec': 100.0372402505152, 'ner': 38.814228443917166}\n",
      "{'tok2vec': 100.03724038956148, 'ner': 38.81422853153294}\n",
      "{'tok2vec': 101.88801912835518, 'ner': 40.81340870500835}\n",
      "{'tok2vec': 101.88802347444617, 'ner': 40.81341238355755}\n",
      "{'tok2vec': 101.88802348842262, 'ner': 40.813412393987996}\n",
      "{'tok2vec': 101.88802348842418, 'ner': 40.813412393989026}\n",
      "{'tok2vec': 101.88802348850841, 'ner': 40.813412394042686}\n",
      "{'tok2vec': 101.88802351231817, 'ner': 40.81341241178455}\n",
      "{'tok2vec': 101.88802358171687, 'ner': 40.813412458431664}\n",
      "{'tok2vec': 101.88802358171812, 'ner': 40.81341245843296}\n",
      "{'tok2vec': 101.88802358783197, 'ner': 40.813412462841825}\n",
      "{'tok2vec': 101.88802381964418, 'ner': 40.81341271691319}\n",
      "{'tok2vec': 101.8937335315721, 'ner': 40.82252647481321}\n",
      "{'tok2vec': 103.37709561024846, 'ner': 42.82194094757372}\n",
      "{'tok2vec': 103.37709561155333, 'ner': 42.82194094857952}\n",
      "{'tok2vec': 103.37752472244847, 'ner': 42.82211671751253}\n",
      "{'tok2vec': 103.37752472244854, 'ner': 42.822116717512614}\n",
      "{'tok2vec': 105.04684043891127, 'ner': 44.30023627689756}\n",
      "11\n",
      "{'tok2vec': 1.7864218158081258e-06, 'ner': 1.064574547849705e-06}\n",
      "{'tok2vec': 2.6873540062144485e-06, 'ner': 1.7370583358080796e-06}\n",
      "{'tok2vec': 2.68865015103106e-06, 'ner': 1.7378996520874468e-06}\n",
      "{'tok2vec': 2.868892604882125e-06, 'ner': 1.8783295594959275e-06}\n",
      "{'tok2vec': 2.8688942407952945e-06, 'ner': 1.878330931169399e-06}\n",
      "{'tok2vec': 2.869017185555678e-06, 'ner': 1.8784317139314934e-06}\n",
      "{'tok2vec': 0.665607639202132, 'ner': 1.1915632690172744}\n",
      "{'tok2vec': 0.6656076450379972, 'ner': 1.1915632728364904}\n",
      "{'tok2vec': 0.6765615799089542, 'ner': 1.2020112068386068}\n",
      "{'tok2vec': 3.639041172453607, 'ner': 3.590847778485344}\n",
      "{'tok2vec': 3.6390411724548812, 'ner': 3.5908477784862485}\n",
      "{'tok2vec': 7.886393773045224, 'ner': 6.94138846852897}\n",
      "{'tok2vec': 7.886394049680383, 'ner': 6.941388667578112}\n",
      "{'tok2vec': 7.88639404996143, 'ner': 6.941388667789026}\n",
      "{'tok2vec': 7.886394050491228, 'ner': 6.941388668253168}\n",
      "{'tok2vec': 7.886394050571678, 'ner': 6.941388668313389}\n",
      "{'tok2vec': 9.667415765543147, 'ner': 8.116692127868264}\n",
      "{'tok2vec': 9.667415766486778, 'ner': 8.11669212836793}\n",
      "{'tok2vec': 9.667448441210377, 'ner': 8.116710301488549}\n",
      "{'tok2vec': 9.667448442276958, 'ner': 8.116710302464908}\n",
      "{'tok2vec': 9.667449068245391, 'ner': 8.116710751186204}\n",
      "{'tok2vec': 11.081250492788572, 'ner': 9.422111371918188}\n",
      "{'tok2vec': 11.081250493175354, 'ner': 9.422111372217278}\n",
      "{'tok2vec': 11.081250493205928, 'ner': 9.42211137224207}\n",
      "{'tok2vec': 11.116253104791292, 'ner': 9.451606599790482}\n",
      "{'tok2vec': 11.139349204807525, 'ner': 9.465223671942447}\n",
      "{'tok2vec': 11.139349236517843, 'ner': 9.46522369123862}\n",
      "{'tok2vec': 11.1395429645238, 'ner': 9.465366445794007}\n",
      "{'tok2vec': 11.13954296452391, 'ner': 9.465366445794098}\n",
      "{'tok2vec': 11.139542972413327, 'ner': 9.465366451740113}\n",
      "{'tok2vec': 11.139542972583309, 'ner': 9.465366451842863}\n",
      "{'tok2vec': 11.139542972627673, 'ner': 9.465366451873765}\n",
      "{'tok2vec': 12.86267820555321, 'ner': 10.851961962923223}\n",
      "{'tok2vec': 12.86316782996193, 'ner': 10.852177801550159}\n",
      "{'tok2vec': 12.863167831771419, 'ner': 10.852177803020876}\n",
      "{'tok2vec': 15.443387338989748, 'ner': 13.11878271051713}\n",
      "{'tok2vec': 15.443387398030191, 'ner': 13.118782781365956}\n",
      "{'tok2vec': 19.65961826732378, 'ner': 16.641042603418832}\n",
      "{'tok2vec': 28.20117557938146, 'ner': 24.16798472717572}\n",
      "{'tok2vec': 28.201175607772093, 'ner': 24.167984748936505}\n",
      "{'tok2vec': 28.20117560785043, 'ner': 24.167984748990555}\n",
      "{'tok2vec': 29.712219394884464, 'ner': 26.16642632373369}\n",
      "{'tok2vec': 31.671439806162184, 'ner': 27.654810562466846}\n",
      "{'tok2vec': 31.67143982084666, 'ner': 27.654810575548463}\n",
      "{'tok2vec': 31.67144584153523, 'ner': 27.654815716272157}\n",
      "{'tok2vec': 31.67144728995612, 'ner': 27.65481674154147}\n",
      "{'tok2vec': 31.67326228339361, 'ner': 27.656472468794536}\n",
      "{'tok2vec': 31.673817908742915, 'ner': 27.656801224529207}\n",
      "{'tok2vec': 31.67381790919794, 'ner': 27.656801224891684}\n",
      "{'tok2vec': 35.152166164383466, 'ner': 31.14809512948459}\n",
      "{'tok2vec': 35.15216652141783, 'ner': 31.148095420012133}\n",
      "{'tok2vec': 35.15235758026808, 'ner': 31.148438877904226}\n",
      "{'tok2vec': 35.15235761070621, 'ner': 31.148438907396596}\n",
      "{'tok2vec': 35.152357613442575, 'ner': 31.148438910179326}\n",
      "{'tok2vec': 36.86134880469843, 'ner': 33.148977520141564}\n",
      "{'tok2vec': 36.86134880975311, 'ner': 33.1489775247522}\n",
      "{'tok2vec': 36.86134880993644, 'ner': 33.14897752489065}\n",
      "{'tok2vec': 36.90607674644307, 'ner': 33.18444868910035}\n",
      "{'tok2vec': 36.90607734081256, 'ner': 33.184449107567076}\n",
      "{'tok2vec': 36.906077425553846, 'ner': 33.184449181110146}\n",
      "{'tok2vec': 38.4028959680665, 'ner': 35.87068143294549}\n",
      "{'tok2vec': 40.05646687770749, 'ner': 37.80070590040654}\n",
      "{'tok2vec': 40.0564675375137, 'ner': 37.80070650155296}\n",
      "{'tok2vec': 40.05651701582019, 'ner': 37.80074227658768}\n",
      "{'tok2vec': 40.05657568674118, 'ner': 37.80086667109219}\n",
      "{'tok2vec': 40.05657568841828, 'ner': 37.80086667257044}\n",
      "{'tok2vec': 40.056576670113, 'ner': 37.80086738087911}\n",
      "{'tok2vec': 40.09192377366004, 'ner': 37.835293202631526}\n",
      "{'tok2vec': 40.09192378203409, 'ner': 37.83529320812823}\n",
      "{'tok2vec': 40.09192378360508, 'ner': 37.83529320971232}\n",
      "{'tok2vec': 41.201310406510814, 'ner': 39.550295088887154}\n",
      "{'tok2vec': 45.578035126733646, 'ner': 43.46555808005807}\n",
      "{'tok2vec': 45.57803755398576, 'ner': 43.46556169701611}\n",
      "{'tok2vec': 45.578037656884504, 'ner': 43.46556177701593}\n",
      "{'tok2vec': 45.57803942571489, 'ner': 43.465563026168326}\n",
      "12\n",
      "{'tok2vec': 2.5291833731511115e-11, 'ner': 2.45109721008958e-11}\n",
      "{'tok2vec': 7.326910409497563e-11, 'ner': 6.905431564227276e-11}\n",
      "{'tok2vec': 1.7044729019002602, 'ner': 1.401326688664088}\n",
      "{'tok2vec': 1.704472902090158, 'ner': 1.4013266888034743}\n",
      "{'tok2vec': 1.7044729024352572, 'ner': 1.4013266890640756}\n",
      "{'tok2vec': 6.327883605586766, 'ner': 4.597355017097249}\n",
      "{'tok2vec': 15.330897216426635, 'ner': 11.56434411089537}\n",
      "{'tok2vec': 15.330899992706286, 'ner': 11.564346123966777}\n",
      "{'tok2vec': 15.330899992783532, 'ner': 11.564346124037057}\n",
      "{'tok2vec': 21.053381243825196, 'ner': 16.306033885943275}\n",
      "{'tok2vec': 21.053381261999437, 'ner': 16.306033903799605}\n",
      "{'tok2vec': 21.05338127002, 'ner': 16.30603391046146}\n",
      "{'tok2vec': 21.05338168424041, 'ner': 16.306034234361803}\n",
      "{'tok2vec': 21.053381687657996, 'ner': 16.30603423639735}\n",
      "{'tok2vec': 21.0533827940454, 'ner': 16.30603510415107}\n",
      "{'tok2vec': 22.759223381661368, 'ner': 18.08757294698459}\n",
      "{'tok2vec': 22.759223381682936, 'ner': 18.0875729470062}\n",
      "{'tok2vec': 22.821584503791932, 'ner': 18.131538114650457}\n",
      "{'tok2vec': 22.82158450438046, 'ner': 18.13153811524682}\n",
      "{'tok2vec': 22.821586185170915, 'ner': 18.131539107333477}\n",
      "{'tok2vec': 22.821604082018293, 'ner': 18.131553029476205}\n",
      "{'tok2vec': 22.821604103599643, 'ner': 18.131553049477567}\n",
      "{'tok2vec': 22.82160411801243, 'ner': 18.131553061492518}\n",
      "{'tok2vec': 23.955349192300133, 'ner': 20.251738514194262}\n",
      "{'tok2vec': 23.955349192325336, 'ner': 20.251738514214377}\n",
      "{'tok2vec': 26.473515019888993, 'ner': 22.56029928563579}\n",
      "{'tok2vec': 26.473515026480523, 'ner': 22.560299291687212}\n",
      "{'tok2vec': 26.473515081493066, 'ner': 22.560299336241826}\n",
      "{'tok2vec': 26.473575734879823, 'ner': 22.560360009959375}\n",
      "{'tok2vec': 26.473575987260354, 'ner': 22.56036032211082}\n",
      "{'tok2vec': 26.473575994652457, 'ner': 22.56036032804012}\n",
      "{'tok2vec': 26.47357600289184, 'ner': 22.560360333303333}\n",
      "{'tok2vec': 26.47357616999438, 'ner': 22.560360534851444}\n",
      "{'tok2vec': 26.47378161115847, 'ner': 22.560578414756716}\n",
      "{'tok2vec': 26.473781680959934, 'ner': 22.560578471086203}\n",
      "{'tok2vec': 26.47411176248404, 'ner': 22.560887905075194}\n",
      "{'tok2vec': 26.474111825832537, 'ner': 22.560887964682067}\n",
      "{'tok2vec': 26.474152339955467, 'ner': 22.560931506261042}\n",
      "{'tok2vec': 26.47421384381279, 'ner': 22.560997119235633}\n",
      "{'tok2vec': 26.474213852410188, 'ner': 22.560997127888132}\n",
      "{'tok2vec': 28.395280971085928, 'ner': 24.58655827349006}\n",
      "{'tok2vec': 28.39528097345642, 'ner': 24.586558276019183}\n",
      "{'tok2vec': 28.39528097817729, 'ner': 24.586558280618316}\n",
      "{'tok2vec': 33.19879879662903, 'ner': 29.578941880958432}\n",
      "{'tok2vec': 33.2976249517537, 'ner': 29.78991070175827}\n",
      "{'tok2vec': 33.29762495318897, 'ner': 29.789910703151406}\n",
      "{'tok2vec': 33.29824830333706, 'ner': 29.790485784686467}\n",
      "{'tok2vec': 49.40307270179278, 'ner': 39.31967985007364}\n",
      "{'tok2vec': 49.40786377715725, 'ner': 39.32498136505125}\n",
      "{'tok2vec': 49.407863777978946, 'ner': 39.32498136566651}\n",
      "{'tok2vec': 49.40786436715893, 'ner': 39.32498186434875}\n",
      "{'tok2vec': 49.408100696993756, 'ner': 39.32515610160332}\n",
      "{'tok2vec': 52.860458704424786, 'ner': 43.48871982445178}\n",
      "{'tok2vec': 52.86045870442542, 'ner': 43.48871982445223}\n",
      "{'tok2vec': 55.19870175628859, 'ner': 46.8414035608878}\n",
      "{'tok2vec': 55.19870198524289, 'ner': 46.84140372640545}\n",
      "{'tok2vec': 55.198701986420325, 'ner': 46.84140372802482}\n",
      "{'tok2vec': 61.909458288300215, 'ner': 52.10545295273509}\n",
      "{'tok2vec': 61.909458288300755, 'ner': 52.105452952735554}\n",
      "{'tok2vec': 61.90945829213788, 'ner': 52.10545295590077}\n",
      "{'tok2vec': 61.910003727340374, 'ner': 52.10593242458281}\n",
      "{'tok2vec': 61.9100850405767, 'ner': 52.10597575516779}\n",
      "{'tok2vec': 61.910085176333936, 'ner': 52.10597585126456}\n",
      "{'tok2vec': 61.91008646190731, 'ner': 52.105976665164484}\n",
      "{'tok2vec': 64.76645476540101, 'ner': 54.35196830970039}\n",
      "{'tok2vec': 64.76871685234936, 'ner': 54.353140384661685}\n",
      "{'tok2vec': 64.7687168556817, 'ner': 54.353140387446736}\n",
      "{'tok2vec': 64.76871821649972, 'ner': 54.353141685204484}\n",
      "{'tok2vec': 64.7687182189179, 'ner': 54.353141687526495}\n",
      "{'tok2vec': 64.76872828808114, 'ner': 54.35314776245027}\n",
      "{'tok2vec': 64.7688114049988, 'ner': 54.35322987184331}\n",
      "{'tok2vec': 65.65342855511082, 'ner': 55.14689586726878}\n",
      "{'tok2vec': 67.58294964205366, 'ner': 57.13861833230639}\n",
      "{'tok2vec': 69.75048017870557, 'ner': 59.03931708759547}\n",
      "{'tok2vec': 69.75048078168861, 'ner': 59.03931754560897}\n",
      "13\n",
      "{'tok2vec': 0.05207020789384918, 'ner': 0.05727941451820939}\n",
      "{'tok2vec': 0.05207021084635287, 'ner': 0.05727941704434504}\n",
      "{'tok2vec': 0.05207021929411067, 'ner': 0.057279431558596446}\n",
      "{'tok2vec': 0.05216066642497921, 'ner': 0.05755126997318943}\n",
      "{'tok2vec': 1.1546491842594508, 'ner': 1.2079309277907355}\n",
      "{'tok2vec': 1.1546514724558807, 'ner': 1.207933475822957}\n",
      "{'tok2vec': 1.1546827295565607, 'ner': 1.2079557322841794}\n",
      "{'tok2vec': 1.157848121205135, 'ner': 1.2130417309967407}\n",
      "{'tok2vec': 1.1579816546181767, 'ner': 1.213170405243663}\n",
      "{'tok2vec': 1.1579816645505718, 'ner': 1.2131704136455677}\n",
      "{'tok2vec': 4.02572380599911, 'ner': 3.179041699517998}\n",
      "{'tok2vec': 4.0257238060023735, 'ner': 3.1790416995209365}\n",
      "{'tok2vec': 4.0260738224310355, 'ner': 3.1793186853230426}\n",
      "{'tok2vec': 4.026122359034607, 'ner': 3.179355305157232}\n",
      "{'tok2vec': 8.535594252539003, 'ner': 7.2538256336018385}\n",
      "{'tok2vec': 8.535594253719331, 'ner': 7.253825634974985}\n",
      "{'tok2vec': 8.535594253719337, 'ner': 7.253825634974988}\n",
      "{'tok2vec': 8.535595705336362, 'ner': 7.253827941615669}\n",
      "{'tok2vec': 8.535595705438531, 'ner': 7.253827941695184}\n",
      "{'tok2vec': 8.53559570553799, 'ner': 7.253827941791646}\n",
      "{'tok2vec': 8.535595705871227, 'ner': 7.253827942268087}\n",
      "{'tok2vec': 11.672054354475836, 'ner': 9.3407793742328}\n",
      "{'tok2vec': 11.672127531033754, 'ner': 9.340857667765535}\n",
      "{'tok2vec': 11.672127531334443, 'ner': 9.340857668026864}\n",
      "{'tok2vec': 11.672128275114998, 'ner': 9.340858528951996}\n",
      "{'tok2vec': 11.672130186859343, 'ner': 9.340860553411583}\n",
      "{'tok2vec': 11.672130680219132, 'ner': 9.340860842805247}\n",
      "{'tok2vec': 11.67213068056072, 'ner': 9.34086084318032}\n",
      "{'tok2vec': 11.672130680791962, 'ner': 9.340860843341463}\n",
      "{'tok2vec': 13.457474373167457, 'ner': 11.018958090812253}\n",
      "{'tok2vec': 13.45747983266893, 'ner': 11.018963373615318}\n",
      "{'tok2vec': 13.457480193343516, 'ner': 11.018963825327265}\n",
      "{'tok2vec': 13.457480198423218, 'ner': 11.018963828548559}\n",
      "{'tok2vec': 416.4240024159974, 'ner': 18.327447692179764}\n",
      "{'tok2vec': 416.4240025975896, 'ner': 18.327447825119414}\n",
      "{'tok2vec': 417.43871211054375, 'ner': 20.324854262813567}\n",
      "{'tok2vec': 417.4387121106825, 'ner': 20.324854262913817}\n",
      "{'tok2vec': 417.43875169088693, 'ner': 20.3248839453775}\n",
      "{'tok2vec': 417.4393801507702, 'ner': 20.325796722093152}\n",
      "{'tok2vec': 417.4393814126233, 'ner': 20.32579786075327}\n",
      "{'tok2vec': 417.448508314273, 'ner': 20.33156838347093}\n",
      "{'tok2vec': 418.42725068062094, 'ner': 21.938571029608003}\n",
      "{'tok2vec': 419.73813062795733, 'ner': 23.887914543893025}\n",
      "{'tok2vec': 419.7672325417578, 'ner': 23.921441174543332}\n",
      "{'tok2vec': 419.7672393809849, 'ner': 23.921445810604666}\n",
      "{'tok2vec': 419.7672393997448, 'ner': 23.921445823849396}\n",
      "{'tok2vec': 420.1917736311694, 'ner': 24.225582296948303}\n",
      "{'tok2vec': 420.19177384399336, 'ner': 24.225582450887206}\n",
      "{'tok2vec': 420.1918235988458, 'ner': 24.22561351263325}\n",
      "{'tok2vec': 420.1918245909384, 'ner': 24.225614713092067}\n",
      "{'tok2vec': 420.1918607996099, 'ner': 24.22562808421833}\n",
      "{'tok2vec': 420.19187927446677, 'ner': 24.225644325396846}\n",
      "{'tok2vec': 420.1919052677129, 'ner': 24.22566109062875}\n",
      "{'tok2vec': 420.1919052746593, 'ner': 24.225661095020754}\n",
      "{'tok2vec': 420.1919053429494, 'ner': 24.225661143897316}\n",
      "{'tok2vec': 420.19190534529037, 'ner': 24.22566114583747}\n",
      "{'tok2vec': 420.1919053669008, 'ner': 24.2256611646899}\n",
      "{'tok2vec': 424.29393159103716, 'ner': 28.721749081322965}\n",
      "{'tok2vec': 424.29678042345193, 'ner': 28.72391002338178}\n",
      "{'tok2vec': 424.29830382691597, 'ner': 28.725050985481307}\n",
      "{'tok2vec': 424.2983038333683, 'ner': 28.72505099120123}\n",
      "{'tok2vec': 425.1959316128414, 'ner': 29.38950970350272}\n",
      "{'tok2vec': 475.0726981135424, 'ner': 40.95650910777993}\n",
      "{'tok2vec': 475.07718976996415, 'ner': 40.96081040806301}\n",
      "{'tok2vec': 475.07718977038434, 'ner': 40.96081040832585}\n",
      "{'tok2vec': 475.0772310381239, 'ner': 40.96084706660586}\n",
      "{'tok2vec': 475.0772311987116, 'ner': 40.9608472253282}\n",
      "{'tok2vec': 476.70652738263306, 'ner': 42.85979691503106}\n",
      "{'tok2vec': 476.7065273826472, 'ner': 42.85979691504137}\n",
      "{'tok2vec': 476.7065274010781, 'ner': 42.85979692842372}\n",
      "{'tok2vec': 476.7065274010893, 'ner': 42.85979692843114}\n",
      "{'tok2vec': 478.7525448337274, 'ner': 44.29131449753021}\n",
      "{'tok2vec': 478.7525449975254, 'ner': 44.291314650289706}\n",
      "{'tok2vec': 478.75281416611193, 'ner': 44.291500979847605}\n",
      "{'tok2vec': 482.78146063524423, 'ner': 46.25525659060781}\n",
      "14\n",
      "{'tok2vec': 0.34999241260811687, 'ner': 0.5797990275891454}\n",
      "{'tok2vec': 0.3500023220803996, 'ner': 0.579811012778065}\n",
      "{'tok2vec': 0.35000232210166804, 'ner': 0.5798110127933652}\n",
      "{'tok2vec': 0.35000232210716503, 'ner': 0.5798110128093874}\n",
      "{'tok2vec': 0.3500023221073591, 'ner': 0.5798110128095617}\n",
      "{'tok2vec': 0.35008006006165776, 'ner': 0.5798666432000433}\n",
      "{'tok2vec': 0.3526569420848701, 'ner': 0.581289002584418}\n",
      "{'tok2vec': 0.3526569420854584, 'ner': 0.5812890025849543}\n",
      "{'tok2vec': 0.3526569420862822, 'ner': 0.5812890025855133}\n",
      "{'tok2vec': 0.35265694208685466, 'ner': 0.5812890025859256}\n",
      "{'tok2vec': 2.309138875693475, 'ner': 1.9061113092370392}\n",
      "{'tok2vec': 3.1361536407364907, 'ner': 2.5290495262214963}\n",
      "{'tok2vec': 3.6763533380079654, 'ner': 2.8542188888080418}\n",
      "{'tok2vec': 3.6763533396407726, 'ner': 2.8542188898018166}\n",
      "{'tok2vec': 3.676353645986901, 'ner': 2.8542195215898913}\n",
      "{'tok2vec': 4.6134544216106566, 'ner': 3.8515078332465618}\n",
      "{'tok2vec': 4.680366051946328, 'ner': 3.938590860221985}\n",
      "{'tok2vec': 4.68050224999612, 'ner': 3.9387140590337606}\n",
      "{'tok2vec': 4.680502249997998, 'ner': 3.9387140590348877}\n",
      "{'tok2vec': 4.680502250014708, 'ner': 3.938714059047354}\n",
      "{'tok2vec': 4.680502250014717, 'ner': 3.93871405904736}\n",
      "{'tok2vec': 4.680502250024534, 'ner': 3.9387140590542815}\n",
      "{'tok2vec': 4.681572862484961, 'ner': 3.939840785678824}\n",
      "{'tok2vec': 4.681572862644201, 'ner': 3.9398407858235887}\n",
      "{'tok2vec': 4.681573471464815, 'ner': 3.939843507508276}\n",
      "{'tok2vec': 4.681573471464816, 'ner': 3.939843507508276}\n",
      "{'tok2vec': 4.681573471465033, 'ner': 3.939843507508428}\n",
      "{'tok2vec': 5.953151664183298, 'ner': 5.776957614043363}\n",
      "{'tok2vec': 5.953151664185429, 'ner': 5.776957614045083}\n",
      "{'tok2vec': 5.953151664196397, 'ner': 5.776957614054707}\n",
      "{'tok2vec': 5.953151664200473, 'ner': 5.7769576140596826}\n",
      "{'tok2vec': 5.953152814492538, 'ner': 5.776958476715191}\n",
      "{'tok2vec': 5.953152814492874, 'ner': 5.7769584767154845}\n",
      "{'tok2vec': 5.953152935328536, 'ner': 5.776958542043491}\n",
      "{'tok2vec': 5.9531529444326186, 'ner': 5.776958548749369}\n",
      "{'tok2vec': 5.953152995544792, 'ner': 5.776958717112925}\n",
      "{'tok2vec': 6.730184536419662, 'ner': 6.644710878988745}\n",
      "{'tok2vec': 6.73018453645692, 'ner': 6.644710879021166}\n",
      "{'tok2vec': 6.73018453645784, 'ner': 6.644710879021894}\n",
      "{'tok2vec': 6.737160563499529, 'ner': 6.656037844289241}\n",
      "{'tok2vec': 6.737160563499714, 'ner': 6.656037844289386}\n",
      "{'tok2vec': 6.737160563500096, 'ner': 6.656037844289827}\n",
      "{'tok2vec': 6.737160563621004, 'ner': 6.656037844393576}\n",
      "{'tok2vec': 6.738348548801907, 'ner': 6.656836411476532}\n",
      "{'tok2vec': 6.738348550447995, 'ner': 6.65683641266358}\n",
      "{'tok2vec': 6.738348550525869, 'ner': 6.656836412722601}\n",
      "{'tok2vec': 7.711830265254602, 'ner': 8.156287564386831}\n",
      "{'tok2vec': 7.711830265256522, 'ner': 8.156287564387972}\n",
      "{'tok2vec': 7.711830265263607, 'ner': 8.156287564398966}\n",
      "{'tok2vec': 7.711830265264871, 'ner': 8.156287564399546}\n",
      "{'tok2vec': 7.8943199584296995, 'ner': 8.446170601472636}\n",
      "{'tok2vec': 10.270662731867201, 'ner': 10.300228266535708}\n",
      "{'tok2vec': 10.854239470724298, 'ner': 10.72699971278119}\n",
      "{'tok2vec': 10.854239474161488, 'ner': 10.726999714905762}\n",
      "{'tok2vec': 10.854239474220408, 'ner': 10.726999714949963}\n",
      "{'tok2vec': 10.85423947447615, 'ner': 10.726999715154559}\n",
      "{'tok2vec': 10.854239474476158, 'ner': 10.726999715154564}\n",
      "{'tok2vec': 10.854239568587113, 'ner': 10.72699979158576}\n",
      "{'tok2vec': 10.85423956858823, 'ner': 10.726999791586449}\n",
      "{'tok2vec': 10.854239568588232, 'ner': 10.726999791586449}\n",
      "{'tok2vec': 10.854239568588387, 'ner': 10.726999791586527}\n",
      "{'tok2vec': 10.854239568588463, 'ner': 10.72699979158658}\n",
      "{'tok2vec': 10.854239569422923, 'ner': 10.726999792022164}\n",
      "{'tok2vec': 10.854239569422925, 'ner': 10.726999792022166}\n",
      "{'tok2vec': 16.29011356561595, 'ner': 14.535572790534129}\n",
      "{'tok2vec': 18.52661192186544, 'ner': 15.956858778225023}\n",
      "{'tok2vec': 18.52661247527503, 'ner': 15.95685919168838}\n",
      "{'tok2vec': 18.5271350747379, 'ner': 15.957283663164315}\n",
      "{'tok2vec': 18.527135074739178, 'ner': 15.957283663165315}\n",
      "{'tok2vec': 18.52713507477914, 'ner': 15.957283663194211}\n",
      "{'tok2vec': 18.54073737346607, 'ner': 15.964463940990957}\n",
      "{'tok2vec': 23.442214233516015, 'ner': 17.99855506200688}\n",
      "{'tok2vec': 23.443515737256277, 'ner': 17.999290625323834}\n",
      "{'tok2vec': 23.69137968517218, 'ner': 18.179232042951252}\n",
      "{'tok2vec': 117.55499662853165, 'ner': 21.413934235413034}\n",
      "15\n",
      "{'tok2vec': 1.2544808500020572, 'ner': 0.9684307682924648}\n",
      "{'tok2vec': 1.2544812334979043, 'ner': 0.9684313357730506}\n",
      "{'tok2vec': 1.2544812334987205, 'ner': 0.9684313357735838}\n",
      "{'tok2vec': 1.254481233499462, 'ner': 0.968431335774125}\n",
      "{'tok2vec': 1.25448123349949, 'ner': 0.9684313357741424}\n",
      "{'tok2vec': 1.2544812422270415, 'ner': 0.9684313422475614}\n",
      "{'tok2vec': 1.254481242228749, 'ner': 0.9684313422493651}\n",
      "{'tok2vec': 1.2544894215801745, 'ner': 0.968435701349329}\n",
      "{'tok2vec': 1.2544894215801765, 'ner': 0.96843570134933}\n",
      "{'tok2vec': 1.2544894216110314, 'ner': 0.9684357013684848}\n",
      "{'tok2vec': 1.254489421623314, 'ner': 0.9684357013802424}\n",
      "{'tok2vec': 1.2544894417923316, 'ner': 0.9684357215613658}\n",
      "{'tok2vec': 2.7308200797241766, 'ner': 2.388303312168556}\n",
      "{'tok2vec': 2.730820079729773, 'ner': 2.388303312173289}\n",
      "{'tok2vec': 10.916495700762487, 'ner': 7.6638511994280645}\n",
      "{'tok2vec': 10.916495700764234, 'ner': 7.663851199429054}\n",
      "{'tok2vec': 10.916495702644498, 'ner': 7.663851201135896}\n",
      "{'tok2vec': 10.916495702644639, 'ner': 7.663851201135989}\n",
      "{'tok2vec': 10.916495744069298, 'ner': 7.66385122878592}\n",
      "{'tok2vec': 10.916954591895237, 'ner': 7.664067761707159}\n",
      "{'tok2vec': 10.917094770334334, 'ner': 7.6641384312482455}\n",
      "{'tok2vec': 10.91709478702547, 'ner': 7.664138446253596}\n",
      "{'tok2vec': 10.91709487304665, 'ner': 7.664138485798084}\n",
      "{'tok2vec': 10.917094873050273, 'ner': 7.66413848580041}\n",
      "{'tok2vec': 10.917094873050276, 'ner': 7.664138485800413}\n",
      "{'tok2vec': 10.917094956710162, 'ner': 7.66413855993884}\n",
      "{'tok2vec': 10.91709495671451, 'ner': 7.664138559941498}\n",
      "{'tok2vec': 14.28026057397038, 'ner': 9.735473877214364}\n",
      "{'tok2vec': 14.296662146123353, 'ner': 9.745442960071571}\n",
      "{'tok2vec': 14.683761740001161, 'ner': 9.980391088533425}\n",
      "{'tok2vec': 18.150312090227082, 'ner': 11.850091701584615}\n",
      "{'tok2vec': 18.255236269840676, 'ner': 11.942402436137359}\n",
      "{'tok2vec': 18.25523627056563, 'ner': 11.942402436690207}\n",
      "{'tok2vec': 18.25523671789143, 'ner': 11.942402684311544}\n",
      "{'tok2vec': 18.25523675410651, 'ner': 11.942402706117731}\n",
      "{'tok2vec': 18.28202491543872, 'ner': 11.960933554125646}\n",
      "{'tok2vec': 18.282024915508348, 'ner': 11.960933554214934}\n",
      "{'tok2vec': 18.28202491550999, 'ner': 11.960933554216252}\n",
      "{'tok2vec': 18.28202491550999, 'ner': 11.960933554216252}\n",
      "{'tok2vec': 18.282024915882108, 'ner': 11.960933554492376}\n",
      "{'tok2vec': 18.282024919281763, 'ner': 11.960933556170858}\n",
      "{'tok2vec': 18.282025281125946, 'ner': 11.960933709570332}\n",
      "{'tok2vec': 21.912067595655365, 'ner': 14.876720668697129}\n",
      "{'tok2vec': 21.912067595655436, 'ner': 14.876720668697189}\n",
      "{'tok2vec': 21.912067595694786, 'ner': 14.876720668728785}\n",
      "{'tok2vec': 21.912067595696993, 'ner': 14.876720668730046}\n",
      "{'tok2vec': 21.912067595698513, 'ner': 14.876720668731162}\n",
      "{'tok2vec': 21.912084494635973, 'ner': 14.876729657938851}\n",
      "{'tok2vec': 21.91208451356981, 'ner': 14.87672967646866}\n",
      "{'tok2vec': 21.912086502570634, 'ner': 14.876730559080766}\n",
      "{'tok2vec': 23.83731796028315, 'ner': 16.096031252498584}\n",
      "{'tok2vec': 23.837317960617927, 'ner': 16.096031252794234}\n",
      "{'tok2vec': 23.838255967748037, 'ner': 16.09814778556354}\n",
      "{'tok2vec': 23.838256674916508, 'ner': 16.098148182592087}\n",
      "{'tok2vec': 23.838323142724718, 'ner': 16.098195689651476}\n",
      "{'tok2vec': 23.838323142724846, 'ner': 16.09819568965156}\n",
      "{'tok2vec': 23.902498450476287, 'ner': 16.13806757240439}\n",
      "{'tok2vec': 23.902498453169493, 'ner': 16.138067575390505}\n",
      "{'tok2vec': 28.289847542747985, 'ner': 18.628268446121297}\n",
      "{'tok2vec': 28.289848413894973, 'ner': 18.62826890240054}\n",
      "{'tok2vec': 28.289848414024448, 'ner': 18.6282689025015}\n",
      "{'tok2vec': 28.28984841402445, 'ner': 18.628268902501503}\n",
      "{'tok2vec': 28.289852249607492, 'ner': 18.628270903706525}\n",
      "{'tok2vec': 28.289856194969573, 'ner': 18.6282725166689}\n",
      "{'tok2vec': 28.28985619556658, 'ner': 18.628272516986765}\n",
      "{'tok2vec': 28.289856195566625, 'ner': 18.628272516986797}\n",
      "{'tok2vec': 32.8765032292851, 'ner': 20.56017969397338}\n",
      "{'tok2vec': 34.64657914653078, 'ner': 22.384594956098397}\n",
      "{'tok2vec': 34.64657914653086, 'ner': 22.384594956098482}\n",
      "{'tok2vec': 34.64657914653334, 'ner': 22.38459495610076}\n",
      "{'tok2vec': 34.66562280824202, 'ner': 22.39797351055586}\n",
      "{'tok2vec': 34.66562280824206, 'ner': 22.397973510555907}\n",
      "{'tok2vec': 35.559917248989045, 'ner': 23.08152993127114}\n",
      "{'tok2vec': 36.93698409965128, 'ner': 25.064793434037664}\n",
      "{'tok2vec': 36.936984099652086, 'ner': 25.06479343403819}\n",
      "16\n",
      "{'tok2vec': 0.05298862233910149, 'ner': 0.0316431882196929}\n",
      "{'tok2vec': 0.054116426739419556, 'ner': 0.032214541699324584}\n",
      "{'tok2vec': 0.054116426739435536, 'ner': 0.03221454169933504}\n",
      "{'tok2vec': 0.07937944951009386, 'ner': 0.05017186863994948}\n",
      "{'tok2vec': 0.07957459488682939, 'ner': 0.050265267175731675}\n",
      "{'tok2vec': 0.48821732415994457, 'ner': 0.29412823369741153}\n",
      "{'tok2vec': 0.48968495768672143, 'ner': 0.29483981643419066}\n",
      "{'tok2vec': 0.4896849590166748, 'ner': 0.29483981735716286}\n",
      "{'tok2vec': 0.4896849590492954, 'ner': 0.2948398173784572}\n",
      "{'tok2vec': 0.48968495905482695, 'ner': 0.29483981738372195}\n",
      "{'tok2vec': 0.5770874592670194, 'ner': 0.37267614347648415}\n",
      "{'tok2vec': 0.5770874592672068, 'ner': 0.37267614347661854}\n",
      "{'tok2vec': 0.6247647556280096, 'ner': 0.41367024974934635}\n",
      "{'tok2vec': 0.6247647556308195, 'ner': 0.4136702497510997}\n",
      "{'tok2vec': 3.5932305606886152, 'ner': 2.574086727395644}\n",
      "{'tok2vec': 3.5932305606910755, 'ner': 2.574086727397581}\n",
      "{'tok2vec': 4.661930874259191, 'ner': 3.7571726738746003}\n",
      "{'tok2vec': 146.69443209496805, 'ner': 7.5418753344371385}\n",
      "{'tok2vec': 148.67333431569406, 'ner': 9.378597362942}\n",
      "{'tok2vec': 155.13939209309905, 'ner': 13.376432133048723}\n",
      "{'tok2vec': 155.13941358187878, 'ner': 13.37644294562265}\n",
      "{'tok2vec': 157.20193194010938, 'ner': 15.45797865775436}\n",
      "{'tok2vec': 157.20193194010972, 'ner': 15.45797865775457}\n",
      "{'tok2vec': 157.20195658436182, 'ner': 15.458001907696064}\n",
      "{'tok2vec': 157.20196511985293, 'ner': 15.458037551411332}\n",
      "{'tok2vec': 157.2019651198676, 'ner': 15.458037551422944}\n",
      "{'tok2vec': 157.20196511987305, 'ner': 15.458037551426207}\n",
      "{'tok2vec': 157.20196514276776, 'ner': 15.458037566301286}\n",
      "{'tok2vec': 158.53268521075628, 'ner': 17.4547996140455}\n",
      "{'tok2vec': 158.53268521092465, 'ner': 17.45479961415548}\n",
      "{'tok2vec': 158.53268521092465, 'ner': 17.45479961415548}\n",
      "{'tok2vec': 158.53502677613676, 'ner': 17.457406540213483}\n",
      "{'tok2vec': 158.53502677656772, 'ner': 17.457406540589027}\n",
      "{'tok2vec': 158.5350276617045, 'ner': 17.45740711248672}\n",
      "{'tok2vec': 158.5376538484069, 'ner': 17.45883496399608}\n",
      "{'tok2vec': 158.53765384914536, 'ner': 17.458834964672473}\n",
      "{'tok2vec': 158.56736403951604, 'ner': 17.47469120020646}\n",
      "{'tok2vec': 158.56847118205573, 'ner': 17.475538412248156}\n",
      "{'tok2vec': 158.56847118205667, 'ner': 17.4755384122488}\n",
      "{'tok2vec': 158.56847385763191, 'ner': 17.475540530877144}\n",
      "{'tok2vec': 158.56847389546903, 'ner': 17.475540558794567}\n",
      "{'tok2vec': 158.5684739332224, 'ner': 17.475540583004722}\n",
      "{'tok2vec': 161.29049241370026, 'ner': 19.960247802800072}\n",
      "{'tok2vec': 161.29049241439424, 'ner': 19.960247803280534}\n",
      "{'tok2vec': 161.29049241440606, 'ner': 19.960247803290716}\n",
      "{'tok2vec': 161.29049241440848, 'ner': 19.960247803292013}\n",
      "{'tok2vec': 162.33085620307926, 'ner': 20.712357713635953}\n",
      "{'tok2vec': 162.33085633496333, 'ner': 20.712357804754717}\n",
      "{'tok2vec': 162.37162623982812, 'ner': 20.739187829134963}\n",
      "{'tok2vec': 162.3716262398477, 'ner': 20.739187829153387}\n",
      "{'tok2vec': 162.37162623985134, 'ner': 20.739187829155277}\n",
      "{'tok2vec': 162.3716262573221, 'ner': 20.739187846585835}\n",
      "{'tok2vec': 162.3716262607893, 'ner': 20.73918784950479}\n",
      "{'tok2vec': 162.37162626078933, 'ner': 20.73918784950481}\n",
      "{'tok2vec': 162.37528786935334, 'ner': 20.741586170018167}\n",
      "{'tok2vec': 162.37528786936244, 'ner': 20.741586170023403}\n",
      "{'tok2vec': 162.3752878693628, 'ner': 20.741586170023666}\n",
      "{'tok2vec': 162.37528786949014, 'ner': 20.74158617016265}\n",
      "{'tok2vec': 162.3752879169254, 'ner': 20.741586221792257}\n",
      "{'tok2vec': 162.37962299302268, 'ner': 20.743951006283275}\n",
      "{'tok2vec': 162.37962299658534, 'ner': 20.743951008647123}\n",
      "{'tok2vec': 162.37962299886695, 'ner': 20.743951010177362}\n",
      "{'tok2vec': 162.37962299892234, 'ner': 20.743951010218087}\n",
      "{'tok2vec': 162.3796230211366, 'ner': 20.743951021761358}\n",
      "{'tok2vec': 162.37962302118657, 'ner': 20.74395102180106}\n",
      "{'tok2vec': 162.3796231968276, 'ner': 20.74395116552771}\n",
      "{'tok2vec': 162.37962321092851, 'ner': 20.743951177986496}\n",
      "{'tok2vec': 162.3796232109946, 'ner': 20.743951178049468}\n",
      "{'tok2vec': 162.37962524058017, 'ner': 20.743952254385558}\n",
      "{'tok2vec': 162.3796252405841, 'ner': 20.743952254388955}\n",
      "{'tok2vec': 165.4833890624832, 'ner': 22.582292749477535}\n",
      "{'tok2vec': 165.4835474792017, 'ner': 22.58240829109494}\n",
      "{'tok2vec': 165.48354747933533, 'ner': 22.58240829117504}\n",
      "{'tok2vec': 166.6196705405381, 'ner': 24.055002000841103}\n",
      "{'tok2vec': 166.6196705405455, 'ner': 24.055002000846482}\n",
      "17\n",
      "{'tok2vec': 1.8383608114775898e-10, 'ner': 1.0847008461738689e-10}\n",
      "{'tok2vec': 2.5009191530018784e-10, 'ner': 1.4873317037074382e-10}\n",
      "{'tok2vec': 3.295031070959329, 'ner': 1.9849073567132502}\n",
      "{'tok2vec': 6.893267631781629, 'ner': 4.596295421764071}\n",
      "{'tok2vec': 7.148120910275938, 'ner': 4.747821474798825}\n",
      "{'tok2vec': 8.207885891546043, 'ner': 6.7692314691171855}\n",
      "{'tok2vec': 8.207885891745025, 'ner': 6.769231469369069}\n",
      "{'tok2vec': 8.20788589283441, 'ner': 6.769231471190418}\n",
      "{'tok2vec': 12.25174060627466, 'ner': 9.285671868140861}\n",
      "{'tok2vec': 12.251740606281752, 'ner': 9.285671868146906}\n",
      "{'tok2vec': 12.251740606303644, 'ner': 9.285671868158342}\n",
      "{'tok2vec': 12.251740645335483, 'ner': 9.285671896918998}\n",
      "{'tok2vec': 12.251740645508862, 'ner': 9.28567189703807}\n",
      "{'tok2vec': 12.251740722760436, 'ner': 9.285671934122789}\n",
      "{'tok2vec': 12.251740722765605, 'ner': 9.285671934127215}\n",
      "{'tok2vec': 12.251740722773269, 'ner': 9.285671934133187}\n",
      "{'tok2vec': 12.4962165047429, 'ner': 9.624858610012627}\n",
      "{'tok2vec': 12.497118737036029, 'ner': 9.626757870372748}\n",
      "{'tok2vec': 12.497118737099711, 'ner': 9.626757870423106}\n",
      "{'tok2vec': 12.497118737551709, 'ner': 9.62675787073049}\n",
      "{'tok2vec': 12.497118878526294, 'ner': 9.626757969100217}\n",
      "{'tok2vec': 12.497118878542198, 'ner': 9.62675796910804}\n",
      "{'tok2vec': 12.497118878542766, 'ner': 9.626757969108457}\n",
      "{'tok2vec': 12.497118878542913, 'ner': 9.626757969108558}\n",
      "{'tok2vec': 12.497118878545495, 'ner': 9.6267579691103}\n",
      "{'tok2vec': 12.497118878548532, 'ner': 9.626757969112518}\n",
      "{'tok2vec': 12.497118878548761, 'ner': 9.626757969112694}\n",
      "{'tok2vec': 12.49711887855635, 'ner': 9.626757969121979}\n",
      "{'tok2vec': 14.345252323409587, 'ner': 11.812293120498325}\n",
      "{'tok2vec': 14.345252323410449, 'ner': 11.812293120499058}\n",
      "{'tok2vec': 14.345252323506596, 'ner': 11.812293120569146}\n",
      "{'tok2vec': 14.345252323509145, 'ner': 11.812293120570569}\n",
      "{'tok2vec': 14.34525272350139, 'ner': 11.812293363264976}\n",
      "{'tok2vec': 14.348822506471711, 'ner': 11.81476277649845}\n",
      "{'tok2vec': 14.348822516783043, 'ner': 11.814762782186806}\n",
      "{'tok2vec': 14.348822516844935, 'ner': 11.814762782225642}\n",
      "{'tok2vec': 14.387770767142806, 'ner': 11.852459783727294}\n",
      "{'tok2vec': 14.387770767143202, 'ner': 11.852459783727614}\n",
      "{'tok2vec': 14.690222111844744, 'ner': 12.023110658869207}\n",
      "{'tok2vec': 14.690222111930503, 'ner': 12.023110658949891}\n",
      "{'tok2vec': 14.690223183802503, 'ner': 12.023111216461233}\n",
      "{'tok2vec': 15.547744419749558, 'ner': 12.99326935831241}\n",
      "{'tok2vec': 16.795612869482333, 'ner': 13.980835586579033}\n",
      "{'tok2vec': 16.795612869486927, 'ner': 13.980835586582769}\n",
      "{'tok2vec': 16.7956128703433, 'ner': 13.980835587027034}\n",
      "{'tok2vec': 16.795619862355817, 'ner': 13.980839497183423}\n",
      "{'tok2vec': 16.795619862362113, 'ner': 13.980839497188379}\n",
      "{'tok2vec': 16.79561986236361, 'ner': 13.980839497189578}\n",
      "{'tok2vec': 18.23815740852245, 'ner': 15.602940804107105}\n",
      "{'tok2vec': 18.238157408524128, 'ner': 15.602940804108504}\n",
      "{'tok2vec': 18.23816287772707, 'ner': 15.602945075416093}\n",
      "{'tok2vec': 21.514553907085077, 'ner': 17.66442430365695}\n",
      "{'tok2vec': 21.514553907320995, 'ner': 17.66442430381436}\n",
      "{'tok2vec': 21.5145539073308, 'ner': 17.664424303825186}\n",
      "{'tok2vec': 21.514553907406984, 'ner': 17.664424303940105}\n",
      "{'tok2vec': 21.514554053276015, 'ner': 17.664424407959462}\n",
      "{'tok2vec': 21.514554054028206, 'ner': 17.66442440853988}\n",
      "{'tok2vec': 21.514554054034654, 'ner': 17.66442440854602}\n",
      "{'tok2vec': 21.514554054037134, 'ner': 17.664424408547518}\n",
      "{'tok2vec': 22.193307608882908, 'ner': 18.253151461402304}\n",
      "{'tok2vec': 22.193307608883178, 'ner': 18.253151461402503}\n",
      "{'tok2vec': 23.027456254284246, 'ner': 18.81125554391827}\n",
      "{'tok2vec': 23.027456254304163, 'ner': 18.811255543932127}\n",
      "{'tok2vec': 23.027456255053952, 'ner': 18.81125554449606}\n",
      "{'tok2vec': 23.027456256427115, 'ner': 18.811255545597376}\n",
      "{'tok2vec': 84.31229970352761, 'ner': 21.635196697965156}\n",
      "{'tok2vec': 84.31229970354599, 'ner': 21.635196697978294}\n",
      "{'tok2vec': 87.55823132891781, 'ner': 23.79507950261442}\n",
      "{'tok2vec': 87.58094894214354, 'ner': 23.80563355186237}\n",
      "{'tok2vec': 87.5809489421445, 'ner': 23.8056335518631}\n",
      "{'tok2vec': 87.58100218256425, 'ner': 23.805665780727637}\n",
      "{'tok2vec': 92.07404278131855, 'ner': 25.883120642349148}\n",
      "{'tok2vec': 111.40154981548852, 'ner': 36.46784799077339}\n",
      "{'tok2vec': 111.40924978285209, 'ner': 36.47208356110854}\n",
      "{'tok2vec': 111.40924984805311, 'ner': 36.472083593043166}\n",
      "18\n",
      "{'tok2vec': 1.061803384105886e-08, 'ner': 5.817865100970825e-09}\n",
      "{'tok2vec': 1.0618034365327302e-08, 'ner': 5.817865473161887e-09}\n",
      "{'tok2vec': 6.755867562293838e-07, 'ner': 1.02310378205286e-06}\n",
      "{'tok2vec': 6.759504348934227e-07, 'ner': 1.0233217687477766e-06}\n",
      "{'tok2vec': 7.167751042607014e-07, 'ner': 1.0700377527336759e-06}\n",
      "{'tok2vec': 7.167753028991953e-07, 'ner': 1.0700378630486912e-06}\n",
      "{'tok2vec': 8.123487685963027e-07, 'ner': 1.1212910551450578e-06}\n",
      "{'tok2vec': 8.12417127636953e-07, 'ner': 1.1213438528613393e-06}\n",
      "{'tok2vec': 8.124173001186292e-07, 'ner': 1.1213439649019084e-06}\n",
      "{'tok2vec': 8.124721336036489e-07, 'ner': 1.1213883080476756e-06}\n",
      "{'tok2vec': 0.11350206321767384, 'ner': 0.09175881830722905}\n",
      "{'tok2vec': 0.1135023241776136, 'ner': 0.09175894584005563}\n",
      "{'tok2vec': 0.11350232418053674, 'ner': 0.09175894584194726}\n",
      "{'tok2vec': 0.45938728537303286, 'ner': 0.4452333199839576}\n",
      "{'tok2vec': 0.4593872859737153, 'ner': 0.4452333204703563}\n",
      "{'tok2vec': 0.4593873096068681, 'ner': 0.44523333525783115}\n",
      "{'tok2vec': 1.0575459675030143, 'ner': 0.7642607823600157}\n",
      "{'tok2vec': 1.0650381684404464, 'ner': 0.7710780481093724}\n",
      "{'tok2vec': 9.409772360334978, 'ner': 5.724068807806942}\n",
      "{'tok2vec': 9.409785319755947, 'ner': 5.724080012049641}\n",
      "{'tok2vec': 9.410541015444997, 'ner': 5.724778220920413}\n",
      "{'tok2vec': 9.410541016376209, 'ner': 5.724778221389786}\n",
      "{'tok2vec': 9.410541016995683, 'ner': 5.724778221737194}\n",
      "{'tok2vec': 9.410541017005807, 'ner': 5.724778221743261}\n",
      "{'tok2vec': 9.410541018444926, 'ner': 5.724778222774164}\n",
      "{'tok2vec': 9.410578080826706, 'ner': 5.724798929568414}\n",
      "{'tok2vec': 9.410578081334778, 'ner': 5.724798929924525}\n",
      "{'tok2vec': 9.410578439000263, 'ner': 5.724799745091762}\n",
      "{'tok2vec': 9.410581825416283, 'ner': 5.724801168619916}\n",
      "{'tok2vec': 15.134524113489235, 'ner': 9.518201471237335}\n",
      "{'tok2vec': 15.134524127066674, 'ner': 9.518201478703999}\n",
      "{'tok2vec': 15.134524134871448, 'ner': 9.51820148450777}\n",
      "{'tok2vec': 15.134524135843318, 'ner': 9.518201484990549}\n",
      "{'tok2vec': 15.134524135847213, 'ner': 9.518201484992783}\n",
      "{'tok2vec': 15.15604129089891, 'ner': 9.529956979661494}\n",
      "{'tok2vec': 18.35519145923584, 'ner': 11.244968551603838}\n",
      "{'tok2vec': 18.35519146169038, 'ner': 11.24496855307017}\n",
      "{'tok2vec': 18.355191461742965, 'ner': 11.244968553098172}\n",
      "{'tok2vec': 18.35528670540561, 'ner': 11.245052616774025}\n",
      "{'tok2vec': 18.355288254927707, 'ner': 11.245053386126981}\n",
      "{'tok2vec': 18.355288259866047, 'ner': 11.245053389218997}\n",
      "{'tok2vec': 18.375548246745, 'ner': 11.255912417920932}\n",
      "{'tok2vec': 20.004885915163886, 'ner': 13.20968874332399}\n",
      "{'tok2vec': 20.004885915254498, 'ner': 13.20968874338527}\n",
      "{'tok2vec': 20.004885915254764, 'ner': 13.209688743385412}\n",
      "{'tok2vec': 20.004885915348176, 'ner': 13.2096887434501}\n",
      "{'tok2vec': 27.545348409259077, 'ner': 17.738515266613575}\n",
      "{'tok2vec': 27.545348410278493, 'ner': 17.738515267245482}\n",
      "{'tok2vec': 27.545351409896636, 'ner': 17.73851687506974}\n",
      "{'tok2vec': 28.4238156244004, 'ner': 18.161398106022904}\n",
      "{'tok2vec': 29.773520486047847, 'ner': 19.108481778357397}\n",
      "{'tok2vec': 29.880598069718822, 'ner': 19.159225607840735}\n",
      "{'tok2vec': 29.88059806972405, 'ner': 19.15922560784375}\n",
      "{'tok2vec': 29.88059806977833, 'ner': 19.15922560787989}\n",
      "{'tok2vec': 29.88059806978166, 'ner': 19.15922560788178}\n",
      "{'tok2vec': 29.880598070620795, 'ner': 19.159225608334037}\n",
      "{'tok2vec': 29.8809754741069, 'ner': 19.159363483356394}\n",
      "{'tok2vec': 29.880975474163677, 'ner': 19.159363483397605}\n",
      "{'tok2vec': 29.880975501635785, 'ner': 19.15936352307064}\n",
      "{'tok2vec': 29.88097550163873, 'ner': 19.15936352307239}\n",
      "{'tok2vec': 29.88097550177772, 'ner': 19.159363523604544}\n",
      "{'tok2vec': 29.880975504132802, 'ner': 19.15936352533867}\n",
      "{'tok2vec': 29.88097589540244, 'ner': 19.15936379205963}\n",
      "{'tok2vec': 29.88097589540248, 'ner': 19.15936379205965}\n",
      "{'tok2vec': 33.52550762223964, 'ner': 21.14909617674806}\n",
      "{'tok2vec': 33.525507622392105, 'ner': 21.14909617684805}\n",
      "{'tok2vec': 33.52550762877369, 'ner': 21.149096180045}\n",
      "{'tok2vec': 42.326769530629406, 'ner': 26.98518710831317}\n",
      "{'tok2vec': 42.32677128882627, 'ner': 26.98518799844521}\n",
      "{'tok2vec': 46.75855189905982, 'ner': 28.86852684639056}\n",
      "{'tok2vec': 46.75855189916178, 'ner': 28.868526846433035}\n",
      "{'tok2vec': 46.75855189916699, 'ner': 28.868526846436403}\n",
      "{'tok2vec': 46.7585518991868, 'ner': 28.86852684644835}\n",
      "{'tok2vec': 46.758551899186806, 'ner': 28.868526846448354}\n",
      "{'tok2vec': 46.75855259140966, 'ner': 28.868527429227733}\n",
      "19\n",
      "{'tok2vec': 6.561757213974229e-12, 'ner': 4.44177365118543e-12}\n",
      "{'tok2vec': 7.0610056430536045e-12, 'ner': 4.750643915551068e-12}\n",
      "{'tok2vec': 1.0112150163977e-11, 'ner': 6.831085070342345e-12}\n",
      "{'tok2vec': 1.0534127834966456e-11, 'ner': 7.33480828888282e-12}\n",
      "{'tok2vec': 5.574237122347399e-10, 'ner': 3.825222997582657e-10}\n",
      "{'tok2vec': 4.784266052782283e-09, 'ner': 3.213079545267265e-09}\n",
      "{'tok2vec': 4.784390317930515e-09, 'ner': 3.213155635269919e-09}\n",
      "{'tok2vec': 4.785909125967548e-09, 'ner': 3.2143446580709263e-09}\n",
      "{'tok2vec': 4.7864319423800306e-09, 'ner': 3.214701976655417e-09}\n",
      "{'tok2vec': 4.7864863718927405e-09, 'ner': 3.214735174827756e-09}\n",
      "{'tok2vec': 4.894204382481552e-09, 'ner': 3.2635485622322426e-09}\n",
      "{'tok2vec': 4.897644108555105e-09, 'ner': 3.2664218934172203e-09}\n",
      "{'tok2vec': 4.897673173110873e-09, 'ner': 3.2664485380591606e-09}\n",
      "{'tok2vec': 4.898511417870224e-09, 'ner': 3.2669040514354417e-09}\n",
      "{'tok2vec': 0.01684908500447909, 'ner': 0.006668498435449746}\n",
      "{'tok2vec': 0.016849121591139115, 'ner': 0.006668522438400752}\n",
      "{'tok2vec': 0.016849121591153492, 'ner': 0.006668522438412076}\n",
      "{'tok2vec': 2.1432951302734047, 'ner': 1.1517049088944482}\n",
      "{'tok2vec': 2.143295130753083, 'ner': 1.151704909562494}\n",
      "{'tok2vec': 2.1432951307556136, 'ner': 1.1517049095642784}\n",
      "{'tok2vec': 2.230144927068541, 'ner': 1.2104444749860506}\n",
      "{'tok2vec': 2.2301449270690035, 'ner': 1.2104444749865126}\n",
      "{'tok2vec': 2.2301449277080554, 'ner': 1.210444475377132}\n",
      "{'tok2vec': 2.2336958974708447, 'ner': 1.2133977001764042}\n",
      "{'tok2vec': 2.2336958974721015, 'ner': 1.2133977001772112}\n",
      "{'tok2vec': 7.440107259166438, 'ner': 3.190464940223217}\n",
      "{'tok2vec': 18.52856150575102, 'ner': 9.05093769853881}\n",
      "{'tok2vec': 18.528561505752016, 'ner': 9.050937698539565}\n",
      "{'tok2vec': 18.528561505752457, 'ner': 9.050937698539817}\n",
      "{'tok2vec': 18.528561505754936, 'ner': 9.050937698541217}\n",
      "{'tok2vec': 18.528569447300782, 'ner': 9.050941674351577}\n",
      "{'tok2vec': 18.528569447300818, 'ner': 9.050941674351598}\n",
      "{'tok2vec': 18.528569810383924, 'ner': 9.05094183588387}\n",
      "{'tok2vec': 18.528569810384, 'ner': 9.050941835883924}\n",
      "{'tok2vec': 18.5285698153414, 'ner': 9.05094183899829}\n",
      "{'tok2vec': 18.528569815609725, 'ner': 9.050941839327912}\n",
      "{'tok2vec': 18.528569815783282, 'ner': 9.0509418394717}\n",
      "{'tok2vec': 18.528569815788032, 'ner': 9.050941839473976}\n",
      "{'tok2vec': 18.528569820267695, 'ner': 9.05094184324725}\n",
      "{'tok2vec': 18.52856982034177, 'ner': 9.050941843287012}\n",
      "{'tok2vec': 18.52856982034394, 'ner': 9.050941843288651}\n",
      "{'tok2vec': 18.529065389114145, 'ner': 9.051234959150772}\n",
      "{'tok2vec': 20.631196571267388, 'ner': 11.050530073368092}\n",
      "{'tok2vec': 20.63658346052971, 'ner': 11.052992046426123}\n",
      "{'tok2vec': 23.3854535948959, 'ner': 12.681261008189729}\n",
      "{'tok2vec': 23.385453607156222, 'ner': 12.681261022827105}\n",
      "{'tok2vec': 23.38545360715638, 'ner': 12.681261022827194}\n",
      "{'tok2vec': 23.385453607336938, 'ner': 12.681261022931942}\n",
      "{'tok2vec': 27.49073105622953, 'ner': 14.84187540937014}\n",
      "{'tok2vec': 27.490731056233187, 'ner': 14.841875409372681}\n",
      "{'tok2vec': 27.490731137691856, 'ner': 14.841875640555346}\n",
      "{'tok2vec': 31.672986016495944, 'ner': 16.850722124999365}\n",
      "{'tok2vec': 31.67298601652019, 'ner': 16.850722125017217}\n",
      "{'tok2vec': 31.6729860165249, 'ner': 16.85072212502343}\n",
      "{'tok2vec': 31.672986016527535, 'ner': 16.850722125025325}\n",
      "{'tok2vec': 31.672986016528043, 'ner': 16.850722125025715}\n",
      "{'tok2vec': 31.672986017334413, 'ner': 16.85072212556537}\n",
      "{'tok2vec': 31.672986017334672, 'ner': 16.850722125565518}\n",
      "{'tok2vec': 31.672986017334743, 'ner': 16.850722125565575}\n",
      "{'tok2vec': 31.672986017406437, 'ner': 16.850722125600576}\n",
      "{'tok2vec': 31.672986023655074, 'ner': 16.850722129671567}\n",
      "{'tok2vec': 31.672986357882305, 'ner': 16.850722492696608}\n",
      "{'tok2vec': 31.672986357894217, 'ner': 16.85072249270444}\n",
      "{'tok2vec': 31.67507587787957, 'ner': 16.851957273185903}\n",
      "{'tok2vec': 38.68940480468125, 'ner': 20.851802087169755}\n",
      "{'tok2vec': 38.68940480468148, 'ner': 20.851802087169922}\n",
      "{'tok2vec': 38.689404804681615, 'ner': 20.85180208717}\n",
      "{'tok2vec': 38.689404804694334, 'ner': 20.851802087182282}\n",
      "{'tok2vec': 38.68940480469479, 'ner': 20.851802087182552}\n",
      "{'tok2vec': 38.68942162695452, 'ner': 20.85181999302945}\n",
      "{'tok2vec': 38.68942162703817, 'ner': 20.851819993096434}\n",
      "{'tok2vec': 40.31800434303029, 'ner': 22.30289216960719}\n",
      "{'tok2vec': 40.31800524847813, 'ner': 22.30289267666508}\n",
      "{'tok2vec': 40.318005249234766, 'ner': 22.30289267724705}\n",
      "{'tok2vec': 40.31800524926319, 'ner': 22.30289267727007}\n"
     ]
    }
   ],
   "source": [
    "import numpy as np\n",
    "from spacy.training import Example\n",
    "batch_size = 2\n",
    "import random\n",
    "\n",
    "\n",
    "other_pipes = [pipe for pipe in nlp.pipe_names if pipe != 'ner']\n",
    "\n",
    "from spacy.training import Example\n",
    "import random\n",
    "import spacy\n",
    "nlp = spacy.load(\"/home/spenser/prodigy/nasa_model/update_01\")\n",
    "\n",
    "optimizer = nlp.create_optimizer()\n",
    "for itn in range(20):\n",
    "    print(itn)\n",
    "    losses = {}\n",
    "\n",
    "    #shuffled = new_examples.sample(len(new_examples)) #check process for reproducibility\n",
    "\n",
    "\n",
    "    for batch in iterate_minibatches(new_examples['text'] ,\n",
    "                                     new_examples['spans'], \n",
    "                                     batchsize=64, \n",
    "                                     shuffle=True):\n",
    "\n",
    "        batch_texts = batch[0].reset_index(drop=True)\n",
    "        batch_annotations = batch[1].reset_index(drop=True)\n",
    "        example_batch_list = []\n",
    "        for i in range(0, len(batch)):\n",
    "\n",
    "\n",
    "            doc = nlp.make_doc(batch_texts.iloc[i])\n",
    "            annotations = batch_annotations.iloc[i]\n",
    "\n",
    "            entity_list = []\n",
    "            for i in range(0, len(annotations)):\n",
    "\n",
    "                start = annotations[i]['start']\n",
    "                end = annotations[i]['end']\n",
    "                label = annotations[i]['label']\n",
    "\n",
    "                entity_list.append((start, end, label))\n",
    "\n",
    "            annotations_dict = {'entities': entity_list}\n",
    "            example = Example.from_dict(doc, annotations_dict)\n",
    "            example_batch_list.append(example)\n",
    "\n",
    "        nlp.update(example_batch_list, drop=0.35, sgd=optimizer, losses=losses)\n",
    "        print(losses)"
   ]
  },
  {
   "cell_type": "code",
   "execution_count": 968,
   "id": "b76ec514-4c4d-44c5-b4e6-8e4432d27dcc",
   "metadata": {},
   "outputs": [
    {
     "data": {
      "text/plain": [
       "()"
      ]
     },
     "execution_count": 968,
     "metadata": {},
     "output_type": "execute_result"
    }
   ],
   "source": [
    "from spacy.tokens import Doc\n",
    "doc = nlp('Global positioning satellite (GPS) and Space probe for Mars Plantetary Orbiter')\n",
    "doc.ents"
   ]
  },
  {
   "cell_type": "code",
   "execution_count": 982,
   "id": "aed54341-c434-4da6-aefc-2de26726b45a",
   "metadata": {},
   "outputs": [
    {
     "data": {
      "text/plain": [
       "{}"
      ]
     },
     "execution_count": 982,
     "metadata": {},
     "output_type": "execute_result"
    }
   ],
   "source": [
    "doc.cats"
   ]
  },
  {
   "cell_type": "code",
   "execution_count": 969,
   "id": "2cd0af41-7bda-4b6c-9fe2-5e57be8f50bb",
   "metadata": {},
   "outputs": [
    {
     "data": {
      "text/plain": [
       "['_',\n",
       " '__bytes__',\n",
       " '__class__',\n",
       " '__delattr__',\n",
       " '__dir__',\n",
       " '__doc__',\n",
       " '__eq__',\n",
       " '__format__',\n",
       " '__ge__',\n",
       " '__getattribute__',\n",
       " '__getitem__',\n",
       " '__gt__',\n",
       " '__hash__',\n",
       " '__init__',\n",
       " '__init_subclass__',\n",
       " '__iter__',\n",
       " '__le__',\n",
       " '__len__',\n",
       " '__lt__',\n",
       " '__ne__',\n",
       " '__new__',\n",
       " '__pyx_vtable__',\n",
       " '__reduce__',\n",
       " '__reduce_ex__',\n",
       " '__repr__',\n",
       " '__setattr__',\n",
       " '__setstate__',\n",
       " '__sizeof__',\n",
       " '__str__',\n",
       " '__subclasshook__',\n",
       " '__unicode__',\n",
       " '_bulk_merge',\n",
       " '_get_array_attrs',\n",
       " '_py_tokens',\n",
       " '_realloc',\n",
       " '_vector',\n",
       " '_vector_norm',\n",
       " 'cats',\n",
       " 'char_span',\n",
       " 'copy',\n",
       " 'count_by',\n",
       " 'doc',\n",
       " 'ents',\n",
       " 'extend_tensor',\n",
       " 'from_array',\n",
       " 'from_bytes',\n",
       " 'from_dict',\n",
       " 'from_disk',\n",
       " 'from_docs',\n",
       " 'get_extension',\n",
       " 'get_lca_matrix',\n",
       " 'has_annotation',\n",
       " 'has_extension',\n",
       " 'has_unknown_spaces',\n",
       " 'has_vector',\n",
       " 'is_nered',\n",
       " 'is_parsed',\n",
       " 'is_sentenced',\n",
       " 'is_tagged',\n",
       " 'lang',\n",
       " 'lang_',\n",
       " 'mem',\n",
       " 'noun_chunks',\n",
       " 'noun_chunks_iterator',\n",
       " 'remove_extension',\n",
       " 'retokenize',\n",
       " 'sentiment',\n",
       " 'sents',\n",
       " 'set_ents',\n",
       " 'set_extension',\n",
       " 'similarity',\n",
       " 'spans',\n",
       " 'tensor',\n",
       " 'text',\n",
       " 'text_with_ws',\n",
       " 'to_array',\n",
       " 'to_bytes',\n",
       " 'to_dict',\n",
       " 'to_disk',\n",
       " 'to_json',\n",
       " 'to_utf8_array',\n",
       " 'user_data',\n",
       " 'user_hooks',\n",
       " 'user_span_hooks',\n",
       " 'user_token_hooks',\n",
       " 'vector',\n",
       " 'vector_norm',\n",
       " 'vocab']"
      ]
     },
     "execution_count": 969,
     "metadata": {},
     "output_type": "execute_result"
    }
   ],
   "source": [
    "dir(doc)"
   ]
  },
  {
   "cell_type": "code",
   "execution_count": 249,
   "id": "aa316d4a-354c-4d24-af7a-7b1bdd57d1c2",
   "metadata": {},
   "outputs": [],
   "source": [
    "nlp.to_disk(\"/home/spenser/prodigy/nasa_model/update_02\")\n",
    "update.to_csv(\"update_02.csv\", index=False)"
   ]
  },
  {
   "cell_type": "code",
   "execution_count": 391,
   "id": "4640dcd9-4ad0-4b11-b86c-dd09f5cb5de2",
   "metadata": {},
   "outputs": [],
   "source": [
    "from prodigy.components.db import connect\n",
    "db = connect()\n",
    "dataset = db.get_dataset(\"spacy_schema\")\n",
    "dataset = pd.DataFrame(dataset)\n",
    "#Search for ignored and ensure that they don't enter the spacy training data."
   ]
  },
  {
   "cell_type": "code",
   "execution_count": 393,
   "id": "79c36c6b-92dd-4bd6-bc38-f32a4710c5e3",
   "metadata": {},
   "outputs": [
    {
     "data": {
      "text/html": [
       "<div>\n",
       "<style scoped>\n",
       "    .dataframe tbody tr th:only-of-type {\n",
       "        vertical-align: middle;\n",
       "    }\n",
       "\n",
       "    .dataframe tbody tr th {\n",
       "        vertical-align: top;\n",
       "    }\n",
       "\n",
       "    .dataframe thead th {\n",
       "        text-align: right;\n",
       "    }\n",
       "</style>\n",
       "<table border=\"1\" class=\"dataframe\">\n",
       "  <thead>\n",
       "    <tr style=\"text-align: right;\">\n",
       "      <th></th>\n",
       "      <th>text</th>\n",
       "      <th>_input_hash</th>\n",
       "      <th>_task_hash</th>\n",
       "      <th>_is_binary</th>\n",
       "      <th>tokens</th>\n",
       "      <th>_view_id</th>\n",
       "      <th>answer</th>\n",
       "      <th>_timestamp</th>\n",
       "      <th>spans</th>\n",
       "    </tr>\n",
       "  </thead>\n",
       "  <tbody>\n",
       "  </tbody>\n",
       "</table>\n",
       "</div>"
      ],
      "text/plain": [
       "Empty DataFrame\n",
       "Columns: [text, _input_hash, _task_hash, _is_binary, tokens, _view_id, answer, _timestamp, spans]\n",
       "Index: []"
      ]
     },
     "execution_count": 393,
     "metadata": {},
     "output_type": "execute_result"
    }
   ],
   "source": [
    "dataset[dataset['text'] == 'We propose']"
   ]
  },
  {
   "cell_type": "code",
   "execution_count": 958,
   "id": "4179108b-6e5a-4917-8551-5f5171c1ef52",
   "metadata": {},
   "outputs": [
    {
     "name": "stdout",
     "output_type": "stream",
     "text": [
      "{'start': 328, 'end': 367, 'token_start': 49, 'token_end': 55, 'label': 'SPACECRAFT'}\n",
      "---\n",
      "{'start': 462, 'end': 470, 'token_start': 74, 'token_end': 74, 'label': 'SPACECRAFT'}\n",
      "---\n",
      "{'start': 606, 'end': 610, 'token_start': 98, 'token_end': 98, 'label': 'SPACECRAFT'}\n",
      "---\n",
      "{'start': 791, 'end': 795, 'token_start': 129, 'token_end': 129, 'label': 'SPACECRAFT'}\n",
      "---\n",
      "{'start': 876, 'end': 882, 'token_start': 141, 'token_end': 141, 'label': 'SPACECRAFT'}\n",
      "---\n"
     ]
    }
   ],
   "source": [
    "for span in dataset[1]['spans']:\n",
    "    print(span)\n",
    "    print('---')"
   ]
  },
  {
   "cell_type": "code",
   "execution_count": 983,
   "id": "b2c14165-8372-4fb3-a00e-a4075077eade",
   "metadata": {},
   "outputs": [],
   "source": [
    "span_holder = []\n",
    "for span in dataset[1]['spans']:\n",
    "    formatted_span = [{'start': span['start'], 'end': span['end'], 'label': span['label']}]\n",
    "    span_holder.append(formatted_span)"
   ]
  },
  {
   "cell_type": "code",
   "execution_count": 984,
   "id": "35298d95-5b44-4f32-b892-74cfd2d4f5fe",
   "metadata": {},
   "outputs": [
    {
     "data": {
      "text/plain": [
       "[[{'start': 328, 'end': 367, 'label': 'SPACECRAFT'}],\n",
       " [{'start': 462, 'end': 470, 'label': 'SPACECRAFT'}],\n",
       " [{'start': 606, 'end': 610, 'label': 'SPACECRAFT'}],\n",
       " [{'start': 791, 'end': 795, 'label': 'SPACECRAFT'}],\n",
       " [{'start': 876, 'end': 882, 'label': 'SPACECRAFT'}]]"
      ]
     },
     "execution_count": 984,
     "metadata": {},
     "output_type": "execute_result"
    }
   ],
   "source": [
    "span_holder"
   ]
  },
  {
   "cell_type": "code",
   "execution_count": 985,
   "id": "f65c4c9a-8716-48a0-823e-83debb13db74",
   "metadata": {},
   "outputs": [
    {
     "data": {
      "text/plain": [
       "[[{'start': 328, 'end': 367, 'label': 'SPACECRAFT'}],\n",
       " [{'start': 462, 'end': 470, 'label': 'SPACECRAFT'}],\n",
       " [{'start': 606, 'end': 610, 'label': 'SPACECRAFT'}],\n",
       " [{'start': 791, 'end': 795, 'label': 'SPACECRAFT'}],\n",
       " [{'start': 876, 'end': 882, 'label': 'SPACECRAFT'}]]"
      ]
     },
     "execution_count": 985,
     "metadata": {},
     "output_type": "execute_result"
    }
   ],
   "source": [
    "train_history[train_history['text'].str.contains(\"Sample return missions have primary\")]['spans'].iloc[0]"
   ]
  },
  {
   "cell_type": "code",
   "execution_count": 965,
   "id": "5b35d626-0111-481f-bb1b-6de84b019c16",
   "metadata": {},
   "outputs": [
    {
     "data": {
      "text/html": [
       "<div>\n",
       "<style scoped>\n",
       "    .dataframe tbody tr th:only-of-type {\n",
       "        vertical-align: middle;\n",
       "    }\n",
       "\n",
       "    .dataframe tbody tr th {\n",
       "        vertical-align: top;\n",
       "    }\n",
       "\n",
       "    .dataframe thead th {\n",
       "        text-align: right;\n",
       "    }\n",
       "</style>\n",
       "<table border=\"1\" class=\"dataframe\">\n",
       "  <thead>\n",
       "    <tr style=\"text-align: right;\">\n",
       "      <th></th>\n",
       "      <th>text</th>\n",
       "      <th>spans</th>\n",
       "      <th>train_index</th>\n",
       "    </tr>\n",
       "  </thead>\n",
       "  <tbody>\n",
       "    <tr>\n",
       "      <th>0</th>\n",
       "      <td>MCD43D43 is the black-sky albedo for MODIS ban...</td>\n",
       "      <td>[]</td>\n",
       "      <td>0</td>\n",
       "    </tr>\n",
       "    <tr>\n",
       "      <th>1</th>\n",
       "      <td>\"We propose to implement a constraint-based da...</td>\n",
       "      <td>[]</td>\n",
       "      <td>1</td>\n",
       "    </tr>\n",
       "    <tr>\n",
       "      <th>2</th>\n",
       "      <td>\"A Solid Expellant Plasma Source/Contactor for...</td>\n",
       "      <td>[]</td>\n",
       "      <td>2</td>\n",
       "    </tr>\n",
       "    <tr>\n",
       "      <th>3</th>\n",
       "      <td>\"This is a Rosetta Radio Science data set, col...</td>\n",
       "      <td>[]</td>\n",
       "      <td>3</td>\n",
       "    </tr>\n",
       "    <tr>\n",
       "      <th>4</th>\n",
       "      <td>\"This is a textbook, created example for illus...</td>\n",
       "      <td>[]</td>\n",
       "      <td>4</td>\n",
       "    </tr>\n",
       "    <tr>\n",
       "      <th>...</th>\n",
       "      <td>...</td>\n",
       "      <td>...</td>\n",
       "      <td>...</td>\n",
       "    </tr>\n",
       "    <tr>\n",
       "      <th>129</th>\n",
       "      <td>As a response to this problem, we will develop...</td>\n",
       "      <td>[]</td>\n",
       "      <td>129</td>\n",
       "    </tr>\n",
       "    <tr>\n",
       "      <th>130</th>\n",
       "      <td>\"AFRC has previously investigated the use of N...</td>\n",
       "      <td>[]</td>\n",
       "      <td>130</td>\n",
       "    </tr>\n",
       "    <tr>\n",
       "      <th>131</th>\n",
       "      <td>Users are urged to use the band specific quali...</td>\n",
       "      <td>[]</td>\n",
       "      <td>131</td>\n",
       "    </tr>\n",
       "    <tr>\n",
       "      <th>132</th>\n",
       "      <td>\"Existing 30-m land cover Thematic Mapper clas...</td>\n",
       "      <td>[]</td>\n",
       "      <td>132</td>\n",
       "    </tr>\n",
       "    <tr>\n",
       "      <th>133</th>\n",
       "      <td>TSurfStd|Surface skin temperature|(K)</td>\n",
       "      <td>[]</td>\n",
       "      <td>133</td>\n",
       "    </tr>\n",
       "  </tbody>\n",
       "</table>\n",
       "<p>134 rows × 3 columns</p>\n",
       "</div>"
      ],
      "text/plain": [
       "                                                  text spans  train_index\n",
       "0    MCD43D43 is the black-sky albedo for MODIS ban...    []            0\n",
       "1    \"We propose to implement a constraint-based da...    []            1\n",
       "2    \"A Solid Expellant Plasma Source/Contactor for...    []            2\n",
       "3    \"This is a Rosetta Radio Science data set, col...    []            3\n",
       "4    \"This is a textbook, created example for illus...    []            4\n",
       "..                                                 ...   ...          ...\n",
       "129  As a response to this problem, we will develop...    []          129\n",
       "130  \"AFRC has previously investigated the use of N...    []          130\n",
       "131  Users are urged to use the band specific quali...    []          131\n",
       "132  \"Existing 30-m land cover Thematic Mapper clas...    []          132\n",
       "133              TSurfStd|Surface skin temperature|(K)    []          133\n",
       "\n",
       "[134 rows x 3 columns]"
      ]
     },
     "execution_count": 965,
     "metadata": {},
     "output_type": "execute_result"
    }
   ],
   "source": [
    "train_history"
   ]
  },
  {
   "cell_type": "code",
   "execution_count": 916,
   "id": "bfd99c4c-5cdb-4e9c-a0a5-1d6df2f304cb",
   "metadata": {},
   "outputs": [],
   "source": [
    "def format_annotations(doc_bin):\n",
    "    \"\"\"Loads and formats .spacy DocBin formatted annotations.\n",
    "\n",
    "    Args:\n",
    "    doc_bin -- .spacy data imported using spacy.tokens.DocBin\n",
    "\n",
    "    Returns:\n",
    "        A dict mapping keys to the corresponding text and span row data.\n",
    "        Each row is represented as a tuple of strings. For example:\n",
    "\n",
    "        {'text': 'Entity freeform annotation text',\n",
    "         'spans': [{\"start\": 0, \"end\": 6, \"label\": label}]}\n",
    "    \"\"\"\n",
    "    nlp = spacy.blank(\"en\") # use blank nlp model for text parsing.\n",
    "    annotations = []\n",
    "    for doc in doc_bin.get_docs(nlp.vocab):\n",
    "        for ent in doc.ents:\n",
    "            spans = [\n",
    "                {\"start\": ent.start_char, \"end\": ent.end_char, \"label\": ent.label_}\n",
    "            ]\n",
    "        annotations.append({\"text\": doc.text, \"spans\": spans})\n",
    "    return annotations"
   ]
  },
  {
   "cell_type": "code",
   "execution_count": 922,
   "id": "a716491c-fa1d-46ae-a480-dcb56fbf0f01",
   "metadata": {},
   "outputs": [],
   "source": [
    "nlp = spacy.blank(\"en\") # use blank nlp model for text parsing.\n",
    "annotations = []\n",
    "for doc in doc_bin.get_docs(nlp.vocab):\n",
    "    for ent in doc.ents:\n",
    "        spans = [\n",
    "            {\"start\": ent.start_char, \"end\": ent.end_char, \"label\": ent.label_}\n",
    "        ]\n",
    "    annotations.append({\"text\": doc.text, \"spans\": spans})"
   ]
  },
  {
   "cell_type": "code",
   "execution_count": 927,
   "id": "8a2abed1-27e1-4e3d-bec2-0901eb0a8590",
   "metadata": {},
   "outputs": [
    {
     "data": {
      "text/plain": [
       "()"
      ]
     },
     "execution_count": 927,
     "metadata": {},
     "output_type": "execute_result"
    }
   ],
   "source": [
    "nlp(returned[0]['text']).ents"
   ]
  },
  {
   "cell_type": "code",
   "execution_count": 925,
   "id": "f79598a0-1d60-440e-a351-f8f011086565",
   "metadata": {},
   "outputs": [
    {
     "data": {
      "text/plain": [
       "'\"Sample return missions have primary importance in future planetary missions. A basic requirement is that samples be returned in pristine, uncontaminated condition, necessitating development of a canister system capable of maintaining cleanliness and seal integrity through a variety of environments. Further development of the Sealed Planetary Return Canister (SPRC), is proposed after a successful Phase 1 program. Besides providing a high integrity seal, the canister incorporates features for robotic manipulation and to allow the sample to be accessed in a controlled manner upon return to Earth. The SPRC seal system addresses the two most significant concerns for planetary samples  seal surfaces contaminated by the sample and high pressure due to the phase change of volatiles. The SPRC incorporates a novel sealing system evolved from the only marginally successful Apollo indium knife edge seal approach but with added features to address the difficulties and inconsistencies observed. The indium is contained within a protective barrier to prevent against contamination, and the knife edge is mechanically cleaned during the sealing process. The container body can be configured to accommodate a variety of samples including rock cores, rock fragments, regolith, dust, and frozen soil. Atmospheric samples can also be preserved. The design is readily scalable and adaptable to specific missions. The prototype developed in Phase 1 demonstrated a leakage rate of less than 1e-6 cc-atm/s, meeting the primary science requirement.\"'"
      ]
     },
     "execution_count": 925,
     "metadata": {},
     "output_type": "execute_result"
    }
   ],
   "source": [
    "returned = format_annotations(doc_bin)\n",
    "returned[0]['text']"
   ]
  },
  {
   "cell_type": "code",
   "execution_count": 937,
   "id": "7c3a2ca8-5d39-410f-bf42-d958aed57f3c",
   "metadata": {},
   "outputs": [],
   "source": [
    "nlp = spacy.load(\"/home/spenser/prodigy/nasa_model/update_02\") # use blank nlp model for text parsing.\n",
    "documents = []\n",
    "for doc in doc_bin.get_docs(nlp.vocab):\n",
    "    documents.append(doc)"
   ]
  },
  {
   "cell_type": "code",
   "execution_count": 935,
   "id": "b8f4889b-8a67-42de-af89-4def06a7727e",
   "metadata": {},
   "outputs": [
    {
     "data": {
      "text/plain": [
       "(Sealed Planetary Return Canister (SPRC), canister, SPRC, SPRC, Apollo)"
      ]
     },
     "execution_count": 935,
     "metadata": {},
     "output_type": "execute_result"
    }
   ],
   "source": [
    "def get_docs(vocab: Vocab) -> Iterator[Doc]:\n",
    "    \"\"\"Recover Doc objects from the annotations, using the given vocab.\n",
    "    Note that the user data of each doc will be read (if available) and returned,\n",
    "    regardless of the setting of 'self.store_user_data'.\n",
    "    vocab (Vocab): The shared vocab.\n",
    "    YIELDS (Doc): The Doc objects.\n",
    "    DOCS: https://spacy.io/api/docbin#get_docs\n",
    "    \"\"\"\n",
    "    for string in strings:\n",
    "        vocab[string]\n",
    "    orth_col = attrs.index(ORTH)\n",
    "    for i in range(len(tokens)):\n",
    "        flags = flags[i]\n",
    "        tokens = tokens[i]\n",
    "        spaces: Optional[ndarray] = spaces[i]\n",
    "        if flags.get(\"has_unknown_spaces\"):\n",
    "            spaces = None\n",
    "        doc = Doc(vocab, words=tokens[:, orth_col], spaces=spaces)  # type: ignore\n",
    "        doc = doc.from_array(attrs, tokens)  # type: ignore\n",
    "        doc.cats = cats[i]\n",
    "        if self.span_groups[i]:\n",
    "            doc.spans.from_bytes(span_groups[i])\n",
    "        else:\n",
    "            doc.spans.clear()\n",
    "        if i < len(user_data) and user_data[i] is not None:\n",
    "            user_data = srsly.msgpack_loads(self.user_data[i], use_list=False)\n",
    "            doc.user_data.update(user_data)\n",
    "        yield doc"
   ]
  },
  {
   "cell_type": "code",
   "execution_count": 946,
   "id": "c7dd5707-16f7-4889-82a2-d4f6bd1d416c",
   "metadata": {},
   "outputs": [
    {
     "data": {
      "text/plain": [
       "{}"
      ]
     },
     "execution_count": 946,
     "metadata": {},
     "output_type": "execute_result"
    }
   ],
   "source": [
    "documents[0].user_data"
   ]
  },
  {
   "cell_type": "code",
   "execution_count": 939,
   "id": "603258a7-a634-4b80-8108-a55e3acb0fc8",
   "metadata": {},
   "outputs": [],
   "source": [
    "nlp = spacy.blank(\"en\") "
   ]
  },
  {
   "cell_type": "code",
   "execution_count": 940,
   "id": "a2ba2953-b2a4-4af0-81e8-e58e421c30c7",
   "metadata": {},
   "outputs": [],
   "source": [
    "test = '\"Sample return missions have primary importance in future planetary missions. A basic requirement is that samples be returned in pristine, uncontaminated condition, necessitating development of a canister system capable of maintaining cleanliness and seal integrity through a variety of environments. Further development of the Sealed Planetary Return Canister (SPRC), is proposed after a successful Phase 1 program. Besides providing a high integrity seal, the canister incorporates features for robotic manipulation and to allow the sample to be accessed in a controlled manner upon return to Earth. The SPRC seal system addresses the two most significant concerns for planetary samples  seal surfaces contaminated by the sample and high pressure due to the phase change of volatiles. The SPRC incorporates a novel sealing system evolved from the only marginally successful Apollo indium knife edge seal approach but with added features to address the difficulties and inconsistencies observed. The indium is contained within a protective barrier to prevent against contamination, and the knife edge is mechanically cleaned during the sealing process. The container body can be configured to accommodate a variety of samples including rock cores, rock fragments, regolith, dust, and frozen soil. Atmospheric samples can also be preserved. The design is readily scalable and adaptable to specific missions. The prototype developed in Phase 1 demonstrated a leakage rate of less than 1e-6 cc-atm/s, meeting the primary science requirement.\"'"
   ]
  },
  {
   "cell_type": "code",
   "execution_count": 942,
   "id": "da01929f-3654-4c7c-aff6-b5d74615f37e",
   "metadata": {},
   "outputs": [
    {
     "data": {
      "text/plain": [
       "()"
      ]
     },
     "execution_count": 942,
     "metadata": {},
     "output_type": "execute_result"
    }
   ],
   "source": [
    "nlp(test).ents"
   ]
  },
  {
   "cell_type": "code",
   "execution_count": 944,
   "id": "38d32690-3689-43c5-ba34-b9186ac5247e",
   "metadata": {},
   "outputs": [
    {
     "data": {
      "text/plain": [
       "(Sealed Planetary Return Canister (SPRC), canister, SPRC, SPRC, Apollo)"
      ]
     },
     "execution_count": 945,
     "metadata": {},
     "output_type": "execute_result"
    }
   ],
   "source": [
    "nlp = spacy.load(\"/home/spenser/prodigy/nasa_model/update_01\") # use blank nlp model for text parsing.\n",
    "nlp(test).ents"
   ]
  },
  {
   "cell_type": "markdown",
   "id": "7831dccf-d522-40b2-8c40-48c11b86dd5a",
   "metadata": {},
   "source": [
    "<hr>"
   ]
  },
  {
   "cell_type": "markdown",
   "id": "aa0423ce-b026-4e03-a87d-e6bb5e9a0fc1",
   "metadata": {},
   "source": [
    "#### Test for conflicting annotation"
   ]
  },
  {
   "cell_type": "code",
   "execution_count": 101,
   "id": "9cb7c752-7c80-4f7c-855a-f767b9b580fa",
   "metadata": {},
   "outputs": [],
   "source": [
    "OUTPATH = \"/home/spenser/prodigy/nasa.txt\""
   ]
  },
  {
   "cell_type": "code",
   "execution_count": 102,
   "id": "f0c645fd-fa52-438e-a490-f76ff4177b70",
   "metadata": {},
   "outputs": [],
   "source": [
    "nasa = pd.read_csv(OUTPATH)"
   ]
  },
  {
   "cell_type": "code",
   "execution_count": 103,
   "id": "288b3ed0-aebd-488f-870e-415bc505e873",
   "metadata": {},
   "outputs": [],
   "source": [
    "nasa.columns = ['text']"
   ]
  },
  {
   "cell_type": "code",
   "execution_count": 107,
   "id": "18aaccf5-4dee-4664-97ca-3c637cce746f",
   "metadata": {},
   "outputs": [],
   "source": [
    "dat = nasa[nasa['text'].astype(str).str.contains(\"MISR itself is an instrument designed to view Earth with cameras pointed in 9 different directions.\")]"
   ]
  },
  {
   "cell_type": "code",
   "execution_count": 108,
   "id": "add31ef2-4892-4481-af94-b1e1b04d7173",
   "metadata": {},
   "outputs": [
    {
     "data": {
      "text/html": [
       "<div>\n",
       "<style scoped>\n",
       "    .dataframe tbody tr th:only-of-type {\n",
       "        vertical-align: middle;\n",
       "    }\n",
       "\n",
       "    .dataframe tbody tr th {\n",
       "        vertical-align: top;\n",
       "    }\n",
       "\n",
       "    .dataframe thead th {\n",
       "        text-align: right;\n",
       "    }\n",
       "</style>\n",
       "<table border=\"1\" class=\"dataframe\">\n",
       "  <thead>\n",
       "    <tr style=\"text-align: right;\">\n",
       "      <th></th>\n",
       "      <th>text</th>\n",
       "    </tr>\n",
       "  </thead>\n",
       "  <tbody>\n",
       "    <tr>\n",
       "      <th>42</th>\n",
       "      <td>MI3YCMVN_2 is the Multi-angle Imaging SpectroR...</td>\n",
       "    </tr>\n",
       "    <tr>\n",
       "      <th>91</th>\n",
       "      <td>MIL3YCOD_1 is the Multi-angle Imaging SpectroR...</td>\n",
       "    </tr>\n",
       "    <tr>\n",
       "      <th>254</th>\n",
       "      <td>MI3MLSR_2 is the Multi-angle Imaging SpectroRa...</td>\n",
       "    </tr>\n",
       "    <tr>\n",
       "      <th>1110</th>\n",
       "      <td>MIL3YCOD_1 is the Multi-angle Imaging SpectroR...</td>\n",
       "    </tr>\n",
       "    <tr>\n",
       "      <th>1466</th>\n",
       "      <td>MIL3YRD_5 is the Multi-angle Imaging SpectroRa...</td>\n",
       "    </tr>\n",
       "    <tr>\n",
       "      <th>...</th>\n",
       "      <td>...</td>\n",
       "    </tr>\n",
       "    <tr>\n",
       "      <th>194076</th>\n",
       "      <td>MI3QCLDN_2 is the Multi-angle Imaging SpectroR...</td>\n",
       "    </tr>\n",
       "    <tr>\n",
       "      <th>194307</th>\n",
       "      <td>MIL2TCSF_1 is the Multi-angle Imaging SpectroR...</td>\n",
       "    </tr>\n",
       "    <tr>\n",
       "      <th>194309</th>\n",
       "      <td>MIL3YAEN_4 is the Multi-angle Imaging SpectroR...</td>\n",
       "    </tr>\n",
       "    <tr>\n",
       "      <th>194512</th>\n",
       "      <td>MIL3DAL_6 is the Multi-angle Imaging SpectroRa...</td>\n",
       "    </tr>\n",
       "    <tr>\n",
       "      <th>194852</th>\n",
       "      <td>MIL3YLS_4 is the Multi-angle Imaging SpectroRa...</td>\n",
       "    </tr>\n",
       "  </tbody>\n",
       "</table>\n",
       "<p>351 rows × 1 columns</p>\n",
       "</div>"
      ],
      "text/plain": [
       "                                                     text\n",
       "42      MI3YCMVN_2 is the Multi-angle Imaging SpectroR...\n",
       "91      MIL3YCOD_1 is the Multi-angle Imaging SpectroR...\n",
       "254     MI3MLSR_2 is the Multi-angle Imaging SpectroRa...\n",
       "1110    MIL3YCOD_1 is the Multi-angle Imaging SpectroR...\n",
       "1466    MIL3YRD_5 is the Multi-angle Imaging SpectroRa...\n",
       "...                                                   ...\n",
       "194076  MI3QCLDN_2 is the Multi-angle Imaging SpectroR...\n",
       "194307  MIL2TCSF_1 is the Multi-angle Imaging SpectroR...\n",
       "194309  MIL3YAEN_4 is the Multi-angle Imaging SpectroR...\n",
       "194512  MIL3DAL_6 is the Multi-angle Imaging SpectroRa...\n",
       "194852  MIL3YLS_4 is the Multi-angle Imaging SpectroRa...\n",
       "\n",
       "[351 rows x 1 columns]"
      ]
     },
     "execution_count": 108,
     "metadata": {},
     "output_type": "execute_result"
    }
   ],
   "source": [
    "dat"
   ]
  },
  {
   "cell_type": "code",
   "execution_count": 1025,
   "id": "453c924b-268f-438f-ad49-23f01ae24e5f",
   "metadata": {},
   "outputs": [],
   "source": [
    "dat.to_csv(\"duplicate_test.csv\", index=False)"
   ]
  },
  {
   "cell_type": "code",
   "execution_count": 109,
   "id": "1dddc07c-37c4-4376-9ef1-6c9aba71c466",
   "metadata": {},
   "outputs": [
    {
     "ename": "NameError",
     "evalue": "name 'train_history' is not defined",
     "output_type": "error",
     "traceback": [
      "\u001b[0;31m---------------------------------------------------------------------------\u001b[0m",
      "\u001b[0;31mNameError\u001b[0m                                 Traceback (most recent call last)",
      "\u001b[0;32m<ipython-input-109-85fe20f0a77e>\u001b[0m in \u001b[0;36m<module>\u001b[0;34m\u001b[0m\n\u001b[0;32m----> 1\u001b[0;31m \u001b[0mtrain_history\u001b[0m\u001b[0;34m.\u001b[0m\u001b[0miloc\u001b[0m\u001b[0;34m[\u001b[0m\u001b[0;36m10\u001b[0m\u001b[0;34m]\u001b[0m\u001b[0;34m[\u001b[0m\u001b[0;34m'text'\u001b[0m\u001b[0;34m]\u001b[0m\u001b[0;34m\u001b[0m\u001b[0;34m\u001b[0m\u001b[0m\n\u001b[0m",
      "\u001b[0;31mNameError\u001b[0m: name 'train_history' is not defined"
     ]
    }
   ],
   "source": [
    "train_history.iloc[10]['text']"
   ]
  },
  {
   "cell_type": "code",
   "execution_count": 110,
   "id": "a24002e6-904b-47f0-92a2-be7336d02310",
   "metadata": {},
   "outputs": [
    {
     "ename": "NameError",
     "evalue": "name 'train_history' is not defined",
     "output_type": "error",
     "traceback": [
      "\u001b[0;31m---------------------------------------------------------------------------\u001b[0m",
      "\u001b[0;31mNameError\u001b[0m                                 Traceback (most recent call last)",
      "\u001b[0;32m<ipython-input-110-f2caca009fd2>\u001b[0m in \u001b[0;36m<module>\u001b[0;34m\u001b[0m\n\u001b[0;32m----> 1\u001b[0;31m \u001b[0mtrain_history\u001b[0m\u001b[0;34m.\u001b[0m\u001b[0miloc\u001b[0m\u001b[0;34m[\u001b[0m\u001b[0;36m10\u001b[0m\u001b[0;34m]\u001b[0m\u001b[0;34m[\u001b[0m\u001b[0;34m'spans'\u001b[0m\u001b[0;34m]\u001b[0m\u001b[0;34m\u001b[0m\u001b[0;34m\u001b[0m\u001b[0m\n\u001b[0m",
      "\u001b[0;31mNameError\u001b[0m: name 'train_history' is not defined"
     ]
    }
   ],
   "source": [
    "train_history.iloc[10]['spans']"
   ]
  },
  {
   "cell_type": "code",
   "execution_count": null,
   "id": "770d1d40-76a1-4516-9858-04a4af05b98c",
   "metadata": {},
   "outputs": [],
   "source": [
    "prodigy ner.manual spacy_schema en_core_web_lg ./prodigy/duplicate_test.csv --label SPACECRAFT -F ./prodigy/ner_teach.py"
   ]
  },
  {
   "cell_type": "code",
   "execution_count": 1030,
   "id": "d045f279-137a-4c07-97e7-e368456c490c",
   "metadata": {},
   "outputs": [
    {
     "name": "stdout",
     "output_type": "stream",
     "text": [
      "\u001b[38;5;4mℹ Using language 'en'\u001b[0m\n",
      "Your CPU supports instructions that this binary was not compiled to use: SSE3 SSE4.1 SSE4.2 AVX AVX2\n",
      "For maximum performance, you can install NMSLIB from sources \n",
      "pip install --no-binary :all: nmslib\n",
      "\u001b[1m\n",
      "============================== Generating data ==============================\u001b[0m\n",
      "Components: ner\n",
      "Merging training and evaluation data for 1 components\n",
      "  - [ner] Training: 288 | Evaluation: 0 (0% split)\n",
      "Training: 285 | Evaluation: 0\n",
      "Labels: ner (1)\n",
      "\u001b[38;5;2m✔ Saved 285 training examples\u001b[0m\n",
      "nasa_data_updated/train.spacy\n",
      "\u001b[38;5;3m⚠ No evaluation data. You can provide dedicated evaluation sets for the\n",
      "different components using the eval: prefix, or set an --eval-split to hold back\n",
      "a percentage for evaluation. If you already have a dev set available, you can\n",
      "specify its correct path as the '--paths.dev' argument to 'spacy train'.\u001b[0m\n",
      "\u001b[1m\n",
      "============================= Generating config =============================\u001b[0m\n",
      "\u001b[38;5;4mℹ Auto-generating config with spaCy\u001b[0m\n",
      "\u001b[38;5;2m✔ Generated training config\u001b[0m\n",
      "\u001b[1m\n",
      "======================== Generating cached label data ========================\u001b[0m\n",
      "\u001b[38;5;2m✔ Saving label data for component 'ner'\u001b[0m\n",
      "nasa_data_updated/labels/ner.json\n",
      "\u001b[1m\n",
      "============================= Finalizing export =============================\u001b[0m\n",
      "\u001b[38;5;2m✔ Saved training config\u001b[0m\n",
      "nasa_data_updated/config.cfg\n",
      "\n",
      "To use this data for training with spaCy, you can run:\n",
      "python -m spacy train nasa_data_updated/config.cfg --paths.train nasa_data_updated/train.spacy --paths.dev nasa_data_updated/dev.spacy\n"
     ]
    }
   ],
   "source": [
    "!prodigy data-to-spacy ./nasa_data_updated --ner spacy_schema --eval-split 0"
   ]
  },
  {
   "cell_type": "code",
   "execution_count": 127,
   "id": "600812e6-8cc9-4406-9cf0-a556ed9a887b",
   "metadata": {},
   "outputs": [],
   "source": [
    "import spacy\n",
    "from spacy.tokens import DocBin\n",
    "import spacy\n",
    "\n",
    "def format_annotations(doc_bin):\n",
    "    \"\"\"Loads and formats .spacy DocBin formatted annotations.\n",
    "\n",
    "    Args:\n",
    "    doc_bin -- .spacy data imported using spacy.tokens.DocBin\n",
    "\n",
    "    Returns:\n",
    "        A dict mapping keys to the corresponding text and span row data.\n",
    "        Each row is represented as a tuple of strings. For example:\n",
    "\n",
    "        {'text': 'Entity freeform annotation text',\n",
    "         'spans': [{\"start\": 0, \"end\": 6, \"label\": label}]}\n",
    "    \"\"\"\n",
    "    nlp = spacy.blank(\"en\") # use blank nlp model for text parsing.\n",
    "    annotations = []\n",
    "    for doc in doc_bin.get_docs(nlp.vocab):\n",
    "        spans = []\n",
    "        for ent in doc.ents:\n",
    "            span = [\n",
    "                {\"start\": ent.start_char, \"end\": ent.end_char, \"label\": ent.label_}\n",
    "            ]\n",
    "            spans.append(span)\n",
    "            \n",
    "        annotations.append({\"text\": doc.text, \"spans\": spans})\n",
    "    return annotations\n",
    "\n",
    "INPUT_PATH_TRAIN = \"/home/spenser/prodigy/nasa_data_updated/train.spacy\"\n",
    "doc_bin = DocBin().from_disk(INPUT_PATH_TRAIN)  # your file here\n",
    "annotations = format_annotations(doc_bin)"
   ]
  },
  {
   "cell_type": "code",
   "execution_count": 128,
   "id": "62f027a7-7011-4059-a5a0-ca079b574613",
   "metadata": {},
   "outputs": [],
   "source": [
    "annot  = format_annotations(doc_bin)"
   ]
  },
  {
   "cell_type": "code",
   "execution_count": 129,
   "id": "b1440364-00a9-4c83-b83c-8071b9b108ed",
   "metadata": {},
   "outputs": [],
   "source": [
    "annot = pd.DataFrame(annot)\n",
    "docs = annot[annot['text'].str.contains(\"This data set is the collection of documentati.\")]"
   ]
  },
  {
   "cell_type": "code",
   "execution_count": 139,
   "id": "3f4061be-76ec-4a0d-883b-d11ebb948e7a",
   "metadata": {},
   "outputs": [
    {
     "data": {
      "text/plain": [
       "'Deep Impact'"
      ]
     },
     "execution_count": 139,
     "metadata": {},
     "output_type": "execute_result"
    }
   ],
   "source": [
    "docs['text'].iloc[1][95:106]"
   ]
  },
  {
   "cell_type": "code",
   "execution_count": 140,
   "id": "5fe60419-c753-4130-b408-62d168a14d31",
   "metadata": {},
   "outputs": [
    {
     "data": {
      "text/plain": [
       "'EPOXI'"
      ]
     },
     "execution_count": 140,
     "metadata": {},
     "output_type": "execute_result"
    }
   ],
   "source": [
    "docs['text'].iloc[1][111:116]"
   ]
  },
  {
   "cell_type": "code",
   "execution_count": 141,
   "id": "df153986-5159-4c4a-96af-53cd9c2a93c6",
   "metadata": {},
   "outputs": [
    {
     "data": {
      "text/plain": [
       "[[{'start': 96, 'end': 107, 'label': 'SPACECRAFT'}],\n",
       " [{'start': 112, 'end': 117, 'label': 'SPACECRAFT'}]]"
      ]
     },
     "execution_count": 141,
     "metadata": {},
     "output_type": "execute_result"
    }
   ],
   "source": [
    "docs['spans'].iloc[0]"
   ]
  },
  {
   "cell_type": "code",
   "execution_count": 142,
   "id": "13794593-2d2f-4afe-a738-b180a347d67d",
   "metadata": {},
   "outputs": [
    {
     "data": {
      "text/plain": [
       "'calibrated data'"
      ]
     },
     "execution_count": 142,
     "metadata": {},
     "output_type": "execute_result"
    }
   ],
   "source": [
    "docs['text'].iloc[1][65:80]"
   ]
  },
  {
   "cell_type": "code",
   "execution_count": 143,
   "id": "190d3ca5-8be7-4191-b384-928f10be8bab",
   "metadata": {},
   "outputs": [
    {
     "data": {
      "text/plain": [
       "[[{'start': 65, 'end': 80, 'label': 'SPACECRAFT'}]]"
      ]
     },
     "execution_count": 143,
     "metadata": {},
     "output_type": "execute_result"
    }
   ],
   "source": [
    "docs['spans'].iloc[1]"
   ]
  },
  {
   "cell_type": "code",
   "execution_count": 126,
   "id": "eba4f278-230d-4fd8-9ebe-195fc4c00ec4",
   "metadata": {},
   "outputs": [],
   "source": [
    "def format_annotations(doc_bin):\n",
    "    \"\"\"Loads and formats .spacy DocBin formatted annotations.\n",
    "\n",
    "    Args:\n",
    "    doc_bin -- .spacy data imported using spacy.tokens.DocBin\n",
    "\n",
    "    Returns:\n",
    "        A dict mapping keys to the corresponding text and span row data.\n",
    "        Each row is represented as a tuple of strings. For example:\n",
    "\n",
    "        {'text': 'Entity freeform annotation text',\n",
    "         'spans': [{\"start\": 0, \"end\": 6, \"label\": label}]}\n",
    "    \"\"\"\n",
    "    nlp = spacy.blank(\"en_core_web_sm\") # use blank nlp model for text parsing.\n",
    "    annotations = []\n",
    "    for doc in doc_bin.get_docs(nlp.vocab):\n",
    "        spans = []\n",
    "        for ent in doc.ents:\n",
    "            span = [\n",
    "                {\"start\": ent.start_char, \"end\": ent.end_char, \"label\": ent.label_}\n",
    "            ]\n",
    "            spans.append(span)\n",
    "            \n",
    "        annotations.append({\"text\": doc.text, \"spans\": spans})\n",
    "    return annotations"
   ]
  },
  {
   "cell_type": "code",
   "execution_count": 195,
   "id": "1fed25e1-d1e0-46de-9266-8361b151a68b",
   "metadata": {},
   "outputs": [
    {
     "data": {
      "text/plain": [
       "<spacy.tokens._serialize.DocBin at 0x7ff1195ff910>"
      ]
     },
     "execution_count": 195,
     "metadata": {},
     "output_type": "execute_result"
    }
   ],
   "source": [
    "doc_bin"
   ]
  },
  {
   "cell_type": "code",
   "execution_count": 192,
   "id": "6b0077ec-1870-407e-889c-78d72fdcae54",
   "metadata": {},
   "outputs": [
    {
     "name": "stdout",
     "output_type": "stream",
     "text": [
      "GPS 0 3 SPACECRAFT\n"
     ]
    }
   ],
   "source": [
    "nlp = spacy.load(\"/home/spenser/prodigy/nasa_model/update_01\")\n",
    "doc = nlp('GPS')\n",
    "for ent in doc.ents:\n",
    "    print(ent.text, ent.start_char, ent.end_char, ent.label_)"
   ]
  },
  {
   "cell_type": "code",
   "execution_count": 193,
   "id": "8219d5db-23d2-4db5-816c-a30e63e0cae2",
   "metadata": {},
   "outputs": [
    {
     "data": {
      "text/plain": [
       "'SPACECRAFT'"
      ]
     },
     "execution_count": 193,
     "metadata": {},
     "output_type": "execute_result"
    }
   ],
   "source": [
    "ent.label_"
   ]
  },
  {
   "cell_type": "code",
   "execution_count": 184,
   "id": "d425c983-1676-49be-9289-7e18eeb91eb9",
   "metadata": {},
   "outputs": [],
   "source": [
    "doc_bin = DocBin().from_disk(INPUT_PATH_TRAIN)  # your file here\n",
    "annotations = format_annotations(doc_bin)"
   ]
  },
  {
   "cell_type": "code",
   "execution_count": 186,
   "id": "daf59c9c-18eb-4ab1-8677-a677edf22d20",
   "metadata": {},
   "outputs": [
    {
     "data": {
      "text/html": [
       "<div>\n",
       "<style scoped>\n",
       "    .dataframe tbody tr th:only-of-type {\n",
       "        vertical-align: middle;\n",
       "    }\n",
       "\n",
       "    .dataframe tbody tr th {\n",
       "        vertical-align: top;\n",
       "    }\n",
       "\n",
       "    .dataframe thead th {\n",
       "        text-align: right;\n",
       "    }\n",
       "</style>\n",
       "<table border=\"1\" class=\"dataframe\">\n",
       "  <thead>\n",
       "    <tr style=\"text-align: right;\">\n",
       "      <th></th>\n",
       "      <th>text</th>\n",
       "      <th>spans</th>\n",
       "    </tr>\n",
       "  </thead>\n",
       "  <tbody>\n",
       "    <tr>\n",
       "      <th>95</th>\n",
       "      <td>\"Sample return missions have primary importanc...</td>\n",
       "      <td>[[{'start': 328, 'end': 367, 'label': 'SPACECR...</td>\n",
       "    </tr>\n",
       "  </tbody>\n",
       "</table>\n",
       "</div>"
      ],
      "text/plain": [
       "                                                 text  \\\n",
       "95  \"Sample return missions have primary importanc...   \n",
       "\n",
       "                                                spans  \n",
       "95  [[{'start': 328, 'end': 367, 'label': 'SPACECR...  "
      ]
     },
     "execution_count": 186,
     "metadata": {},
     "output_type": "execute_result"
    }
   ],
   "source": [
    "annotations = pd.DataFrame(annotations)\n",
    "annotations[annotations['text'].str.contains('Sample return missions have primary')]"
   ]
  },
  {
   "cell_type": "code",
   "execution_count": 144,
   "id": "e6ba6d9e-8719-4fb0-817d-b3918a3b6a3c",
   "metadata": {},
   "outputs": [
    {
     "data": {
      "text/html": [
       "<div>\n",
       "<style scoped>\n",
       "    .dataframe tbody tr th:only-of-type {\n",
       "        vertical-align: middle;\n",
       "    }\n",
       "\n",
       "    .dataframe tbody tr th {\n",
       "        vertical-align: top;\n",
       "    }\n",
       "\n",
       "    .dataframe thead th {\n",
       "        text-align: right;\n",
       "    }\n",
       "</style>\n",
       "<table border=\"1\" class=\"dataframe\">\n",
       "  <thead>\n",
       "    <tr style=\"text-align: right;\">\n",
       "      <th></th>\n",
       "      <th>text</th>\n",
       "      <th>spans</th>\n",
       "    </tr>\n",
       "  </thead>\n",
       "  <tbody>\n",
       "    <tr>\n",
       "      <th>0</th>\n",
       "      <td>\"Sample return missions have primary importanc...</td>\n",
       "      <td>[[{'start': 328, 'end': 367, 'label': 'SPACECR...</td>\n",
       "    </tr>\n",
       "    <tr>\n",
       "      <th>1</th>\n",
       "      <td>\"Next generation Earth Science Satellites ORCA...</td>\n",
       "      <td>[[{'start': 1, 'end': 46, 'label': 'SPACECRAFT...</td>\n",
       "    </tr>\n",
       "    <tr>\n",
       "      <th>2</th>\n",
       "      <td>\"Version 5 is the current version of the data ...</td>\n",
       "      <td>[]</td>\n",
       "    </tr>\n",
       "    <tr>\n",
       "      <th>3</th>\n",
       "      <td>The \"\"CLIM\"\"  products differ from their \"\"reg...</td>\n",
       "      <td>[]</td>\n",
       "    </tr>\n",
       "    <tr>\n",
       "      <th>4</th>\n",
       "      <td>3GPROF products provide global gridded monthly...</td>\n",
       "      <td>[]</td>\n",
       "    </tr>\n",
       "    <tr>\n",
       "      <th>5</th>\n",
       "      <td>\"The NEAR Eros Radio Science Data Set is a tim...</td>\n",
       "      <td>[]</td>\n",
       "    </tr>\n",
       "    <tr>\n",
       "      <th>6</th>\n",
       "      <td>\"We propose to implement a constraint-based da...</td>\n",
       "      <td>[]</td>\n",
       "    </tr>\n",
       "    <tr>\n",
       "      <th>7</th>\n",
       "      <td>\"The MCD43D43 Version 6 Bidirectional Reflecta...</td>\n",
       "      <td>[]</td>\n",
       "    </tr>\n",
       "    <tr>\n",
       "      <th>8</th>\n",
       "      <td>MCD43D42 through MCD43D61 are the albedo produ...</td>\n",
       "      <td>[]</td>\n",
       "    </tr>\n",
       "    <tr>\n",
       "      <th>9</th>\n",
       "      <td>MCD43D43 is the black-sky albedo for MODIS ban...</td>\n",
       "      <td>[]</td>\n",
       "    </tr>\n",
       "    <tr>\n",
       "      <th>10</th>\n",
       "      <td>Users are urged to use the band specific quali...</td>\n",
       "      <td>[]</td>\n",
       "    </tr>\n",
       "    <tr>\n",
       "      <th>11</th>\n",
       "      <td>Improvements/Changes from Previous Versions</td>\n",
       "      <td>[]</td>\n",
       "    </tr>\n",
       "    <tr>\n",
       "      <th>12</th>\n",
       "      <td>*\\tObservations are weighted to estimate the B...</td>\n",
       "      <td>[]</td>\n",
       "    </tr>\n",
       "    <tr>\n",
       "      <th>13</th>\n",
       "      <td>*\\tMCD43 products use the snow status weighted...</td>\n",
       "      <td>[]</td>\n",
       "    </tr>\n",
       "    <tr>\n",
       "      <th>14</th>\n",
       "      <td>*\\tWhen there are insufficient high quality re...</td>\n",
       "      <td>[]</td>\n",
       "    </tr>\n",
       "    <tr>\n",
       "      <th>15</th>\n",
       "      <td>*\\tCMG Albedo is estimated using all the clear...</td>\n",
       "      <td>[]</td>\n",
       "    </tr>\n",
       "    <tr>\n",
       "      <th>16</th>\n",
       "      <td>Important Quality Information</td>\n",
       "      <td>[]</td>\n",
       "    </tr>\n",
       "    <tr>\n",
       "      <th>17</th>\n",
       "      <td>The incorrect representation of the aerosol qu...</td>\n",
       "      <td>[]</td>\n",
       "    </tr>\n",
       "    <tr>\n",
       "      <th>18</th>\n",
       "      <td>\"This data set contains Calibrated data taken ...</td>\n",
       "      <td>[[{'start': 53, 'end': 65, 'label': 'SPACECRAF...</td>\n",
       "    </tr>\n",
       "    <tr>\n",
       "      <th>19</th>\n",
       "      <td>\"This proposed 2-yr project would: (1) develop...</td>\n",
       "      <td>[]</td>\n",
       "    </tr>\n",
       "  </tbody>\n",
       "</table>\n",
       "</div>"
      ],
      "text/plain": [
       "                                                 text  \\\n",
       "0   \"Sample return missions have primary importanc...   \n",
       "1   \"Next generation Earth Science Satellites ORCA...   \n",
       "2   \"Version 5 is the current version of the data ...   \n",
       "3   The \"\"CLIM\"\"  products differ from their \"\"reg...   \n",
       "4   3GPROF products provide global gridded monthly...   \n",
       "5   \"The NEAR Eros Radio Science Data Set is a tim...   \n",
       "6   \"We propose to implement a constraint-based da...   \n",
       "7   \"The MCD43D43 Version 6 Bidirectional Reflecta...   \n",
       "8   MCD43D42 through MCD43D61 are the albedo produ...   \n",
       "9   MCD43D43 is the black-sky albedo for MODIS ban...   \n",
       "10  Users are urged to use the band specific quali...   \n",
       "11        Improvements/Changes from Previous Versions   \n",
       "12  *\\tObservations are weighted to estimate the B...   \n",
       "13  *\\tMCD43 products use the snow status weighted...   \n",
       "14  *\\tWhen there are insufficient high quality re...   \n",
       "15  *\\tCMG Albedo is estimated using all the clear...   \n",
       "16                      Important Quality Information   \n",
       "17  The incorrect representation of the aerosol qu...   \n",
       "18  \"This data set contains Calibrated data taken ...   \n",
       "19  \"This proposed 2-yr project would: (1) develop...   \n",
       "\n",
       "                                                spans  \n",
       "0   [[{'start': 328, 'end': 367, 'label': 'SPACECR...  \n",
       "1   [[{'start': 1, 'end': 46, 'label': 'SPACECRAFT...  \n",
       "2                                                  []  \n",
       "3                                                  []  \n",
       "4                                                  []  \n",
       "5                                                  []  \n",
       "6                                                  []  \n",
       "7                                                  []  \n",
       "8                                                  []  \n",
       "9                                                  []  \n",
       "10                                                 []  \n",
       "11                                                 []  \n",
       "12                                                 []  \n",
       "13                                                 []  \n",
       "14                                                 []  \n",
       "15                                                 []  \n",
       "16                                                 []  \n",
       "17                                                 []  \n",
       "18  [[{'start': 53, 'end': 65, 'label': 'SPACECRAF...  \n",
       "19                                                 []  "
      ]
     },
     "execution_count": 144,
     "metadata": {},
     "output_type": "execute_result"
    }
   ],
   "source": [
    "annotations = pd.DataFrame(annotations)\n",
    "annotations.iloc[0:20]"
   ]
  },
  {
   "cell_type": "code",
   "execution_count": 44,
   "id": "ea3daf16-db65-44d8-b10d-14b061f155aa",
   "metadata": {},
   "outputs": [
    {
     "data": {
      "text/html": [
       "<div>\n",
       "<style scoped>\n",
       "    .dataframe tbody tr th:only-of-type {\n",
       "        vertical-align: middle;\n",
       "    }\n",
       "\n",
       "    .dataframe tbody tr th {\n",
       "        vertical-align: top;\n",
       "    }\n",
       "\n",
       "    .dataframe thead th {\n",
       "        text-align: right;\n",
       "    }\n",
       "</style>\n",
       "<table border=\"1\" class=\"dataframe\">\n",
       "  <thead>\n",
       "    <tr style=\"text-align: right;\">\n",
       "      <th></th>\n",
       "      <th>text</th>\n",
       "      <th>spans</th>\n",
       "    </tr>\n",
       "  </thead>\n",
       "  <tbody>\n",
       "    <tr>\n",
       "      <th>98</th>\n",
       "      <td>\"This data set is the collection of documentat...</td>\n",
       "      <td>[[{'start': 96, 'end': 107, 'label': 'SPACECRA...</td>\n",
       "    </tr>\n",
       "    <tr>\n",
       "      <th>284</th>\n",
       "      <td>This data set is the collection of documentati...</td>\n",
       "      <td>[[{'start': 65, 'end': 80, 'label': 'SPACECRAF...</td>\n",
       "    </tr>\n",
       "  </tbody>\n",
       "</table>\n",
       "</div>"
      ],
      "text/plain": [
       "                                                  text  \\\n",
       "98   \"This data set is the collection of documentat...   \n",
       "284  This data set is the collection of documentati...   \n",
       "\n",
       "                                                 spans  \n",
       "98   [[{'start': 96, 'end': 107, 'label': 'SPACECRA...  \n",
       "284  [[{'start': 65, 'end': 80, 'label': 'SPACECRAF...  "
      ]
     },
     "execution_count": 44,
     "metadata": {},
     "output_type": "execute_result"
    }
   ],
   "source": [
    "annotations[annotations['text'].str.contains('This data set is the collection')]"
   ]
  },
  {
   "cell_type": "code",
   "execution_count": 1034,
   "id": "d913758e-cf0c-440b-9bb5-8653525008cd",
   "metadata": {},
   "outputs": [],
   "source": [
    " entry = {'text': '\"This data set is the collection of documentation for the raw and calibrated data sets from the Deep Impact and EPOXI missions.\"',\n",
    "  'spans': [{'start': 112, 'end': 117, 'label': 'SPACECRAFT'}]},"
   ]
  },
  {
   "cell_type": "code",
   "execution_count": 6,
   "id": "08a670cb-98f7-49bc-9690-f882b23662e4",
   "metadata": {},
   "outputs": [],
   "source": [
    "import pandas as pd \n",
    "annotations = pd.DataFrame(annotations)"
   ]
  },
  {
   "cell_type": "code",
   "execution_count": 46,
   "id": "d6af4e5e-742b-4704-aa58-72251a3063ce",
   "metadata": {},
   "outputs": [],
   "source": [
    "#annotations[annotations['text'].str.contains('\"')]"
   ]
  },
  {
   "cell_type": "code",
   "execution_count": 79,
   "id": "c485329f-7ed5-49a4-8cad-6d54d58d7468",
   "metadata": {},
   "outputs": [
    {
     "ename": "NameError",
     "evalue": "name 'train_history' is not defined",
     "output_type": "error",
     "traceback": [
      "\u001b[0;31m---------------------------------------------------------------------------\u001b[0m",
      "\u001b[0;31mNameError\u001b[0m                                 Traceback (most recent call last)",
      "\u001b[0;32m<ipython-input-79-e46382c76a8d>\u001b[0m in \u001b[0;36m<module>\u001b[0;34m\u001b[0m\n\u001b[1;32m     20\u001b[0m     \u001b[0;32mreturn\u001b[0m \u001b[0mnew_texts\u001b[0m\u001b[0;34m\u001b[0m\u001b[0;34m\u001b[0m\u001b[0m\n\u001b[1;32m     21\u001b[0m \u001b[0;34m\u001b[0m\u001b[0m\n\u001b[0;32m---> 22\u001b[0;31m \u001b[0mtrain_history\u001b[0m\u001b[0;34m[\u001b[0m\u001b[0;34m'text'\u001b[0m\u001b[0;34m]\u001b[0m \u001b[0;34m=\u001b[0m \u001b[0mtrain_history\u001b[0m\u001b[0;34m[\u001b[0m\u001b[0;34m'text'\u001b[0m\u001b[0;34m]\u001b[0m\u001b[0;34m.\u001b[0m\u001b[0mstr\u001b[0m\u001b[0;34m.\u001b[0m\u001b[0mreplace\u001b[0m\u001b[0;34m(\u001b[0m\u001b[0;34m'\"'\u001b[0m\u001b[0;34m,\u001b[0m \u001b[0;34m''\u001b[0m\u001b[0;34m)\u001b[0m\u001b[0;34m\u001b[0m\u001b[0;34m\u001b[0m\u001b[0m\n\u001b[0m\u001b[1;32m     23\u001b[0m \u001b[0;34m\u001b[0m\u001b[0m\n\u001b[1;32m     24\u001b[0m \u001b[0mnew\u001b[0m \u001b[0;34m=\u001b[0m \u001b[0mfilter_new_annotations\u001b[0m\u001b[0;34m(\u001b[0m\u001b[0mtrain_history\u001b[0m\u001b[0;34m,\u001b[0m \u001b[0mannotations\u001b[0m\u001b[0;34m)\u001b[0m\u001b[0;34m\u001b[0m\u001b[0;34m\u001b[0m\u001b[0m\n",
      "\u001b[0;31mNameError\u001b[0m: name 'train_history' is not defined"
     ]
    }
   ],
   "source": [
    "def filter_new_annotations(train_history, annotations):\n",
    "    \"\"\"Removes texts used in previous training iterations\n",
    "       from the annotations data. \n",
    "\n",
    "    Args:\n",
    "    train_history -- Dataframe of texts and spans previously used in training.\n",
    "    annotations -- Dataframe of all texts and spans from updated train.spacy\n",
    "\n",
    "    Returns:\n",
    "        A pandas dataframe containing rows of new training texts and entity\n",
    "        spans that can be used to update the NER model.\n",
    "    \"\"\"\n",
    "    merged = train_history.merge(\n",
    "        annotations, on=[\"text\"], how=\"right\", suffixes=(\"_in_train\", \"_new\")\n",
    "    )\n",
    "    new_texts = merged[merged[\"train_index\"].isnull()] # filter to new texts with no train \n",
    "    new_texts = new_texts[[\"text\", \"spans_new\"]]\n",
    "    new_texts.columns = [\"text\", \"spans\"]\n",
    "    new_texts = new_texts.reset_index(drop=True) #reset indexes for batch processing\n",
    "    return new_texts\n",
    "\n",
    "train_history['text'] = train_history['text'].str.replace('\"', '')\n",
    "\n",
    "new = filter_new_annotations(train_history, annotations)"
   ]
  },
  {
   "cell_type": "code",
   "execution_count": 1068,
   "id": "0ae72fb9-9e85-46a0-8f43-01afe46482e9",
   "metadata": {},
   "outputs": [
    {
     "data": {
      "text/plain": [
       "'This data set is the collection of documentation for the raw and calibrated data sets from the Deep Impact and EPOXI missions.'"
      ]
     },
     "execution_count": 1068,
     "metadata": {},
     "output_type": "execute_result"
    }
   ],
   "source": [
    "train_history[train_history['text'].str.contains('This data set is the collection of')]['text'].iloc[0]"
   ]
  },
  {
   "cell_type": "code",
   "execution_count": 1069,
   "id": "c9012c61-1735-48c8-9a4b-36ce9067a9e8",
   "metadata": {},
   "outputs": [],
   "source": [
    "train_history['text'] = train_history['text'].str.replace('\"', '')"
   ]
  },
  {
   "cell_type": "code",
   "execution_count": 76,
   "id": "d318f0f9-6014-4f24-830f-d9dc8f4d693e",
   "metadata": {},
   "outputs": [],
   "source": [
    "from prodigy.components.db import connect\n",
    "import pandas as pd \n",
    "db = connect()\n",
    "dataset = db.get_dataset(\"spacy_schema\")\n",
    "dataset = pd.DataFrame(dataset)"
   ]
  },
  {
   "cell_type": "code",
   "execution_count": 77,
   "id": "5137ad85-aadb-4b4d-af0c-6d903340a044",
   "metadata": {},
   "outputs": [
    {
     "data": {
      "text/html": [
       "<div>\n",
       "<style scoped>\n",
       "    .dataframe tbody tr th:only-of-type {\n",
       "        vertical-align: middle;\n",
       "    }\n",
       "\n",
       "    .dataframe tbody tr th {\n",
       "        vertical-align: top;\n",
       "    }\n",
       "\n",
       "    .dataframe thead th {\n",
       "        text-align: right;\n",
       "    }\n",
       "</style>\n",
       "<table border=\"1\" class=\"dataframe\">\n",
       "  <thead>\n",
       "    <tr style=\"text-align: right;\">\n",
       "      <th></th>\n",
       "      <th>text</th>\n",
       "      <th>_input_hash</th>\n",
       "      <th>_task_hash</th>\n",
       "      <th>_is_binary</th>\n",
       "      <th>tokens</th>\n",
       "      <th>_view_id</th>\n",
       "      <th>answer</th>\n",
       "      <th>_timestamp</th>\n",
       "      <th>spans</th>\n",
       "    </tr>\n",
       "  </thead>\n",
       "  <tbody>\n",
       "    <tr>\n",
       "      <th>1</th>\n",
       "      <td>\"Sample return missions have primary importanc...</td>\n",
       "      <td>-1857021475</td>\n",
       "      <td>2059497973</td>\n",
       "      <td>False</td>\n",
       "      <td>[{'text': '\"', 'start': 0, 'end': 1, 'id': 0, ...</td>\n",
       "      <td>ner_manual</td>\n",
       "      <td>accept</td>\n",
       "      <td>1636845150</td>\n",
       "      <td>[{'start': 328, 'end': 367, 'token_start': 49,...</td>\n",
       "    </tr>\n",
       "  </tbody>\n",
       "</table>\n",
       "</div>"
      ],
      "text/plain": [
       "                                                text  _input_hash  _task_hash  \\\n",
       "1  \"Sample return missions have primary importanc...  -1857021475  2059497973   \n",
       "\n",
       "   _is_binary                                             tokens    _view_id  \\\n",
       "1       False  [{'text': '\"', 'start': 0, 'end': 1, 'id': 0, ...  ner_manual   \n",
       "\n",
       "   answer  _timestamp                                              spans  \n",
       "1  accept  1636845150  [{'start': 328, 'end': 367, 'token_start': 49,...  "
      ]
     },
     "execution_count": 77,
     "metadata": {},
     "output_type": "execute_result"
    }
   ],
   "source": [
    "dataset[dataset['text'].str.contains(\"Sample return missions have primary importanc\")]"
   ]
  },
  {
   "cell_type": "code",
   "execution_count": 62,
   "id": "4b45e072-9e6f-4512-b550-ebe6a8413798",
   "metadata": {},
   "outputs": [],
   "source": [
    "test = train_history"
   ]
  },
  {
   "cell_type": "code",
   "execution_count": 63,
   "id": "29af4333-1b59-4ece-a6f0-f0284d6b9a06",
   "metadata": {},
   "outputs": [
    {
     "data": {
      "text/html": [
       "<div>\n",
       "<style scoped>\n",
       "    .dataframe tbody tr th:only-of-type {\n",
       "        vertical-align: middle;\n",
       "    }\n",
       "\n",
       "    .dataframe tbody tr th {\n",
       "        vertical-align: top;\n",
       "    }\n",
       "\n",
       "    .dataframe thead th {\n",
       "        text-align: right;\n",
       "    }\n",
       "</style>\n",
       "<table border=\"1\" class=\"dataframe\">\n",
       "  <thead>\n",
       "    <tr style=\"text-align: right;\">\n",
       "      <th></th>\n",
       "      <th>text</th>\n",
       "      <th>spans_in_train</th>\n",
       "      <th>spans_new</th>\n",
       "    </tr>\n",
       "  </thead>\n",
       "  <tbody>\n",
       "    <tr>\n",
       "      <th>0</th>\n",
       "      <td>This data set is the collection of documentati...</td>\n",
       "      <td>[[{'start': 96, 'end': 107, 'label': 'SPACECRA...</td>\n",
       "      <td>[[{'start': 65, 'end': 80, 'label': 'SPACECRAF...</td>\n",
       "    </tr>\n",
       "  </tbody>\n",
       "</table>\n",
       "</div>"
      ],
      "text/plain": [
       "                                                text  \\\n",
       "0  This data set is the collection of documentati...   \n",
       "\n",
       "                                      spans_in_train  \\\n",
       "0  [[{'start': 96, 'end': 107, 'label': 'SPACECRA...   \n",
       "\n",
       "                                           spans_new  \n",
       "0  [[{'start': 65, 'end': 80, 'label': 'SPACECRAF...  "
      ]
     },
     "execution_count": 63,
     "metadata": {},
     "output_type": "execute_result"
    }
   ],
   "source": [
    "def compare_train_spans(train_history, annotations):\n",
    "    \"\"\"Outputs a dataframe of duplicate texts with different spans \n",
    "       from the annotations data.\n",
    "\n",
    "    Args:\n",
    "    train_history -- Dataframe of texts and spans previously used in training.\n",
    "    annotations -- Dataframe of all texts and spans from updated train.spacy\n",
    "\n",
    "    Returns:\n",
    "        A dataframe containing annotation examples with different span\n",
    "        start and end points. \n",
    "    \"\"\"\n",
    "    merged = train_history.merge(\n",
    "        annotations, on=[\"text\"], how=\"inner\", suffixes=(\"_in_train\", \"_new\")\n",
    "    )\n",
    "    train_texts = merged[merged[\"train_index\"].isnull() == False]\n",
    "    new_spans = train_texts[train_texts[\"spans_in_train\"] != train_texts[\"spans_new\"]]\n",
    "    # Format dataframe to contain a column for the new texts and span information.\n",
    "    new_spans = new_spans[[\"text\", \"spans_in_train\", \"spans_new\"]]\n",
    "    # Reset indexes so that Spacy's batch iteration functions process the data.\n",
    "    new_spans = new_spans.reset_index(drop=True)\n",
    "    return new_spans\n",
    "\n",
    "#test['text'] = test['text'].str.replace('\"', '')\n",
    "compare_train_spans(test, annotations)"
   ]
  },
  {
   "cell_type": "code",
   "execution_count": 179,
   "id": "d8ba6994-b3c7-4439-b1a8-303e8dcc73e7",
   "metadata": {},
   "outputs": [],
   "source": [
    "def format_annotations(doc_bin):\n",
    "    \"\"\"Loads and formats .spacy DocBin formatted annotations.\n",
    "\n",
    "    Args:\n",
    "    doc_bin -- .spacy data imported using spacy.tokens.DocBin\n",
    "\n",
    "    Returns:\n",
    "        A dict mapping keys to the corresponding text and span row data.\n",
    "        Each row is represented as a tuple of strings. For example:\n",
    "\n",
    "        {'text': 'Entity freeform annotation text',\n",
    "         'spans': [{\"start\": 0, \"end\": 6, \"label\": label}]}\n",
    "    \"\"\"\n",
    "    nlp = spacy.blank(\"en\") # use blank nlp model for text parsing.\n",
    "    annotations = []\n",
    "    for doc in doc_bin.get_docs(nlp.vocab):\n",
    "        spans = []\n",
    "        for ent in doc.ents:\n",
    "            span = [\n",
    "                {\"start\": ent.start_char, \"end\": ent.end_char, \"label\": ent.label_}\n",
    "            ]\n",
    "            spans.append(span)\n",
    "            \n",
    "        annotations.append({\"text\": doc.text, \"spans\": spans})\n",
    "    return annotations"
   ]
  },
  {
   "cell_type": "code",
   "execution_count": 114,
   "id": "4ff6b4d2-29f2-4620-ac74-f1f265046646",
   "metadata": {},
   "outputs": [
    {
     "data": {
      "text/html": [
       "<div>\n",
       "<style scoped>\n",
       "    .dataframe tbody tr th:only-of-type {\n",
       "        vertical-align: middle;\n",
       "    }\n",
       "\n",
       "    .dataframe tbody tr th {\n",
       "        vertical-align: top;\n",
       "    }\n",
       "\n",
       "    .dataframe thead th {\n",
       "        text-align: right;\n",
       "    }\n",
       "</style>\n",
       "<table border=\"1\" class=\"dataframe\">\n",
       "  <thead>\n",
       "    <tr style=\"text-align: right;\">\n",
       "      <th></th>\n",
       "      <th>text</th>\n",
       "      <th>spans</th>\n",
       "      <th>train_index</th>\n",
       "    </tr>\n",
       "  </thead>\n",
       "  <tbody>\n",
       "    <tr>\n",
       "      <th>6</th>\n",
       "      <td>MISR itself is an instrument designed to view ...</td>\n",
       "      <td>[[{'start': 0, 'end': 4, 'label': 'SPACECRAFT'...</td>\n",
       "      <td>6</td>\n",
       "    </tr>\n",
       "    <tr>\n",
       "      <th>102</th>\n",
       "      <td>MIL3YCOD_1 is the Multi-angle Imaging SpectroR...</td>\n",
       "      <td>[[{'start': 19, 'end': 63, 'label': 'SPACECRAF...</td>\n",
       "      <td>102</td>\n",
       "    </tr>\n",
       "  </tbody>\n",
       "</table>\n",
       "</div>"
      ],
      "text/plain": [
       "                                                  text  \\\n",
       "6    MISR itself is an instrument designed to view ...   \n",
       "102  MIL3YCOD_1 is the Multi-angle Imaging SpectroR...   \n",
       "\n",
       "                                                 spans  train_index  \n",
       "6    [[{'start': 0, 'end': 4, 'label': 'SPACECRAFT'...            6  \n",
       "102  [[{'start': 19, 'end': 63, 'label': 'SPACECRAF...          102  "
      ]
     },
     "execution_count": 114,
     "metadata": {},
     "output_type": "execute_result"
    }
   ],
   "source": [
    "string = \"MISR itself is an instrument designed to view Earth with cameras pointed in 9 different directions.\"\n",
    "train_history[train_history['text'].str.contains(string)]"
   ]
  },
  {
   "cell_type": "code",
   "execution_count": 116,
   "id": "942f4b08-307b-4c02-b696-df519607aa87",
   "metadata": {},
   "outputs": [
    {
     "data": {
      "text/plain": [
       "79     MISR itself is an instrument designed to view ...\n",
       "158    \"MIL3YCOD_1 is the Multi-angle Imaging Spectro...\n",
       "Name: text, dtype: object"
      ]
     },
     "execution_count": 116,
     "metadata": {},
     "output_type": "execute_result"
    }
   ],
   "source": [
    "annotations[annotations['text'].str.contains(string)]['text']"
   ]
  },
  {
   "cell_type": "code",
   "execution_count": 75,
   "id": "f9c7a63e-8a44-4b7d-ab56-8f9899bd4cae",
   "metadata": {},
   "outputs": [
    {
     "ename": "NameError",
     "evalue": "name 'annotations' is not defined",
     "output_type": "error",
     "traceback": [
      "\u001b[0;31m---------------------------------------------------------------------------\u001b[0m",
      "\u001b[0;31mNameError\u001b[0m                                 Traceback (most recent call last)",
      "\u001b[0;32m<ipython-input-75-b6e21150cd97>\u001b[0m in \u001b[0;36m<module>\u001b[0;34m\u001b[0m\n\u001b[0;32m----> 1\u001b[0;31m \u001b[0mex\u001b[0m \u001b[0;34m=\u001b[0m \u001b[0mannotations\u001b[0m\u001b[0;34m[\u001b[0m\u001b[0mannotations\u001b[0m\u001b[0;34m[\u001b[0m\u001b[0;34m'text'\u001b[0m\u001b[0;34m]\u001b[0m\u001b[0;34m.\u001b[0m\u001b[0mstr\u001b[0m\u001b[0;34m.\u001b[0m\u001b[0mcontains\u001b[0m\u001b[0;34m(\u001b[0m\u001b[0;34m\"This data set is the collection of documentati\"\u001b[0m\u001b[0;34m)\u001b[0m\u001b[0;34m]\u001b[0m\u001b[0;34m\u001b[0m\u001b[0;34m\u001b[0m\u001b[0m\n\u001b[0m",
      "\u001b[0;31mNameError\u001b[0m: name 'annotations' is not defined"
     ]
    }
   ],
   "source": [
    "ex = annotations[annotations['text'].str.contains(\"This data set is the collection of documentati\")]"
   ]
  },
  {
   "cell_type": "code",
   "execution_count": 162,
   "id": "b5ffb844-f6b7-45c7-882e-ecde82d469c6",
   "metadata": {},
   "outputs": [],
   "source": [
    "nlp = spacy.blank(\"en\") # use blank nlp model for text parsing.\n",
    "nlp = spacy.load(\"/home/spenser/prodigy/nasa_model/update_01\")"
   ]
  },
  {
   "cell_type": "code",
   "execution_count": 163,
   "id": "d5db719e-6b94-4fff-9239-701d52f3fd1e",
   "metadata": {},
   "outputs": [
    {
     "data": {
      "text/plain": [
       "(GPS, International Space Station (ISS)"
      ]
     },
     "execution_count": 163,
     "metadata": {},
     "output_type": "execute_result"
    }
   ],
   "source": [
    "ex = 'This data set is GPS International Space Station (ISS) the collection of documentation for the raw and calibrated data sets from the Deep Impact and EPOXI missions.'\n",
    "nlp(ex).ents"
   ]
  },
  {
   "cell_type": "code",
   "execution_count": 166,
   "id": "fd900ed8-cf22-4ce6-9e6f-4c687687ca8c",
   "metadata": {},
   "outputs": [
    {
     "ename": "TypeError",
     "evalue": "string indices must be integers",
     "output_type": "error",
     "traceback": [
      "\u001b[0;31m---------------------------------------------------------------------------\u001b[0m",
      "\u001b[0;31mTypeError\u001b[0m                                 Traceback (most recent call last)",
      "\u001b[0;32m<ipython-input-166-1d91dce19387>\u001b[0m in \u001b[0;36m<module>\u001b[0;34m\u001b[0m\n\u001b[0;32m----> 1\u001b[0;31m \u001b[0mnlp\u001b[0m\u001b[0;34m(\u001b[0m\u001b[0mex\u001b[0m\u001b[0;34m[\u001b[0m\u001b[0;34m'text'\u001b[0m\u001b[0;34m]\u001b[0m\u001b[0;34m.\u001b[0m\u001b[0miloc\u001b[0m\u001b[0;34m[\u001b[0m\u001b[0;36m0\u001b[0m\u001b[0;34m]\u001b[0m\u001b[0;34m)\u001b[0m\u001b[0;34m.\u001b[0m\u001b[0mspans\u001b[0m\u001b[0;34m\u001b[0m\u001b[0;34m\u001b[0m\u001b[0m\n\u001b[0m",
      "\u001b[0;31mTypeError\u001b[0m: string indices must be integers"
     ]
    }
   ],
   "source": [
    "nlp(ex['text'].iloc[0]).spans"
   ]
  },
  {
   "cell_type": "code",
   "execution_count": 167,
   "id": "8be52832-1936-4934-870b-33edda2e4e23",
   "metadata": {},
   "outputs": [],
   "source": [
    "nlp = spacy.load(\"en_core_web_lg\") # use blank nlp model for text parsing.\n",
    "\n",
    "for doc in doc_bin.get_docs(nlp.vocab):\n",
    "    spans = []\n",
    "    for ent in doc.ents:\n",
    "        span = [\n",
    "            {\"start\": ent.start_char, \"end\": ent.end_char, \"label\": ent.label_}\n",
    "        ]"
   ]
  },
  {
   "cell_type": "code",
   "execution_count": 168,
   "id": "3cbc6c79-43f1-41dc-9f63-66dd09afd218",
   "metadata": {},
   "outputs": [
    {
     "name": "stdout",
     "output_type": "stream",
     "text": [
      "Requirement already satisfied: en-core-web-sm==3.1.0 from https://github.com/explosion/spacy-models/releases/download/en_core_web_sm-3.1.0/en_core_web_sm-3.1.0-py3-none-any.whl#egg=en_core_web_sm==3.1.0 in /home/spenser/anaconda3/envs/spacy_test/lib/python3.8/site-packages (3.1.0)\n",
      "Requirement already satisfied: spacy<3.2.0,>=3.1.0 in /home/spenser/anaconda3/envs/spacy_test/lib/python3.8/site-packages (from en-core-web-sm==3.1.0) (3.1.4)\n",
      "Requirement already satisfied: catalogue<2.1.0,>=2.0.6 in /home/spenser/anaconda3/envs/spacy_test/lib/python3.8/site-packages (from spacy<3.2.0,>=3.1.0->en-core-web-sm==3.1.0) (2.0.6)\n",
      "Requirement already satisfied: cymem<2.1.0,>=2.0.2 in /home/spenser/.local/lib/python3.8/site-packages (from spacy<3.2.0,>=3.1.0->en-core-web-sm==3.1.0) (2.0.6)\n",
      "Requirement already satisfied: numpy>=1.15.0 in /home/spenser/.local/lib/python3.8/site-packages (from spacy<3.2.0,>=3.1.0->en-core-web-sm==3.1.0) (1.21.4)\n",
      "Requirement already satisfied: spacy-legacy<3.1.0,>=3.0.8 in /home/spenser/.local/lib/python3.8/site-packages (from spacy<3.2.0,>=3.1.0->en-core-web-sm==3.1.0) (3.0.8)\n",
      "Requirement already satisfied: wasabi<1.1.0,>=0.8.1 in /home/spenser/.local/lib/python3.8/site-packages (from spacy<3.2.0,>=3.1.0->en-core-web-sm==3.1.0) (0.8.2)\n",
      "Requirement already satisfied: srsly<3.0.0,>=2.4.1 in /home/spenser/anaconda3/envs/spacy_test/lib/python3.8/site-packages (from spacy<3.2.0,>=3.1.0->en-core-web-sm==3.1.0) (2.4.2)\n",
      "Requirement already satisfied: tqdm<5.0.0,>=4.38.0 in /home/spenser/.local/lib/python3.8/site-packages (from spacy<3.2.0,>=3.1.0->en-core-web-sm==3.1.0) (4.47.0)\n",
      "Requirement already satisfied: requests<3.0.0,>=2.13.0 in /home/spenser/anaconda3/envs/spacy_test/lib/python3.8/site-packages (from spacy<3.2.0,>=3.1.0->en-core-web-sm==3.1.0) (2.26.0)\n",
      "Requirement already satisfied: blis<0.8.0,>=0.4.0 in /home/spenser/.local/lib/python3.8/site-packages (from spacy<3.2.0,>=3.1.0->en-core-web-sm==3.1.0) (0.7.5)\n",
      "Requirement already satisfied: pydantic!=1.8,!=1.8.1,<1.9.0,>=1.7.4 in /home/spenser/anaconda3/envs/spacy_test/lib/python3.8/site-packages (from spacy<3.2.0,>=3.1.0->en-core-web-sm==3.1.0) (1.8.2)\n",
      "Requirement already satisfied: packaging>=20.0 in /home/spenser/.local/lib/python3.8/site-packages (from spacy<3.2.0,>=3.1.0->en-core-web-sm==3.1.0) (21.2)\n",
      "Requirement already satisfied: thinc<8.1.0,>=8.0.12 in /home/spenser/anaconda3/envs/spacy_test/lib/python3.8/site-packages (from spacy<3.2.0,>=3.1.0->en-core-web-sm==3.1.0) (8.0.13)\n",
      "Requirement already satisfied: murmurhash<1.1.0,>=0.28.0 in /home/spenser/.local/lib/python3.8/site-packages (from spacy<3.2.0,>=3.1.0->en-core-web-sm==3.1.0) (1.0.6)\n",
      "Requirement already satisfied: typer<0.5.0,>=0.3.0 in /home/spenser/.local/lib/python3.8/site-packages (from spacy<3.2.0,>=3.1.0->en-core-web-sm==3.1.0) (0.3.0)\n",
      "Requirement already satisfied: preshed<3.1.0,>=3.0.2 in /home/spenser/.local/lib/python3.8/site-packages (from spacy<3.2.0,>=3.1.0->en-core-web-sm==3.1.0) (3.0.6)\n",
      "Requirement already satisfied: jinja2 in /home/spenser/anaconda3/envs/spacy_test/lib/python3.8/site-packages (from spacy<3.2.0,>=3.1.0->en-core-web-sm==3.1.0) (3.0.2)\n",
      "Requirement already satisfied: pathy>=0.3.5 in /home/spenser/.local/lib/python3.8/site-packages (from spacy<3.2.0,>=3.1.0->en-core-web-sm==3.1.0) (0.6.1)\n",
      "Requirement already satisfied: setuptools in /home/spenser/anaconda3/envs/spacy_test/lib/python3.8/site-packages (from spacy<3.2.0,>=3.1.0->en-core-web-sm==3.1.0) (50.3.0.post20201006)\n",
      "Requirement already satisfied: charset-normalizer~=2.0.0; python_version >= \"3\" in /home/spenser/anaconda3/envs/spacy_test/lib/python3.8/site-packages (from requests<3.0.0,>=2.13.0->spacy<3.2.0,>=3.1.0->en-core-web-sm==3.1.0) (2.0.7)\n",
      "Requirement already satisfied: urllib3<1.27,>=1.21.1 in /home/spenser/anaconda3/envs/spacy_test/lib/python3.8/site-packages (from requests<3.0.0,>=2.13.0->spacy<3.2.0,>=3.1.0->en-core-web-sm==3.1.0) (1.26.7)\n",
      "Requirement already satisfied: idna<4,>=2.5; python_version >= \"3\" in /home/spenser/anaconda3/envs/spacy_test/lib/python3.8/site-packages (from requests<3.0.0,>=2.13.0->spacy<3.2.0,>=3.1.0->en-core-web-sm==3.1.0) (3.3)\n",
      "Requirement already satisfied: certifi>=2017.4.17 in /home/spenser/anaconda3/envs/spacy_test/lib/python3.8/site-packages (from requests<3.0.0,>=2.13.0->spacy<3.2.0,>=3.1.0->en-core-web-sm==3.1.0) (2021.10.8)\n",
      "Requirement already satisfied: typing-extensions>=3.7.4.3 in /home/spenser/.local/lib/python3.8/site-packages (from pydantic!=1.8,!=1.8.1,<1.9.0,>=1.7.4->spacy<3.2.0,>=3.1.0->en-core-web-sm==3.1.0) (3.10.0.2)\n",
      "Requirement already satisfied: pyparsing<3,>=2.0.2 in /home/spenser/.local/lib/python3.8/site-packages (from packaging>=20.0->spacy<3.2.0,>=3.1.0->en-core-web-sm==3.1.0) (2.4.7)\n",
      "Requirement already satisfied: click<7.2.0,>=7.1.1 in /home/spenser/.local/lib/python3.8/site-packages (from typer<0.5.0,>=0.3.0->spacy<3.2.0,>=3.1.0->en-core-web-sm==3.1.0) (7.1.2)\n",
      "Requirement already satisfied: MarkupSafe>=2.0 in /home/spenser/anaconda3/envs/spacy_test/lib/python3.8/site-packages (from jinja2->spacy<3.2.0,>=3.1.0->en-core-web-sm==3.1.0) (2.0.1)\n",
      "Requirement already satisfied: smart-open<6.0.0,>=5.0.0 in /home/spenser/.local/lib/python3.8/site-packages (from pathy>=0.3.5->spacy<3.2.0,>=3.1.0->en-core-web-sm==3.1.0) (5.2.1)\n",
      "\u001b[38;5;2m✔ Download and installation successful\u001b[0m\n",
      "You can now load the package via spacy.load('en_core_web_sm')\n"
     ]
    }
   ],
   "source": [
    "!python -m spacy download en_core_web_sm"
   ]
  },
  {
   "cell_type": "code",
   "execution_count": 169,
   "id": "0096099d-7356-4273-9bd9-67637b0067f9",
   "metadata": {},
   "outputs": [
    {
     "data": {
      "text/plain": [
       "(GPS International Space Station, ISS)"
      ]
     },
     "execution_count": 169,
     "metadata": {},
     "output_type": "execute_result"
    }
   ],
   "source": [
    "nlp = spacy.load(\"en_core_web_lg\") # use blank nlp model for text parsing.\n",
    "ex = 'This data set is GPS International Space Station (ISS) the collection of documentation for the raw and calibrated data sets from the Deep Impact and EPOXI missions.'\n",
    "nlp(ex).ents"
   ]
  },
  {
   "cell_type": "code",
   "execution_count": 170,
   "id": "e2dab357-c4a0-466b-b4f0-4884d6e8d67c",
   "metadata": {},
   "outputs": [
    {
     "data": {
      "text/plain": [
       "(GPS International Space Station, EPOXI)"
      ]
     },
     "execution_count": 170,
     "metadata": {},
     "output_type": "execute_result"
    }
   ],
   "source": [
    "nlp = spacy.load(\"en_core_web_sm\") # use blank nlp model for text parsing.\n",
    "ex = 'This data set is GPS International Space Station (ISS) the collection of documentation for the raw and calibrated data sets from the Deep Impact and EPOXI missions.'\n",
    "nlp(ex).ents"
   ]
  },
  {
   "cell_type": "code",
   "execution_count": 171,
   "id": "49073fae-556f-4301-a88b-3aea63f04d25",
   "metadata": {},
   "outputs": [
    {
     "ename": "TypeError",
     "evalue": "string indices must be integers",
     "output_type": "error",
     "traceback": [
      "\u001b[0;31m---------------------------------------------------------------------------\u001b[0m",
      "\u001b[0;31mTypeError\u001b[0m                                 Traceback (most recent call last)",
      "\u001b[0;32m<ipython-input-171-4e723620757f>\u001b[0m in \u001b[0;36m<module>\u001b[0;34m\u001b[0m\n\u001b[0;32m----> 1\u001b[0;31m \u001b[0mex\u001b[0m\u001b[0;34m[\u001b[0m\u001b[0;34m'text'\u001b[0m\u001b[0;34m]\u001b[0m\u001b[0;34m.\u001b[0m\u001b[0miloc\u001b[0m\u001b[0;34m[\u001b[0m\u001b[0;36m0\u001b[0m\u001b[0;34m]\u001b[0m\u001b[0;34m\u001b[0m\u001b[0;34m\u001b[0m\u001b[0m\n\u001b[0m",
      "\u001b[0;31mTypeError\u001b[0m: string indices must be integers"
     ]
    }
   ],
   "source": [
    "ex['text'].iloc[0]"
   ]
  },
  {
   "cell_type": "code",
   "execution_count": null,
   "id": "8e9b24ef-3226-4e06-99da-a6e91816ab4e",
   "metadata": {},
   "outputs": [],
   "source": []
  }
 ],
 "metadata": {
  "kernelspec": {
   "display_name": "spacy_test",
   "language": "python",
   "name": "spacy_test"
  },
  "language_info": {
   "codemirror_mode": {
    "name": "ipython",
    "version": 3
   },
   "file_extension": ".py",
   "mimetype": "text/x-python",
   "name": "python",
   "nbconvert_exporter": "python",
   "pygments_lexer": "ipython3",
   "version": "3.8.5"
  }
 },
 "nbformat": 4,
 "nbformat_minor": 5
}
